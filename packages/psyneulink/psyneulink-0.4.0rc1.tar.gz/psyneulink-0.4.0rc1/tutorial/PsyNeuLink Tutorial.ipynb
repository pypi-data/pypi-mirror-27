{
 "cells": [
  {
   "cell_type": "markdown",
   "metadata": {},
   "source": [
    "# Welcome to PsyNeuLink\n",
    "\n",
    "PsyNeuLink is an integrated language and toolkit for creating cognitive models. It decreases the overhead required for cognitive modeling by providing standard building blocks (DDMS, Neural Nets, etc.) and the means to connect them together in a single environment. PsyNeuLink is designed to make the user think about computation in a \"mind/brain-like\" way while imposing minimal constraint on the type of models that can be implemented."
   ]
  },
  {
   "cell_type": "markdown",
   "metadata": {
    "collapsed": true
   },
   "source": [
    "## How to get PsyNeuLink\n",
    "\n",
    "Right now, PsyNeuLink is in an alpha state and is not available through pypi/pip. Instead, you can clone the github repo [here](https://github.com/PrincetonUniversity/PsyNeuLink). For now, clone the devel branch rather than the master branch. You can switch branches by pressing the \"branch: master\" dropdown menu on the left side of the page. Then download the package with the green \"Clone or download\" button on the right side of the page and \"Download ZIP.\" Open the version of this Tutorial in the cloned folder before continuing on.\n",
    "\n",
    "Alternatively, if you are familiar with git, the directory can be cloned as usual through the terminal.\n",
    "Note: The repo is currently private, so if the link leads to a dead page, reach out to one of the developers to get acccess."
   ]
  },
  {
   "cell_type": "markdown",
   "metadata": {},
   "source": [
    "## Prerequisites\n",
    "\n",
    "PsyNeuLink is compatible with any version of python 3, but this tutorial requires a 3.5 installation with the latest versions of IPython, jupyter, and matplotlib installed."
   ]
  },
  {
   "cell_type": "markdown",
   "metadata": {
    "collapsed": true
   },
   "source": [
    "## Installation\n",
    "\n",
    "To install the package, navigate to the cloned directory in a terminal, switch to your preferred python3 environment, then run the command __\"pip install .\"__ (make sure to include the period and to use the appropriate pip/pip3 command for python 3.5). All prerequisite packages will be automatically added to your enviroment.\n",
    "\n",
    "For the curious, these are:\n",
    "* numpy\n",
    "* matplotlib\n",
    "* toposort\n",
    "* mpi4py\n",
    "* typecheck-decorator"
   ]
  },
  {
   "cell_type": "markdown",
   "metadata": {},
   "source": [
    "\n",
    "## Tutorial Overview\n",
    "\n",
    "This tutorial is meant to get you accustomed to the structure of PsyNeuLink and be able to construct basic models. Starting with a simple 1-to-1 transformation, we will build up to making the Stroop model from Cohen et al. (1990). Let's get started!"
   ]
  },
  {
   "cell_type": "markdown",
   "metadata": {},
   "source": [
    "### Imports and file structure\n",
    "\n",
    "The following code block will import the necessary components for basic neural network models in PsyNeuLink. In particular, we need tools for handling *[systems](https://princetonuniversity.github.io/PsyNeuLink/System.html)*, *[processes](https://princetonuniversity.github.io/PsyNeuLink/Process.html)*, the set of specific *[mechanisms](https://princetonuniversity.github.io/PsyNeuLink/Mechanism.html)* that will make up our networks, and the *[projections](https://princetonuniversity.github.io/PsyNeuLink/Projection.html)* to connect them. We also import basic prerequisites and set up the jupyter environment for visualization."
   ]
  },
  {
   "cell_type": "code",
   "execution_count": null,
   "metadata": {},
   "outputs": [],
   "source": [
    "import psyneulink as pnl"
   ]
  },
  {
   "cell_type": "code",
   "execution_count": null,
   "metadata": {},
   "outputs": [],
   "source": [
    "import numpy as np\n",
    "import matplotlib.pyplot as plt\n",
    "% matplotlib inline"
   ]
  },
  {
   "cell_type": "markdown",
   "metadata": {},
   "source": [
    "### Creating a mechanism\n",
    "\n",
    "*[Mechanisms](https://princetonuniversity.github.io/PsyNeuLink/Mechanism.html)* are the basic units of computation in PsyNeuLink. At their core is a parameterized *function* but they also contain the machinery to interact with input, output, control, and learning signals. Our first mechanism will perform a linear transformation on a scalar input. For now, we will initialize it by just specifying the *function* of the mechanism."
   ]
  },
  {
   "cell_type": "code",
   "execution_count": null,
   "metadata": {},
   "outputs": [],
   "source": [
    "linear_transfer_mechanism = pnl.TransferMechanism(\n",
    "    function=pnl.Linear(slope=1, intercept=0))"
   ]
  },
  {
   "cell_type": "markdown",
   "metadata": {},
   "source": [
    "In this case, we didn't actually need to specify the slope and intercept as the function will default to reasonable values (in this case, 1 and 0 respectively)."
   ]
  },
  {
   "cell_type": "code",
   "execution_count": null,
   "metadata": {},
   "outputs": [],
   "source": [
    "linear_transfer_mechanism.execute([1])"
   ]
  },
  {
   "cell_type": "markdown",
   "metadata": {},
   "source": [
    "Try reparamaterizing the mechanism and executing again before moving on."
   ]
  },
  {
   "cell_type": "markdown",
   "metadata": {},
   "source": [
    "### Organizing into Processes\n",
    "\n",
    "Generally with PsyNeuLink, you won't be executing mechanisms as stand-alone entities. Rather, they will be encapsulated inside *[Processes](https://princetonuniversity.github.io/PsyNeuLink/Process.html)* and later *[Systems](https://princetonuniversity.github.io/PsyNeuLink/System.html)*. A process is a collection of mechanisms and projections to be executed serially. They may be thought of as a way to concatenate mechanisms into a single, more complex unit of analysis in order to simplify interacting with larger models.\n",
    "\n",
    "The main parameter when initializing a process is its pathway, which is the order in which the mechanisms will execute. Of course, with only one mechanism in our process, the list has just one element.\n",
    "\n",
    "To better see how the process runs, we also turn on output reporting. Reporting can happen at every level in PsyNeuLink so we set the preference for both the process and mechanism."
   ]
  },
  {
   "cell_type": "code",
   "execution_count": null,
   "metadata": {},
   "outputs": [],
   "source": [
    "linear_transfer_process = pnl.Process(pathway = [linear_transfer_mechanism])\n",
    "\n",
    "# Note: Make sure you do not run this cell multiple times. This would create multiple\n",
    "# processes that share the same variable name in the PsyNeuLink registry causing\n",
    "# unexpected behavior.\n",
    "\n",
    "linear_transfer_mechanism.reportOutputPref = True\n",
    "linear_transfer_process.reportOutputPref = True"
   ]
  },
  {
   "cell_type": "code",
   "execution_count": null,
   "metadata": {},
   "outputs": [],
   "source": [
    "linear_transfer_process.execute([4])"
   ]
  },
  {
   "cell_type": "markdown",
   "metadata": {},
   "source": [
    "Let's turn off the reporting and look at our process' output over a wider range of values."
   ]
  },
  {
   "cell_type": "code",
   "execution_count": null,
   "metadata": {},
   "outputs": [],
   "source": [
    "linear_transfer_mechanism.reportOutputPref = False\n",
    "linear_transfer_process.reportOutputPref = False\n",
    "\n",
    "xVals = np.linspace(-3, 3, num=51)\n",
    "yVals = np.zeros((51,))\n",
    "for i in range(xVals.shape[0]):\n",
    "    yVals[i] = linear_transfer_process.execute([xVals[i]])[0]\n",
    "    # Progress bar\n",
    "    print(\"-\", end=\"\")\n",
    "plt.plot(xVals, yVals)\n",
    "plt.show()"
   ]
  },
  {
   "cell_type": "markdown",
   "metadata": {},
   "source": [
    "Now let's put it all together and make a new transfer process, this time with a logistic activation function. We will also extend our mechanism by giving it two units (operating on a 1x2 matrix) rather than the default one (operating on a scalar)."
   ]
  },
  {
   "cell_type": "code",
   "execution_count": null,
   "metadata": {},
   "outputs": [],
   "source": [
    "# Create the mechanism\n",
    "logistic_transfer_mechanism = pnl.TransferMechanism(default_variable=[0, 0],\n",
    "                                                function=pnl.Logistic(gain=1,\n",
    "                                                                  bias=0))\n",
    "\n",
    "# Package into a process\n",
    "logistic_transfer_process = pnl.Process(pathway=[logistic_transfer_mechanism])\n",
    "\n",
    "# Iterate and plot\n",
    "xVals = np.linspace(-3, 3, num=51)\n",
    "y1Vals = np.zeros((51,))\n",
    "y2Vals = np.zeros((51,))\n",
    "for i in range(xVals.shape[0]):\n",
    "    # clarify why multiplying times 2\n",
    "    output = logistic_transfer_process.execute([xVals[i], xVals[i] * 2])\n",
    "    y1Vals[i] = output[0]\n",
    "    y2Vals[i] = output[1]\n",
    "    # Progress bar\n",
    "    print(\"-\", end=\"\")\n",
    "plt.plot(xVals, y1Vals)\n",
    "plt.plot(xVals, y2Vals)\n",
    "plt.show()"
   ]
  },
  {
   "cell_type": "markdown",
   "metadata": {},
   "source": [
    "The `default_variable` parameter serves a dual function. It specifies the dimensionality of the mechanism as well as providing the inputs that will be given in the absence of explicit input at runtime."
   ]
  },
  {
   "cell_type": "markdown",
   "metadata": {},
   "source": [
    "### Adding Projections\n",
    "\n",
    "To make more complex processes, we need a way to link mechanisms together. This is done through *[Projections](https://princetonuniversity.github.io/PsyNeuLink/Projection.html)*. A projection takes a mechanism output, multiplies it by the projection's mapping matrix, and delivers the transformed value to the next mechanism in the process."
   ]
  },
  {
   "cell_type": "code",
   "execution_count": null,
   "metadata": {},
   "outputs": [],
   "source": [
    "linear_input_unit = pnl.TransferMechanism(function=pnl.Linear(slope=2, intercept=2))\n",
    "logistic_output_unit = pnl.TransferMechanism(function=pnl.Logistic())\n",
    "mini_connected_network = pnl.Process(\n",
    "    pathway=[linear_input_unit, pnl.IDENTITY_MATRIX, logistic_output_unit])\n",
    "\n",
    "# Iterate and plot\n",
    "xVals = np.linspace(-3, 3, num=51)\n",
    "yVals = np.zeros((51,))\n",
    "for i in range(xVals.shape[0]):\n",
    "    yVals[i] = mini_connected_network.execute([xVals[i]])[0]\n",
    "    # Progress bar\n",
    "    print(\"-\", end=\"\")\n",
    "plt.plot(xVals, yVals)\n",
    "plt.show()"
   ]
  },
  {
   "cell_type": "markdown",
   "metadata": {},
   "source": [
    "`IDENTITY_MATRIX` is a keyword that provides a projection from the unit preceding it to the unit following that creates a one-to-one output to input projection between the two. Other useful projection keywords are...\n",
    "\n",
    "Now let's make our projection definition a bit more explicit."
   ]
  },
  {
   "cell_type": "code",
   "execution_count": null,
   "metadata": {},
   "outputs": [],
   "source": [
    "linear_input_unit = pnl.TransferMechanism(function=pnl.Linear(slope=2, intercept=2))\n",
    "logistic_output_unit = pnl.TransferMechanism(function=pnl.Logistic())\n",
    "\n",
    "mapping_matrix = np.asarray([[1]])\n",
    "unit_mapping_projection = pnl.MappingProjection(sender=linear_input_unit,\n",
    "                                            receiver=logistic_output_unit,\n",
    "                                            matrix=mapping_matrix)\n",
    "mini_connected_network = pnl.Process(\n",
    "    pathway=[linear_input_unit, unit_mapping_projection, logistic_output_unit])\n",
    "\n",
    "# Iterate and plot\n",
    "xVals = np.linspace(-3, 3, num=51)\n",
    "yVals = np.zeros((51,))\n",
    "for i in range(xVals.shape[0]):\n",
    "    yVals[i] = mini_connected_network.execute([xVals[i]])[0]\n",
    "    # Progress bar\n",
    "    print(\"-\", end=\"\")\n",
    "plt.plot(xVals, yVals)\n",
    "plt.show()"
   ]
  },
  {
   "cell_type": "markdown",
   "metadata": {},
   "source": [
    "This time we specified our mapping matrix (which is a 2-D numpy array) then explicitly initialized a *[MappingProjection](https://princetonuniversity.github.io/PsyNeuLink/MappingProjection.html)* with that matrix as well as its input and output mechanisms. Note: because we specified the input and output mechanisms in the projection itself, we didn't need to include it in the process pathway as it will infer its position from those parameters. Ultimately, however, this does the exact same thing as our keyword method above which is far less verbose for this common use case."
   ]
  },
  {
   "cell_type": "markdown",
   "metadata": {},
   "source": [
    "### Systems\n",
    "\n",
    "The highest level at which models are considered in PsyNeuLink is that of the *[System](https://princetonuniversity.github.io/PsyNeuLink/System.html)*. A system is composed of one or more processes which can then run in unison. This allows system graphs to be more complex than the strictly linear ones of processes. Our first system will consist of two input nodes that converge on a single output mechanism. We will be modelling competition between color naming and word reading in the stroop task."
   ]
  },
  {
   "cell_type": "code",
   "execution_count": null,
   "metadata": {},
   "outputs": [],
   "source": [
    "colors = pnl.TransferMechanism(default_variable=[0, 0], function=pnl.Linear,\n",
    "                           name=\"Colors\")\n",
    "words = pnl.TransferMechanism(default_variable=[0, 0],\n",
    "                          function=pnl.Linear(slope=1.5), name=\"Words\")\n",
    "response = pnl.TransferMechanism(default_variable=[0, 0], function=pnl.Logistic,\n",
    "                             name=\"Response\")\n",
    "\n",
    "color_naming_process = pnl.Process(pathway=[colors, pnl.IDENTITY_MATRIX, response],\n",
    "                               name=\"Color Naming\")\n",
    "word_reading_process = pnl.Process(pathway=[words, pnl.IDENTITY_MATRIX, response],\n",
    "                               name=\"Word Reading\")\n",
    "\n",
    "# Should pass in scheduler or have system create new scheduler if scheduler=None\n",
    "mini_stroop = pnl.System(processes=[color_naming_process, word_reading_process],\n",
    "                     name='Stroop Model')\n",
    "\n",
    "# Note: Once again, make sure you do not run this cell multiple times. This would create multiple\n",
    "# processes and systems that share the same variable name in the PsyNeuLink registry causing\n",
    "# unexpected behavior."
   ]
  },
  {
   "cell_type": "markdown",
   "metadata": {},
   "source": [
    "The order of processes in the system initialization is important here as it is the order we will feed inputs to the system."
   ]
  },
  {
   "cell_type": "code",
   "execution_count": null,
   "metadata": {},
   "outputs": [],
   "source": [
    "input = {colors: [1, 0], \n",
    "         words: [0, 1]}\n",
    "mini_stroop.run(input)"
   ]
  },
  {
   "cell_type": "code",
   "execution_count": null,
   "metadata": {},
   "outputs": [],
   "source": [
    "input_dict = {colors: [0, 1],\n",
    "              words: [0, 1]}\n",
    "mini_stroop.run(input_dict)"
   ]
  },
  {
   "cell_type": "markdown",
   "metadata": {},
   "source": [
    "As modeled, we see that word reading beats out color naming when there is conflict, but congruent stimuli elicit an even stronger response."
   ]
  },
  {
   "cell_type": "markdown",
   "metadata": {},
   "source": [
    "### Pre-trained Complete Stroop Model\n",
    "\n",
    "Let's practice using systems by recreating the more complex stroop model from Cohen et al (1990). Later we will train the network ourselves, but for now we will explicitly model the learned weights."
   ]
  },
  {
   "cell_type": "code",
   "execution_count": null,
   "metadata": {},
   "outputs": [],
   "source": [
    "ink_color = pnl.TransferMechanism(default_variable=[0, 0], function=pnl.Linear())\n",
    "word = pnl.TransferMechanism(default_variable=[0, 0], function=pnl.Linear())\n",
    "task_demand = pnl.TransferMechanism(default_variable=[0, 0], function=pnl.Linear())\n",
    "\n",
    "hidden_layer = pnl.TransferMechanism(default_variable=[0, 0, 0, 0],\n",
    "                                 function=pnl.Logistic(bias=-4))\n",
    "\n",
    "output_layer = pnl.TransferMechanism(default_variable=[0, 0], function=pnl.Linear())\n",
    "\n",
    "color_mapping_matrix = np.asarray([[2.2, -2.2, 0, 0], [-2.2, 2.2, 0, 0]])\n",
    "color_projection = pnl.MappingProjection(sender=ink_color, receiver=hidden_layer,\n",
    "                                     matrix=color_mapping_matrix)\n",
    "word_mapping_matrix = np.asarray([[0, 0, 2.6, -2.6], [0, 0, -2.6, 2.6]])\n",
    "word_projection = pnl.MappingProjection(sender=word, receiver=hidden_layer,\n",
    "                                    matrix=word_mapping_matrix)\n",
    "task_mapping_matrix = np.asarray([[4, 4, 0, 0], [0, 0, 4, 4]])\n",
    "task_projection = pnl.MappingProjection(sender=task_demand, receiver=hidden_layer,\n",
    "                                    matrix=task_mapping_matrix)\n",
    "output_mapping_matrix = np.asarray(\n",
    "    [[1.3, -1.3], [-1.3, 1.3], [2.5, -2.5], [-2.5, 2.5]])\n",
    "pnl.MappingProjection(sender=hidden_layer, receiver=output_layer,\n",
    "                  matrix=output_mapping_matrix)\n",
    "\n",
    "color_naming_process = pnl.Process(pathway=[ink_color, hidden_layer, output_layer])\n",
    "word_reading_process = pnl.Process(pathway=[word, hidden_layer, output_layer])\n",
    "task_process = pnl.Process(pathway=[task_demand, hidden_layer, output_layer])\n",
    "\n",
    "stroop_model = pnl.System(\n",
    "    processes=[color_naming_process, word_reading_process, task_process])\n",
    "\n",
    "ink_color.reportOutputPref = True\n",
    "word.reportOutputPref = True\n",
    "task_demand.reportOutputPref = True\n",
    "hidden_layer.reportOutputPref = True\n",
    "\n",
    "# Note: Once again, make sure you do not run this cell multiple times. This would create multiple\n",
    "# processes and systems that share the same variable name in the PsyNeuLink registry causing\n",
    "# unexpected behavior."
   ]
  },
  {
   "cell_type": "code",
   "execution_count": null,
   "metadata": {},
   "outputs": [],
   "source": [
    "input_dict = {ink_color: [1, 0],\n",
    "              word: [1, 0],\n",
    "              task_demand: [0, 1]}\n",
    "stroop_model.run(input_dict)"
   ]
  },
  {
   "cell_type": "markdown",
   "metadata": {},
   "source": [
    "This is currently the end of the tutorial, but more content is being added weekly. For further examples, look to the Scripts folder inside your PsyNeuLink directory for several functioning models."
   ]
  }
 ],
 "metadata": {
  "anaconda-cloud": {},
  "kernelspec": {
   "display_name": "Python 3",
   "language": "python",
   "name": "python3"
  },
  "language_info": {
   "codemirror_mode": {
    "name": "ipython",
    "version": 3
   },
   "file_extension": ".py",
   "mimetype": "text/x-python",
   "name": "python",
   "nbconvert_exporter": "python",
   "pygments_lexer": "ipython3",
   "version": "3.6.2"
  }
 },
 "nbformat": 4,
 "nbformat_minor": 1
}
