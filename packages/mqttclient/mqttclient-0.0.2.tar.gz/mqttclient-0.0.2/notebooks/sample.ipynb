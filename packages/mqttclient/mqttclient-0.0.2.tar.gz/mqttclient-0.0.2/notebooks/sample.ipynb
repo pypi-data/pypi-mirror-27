{
 "cells": [
  {
   "cell_type": "code",
   "execution_count": 1,
   "metadata": {},
   "outputs": [],
   "source": [
    "import mqttclient\n",
    "import os"
   ]
  },
  {
   "cell_type": "code",
   "execution_count": 2,
   "metadata": {},
   "outputs": [],
   "source": [
    "class MyClientUI(mqttclient.MqttClient):\n",
    "    def __init__(self):\n",
    "        super().__init__()\n",
    "    def listen(self):\n",
    "        self.on_state_msg('{plugin_name}', '{prop}', self.state_updated)\n",
    "        print('listening!')\n",
    "    def state_updated(self, plugin_name, prop, payload):\n",
    "        if (plugin_name == 'web-server'):\n",
    "            return\n",
    "        \n",
    "        print(plugin_name, prop)\n"
   ]
  },
  {
   "cell_type": "code",
   "execution_count": 3,
   "metadata": {},
   "outputs": [
    {
     "name": "stdout",
     "output_type": "stream",
     "text": [
      "listening!\n",
      "device-model overlays\n",
      "device-model three-object\n",
      "electrode-controls selected-electrode\n",
      "electrodes-model active-electrodes\n",
      "route-controls selected-route\n",
      "routes-model routes\n",
      "routes-model status\n",
      "state-listener active-file\n",
      "state-listener steps\n"
     ]
    }
   ],
   "source": [
    "x = MyClientUI()"
   ]
  },
  {
   "cell_type": "code",
   "execution_count": 4,
   "metadata": {},
   "outputs": [
    {
     "data": {
      "text/plain": [
       "'my_client_ui'"
      ]
     },
     "execution_count": 4,
     "metadata": {},
     "output_type": "execute_result"
    },
    {
     "name": "stdout",
     "output_type": "stream",
     "text": [
      "state updated!\n",
      "state updated!\n",
      "state updated!\n",
      "state updated!\n",
      "state updated!\n",
      "state updated!\n",
      "state updated!\n",
      "state updated!\n",
      "state updated!\n",
      "state updated!\n",
      "state updated!\n",
      "state updated!\n",
      "state updated!\n",
      "state updated!\n",
      "state updated!\n",
      "state updated!\n",
      "state updated!\n",
      "state updated!\n",
      "state updated!\n",
      "state updated!\n",
      "state updated!\n"
     ]
    }
   ],
   "source": [
    "x.name"
   ]
  },
  {
   "cell_type": "code",
   "execution_count": null,
   "metadata": {},
   "outputs": [],
   "source": []
  }
 ],
 "metadata": {
  "kernelspec": {
   "display_name": "Python 3",
   "language": "python",
   "name": "python3"
  },
  "language_info": {
   "codemirror_mode": {
    "name": "ipython",
    "version": 3
   },
   "file_extension": ".py",
   "mimetype": "text/x-python",
   "name": "python",
   "nbconvert_exporter": "python",
   "pygments_lexer": "ipython3",
   "version": "3.6.3"
  }
 },
 "nbformat": 4,
 "nbformat_minor": 2
}
