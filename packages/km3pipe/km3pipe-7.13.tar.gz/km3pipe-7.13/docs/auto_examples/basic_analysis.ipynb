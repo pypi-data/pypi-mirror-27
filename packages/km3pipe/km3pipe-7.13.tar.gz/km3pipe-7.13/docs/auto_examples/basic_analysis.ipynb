{
  "cells": [
    {
      "cell_type": "code",
      "execution_count": null,
      "metadata": {
        "collapsed": false
      },
      "outputs": [],
      "source": [
        "%matplotlib inline"
      ]
    },
    {
      "cell_type": "markdown",
      "metadata": {},
      "source": [
        "\n# Basic Analysis Example\n\n\n\n"
      ]
    },
    {
      "cell_type": "code",
      "execution_count": null,
      "metadata": {
        "collapsed": false
      },
      "outputs": [],
      "source": [
        "# # Example Analysis on Some Randomly Picked Data\n# *Using the KM3NeT HDF5 format and Python*\n# \n# Author: Tam\u00e1s G\u00e1l <tgal@km3net.de>\n# \n# Date: 2017-10-10\n# \n# Status: Under construction...\n\n# ## Preparation\n\n# The very first thing we do is importing our libraries and setting up the Jupyter Notebook environment.\n\n# In[1]:\n\n\n# displays graphs below the cells\nget_ipython().magic('matplotlib inline')\n\nimport matplotlib.pyplot as plt   # our plotting module\nimport pandas as pd               # the main HDF5 reader\nimport numpy as np                # must have\nimport km3pipe as kp              # some KM3NeT related helper functions\n\n# this is just to make our plots a bit \"nicer\", you can skip it\nimport km3pipe.style\nkm3pipe.style.use(\"km3pipe\")\n\n\n# ## Accessing the Data File(s)\n\n# In the following, we will work with one random simulation file with reconstruction information from JGandalf which has been converted from ROOT to HDF5 using the ``tohdf5`` command line tool provided by ``KM3Pipe``.\n# \n# You can find the documentation here: http://km3pipe.readthedocs.io/en/latest/cmd.html#tohdf\n# \n# \n\n# ### Note for Lyon Users\n# If you are working on the Lyon cluster, you can activate the latest KM3Pipe with the following command (put it in your ``~/.bashrc`` to load it automatically in each shell session)::\n# \n#     source /afs/in2p3.fr/throng/km3net/src/python/pyenv.sh\n\n# ### Converting from ROOT to HDF5 (if needed)\n# \n# Choose a file (take e.g. one from /in2p3/km3net/mc/atm_neutrino/KM3NeT_ORCA_115_23m_9m/v1.1.1/JGandalf/aanet/) load the appropriate Jpp/Aanet version and convert it via::\n# \n#     tohdf5 --aa-format=the_file.root --ignore-hits --skip-header\n#     \n# Note that you may have to ``--skip-header`` otherwise you might encounter some segfaults. There is currently a big mess of different versions of libraries in several levels of the MC file processings.\n# \n# The ``--ignore-hits`` will skip the hit information, so the converted file is much smaller (normally around 2-3 MBytes). Skip this option if you want to read the hit information too. The file will still be smaller than the ROOT file (about 1/3).\n# \n# Luckily, a handful people are preparing the HDF5 conversion, so in future you can download them directly, without thinking about which Jpp or Aanet version you need to open them.\n\n# ## First Look at the Data\n\n# In[2]:\n\n\nfilepath = \"/Users/tamasgal/Data/KM3NeT/ORCA/JGandalf_aanet_muon-CC_3-100GeV_23.root.h5\"\n\n\n# We can have a quick look at the file with the ``ptdump`` command in the terminal::\n# \n#     ptdump /Users/tamasgal/Data/KM3NeT/ORCA/JGandalf_aanet_muon-CC_3-100GeV_23.root.h5\n#     \n# For further information, check out the documentation of the KM3NeT HDF5 format definition: http://km3pipe.readthedocs.io/en/latest/hdf5.html\n\n# In[3]:\n\n\nget_ipython().system('ptdump /Users/tamasgal/Data/KM3NeT/ORCA/JGandalf_aanet_muon-CC_3-100GeV_23.root.h5')\n\n\n# The ``/event_info`` table contains general information about each event. The data is a simple 2D table and each event is represented by a single row.\n# \n# Let's have a look at the first few rows:\n\n# In[4]:\n\n\nevent_info = pd.read_hdf(filepath, '/event_info')\nevent_info.head(5)\n\n\n# Next, we will read out the MC tracks which are stored under ``/mc_tracks``.\n\n# In[5]:\n\n\ntracks = pd.read_hdf(filepath, '/mc_tracks')\n\n\n# It has a similar structure, but now you can have multiple rows which belong to an event. The ``event_id`` column holds the ID of the corresponding event.\n\n# In[6]:\n\n\ntracks.head(10)\n\n\n# We now are accessing the first track for each event by grouping via ``event_id`` and calling the ``first()`` method of the ``Pandas.DataFrame`` object.\n\n# In[7]:\n\n\nprimaries = tracks.groupby('event_id').first()\n\n\n# In[8]:\n\n\nprimaries.head(5)\n\n\n# ## Creating some Fancy Graphs\n\n# In[9]:\n\n\nplt.hist(primaries.energy, bins=100, log=True)\nplt.xlabel('energy [GeV]')\nplt.ylabel('number of events')\nplt.title('Energy Distribution');\n\n\n# In[10]:\n\n\nplt.hist(primaries.bjorkeny, bins=100)\nplt.xlabel('bjorken-y')\nplt.ylabel('number of events')\nplt.title('bjorken-y Distribution');\n\n\n# In[11]:\n\n\nzeniths = kp.math.zenith(primaries.filter(regex='^dir_.?$'))\nprimaries['zenith'] = zeniths\n\nplt.hist(np.cos(primaries.zenith), bins=21, histtype='step', linewidth=2)\nplt.xlabel(r'cos($\\theta$)')\nplt.ylabel('number of events')\nplt.title('Zenith Distribution');\n\n\n# In[12]:\n\n\nplt.hist2d(primaries.pos_x, primaries.pos_y, bins=100);\nplt.xlabel('x [m]')\nplt.ylabel('y [m]')\nplt.title('2D Plane')\nplt.colorbar();\n\n\n# In[13]:\n\n\nfrom mpl_toolkits.mplot3d import Axes3D\nfig = plt.figure()\nax = fig.add_subplot(111, projection='3d')\nax.scatter3D(primaries.pos_x, primaries.pos_y, primaries.pos_z, s=3)\nax.set_xlabel('x [m]', labelpad=10)\nax.set_ylabel('y [m]', labelpad=10)\nax.set_zlabel('z [m]', labelpad=10)\nax.set_title('3D Plane');\n\n\n# In[14]:\n\n\ngandalfs = pd.read_hdf(filepath, '/reco/gandalf')\ngandalfs.head(5)\n\n\n# In[15]:\n\n\ngandalfs.columns\n\n\n# In[16]:\n\n\nplt.hist(gandalfs['lambda'], bins=50, log=True);\nplt.xlabel('lambda parameter')\nplt.ylabel('count')\nplt.title('Lambda Distribution of Reconstructed Events');\n\n\n# In[17]:\n\n\ngandalfs['zenith'] = kp.math.zenith(gandalfs.filter(regex='^dir_.?$'))\n\n\n# In[18]:\n\n\nplt.hist((primaries.zenith - gandalfs.zenith).dropna(), bins=100)\nplt.xlabel(r'true zenith - reconstructed zenith [rad]')\nplt.ylabel('count')\nplt.title('Zenith Reconstruction Difference');\n\n\n# In[19]:\n\n\nl = 5\nlambda_cut = gandalfs['lambda'] < l\nplt.hist((primaries.zenith - gandalfs.zenith)[lambda_cut].dropna(), bins=100)\nplt.xlabel(r'true zenith - reconstructed zenith [rad]')\nplt.ylabel('count')\nplt.title('Zenith Reconstruction Difference for lambda < {}'.format(l));"
      ]
    }
  ],
  "metadata": {
    "kernelspec": {
      "display_name": "Python 3",
      "language": "python",
      "name": "python3"
    },
    "language_info": {
      "codemirror_mode": {
        "name": "ipython",
        "version": 3
      },
      "file_extension": ".py",
      "mimetype": "text/x-python",
      "name": "python",
      "nbconvert_exporter": "python",
      "pygments_lexer": "ipython3",
      "version": "3.6.0"
    }
  },
  "nbformat": 4,
  "nbformat_minor": 0
}