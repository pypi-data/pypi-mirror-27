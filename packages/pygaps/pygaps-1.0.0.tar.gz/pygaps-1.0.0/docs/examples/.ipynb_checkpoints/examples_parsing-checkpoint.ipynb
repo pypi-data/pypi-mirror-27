{
 "cells": [
  {
   "cell_type": "markdown",
   "metadata": {},
   "source": [
    "# Declare paths"
   ]
  },
  {
   "cell_type": "code",
   "execution_count": 6,
   "metadata": {},
   "outputs": [],
   "source": [
    "import os\n",
    "import pygaps\n",
    "\n",
    "xl_path = os.path.join(os.getcwd(), 'data', 'parsing')\n",
    "json_path = os.path.join(os.getcwd(), 'data', 'parsing')\n",
    "csv_path = os.path.join(os.getcwd(), 'data', 'parsing')"
   ]
  },
  {
   "cell_type": "markdown",
   "metadata": {},
   "source": [
    "# JSON Parsing\n",
    "## JSON Import"
   ]
  },
  {
   "cell_type": "code",
   "execution_count": 13,
   "metadata": {
    "collapsed": true
   },
   "outputs": [],
   "source": [
    "# Find files\n",
    "json_file_paths = pygaps.util_get_file_paths(json_path, '.json')\n",
    "\n",
    "# Import them\n",
    "isotherms = []\n",
    "for filepath in json_file_paths:\n",
    "    with open(filepath, 'r') as text_file:\n",
    "        isotherms.append(pygaps.isotherm_from_json(text_file.read()))\n",
    "\n",
    "# See the files\n",
    "for isotherm in isotherms:\n",
    "    isotherm.print_info(show=False)"
   ]
  },
  {
   "cell_type": "markdown",
   "metadata": {},
   "source": [
    "## JSON Export"
   ]
  },
  {
   "cell_type": "code",
   "execution_count": 15,
   "metadata": {
    "collapsed": true
   },
   "outputs": [],
   "source": [
    "for isotherm in isotherms:\n",
    "    filename = ' '.join([isotherm.sample_name, isotherm.adsorbate, str(isotherm.t_exp)]) + '.json'\n",
    "    with open(filename, mode='w') as f:\n",
    "        f.write(pygaps.isotherm_to_json(isotherm))"
   ]
  },
  {
   "cell_type": "markdown",
   "metadata": {},
   "source": [
    "# Excel Parsing\n",
    "## Excel Import"
   ]
  },
  {
   "cell_type": "code",
   "execution_count": 10,
   "metadata": {},
   "outputs": [
    {
     "name": "stdout",
     "output_type": "stream",
     "text": [
      "Experimental isotherm\n",
      "Material: HKUST-1(Cu)\n",
      "Batch: KRICT\n",
      "Isotherm type: Calorimetrie\n",
      "Adsorbate used: CO2\n",
      "Isotherm date: 2010-05-21 00:00:00\n",
      "Machine: CV\n",
      "User: ADW\n",
      "Activation temperature: 150.0°C\n",
      "Isotherm temperature: 303.0K\n",
      "Isotherm comments: None\n",
      "\n",
      "Experimental isotherm\n",
      "Material: MCM-41\n",
      "Batch: Test\n",
      "Isotherm type: Isotherme\n",
      "Adsorbate used: N2\n",
      "Isotherm date: None\n",
      "Machine: Triflex\n",
      "User: PI\n",
      "Activation temperature: 150.0°C\n",
      "Isotherm temperature: 77.0K\n",
      "Isotherm comments: None\n",
      "\n"
     ]
    }
   ],
   "source": [
    "# Find files\n",
    "xl_file_paths = pygaps.util_get_file_paths(xl_path, '.xlsx')\n",
    "\n",
    "# Import them\n",
    "isotherms = [pygaps.isotherm_from_xl(path) for path in xl_file_paths]\n",
    "\n",
    "# See the files\n",
    "for isotherm in isotherms:\n",
    "    isotherm.print_info(show=False)"
   ]
  },
  {
   "cell_type": "markdown",
   "metadata": {},
   "source": [
    "## Excel Export"
   ]
  },
  {
   "cell_type": "code",
   "execution_count": 12,
   "metadata": {},
   "outputs": [],
   "source": [
    "# Export each isotherm in turn\n",
    "for isotherm in isotherms:\n",
    "    filename = ' '.join([isotherm.sample_name, isotherm.adsorbate, str(isotherm.t_exp)]) + '.json'\n",
    "    pygaps.isotherm_to_xl(isotherm, os.path.join(xl_path, filename))"
   ]
  },
  {
   "cell_type": "markdown",
   "metadata": {},
   "source": [
    "# CSV Parsing\n",
    "## CSV Import"
   ]
  },
  {
   "cell_type": "code",
   "execution_count": null,
   "metadata": {
    "collapsed": true
   },
   "outputs": [],
   "source": [
    "\n",
    "# See the files\n",
    "for isotherm in isotherms:\n",
    "    isotherm.print_info(show=False)"
   ]
  },
  {
   "cell_type": "markdown",
   "metadata": {},
   "source": [
    "## CSV Import"
   ]
  },
  {
   "cell_type": "code",
   "execution_count": null,
   "metadata": {
    "collapsed": true
   },
   "outputs": [],
   "source": []
  }
 ],
 "metadata": {
  "kernelspec": {
   "display_name": "Python 3",
   "language": "python",
   "name": "python3"
  },
  "language_info": {
   "codemirror_mode": {
    "name": "ipython",
    "version": 3
   },
   "file_extension": ".py",
   "mimetype": "text/x-python",
   "name": "python",
   "nbconvert_exporter": "python",
   "pygments_lexer": "ipython3",
   "version": "3.6.2"
  }
 },
 "nbformat": 4,
 "nbformat_minor": 2
}
