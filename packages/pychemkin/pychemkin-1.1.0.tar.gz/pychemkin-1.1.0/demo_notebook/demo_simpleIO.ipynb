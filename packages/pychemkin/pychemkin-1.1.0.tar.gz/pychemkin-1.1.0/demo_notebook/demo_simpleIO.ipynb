{
 "cells": [
  {
   "cell_type": "code",
   "execution_count": 1,
   "metadata": {},
   "outputs": [],
   "source": [
    "import numpy as np\n",
    "import sys\n",
    "sys.path.append('../')\n",
    "from pychemkin import ChemSolver, chemkin, simpleIO"
   ]
  },
  {
   "cell_type": "code",
   "execution_count": 2,
   "metadata": {},
   "outputs": [
    {
     "name": "stdout",
     "output_type": "stream",
     "text": [
      "Finished reading xml input file\n",
      "chemkin('../tests/test_xml/rxns_reversible.xml')\n"
     ]
    }
   ],
   "source": [
    "chem2 = chemkin('../tests/test_xml/rxns_reversible.xml')\n",
    "# initial concentration\n",
    "x_init = np.ones(8)\n",
    "T = 2000\n",
    "t_final = 3.e-13\n",
    "t_step = 1.e-15\n",
    "cs = ChemSolver(chem2).solve(x_init, T, t_final, t_step, algorithm = 'lsoda')\n",
    "r1 = cs.get_results()\n",
    "\n",
    "# save cs to pickle\n",
    "simpleIO('../tests/test_data/test.pkl').to_pickle(cs)\n",
    "\n",
    "# load cs from pickle\n",
    "cs2 = simpleIO('../tests/test_data/test.pkl').read_pickle()\n",
    "r2 = cs2.get_results()\n",
    "\n",
    "for i in range(len(r1)):\n",
    "    assert np.any(r1[i] == r2[i])\n",
    "\n",
    "assert repr(cs.chem) == repr(cs2.chem)\n",
    "print(repr(cs2.chem))"
   ]
  },
  {
   "cell_type": "code",
   "execution_count": null,
   "metadata": {
    "collapsed": true
   },
   "outputs": [],
   "source": []
  }
 ],
 "metadata": {
  "kernelspec": {
   "display_name": "Python 3",
   "language": "python",
   "name": "python3"
  },
  "language_info": {
   "codemirror_mode": {
    "name": "ipython",
    "version": 3
   },
   "file_extension": ".py",
   "mimetype": "text/x-python",
   "name": "python",
   "nbconvert_exporter": "python",
   "pygments_lexer": "ipython3",
   "version": "3.6.1"
  }
 },
 "nbformat": 4,
 "nbformat_minor": 2
}
