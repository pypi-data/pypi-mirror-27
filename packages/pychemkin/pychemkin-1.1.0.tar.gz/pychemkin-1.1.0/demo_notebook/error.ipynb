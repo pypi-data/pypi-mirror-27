{
 "cells": [
  {
   "cell_type": "code",
   "execution_count": 1,
   "metadata": {},
   "outputs": [],
   "source": [
    "from pychemkin import ChemSolver, chemkin\n",
    "import numpy as np"
   ]
  },
  {
   "cell_type": "code",
   "execution_count": 2,
   "metadata": {},
   "outputs": [
    {
     "name": "stdout",
     "output_type": "stream",
     "text": [
      "Finished reading xml input file\n"
     ]
    },
    {
     "name": "stderr",
     "output_type": "stream",
     "text": [
      "/usr/lib/python3.6/site-packages/scipy/integrate/_ode.py:1266: UserWarning: lsoda: Excess work done on this call (perhaps wrong Dfun type).\n",
      "  self.messages.get(istate, unexpected_istate_msg)))\n"
     ]
    },
    {
     "data": {
      "text/html": [
       "<div>\n",
       "<style scoped>\n",
       "    .dataframe tbody tr th:only-of-type {\n",
       "        vertical-align: middle;\n",
       "    }\n",
       "\n",
       "    .dataframe tbody tr th {\n",
       "        vertical-align: top;\n",
       "    }\n",
       "\n",
       "    .dataframe thead th {\n",
       "        text-align: right;\n",
       "    }\n",
       "</style>\n",
       "<table border=\"1\" class=\"dataframe\">\n",
       "  <thead>\n",
       "    <tr style=\"text-align: right;\">\n",
       "      <th></th>\n",
       "      <th>t</th>\n",
       "      <th>H-Concentration</th>\n",
       "      <th>O-Concentration</th>\n",
       "      <th>OH-Concentration</th>\n",
       "      <th>H2-Concentration</th>\n",
       "      <th>H2O-Concentration</th>\n",
       "      <th>O2-Concentration</th>\n",
       "      <th>HO2-Concentration</th>\n",
       "      <th>H2O2-Concentration</th>\n",
       "      <th>H-Reaction_rate</th>\n",
       "      <th>O-Reaction_rate</th>\n",
       "      <th>OH-Reaction_rate</th>\n",
       "      <th>H2-Reaction_rate</th>\n",
       "      <th>H2O-Reaction_rate</th>\n",
       "      <th>O2-Reaction_rate</th>\n",
       "      <th>HO2-Reaction_rate</th>\n",
       "      <th>H2O2-Reaction_rate</th>\n",
       "      <th>T</th>\n",
       "    </tr>\n",
       "  </thead>\n",
       "  <tbody>\n",
       "    <tr>\n",
       "      <th>0</th>\n",
       "      <td>0.000000e+00</td>\n",
       "      <td>1.000000</td>\n",
       "      <td>1.000000</td>\n",
       "      <td>1.000000</td>\n",
       "      <td>1.000000</td>\n",
       "      <td>1.000000</td>\n",
       "      <td>1.000000</td>\n",
       "      <td>1.000000</td>\n",
       "      <td>1.000000</td>\n",
       "      <td>7.186139e+15</td>\n",
       "      <td>-6.966219e+15</td>\n",
       "      <td>-7.885319e+15</td>\n",
       "      <td>2.922808e+13</td>\n",
       "      <td>4.208046e+14</td>\n",
       "      <td>7.376855e+15</td>\n",
       "      <td>-1.220904e+14</td>\n",
       "      <td>-3.939752e+13</td>\n",
       "      <td>1000.0</td>\n",
       "    </tr>\n",
       "    <tr>\n",
       "      <th>1</th>\n",
       "      <td>1.000000e-09</td>\n",
       "      <td>0.503191</td>\n",
       "      <td>0.148576</td>\n",
       "      <td>0.041186</td>\n",
       "      <td>1.581826</td>\n",
       "      <td>2.640204</td>\n",
       "      <td>3.078403</td>\n",
       "      <td>0.001664</td>\n",
       "      <td>0.004949</td>\n",
       "      <td>3.318372e+11</td>\n",
       "      <td>1.664386e+11</td>\n",
       "      <td>-2.324022e+10</td>\n",
       "      <td>-7.550292e+11</td>\n",
       "      <td>7.031858e+11</td>\n",
       "      <td>-3.060040e+11</td>\n",
       "      <td>-2.946614e+10</td>\n",
       "      <td>-8.772195e+10</td>\n",
       "      <td>1000.0</td>\n",
       "    </tr>\n",
       "  </tbody>\n",
       "</table>\n",
       "</div>"
      ],
      "text/plain": [
       "              t  H-Concentration  O-Concentration  OH-Concentration  \\\n",
       "0  0.000000e+00         1.000000         1.000000          1.000000   \n",
       "1  1.000000e-09         0.503191         0.148576          0.041186   \n",
       "\n",
       "   H2-Concentration  H2O-Concentration  O2-Concentration  HO2-Concentration  \\\n",
       "0          1.000000           1.000000          1.000000           1.000000   \n",
       "1          1.581826           2.640204          3.078403           0.001664   \n",
       "\n",
       "   H2O2-Concentration  H-Reaction_rate  O-Reaction_rate  OH-Reaction_rate  \\\n",
       "0            1.000000     7.186139e+15    -6.966219e+15     -7.885319e+15   \n",
       "1            0.004949     3.318372e+11     1.664386e+11     -2.324022e+10   \n",
       "\n",
       "   H2-Reaction_rate  H2O-Reaction_rate  O2-Reaction_rate  HO2-Reaction_rate  \\\n",
       "0      2.922808e+13       4.208046e+14      7.376855e+15      -1.220904e+14   \n",
       "1     -7.550292e+11       7.031858e+11     -3.060040e+11      -2.946614e+10   \n",
       "\n",
       "   H2O2-Reaction_rate       T  \n",
       "0       -3.939752e+13  1000.0  \n",
       "1       -8.772195e+10  1000.0  "
      ]
     },
     "execution_count": 2,
     "metadata": {},
     "output_type": "execute_result"
    }
   ],
   "source": [
    "chem = chemkin(\"demo_xml/rxns_reversible.xml\")\n",
    "# initial concentration\n",
    "x_init = [1]*8\n",
    "T = 1000\n",
    "# time series you want\n",
    "ts = 1.e-9\n",
    "# set to (min val in ts, max val in ts)\n",
    "t_max = 5.e-7\n",
    "cs = ChemSolver(chem).solve(x_init, T, t_max, ts)\n",
    "df = cs.to_df()\n",
    "df.head()"
   ]
  }
 ],
 "metadata": {
  "kernelspec": {
   "display_name": "Python 3",
   "language": "python",
   "name": "python3"
  },
  "language_info": {
   "codemirror_mode": {
    "name": "ipython",
    "version": 3
   },
   "file_extension": ".py",
   "mimetype": "text/x-python",
   "name": "python",
   "nbconvert_exporter": "python",
   "pygments_lexer": "ipython3",
   "version": "3.6.3"
  }
 },
 "nbformat": 4,
 "nbformat_minor": 2
}
