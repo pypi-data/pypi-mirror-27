{
 "cells": [
  {
   "cell_type": "code",
   "execution_count": 1,
   "metadata": {},
   "outputs": [
    {
     "name": "stderr",
     "output_type": "stream",
     "text": [
      "sudo: no tty present and no askpass program specified\n"
     ]
    }
   ],
   "source": [
    "%%bash\n",
    "sudo pip install pychemkin"
   ]
  },
  {
   "cell_type": "code",
   "execution_count": 2,
   "metadata": {},
   "outputs": [
    {
     "name": "stdout",
     "output_type": "stream",
     "text": [
      "Finished reading xml input file\n",
      "Progress rates\n",
      "[ -4.37918361e+16   1.06891625e+13   5.80849020e+13  -3.33238238e+15\n",
      "   1.05248391e+14   4.78255724e+14   4.55000000e+14   6.44285996e+14\n",
      "   1.19599129e+14   1.48165394e+14   9.47751873e+13]\n",
      "Reaction rates\n",
      "[  4.30093415e+16  -4.10199181e+16  -4.95223968e+16   1.84639721e+14\n",
      "   4.15435240e+15   4.49963705e+16  -1.43984953e+15  -3.62539710e+14]\n"
     ]
    }
   ],
   "source": [
    "import numpy as np\n",
    "from pychemkin import chemkin\n",
    "demofile = 'demo_xml/rxns_reversible.xml'\n",
    "rxnsystem = chemkin(demofile)\n",
    "T = 999.99999 #temperature in K\n",
    "x = [1,2,3,4,5,6,7,8]\n",
    "print(\"Progress rates\")\n",
    "print(rxnsystem.progress_rate(x,T))\n",
    "print(\"Reaction rates\")\n",
    "print(rxnsystem.reaction_rate(x,T))"
   ]
  },
  {
   "cell_type": "code",
   "execution_count": 3,
   "metadata": {},
   "outputs": [
    {
     "data": {
      "text/plain": [
       "chemkin('demo_xml/rxns_reversible.xml')"
      ]
     },
     "execution_count": 3,
     "metadata": {},
     "output_type": "execute_result"
    }
   ],
   "source": [
    "rxnsystem"
   ]
  },
  {
   "cell_type": "code",
   "execution_count": 4,
   "metadata": {},
   "outputs": [
    {
     "data": {
      "text/plain": [
       "['H', 'O', 'OH', 'H2', 'H2O', 'O2', 'HO2', 'H2O2']"
      ]
     },
     "execution_count": 4,
     "metadata": {},
     "output_type": "execute_result"
    }
   ],
   "source": [
    "rxnsystem.species"
   ]
  },
  {
   "cell_type": "code",
   "execution_count": 5,
   "metadata": {
    "scrolled": true
   },
   "outputs": [
    {
     "name": "stdout",
     "output_type": "stream",
     "text": [
      "['H + O2 [=] O + OH', 'O + H2 [=] H + OH', 'H2 + OH [=] H2O + H', 'O + H2O [=] OH + OH', 'HO2 + H [=] H2 + O2', 'HO2 + H [=] OH + OH', 'HO2 + O [=] O2 + OH', 'HO2 + OH [=] H2O + O2', 'H2O2 + H [=] H2O + OH', 'H2O2 + H [=] HO2 + H2', 'H2O2 + O [=] OH + HO2']\n",
      "chemical equations:\n",
      "[\n",
      "H + O2 [=] O + OH\n",
      "O + H2 [=] H + OH\n",
      "H2 + OH [=] H2O + H\n",
      "O + H2O [=] OH + OH\n",
      "HO2 + H [=] H2 + O2\n",
      "HO2 + H [=] OH + OH\n",
      "HO2 + O [=] O2 + OH\n",
      "HO2 + OH [=] H2O + O2\n",
      "H2O2 + H [=] H2O + OH\n",
      "H2O2 + H [=] HO2 + H2\n",
      "H2O2 + O [=] OH + HO2\n",
      "]\n",
      "species: not specified\n",
      "nu_react:\n",
      "[[1 0 0 0 1 1 0 0 1 1 0]\n",
      " [0 1 0 1 0 0 1 0 0 0 1]\n",
      " [0 0 1 0 0 0 0 1 0 0 0]\n",
      " [0 1 1 0 0 0 0 0 0 0 0]\n",
      " [0 0 0 1 0 0 0 0 0 0 0]\n",
      " [1 0 0 0 0 0 0 0 0 0 0]\n",
      " [0 0 0 0 1 1 1 1 0 0 0]\n",
      " [0 0 0 0 0 0 0 0 1 1 1]]\n",
      "nu_prod:\n",
      "[[0 1 1 0 0 0 0 0 0 0 0]\n",
      " [1 0 0 0 0 0 0 0 0 0 0]\n",
      " [1 1 0 2 0 2 1 0 1 0 1]\n",
      " [0 0 0 0 1 0 0 0 0 1 0]\n",
      " [0 0 1 0 0 0 0 1 1 0 0]\n",
      " [0 0 0 0 1 0 1 1 0 0 0]\n",
      " [0 0 0 0 0 0 0 0 0 1 1]\n",
      " [0 0 0 0 0 0 0 0 0 0 0]]\n",
      "reaction coefficients:\n",
      "[\n",
      "modifiedArrhenius Reaction Coeffs: {'A': 3547000000000000.0, 'b': -0.406, 'E': 16599.0, 'R': 8.314, 'T': 999.99999}\n",
      "modifiedArrhenius Reaction Coeffs: {'A': 50800.0, 'b': 2.67, 'E': 6290.0, 'R': 8.314, 'T': 999.99999}\n",
      "modifiedArrhenius Reaction Coeffs: {'A': 216000000.0, 'b': 1.51, 'E': 3430.0, 'R': 8.314, 'T': 999.99999}\n",
      "modifiedArrhenius Reaction Coeffs: {'A': 2970000.0, 'b': 2.02, 'E': 13400.0, 'R': 8.314, 'T': 999.99999}\n",
      "Arrhenius Reaction Coeffs: {'A': 16600000000000.0, 'E': 823.0, 'R': 8.314, 'T': 999.99999}\n",
      "Arrhenius Reaction Coeffs: {'A': 70790000000000.0, 'E': 295.0, 'R': 8.314, 'T': 999.99999}\n",
      "Arrhenius Reaction Coeffs: {'A': 32500000000000.0, 'E': 0.0, 'R': 8.314, 'T': 999.99999}\n",
      "Arrhenius Reaction Coeffs: {'A': 28900000000000.0, 'E': -497.0, 'R': 8.314, 'T': 999.99999}\n",
      "Arrhenius Reaction Coeffs: {'A': 24100000000000.0, 'E': 3970.0, 'R': 8.314, 'T': 999.99999}\n",
      "Arrhenius Reaction Coeffs: {'A': 48200000000000.0, 'E': 7950.0, 'R': 8.314, 'T': 999.99999}\n",
      "modifiedArrhenius Reaction Coeffs: {'A': 9550000.0, 'b': 2.0, 'E': 3970.0, 'R': 8.314, 'T': 999.99999}\n",
      "]\n",
      "reaction types: ['Elementary', 'Elementary', 'Elementary', 'Elementary', 'Elementary', 'Elementary', 'Elementary', 'Elementary', 'Elementary', 'Elementary', 'Elementary']\n",
      "reversible: [ True  True  True  True  True  True  True  True  True  True  True]\n"
     ]
    }
   ],
   "source": [
    "print(rxnsystem)"
   ]
  },
  {
   "cell_type": "code",
   "execution_count": 1,
   "metadata": {},
   "outputs": [],
   "source": [
    "#import sys\n",
    "#sys.path.append('../')\n",
    "from pychemkin import ChemSolver, chemkin\n",
    "import numpy as np"
   ]
  },
  {
   "cell_type": "code",
   "execution_count": 10,
   "metadata": {},
   "outputs": [
    {
     "name": "stdout",
     "output_type": "stream",
     "text": [
      "/Users/kimia/Desktop/CS207/final/cs207-FinalProject/demo_notebook\n"
     ]
    }
   ],
   "source": [
    "%%bash\n",
    "pwd\n"
   ]
  },
  {
   "cell_type": "code",
   "execution_count": 16,
   "metadata": {
    "scrolled": true
   },
   "outputs": [
    {
     "name": "stdout",
     "output_type": "stream",
     "text": [
      "demo.ipynb\n",
      "demo_ODESolver.ipynb\n",
      "demo_equilibrium.ipynb\n",
      "demo_xml\n",
      "testing_viz.ipynb\n"
     ]
    }
   ],
   "source": [
    "%%bash\n",
    "ls"
   ]
  },
  {
   "cell_type": "code",
   "execution_count": 3,
   "metadata": {},
   "outputs": [
    {
     "name": "stdout",
     "output_type": "stream",
     "text": [
      "Uninstalling pychemkin-1.0.8:\n",
      "  Successfully uninstalled pychemkin-1.0.8\n",
      "Requirement already up-to-date: numpy in /anaconda/lib/python3.6/site-packages\n",
      "Requirement already up-to-date: scipy in /anaconda/lib/python3.6/site-packages\n",
      "Requirement already up-to-date: pandas in /anaconda/lib/python3.6/site-packages\n",
      "Requirement already up-to-date: python-dateutil>=2 in /anaconda/lib/python3.6/site-packages (from pandas)\n",
      "Requirement already up-to-date: pytz>=2011k in /anaconda/lib/python3.6/site-packages (from pandas)\n",
      "Requirement already up-to-date: six>=1.5 in /anaconda/lib/python3.6/site-packages (from python-dateutil>=2->pandas)\n"
     ]
    },
    {
     "name": "stderr",
     "output_type": "stream",
     "text": [
      "python: can't open file 'setup.py': [Errno 2] No such file or directory\n"
     ]
    }
   ],
   "source": [
    "%%bash\n",
    "pip uninstall --yes pychemkin\n",
    "pip install numpy scipy pandas --upgrade\n",
    "#cd /tmp/cs207-FinalProject/\n",
    "python setup.py install # please change the path\n"
   ]
  },
  {
   "cell_type": "code",
   "execution_count": 11,
   "metadata": {},
   "outputs": [
    {
     "name": "stdout",
     "output_type": "stream",
     "text": [
      "Finished reading xml input file\n"
     ]
    },
    {
     "ename": "ValueError",
     "evalue": "Database /anaconda/lib/python3.6/site-packages/pychemkin-1.0.8-py3.6.egg/pychemkin/data/thermo.sqlite does not exist",
     "output_type": "error",
     "traceback": [
      "\u001b[0;31m---------------------------------------------------------------------------\u001b[0m",
      "\u001b[0;31mValueError\u001b[0m                                Traceback (most recent call last)",
      "\u001b[0;32m<ipython-input-11-e0f65258d41d>\u001b[0m in \u001b[0;36m<module>\u001b[0;34m()\u001b[0m\n\u001b[0;32m----> 1\u001b[0;31m \u001b[0mchem\u001b[0m \u001b[0;34m=\u001b[0m \u001b[0mchemkin\u001b[0m\u001b[0;34m(\u001b[0m\u001b[0;34m\"rxns2.xml\"\u001b[0m\u001b[0;34m)\u001b[0m\u001b[0;34m\u001b[0m\u001b[0m\n\u001b[0m",
      "\u001b[0;32m/anaconda/lib/python3.6/site-packages/pychemkin-1.0.8-py3.6.egg/pychemkin/chemkin.py\u001b[0m in \u001b[0;36m__init__\u001b[0;34m(self, file_name)\u001b[0m\n",
      "\u001b[0;32m/anaconda/lib/python3.6/site-packages/pychemkin-1.0.8-py3.6.egg/pychemkin/BackwardCoeffs.py\u001b[0m in \u001b[0;36m__init__\u001b[0;34m(self, nu_react, nu_prod, species)\u001b[0m\n",
      "\u001b[0;32m/anaconda/lib/python3.6/site-packages/pychemkin-1.0.8-py3.6.egg/pychemkin/SQLParser.py\u001b[0m in \u001b[0;36m__init__\u001b[0;34m(self)\u001b[0m\n",
      "\u001b[0;31mValueError\u001b[0m: Database /anaconda/lib/python3.6/site-packages/pychemkin-1.0.8-py3.6.egg/pychemkin/data/thermo.sqlite does not exist"
     ]
    }
   ],
   "source": [
    "chem = chemkin(\"rxns2.xml\")"
   ]
  },
  {
   "cell_type": "code",
   "execution_count": 4,
   "metadata": {},
   "outputs": [
    {
     "name": "stdout",
     "output_type": "stream",
     "text": [
      "Finished reading xml input file\n"
     ]
    },
    {
     "ename": "ValueError",
     "evalue": "Database /anaconda/lib/python3.6/site-packages/pychemkin-1.0.8-py3.6.egg/pychemkin/data/thermo.sqlite does not exist",
     "output_type": "error",
     "traceback": [
      "\u001b[0;31m---------------------------------------------------------------------------\u001b[0m",
      "\u001b[0;31mValueError\u001b[0m                                Traceback (most recent call last)",
      "\u001b[0;32m<ipython-input-4-a41a58406301>\u001b[0m in \u001b[0;36m<module>\u001b[0;34m()\u001b[0m\n\u001b[0;32m----> 1\u001b[0;31m \u001b[0mchem\u001b[0m \u001b[0;34m=\u001b[0m \u001b[0mchemkin\u001b[0m\u001b[0;34m(\u001b[0m\u001b[0;34m\"demo_xml/rxns.xml\"\u001b[0m\u001b[0;34m)\u001b[0m\u001b[0;34m\u001b[0m\u001b[0m\n\u001b[0m\u001b[1;32m      2\u001b[0m \u001b[0;31m# initial concentration\u001b[0m\u001b[0;34m\u001b[0m\u001b[0;34m\u001b[0m\u001b[0m\n\u001b[1;32m      3\u001b[0m \u001b[0mx_init\u001b[0m \u001b[0;34m=\u001b[0m \u001b[0;34m[\u001b[0m\u001b[0;36m1\u001b[0m\u001b[0;34m]\u001b[0m\u001b[0;34m*\u001b[0m\u001b[0;36m6\u001b[0m\u001b[0;34m\u001b[0m\u001b[0m\n\u001b[1;32m      4\u001b[0m \u001b[0mT\u001b[0m \u001b[0;34m=\u001b[0m \u001b[0;36m1000\u001b[0m\u001b[0;34m\u001b[0m\u001b[0m\n\u001b[1;32m      5\u001b[0m \u001b[0;31m# time series you want\u001b[0m\u001b[0;34m\u001b[0m\u001b[0;34m\u001b[0m\u001b[0m\n",
      "\u001b[0;32m/anaconda/lib/python3.6/site-packages/pychemkin-1.0.8-py3.6.egg/pychemkin/chemkin.py\u001b[0m in \u001b[0;36m__init__\u001b[0;34m(self, file_name)\u001b[0m\n",
      "\u001b[0;32m/anaconda/lib/python3.6/site-packages/pychemkin-1.0.8-py3.6.egg/pychemkin/BackwardCoeffs.py\u001b[0m in \u001b[0;36m__init__\u001b[0;34m(self, nu_react, nu_prod, species)\u001b[0m\n",
      "\u001b[0;32m/anaconda/lib/python3.6/site-packages/pychemkin-1.0.8-py3.6.egg/pychemkin/SQLParser.py\u001b[0m in \u001b[0;36m__init__\u001b[0;34m(self)\u001b[0m\n",
      "\u001b[0;31mValueError\u001b[0m: Database /anaconda/lib/python3.6/site-packages/pychemkin-1.0.8-py3.6.egg/pychemkin/data/thermo.sqlite does not exist"
     ]
    }
   ],
   "source": [
    "chem = chemkin(\"demo_xml/rxns.xml\")\n",
    "# initial concentration\n",
    "x_init = [1]*6\n",
    "T = 1000\n",
    "# time series you want\n",
    "ts = 1.e-7\n",
    "# set to (min val in ts, max val in ts)\n",
    "t_max = 5.e-5\n",
    "cs = ChemSolver(chem).solve(x_init, T, t_max, ts)\n",
    "df = cs.to_df()\n",
    "df.head()"
   ]
  },
  {
   "cell_type": "code",
   "execution_count": null,
   "metadata": {
    "collapsed": true
   },
   "outputs": [],
   "source": []
  }
 ],
 "metadata": {
  "kernelspec": {
   "display_name": "Python 3",
   "language": "python",
   "name": "python3"
  },
  "language_info": {
   "codemirror_mode": {
    "name": "ipython",
    "version": 3
   },
   "file_extension": ".py",
   "mimetype": "text/x-python",
   "name": "python",
   "nbconvert_exporter": "python",
   "pygments_lexer": "ipython3",
   "version": "3.6.1"
  }
 },
 "nbformat": 4,
 "nbformat_minor": 2
}
