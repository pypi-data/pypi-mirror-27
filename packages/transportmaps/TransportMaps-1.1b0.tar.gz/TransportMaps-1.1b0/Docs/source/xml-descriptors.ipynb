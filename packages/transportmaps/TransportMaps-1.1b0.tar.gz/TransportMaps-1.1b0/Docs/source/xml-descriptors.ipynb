{
 "cells": [
  {
   "cell_type": "code",
   "execution_count": 1,
   "metadata": {
    "collapsed": false,
    "slideshow": {
     "slide_type": "skip"
    }
   },
   "outputs": [],
   "source": [
    "import matplotlib.pyplot as plt\n",
    "import TransportMaps as TM\n",
    "import TransportMaps.Distributions as DIST\n",
    "import TransportMaps.Diagnostics as DIAG\n",
    "%matplotlib inline"
   ]
  },
  {
   "cell_type": "markdown",
   "metadata": {
    "slideshow": {
     "slide_type": "slide"
    }
   },
   "source": [
    "# XML transport map descriptors\n",
    "\n",
    "As it is shown in the examples of the tutorial, the construction of transport maps require two steps\n",
    "\n",
    "1. the definition of the parametric family (**structure**) of the transport map\n",
    "2. the minimization of a cost function (often the KL-divergence)\n",
    "\n",
    "The first step can be cumbersome, when one needs to define every detail of the transport map (basis types, order, sparsity pattern, monotonic type, triangular map type etc.). Therefore, we provide a faster way to define the **structure** of a transport map through an [XML](https://en.wikipedia.org/wiki/XML) file ([XML tutorial](https://www.w3schools.com/xml/))."
   ]
  },
  {
   "cell_type": "markdown",
   "metadata": {
    "slideshow": {
     "slide_type": "skip"
    }
   },
   "source": [
    "XML is a *markup language* that allows to encode documents in a human readable structured format.\n",
    "Even if very complex maps with a very involved sparsity structure would be difficult to encode in this language, it allows nevertheless the definition of a broad set of map structures which are often chosen for the solution of real problems.\n",
    "\n",
    "We will go through some increasingly involved examples and then provide a full problem worked out. \n",
    "\n",
    "More *XML examples* files can be found in the unittest folder ``TransportMaps/tests/xml/maps``. The full **syntax** is described in the [XML Schema Definition (XSD)](https://en.wikipedia.org/wiki/XML_schema) ([XSD tutorial](https://www.w3schools.com/xml/schema_intro.asp)) file ``TransportMaps/XML/schema/map.xsd`` and ``TransportMaps/XML/schema/basis.xsd`` (the latter is a link to the corresponding file in the [SpectralToolbox](https://launchpad.net/spectraltoolbox) package)."
   ]
  },
  {
   "cell_type": "markdown",
   "metadata": {
    "slideshow": {
     "slide_type": "fragment"
    }
   },
   "source": [
    "All the XML functionalities are collected in the following module:"
   ]
  },
  {
   "cell_type": "code",
   "execution_count": 2,
   "metadata": {
    "collapsed": true,
    "slideshow": {
     "slide_type": "fragment"
    }
   },
   "outputs": [],
   "source": [
    "import TransportMaps.XML as TMXML"
   ]
  },
  {
   "cell_type": "markdown",
   "metadata": {
    "slideshow": {
     "slide_type": "slide"
    }
   },
   "source": [
    "## Map structure examples\n",
    "\n",
    "### Linear span map with linear components\n",
    "\n",
    "Here we define the transport map with structure:\n",
    "\n",
    "$$ T({\\bf x}) = \\left[ \\begin{array}{l} \n",
    "T_1(x_1) \\\\\n",
    "T_2(x_1, x_2) \\\\ \n",
    "\\qquad \\vdots \\\\\n",
    "T_d(x_1,\\ldots,x_d)\n",
    "\\end{array} \\right] = \\left[ \\begin{array}{c}\n",
    "a_1 \\\\ a_2 \\\\ \\vdots \\\\ a_d\n",
    "\\end{array} \\right] + \\left[ \\begin{array}{cccc}\n",
    "b_{1,1} & & &\\\\\n",
    "b_{2,1} & b_{2,2} & &\\\\\n",
    "\\vdots & & \\ddots & \\\\\n",
    "b_{d,1} & \\cdots & \\cdots & b_{d,d}\n",
    "\\end{array} \\right] {\\bf x} \\;.$$\n",
    "\n",
    "Each component $T_i$ is then a [LinearSpanApproximation](api-TransportMaps-Functionals.html#TransportMaps.Functionals.LinearSpanApproximation):\n",
    "\n",
    "$$ T_i({\\bf x}) = a_i + b_{i,1} \\,x_1 + \\ldots + b_{i,i} \\, x_i \\;. $$"
   ]
  },
  {
   "cell_type": "markdown",
   "metadata": {
    "slideshow": {
     "slide_type": "subslide"
    }
   },
   "source": [
    "The following XML code describe such a structure.\n",
    "\n",
    "    <?xml version=\"1.0\"?>\n",
    "    <trimap xmlns=\"TransportMaps\" xmlns:st=\"SpectralToolbox\"\n",
    "        xmlns:xsi=\"http://www.w3.org/2001/XMLSchema-instance\"\n",
    "        xsi:schemaLocation=\"map.xsd\" type=\"linspan\" dim=\"5\">\n",
    "      <component id=\"*\">\n",
    "        <avars>\n",
    "          <vars>*</vars>\n",
    "        </avars>\n",
    "        <approx>\n",
    "          <linspan multidimtype=\"tensorized\" spantype=\"total\">\n",
    "            <spanorder>\n",
    "              <maxord coord=\"*\">1</maxord>\n",
    "            </spanorder>\n",
    "            <spanbasis coord=\"*\">\n",
    "              <st:HermiteProbabilistsPolynomial/>\n",
    "            </spanbasis>\n",
    "          </linspan>\n",
    "        </approx>\n",
    "      </component>\n",
    "    </trimap>"
   ]
  },
  {
   "cell_type": "markdown",
   "metadata": {
    "slideshow": {
     "slide_type": "subslide"
    }
   },
   "source": [
    "This descriptor can be stored in a file (``aux/xml/LinearSpan.xml``) and used to instantiate the corresponding object."
   ]
  },
  {
   "cell_type": "code",
   "execution_count": 3,
   "metadata": {
    "collapsed": false,
    "slideshow": {
     "slide_type": "fragment"
    }
   },
   "outputs": [
    {
     "data": {
      "text/plain": [
       "TransportMaps.Maps.TriangularTransportMaps.LinearSpanTriangularTransportMap"
      ]
     },
     "execution_count": 3,
     "metadata": {},
     "output_type": "execute_result"
    }
   ],
   "source": [
    "T = TMXML.load_xml('aux/xml/LinearSpan.xml')\n",
    "type(T)"
   ]
  },
  {
   "cell_type": "markdown",
   "metadata": {
    "slideshow": {
     "slide_type": "skip"
    }
   },
   "source": [
    "Let us walk through the XML file line-by-line to explain its syntax.\n",
    "\n",
    "    <trimap \n",
    "        xmlns=\"TransportMaps\"\n",
    "        xmlns:st=\"SpectralToolbox\"\n",
    "        xmlns:xsi=\"http://www.w3.org/2001/XMLSchema-instance\"\n",
    "        xsi:schemaLocation=\"map.xsd\"\n",
    "        type=\"linspan\" dim=\"5\">\n",
    "    ...\n",
    "    </trimap>\n",
    "\n",
    "This block contains all the transport map descriptor. The tag ``trimap`` stands for triangular map. Therefore we are defining a triangular map $T$ of type linear span (``linspan``) and dimension (``dim``) 5. The attributes ``xmlns=\"TransportMaps\"`` and ``xmlns:st=\"SpectralToolbox\"`` are used only to define the appropriate namespaces.\n",
    "\n",
    "      <component id=\"*\">\n",
    "      ...\n",
    "      </component>\n",
    "\n",
    "The ``component`` block identifies a component $T_i$ of the map. In this case the ``id=\"*\"`` indicates that we are defining all the components $T_1,\\ldots,T_5$ at once, since they will all have similar structure (i.e. all linear, but preserving the lower triangular structure of $T$).\n",
    "\n",
    "        <avars>\n",
    "          <vars>*</vars>\n",
    "        </avars>\n",
    "        \n",
    "The ``avars`` block defines the list of active variable for the ``component`` at hand. In this case the map will be full lower triangular, so each component $T_i$ will depend on all the variables $x_1,\\ldots,x_i$. The entry ``<vars>*</vars>`` specifies this structure.\n",
    "\n",
    "        <approx>\n",
    "          <linspan multidimtype=\"tensorized\" spantype=\"total\">\n",
    "          ...\n",
    "          </linspan>\n",
    "        </approx>\n",
    "\n",
    "The ``approx`` field specify the form of $T_i$. In this case it will be a [LinearSpanApproximation](api-TransportMaps-Functionals.html#TransportMaps.Functionals.LinearSpanApproximation) (``linspan``), where the basis are obtained from tensorization of 1-d basis (``multidimtype=\"tensorized\"``) and we will chose a total order expansion (``spantype=\"total\"``), in order to get a linear map in the end.\n",
    "\n",
    "            <spanorder>\n",
    "              <maxord coord=\"*\">1</maxord>\n",
    "            </spanorder>\n",
    "\n",
    "The filed ``spanorder`` defines the total (polynomial) order of the expansion. The approximation can be anisotropic, allowing for different orders to be defined for different directions (in this case $T_i$ will depend on $i$ variables, i.e. $i$ directions). In this case the approximation is isotropic and linear, so ``<maxord coord=\"*\">1</maxord>`` impose linearity (``1``) for every direction (``coord=\"*\"``).\n",
    "\n",
    "            <spanbasis coord=\"*\">\n",
    "              <st:HermiteProbabilistsPolynomial/>\n",
    "            </spanbasis>\n",
    "\n",
    "The field ``spanbasis`` defined the basis type to be used for the approximation. Here we use [Hermite probabilists' polynomials](http://pythonhosted.org//SpectralToolbox/api-spectral1d.html#SpectralToolbox.Spectral1D.HermiteProbabilistsPolynomial) from the package [SpectralToolbox](https://pypi.python.org/pypi/SpectralToolbox) for every direction (``coord=\"*\"``)."
   ]
  },
  {
   "cell_type": "markdown",
   "metadata": {
    "slideshow": {
     "slide_type": "slide"
    }
   },
   "source": [
    "### Integrated squared second order map\n",
    "\n",
    "Here we define a full lower triangular map where every component is an [integrated squared approximation](api-TransportMaps-Functionals.html#TransportMaps.Functionals.MonotonicIntegratedSquaredApproximation) (see [example](example-gumbel-1d.html#Integrated-squared-parametrization)):\n",
    "\n",
    "$$ T_k({\\bf a};{\\bf x}) = c({\\bf a}_c;{\\bf x}) + \\int_0^{x_k} \\left( h\\left({\\bf a}_e;x_1,\\ldots,x_{k-1},t \\right) \\right)^2 \\, dt \\;,$$\n",
    "\n",
    "where $c$ and $h$ are themselves two parametric [LinearSpanApproximation](api-TransportMaps-Functionals.html#TransportMaps.Functionals.LinearSpanApproximation):\n",
    "\n",
    "$$ c({\\bf a}_c,{\\bf x}) = \\Phi_c({\\bf x}) {\\bf a}_c \\quad \\text{and} \\quad h({\\bf a}_e,{\\bf x}) = \\Phi_e(x_1,\\ldots,x_{k-1},t) {\\bf a}_e \\;.$$"
   ]
  },
  {
   "cell_type": "markdown",
   "metadata": {
    "slideshow": {
     "slide_type": "subslide"
    }
   },
   "source": [
    "XML descriptor...\n",
    "\n",
    "    <?xml version=\"1.0\"?>\n",
    "    <trimap xmlns=\"TransportMaps\" xmlns:st=\"SpectralToolbox\"\n",
    "        xmlns:xsi=\"http://www.w3.org/2001/XMLSchema-instance\"\n",
    "        xsi:schemaLocation=\"map.xsd\" type=\"intsq\" dim=\"5\">\n",
    "      <component id=\"*\">\n",
    "        <avars>\n",
    "          <vars>*</vars>\n",
    "        </avars>\n",
    "        <approx>\n",
    "          <intsq>\n",
    "            <constant>\n",
    "              <linspan multidimtype=\"tensorized\" spantype=\"full\">\n",
    "                <spanorder>\n",
    "                  <maxord coord=\":d\">2</maxord>\n",
    "                  <maxord coord=\"d\">0</maxord>\n",
    "                </spanorder>\n",
    "                <spanbasis coord=\"*\">\n",
    "                  <st:HermiteProbabilistsPolynomial/>\n",
    "                </spanbasis>\n",
    "              </linspan>\n",
    "            </constant>\n",
    "            <squared>\n",
    "              <linspan multidimtype=\"tensorized\" spantype=\"total\">\n",
    "                <spanorder>\n",
    "                  <maxord coord=\":d\">2</maxord>\n",
    "                  <maxord coord=\"d\">1</maxord>\n",
    "                </spanorder>\n",
    "                <spanbasis coord=\"*\">\n",
    "                  <st:ConstantExtendedHermiteProbabilistsFunction/>\n",
    "                </spanbasis>\n",
    "              </linspan>\n",
    "            </squared>\n",
    "          </intsq>\n",
    "        </approx>\n",
    "      </component>\n",
    "    </trimap>"
   ]
  },
  {
   "cell_type": "markdown",
   "metadata": {
    "slideshow": {
     "slide_type": "subslide"
    }
   },
   "source": [
    "This descriptor can be store in a file (``aux/xml/IntSqSecOrd.xml``) and used to instantiate the corresponding object."
   ]
  },
  {
   "cell_type": "code",
   "execution_count": 4,
   "metadata": {
    "collapsed": false,
    "slideshow": {
     "slide_type": "fragment"
    }
   },
   "outputs": [
    {
     "data": {
      "text/plain": [
       "TransportMaps.Maps.TriangularTransportMaps.IntegratedSquaredTriangularTransportMap"
      ]
     },
     "execution_count": 4,
     "metadata": {},
     "output_type": "execute_result"
    }
   ],
   "source": [
    "T = TMXML.load_xml('aux/xml/IntSqSecOrd.xml')\n",
    "type(T)"
   ]
  },
  {
   "cell_type": "markdown",
   "metadata": {
    "slideshow": {
     "slide_type": "skip"
    }
   },
   "source": [
    "The descriptor has many things in common with our previous example, therefore we will only focus on their main differences.\n",
    "\n",
    "1. The ``trimap`` is now of type ``intsq`` ([IntegratedSquaredTriangularTransportMap](api-TransportMaps-Maps.html#TransportMaps.Maps.IntegratedSquaredTriangularTransportMap)).\n",
    "2. The block ``approx`` (for each $T_i$) contains now a ``intsq`` sub-block rather than a ``linspan`` one.\n",
    "3. The ``intsq`` block is formed by two parts, ``constant`` and ``squared``, which contain the descriptors for the individual [LinearSpanApproximation](api-TransportMaps-Functionals.html#TransportMaps.Functionals.LinearSpanApproximation) approximations.\n",
    "4. The basis ``ConstantExtendedHermiteProbabilistsFunction`` is used for the ``squared`` part of the approximation (for theoretical reasons beyond the scope of this tutorial)\n",
    "5. The ``maxord`` of the ``squared`` part is only 1 in the $d$ direction (which is the direction $i$ for component $T_i$). This is done because the integrated squared format will provide for the extra order thanks to the integral along direction $d$."
   ]
  },
  {
   "cell_type": "markdown",
   "metadata": {
    "slideshow": {
     "slide_type": "slide"
    }
   },
   "source": [
    "### Second order head map + second order tail\n",
    "\n",
    "The following map is more anisotropic that the preceding two. It will be defined as follows:\n",
    "\n",
    "1. $T_1,\\ldots,T_3$ are second order integrated squared approximations depending on all the variables\n",
    "2. $T_{i>3}$ are second order integrated squared approximations depending only on the $i$-th variable\n",
    "\n",
    "The sparsity structure of the map can be graphically represented as follows:\n",
    "\n",
    "$$ \\left[ \\begin{array}{cccccc}\n",
    "x &   &   &   &   & \\\\\n",
    "x & x &   &   &   & \\\\\n",
    "x & x & x &   &   & \\\\\n",
    "  &   &   & x &   & \\\\\n",
    "  &   &   &   & \\ddots & \\\\\n",
    "  &   &   &   &   & x \n",
    "  \\end{array} \\right] $$"
   ]
  },
  {
   "cell_type": "markdown",
   "metadata": {
    "slideshow": {
     "slide_type": "subslide"
    }
   },
   "source": [
    "The following code defines such a map.\n",
    "\n",
    "    <?xml version=\"1.0\"?>\n",
    "    <trimap xmlns=\"TransportMaps\" xmlns:st=\"SpectralToolbox\"\n",
    "        xmlns:xsi=\"http://www.w3.org/2001/XMLSchema-instance\"\n",
    "        xsi:schemaLocation=\"map.xsd\" type=\"intsq\" dim=\"5\">\n",
    "      <component id=\":3\">\n",
    "        <avars>\n",
    "          <vars>*</vars>\n",
    "        </avars>\n",
    "        <approx>\n",
    "          <intsq>\n",
    "            <constant>\n",
    "              <linspan multidimtype=\"tensorized\" spantype=\"total\">\n",
    "                <spanorder>\n",
    "                  <maxord coord=\":d\">2</maxord>\n",
    "                  <maxord coord=\"d\">0</maxord>\n",
    "                </spanorder>\n",
    "                <spanbasis coord=\"*\">\n",
    "                  <st:HermiteProbabilistsPolynomial/>\n",
    "                </spanbasis>\n",
    "              </linspan>\n",
    "            </constant>\n",
    "            <squared>\n",
    "              <linspan multidimtype=\"tensorized\" spantype=\"total\">\n",
    "                <spanorder>\n",
    "                  <maxord coord=\":d\">2</maxord>\n",
    "                  <maxord coord=\"d\">1</maxord>\n",
    "                </spanorder>\n",
    "                <spanbasis coord=\"*\">\n",
    "                  <st:ConstantExtendedHermiteProbabilistsFunction/>\n",
    "                </spanbasis>\n",
    "              </linspan>\n",
    "            </squared>\n",
    "          </intsq>\n",
    "        </approx>\n",
    "      </component>\n",
    "      <component id=\"3:\">\n",
    "        <avars>\n",
    "          <vars>d</vars>\n",
    "        </avars>\n",
    "        <approx>\n",
    "          <intsq>\n",
    "            <constant>\n",
    "              <linspan multidimtype=\"tensorized\" spantype=\"total\">\n",
    "                <spanorder>\n",
    "                  <maxord coord=\"*\">0</maxord>\n",
    "                </spanorder>\n",
    "                <spanbasis coord=\"*\">\n",
    "                  <st:HermiteProbabilistsPolynomial/>\n",
    "                </spanbasis>\n",
    "              </linspan>\n",
    "            </constant>\n",
    "            <squared>\n",
    "              <linspan multidimtype=\"tensorized\" spantype=\"total\">\n",
    "                <spanorder>\n",
    "                  <maxord coord=\"*\">1</maxord>\n",
    "                </spanorder>\n",
    "                <spanbasis coord=\"*\">\n",
    "                  <st:ConstantExtendedHermiteProbabilistsFunction/>\n",
    "                </spanbasis>\n",
    "              </linspan>\n",
    "            </squared>\n",
    "          </intsq>\n",
    "        </approx>\n",
    "      </component>\n",
    "    </trimap>"
   ]
  },
  {
   "cell_type": "markdown",
   "metadata": {
    "slideshow": {
     "slide_type": "subslide"
    }
   },
   "source": [
    "This descriptor can be store in a file (aux/xml/IntSqSecOrdHead.xml) and used to instantiate the corresponding object."
   ]
  },
  {
   "cell_type": "code",
   "execution_count": 5,
   "metadata": {
    "collapsed": false,
    "slideshow": {
     "slide_type": "fragment"
    }
   },
   "outputs": [
    {
     "data": {
      "text/plain": [
       "TransportMaps.Maps.TriangularTransportMaps.IntegratedSquaredTriangularTransportMap"
      ]
     },
     "execution_count": 5,
     "metadata": {},
     "output_type": "execute_result"
    }
   ],
   "source": [
    "T = TMXML.load_xml('aux/xml/IntSqSecOrdHead.xml')\n",
    "type(T)"
   ]
  },
  {
   "cell_type": "markdown",
   "metadata": {
    "slideshow": {
     "slide_type": "skip"
    }
   },
   "source": [
    "The main differences with the preceding example are the following:\n",
    "\n",
    "1. The ``trimap`` now contains two ``component`` blocks; the first one takes care of the description of the head of the map, while the second one takes care of the tail of the map (diagonal part).\n",
    "2. The attributes ``id=\":3\"`` and ``id=\"3:\"`` are used to identify the two parts of the map and define multiple components at a time (syntax equivalent to the python slicing)\n",
    "3. The exclusive dependency on $x_i$ of each component $T_{i>3}$ is enforced by the active variable ``<vars>d</vars>`` appearing in the block ``avars``."
   ]
  },
  {
   "cell_type": "markdown",
   "metadata": {
    "slideshow": {
     "slide_type": "slide"
    }
   },
   "source": [
    "## The BOD model revisited\n",
    "\n",
    "We revisit the BOD problem, but now we employ a more **anisotropic map**, which stems from our belief that a subgroup of variables are interacting in a stronger way than other. We do so prescribing a particular map structure throguh an XML file."
   ]
  },
  {
   "cell_type": "markdown",
   "metadata": {
    "slideshow": {
     "slide_type": "skip"
    }
   },
   "source": [
    "The BOD example was already treated [here](example-BOD-4d.html)."
   ]
  },
  {
   "cell_type": "markdown",
   "metadata": {
    "slideshow": {
     "slide_type": "fragment"
    }
   },
   "source": [
    "Let us first load the target distribution $\\nu_\\pi$."
   ]
  },
  {
   "cell_type": "code",
   "execution_count": 6,
   "metadata": {
    "collapsed": false,
    "slideshow": {
     "slide_type": "fragment"
    }
   },
   "outputs": [],
   "source": [
    "import TransportMaps.Distributions.Examples.BiochemicalOxigenDemand as BOD\n",
    "pi = BOD.BODjoint(2)"
   ]
  },
  {
   "cell_type": "markdown",
   "metadata": {
    "slideshow": {
     "slide_type": "subslide"
    }
   },
   "source": [
    "We then define an integrated squared triangular map, with total order 3, but for the **interacting terms between the last 2 dimensions**, for which we use a total order 4:\n",
    "\n",
    "    <?xml version=\"1.0\"?>\n",
    "    <trimap xmlns=\"TransportMaps\" xmlns:st=\"SpectralToolbox\"\n",
    "    xmlns:xsi=\"http://www.w3.org/2001/XMLSchema-instance\"\n",
    "    xsi:schemaLocation=\"map.xsd\" type=\"intsq\" dim=\"4\">\n",
    "      <component id=\":2\">\n",
    "        <avars>\n",
    "          <vars>*</vars>\n",
    "        </avars>\n",
    "        <approx>\n",
    "          <intsq>\n",
    "            <constant>\n",
    "              <linspan multidimtype=\"tensorized\" spantype=\"total\">\n",
    "                <spanorder>\n",
    "                  <maxord coord=\":d\">3</maxord>\n",
    "                  <maxord coord=\"d\">0</maxord>\n",
    "                </spanorder>\n",
    "                <spanbasis coord=\"*\">\n",
    "                  <st:HermiteProbabilistsPolynomial/>\n",
    "                </spanbasis>\n",
    "              </linspan>\n",
    "            </constant>\n",
    "            <squared>\n",
    "              <linspan multidimtype=\"tensorized\" spantype=\"total\">\n",
    "                <spanorder>\n",
    "                  <maxord coord=\":d\">3</maxord>\n",
    "                  <maxord coord=\"d\">2</maxord>\n",
    "                </spanorder>\n",
    "                <spanbasis coord=\"*\">\n",
    "                  <st:ConstantExtendedHermiteProbabilistsFunction/>\n",
    "                </spanbasis>\n",
    "              </linspan>\n",
    "            </squared>\n",
    "          </intsq>\n",
    "        </approx>\n",
    "      </component>\n",
    "      <component id=\"2:\">\n",
    "        <avars>\n",
    "          <vars>*</vars>\n",
    "        </avars>\n",
    "        <approx>\n",
    "          <intsq>\n",
    "            <constant>\n",
    "              <linspan multidimtype=\"tensorized\" spantype=\"total\">\n",
    "                <spanorder>\n",
    "                  <maxord coord=\":2\">3</maxord>\n",
    "                  <maxord coord=\"2:d\">4</maxord>\n",
    "                  <maxord coord=\"d\">0</maxord>\n",
    "                </spanorder>\n",
    "                <spanbasis coord=\"*\">\n",
    "                  <st:HermiteProbabilistsPolynomial/>\n",
    "                </spanbasis>\n",
    "              </linspan>\n",
    "            </constant>\n",
    "            <squared>\n",
    "              <linspan multidimtype=\"tensorized\" spantype=\"total\">\n",
    "                <spanorder>\n",
    "                  <maxord coord=\":2\">3</maxord>\n",
    "                  <maxord coord=\"2:d\">4</maxord>\n",
    "                  <maxord coord=\"d\">3</maxord>\n",
    "                </spanorder>\n",
    "                <spanbasis coord=\"*\">\n",
    "                  <st:ConstantExtendedHermiteProbabilistsFunction/>\n",
    "                </spanbasis>\n",
    "              </linspan>\n",
    "            </squared>\n",
    "          </intsq>\n",
    "        </approx>\n",
    "      </component>\n",
    "    </trimap>"
   ]
  },
  {
   "cell_type": "markdown",
   "metadata": {
    "slideshow": {
     "slide_type": "subslide"
    }
   },
   "source": [
    "The file ``aux/xml/BODmap.xml`` encodes this information."
   ]
  },
  {
   "cell_type": "code",
   "execution_count": 7,
   "metadata": {
    "collapsed": false,
    "slideshow": {
     "slide_type": "fragment"
    }
   },
   "outputs": [
    {
     "name": "stdout",
     "output_type": "stream",
     "text": [
      "Number of coefficients: 147\n"
     ]
    }
   ],
   "source": [
    "T = TMXML.load_xml('aux/xml/BODmap.xml')\n",
    "print(\"Number of coefficients: %d\" % T.get_n_coeffs())"
   ]
  },
  {
   "cell_type": "markdown",
   "metadata": {
    "slideshow": {
     "slide_type": "subslide"
    }
   },
   "source": [
    "Let us solve the usual variational problem to obtain $T_{\\sharp}\\nu_\\rho \\approx \\nu_\\pi$ ..."
   ]
  },
  {
   "cell_type": "code",
   "execution_count": 8,
   "metadata": {
    "collapsed": false,
    "slideshow": {
     "slide_type": "fragment"
    }
   },
   "outputs": [
    {
     "name": "stdout",
     "output_type": "stream",
     "text": [
      "Optimization terminated successfully.\n",
      "         Current function value: 9.244728\n",
      "         Iterations: 18\n",
      "         Function evaluations: 19\n",
      "         Gradient evaluations: 36\n",
      "         Hessian evaluations: 291\n"
     ]
    }
   ],
   "source": [
    "dim = pi.dim\n",
    "rho = DIST.StandardNormalDistribution( dim )\n",
    "push_rho = DIST.PushForwardTransportMapDistribution(T, rho)\n",
    "# SOLVE\n",
    "qtype = 3              # Gauss quadrature\n",
    "qparams = [7]*dim      # Quadrature order\n",
    "reg = {'type': 'L2',\n",
    "       'alpha': 1e-2}  # L2 regularization\n",
    "tol = 1e-3             # Optimization tolerance\n",
    "ders = 2               # Use gradient and Hessian\n",
    "log = push_rho.minimize_kl_divergence(\n",
    "    pi, qtype=qtype, qparams=qparams, regularization=reg,\n",
    "    tol=tol, ders=ders)"
   ]
  },
  {
   "cell_type": "markdown",
   "metadata": {
    "slideshow": {
     "slide_type": "subslide"
    }
   },
   "source": [
    "... let's check the accuracy of the approximation using the variance diagnostic ..."
   ]
  },
  {
   "cell_type": "code",
   "execution_count": 9,
   "metadata": {
    "collapsed": false,
    "slideshow": {
     "slide_type": "fragment"
    }
   },
   "outputs": [
    {
     "name": "stdout",
     "output_type": "stream",
     "text": [
      "Variance diagnostic: 8.408883e-02\n"
     ]
    }
   ],
   "source": [
    "pull_pi = DIST.PullBackTransportMapDistribution(T, pi)\n",
    "qtype = 0        # Monte-Carlo quadrature\n",
    "qparams = 100000 # Number of samples\n",
    "var_diag = DIAG.variance_approx_kl(rho, pull_pi, qtype=qtype, qparams=qparams)\n",
    "print(\"Variance diagnostic: %e\" % var_diag)"
   ]
  },
  {
   "cell_type": "markdown",
   "metadata": {
    "slideshow": {
     "slide_type": "subslide"
    }
   },
   "source": [
    "... let's check the pullback conditionals ..."
   ]
  },
  {
   "cell_type": "code",
   "execution_count": 10,
   "metadata": {
    "collapsed": false,
    "slideshow": {
     "slide_type": "fragment"
    }
   },
   "outputs": [
    {
     "data": {
      "image/png": "[encoded data removed]",
      "text/plain": [
       "<matplotlib.figure.Figure at 0x7f884f35e4a8>"
      ]
     },
     "metadata": {},
     "output_type": "display_data"
    }
   ],
   "source": [
    "pull_pi = DIST.PullBackTransportMapDistribution(T, pi)\n",
    "fig = DIAG.plotAlignedConditionals(pull_pi, range_vec=[-6,6], numPointsXax=50, show_flag=False)"
   ]
  }
 ],
 "metadata": {
  "celltoolbar": "Slideshow",
  "kernelspec": {
   "display_name": "Python 3",
   "language": "python",
   "name": "python3"
  },
  "language_info": {
   "codemirror_mode": {
    "name": "ipython",
    "version": 3
   },
   "file_extension": ".py",
   "mimetype": "text/x-python",
   "name": "python",
   "nbconvert_exporter": "python",
   "pygments_lexer": "ipython3",
   "version": "3.4.3"
  }
 },
 "nbformat": 4,
 "nbformat_minor": 2
}
