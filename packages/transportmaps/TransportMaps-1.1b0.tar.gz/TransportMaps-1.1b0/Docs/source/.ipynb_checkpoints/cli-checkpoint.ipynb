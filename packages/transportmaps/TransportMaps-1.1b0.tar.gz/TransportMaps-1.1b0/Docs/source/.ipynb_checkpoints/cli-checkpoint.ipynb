{
 "cells": [
  {
   "cell_type": "markdown",
   "metadata": {
    "slideshow": {
     "slide_type": "slide"
    }
   },
   "source": [
    "# High-level Command Line Interface (CLI)\n",
    "\n",
    "We provide here a short tutorial of some useful command line scripts that allow an user-friendly access to the potential of the TransportMap module.\n",
    "\n",
    "One needs first to **store a [Density](api.html#TransportMaps.Densities.Density) object**. Then, the following scripts can be applied to it:\n",
    "\n",
    "* ``tmap-laplace``: build a [Laplace approximation](example-gumbel-1d.html#Laplace-approximation) and the corresponding linear map\n",
    "* ``tmap-tm``: build a [transport map](examples.html) coupling two densities\n",
    "* ``tmap-sequential-tm``: build a transport map pushing forward $\\mathcal{N}(0,{\\bf I})$ to a [sequential Hidden Markov Chain density](api-TransportMaps-Densities-Decomposable.html#TransportMaps.Densities.Decomposable.SequentialHiddenMarkovChainDensity) using the [algorithm for decomposable transports](example-sequential-stocvol-6d.html)\n",
    "* ``tmap-postprocess``: provides a number of [diagnostics](example-BOD-4d.html#Diagnostics) and [postprocessing](example-BOD-4d.html#Unbiased-estimators) routines\n",
    "\n",
    "We will use the [Stochastic Volatility model](example-sequential-stocvol-6d.html) ($d=6$) as an example."
   ]
  },
  {
   "cell_type": "code",
   "execution_count": 7,
   "metadata": {
    "collapsed": false,
    "slideshow": {
     "slide_type": "fragment"
    }
   },
   "outputs": [],
   "source": [
    "import TransportMaps.Densities.Examples.StochasticVolatility as SV\n",
    "yt,zt = SV.generate_data(4, -.5, .25, .95)\n",
    "d = SV.StocVolHyperDensity(True, False, True, sigma=.25)\n",
    "for n in range(4):\n",
    "    d.assimilate(y=yt[n], Xt=zt[n])"
   ]
  },
  {
   "cell_type": "code",
   "execution_count": 4,
   "metadata": {
    "collapsed": false,
    "scrolled": true,
    "slideshow": {
     "slide_type": "slide"
    }
   },
   "outputs": [
    {
     "name": "stdout",
     "output_type": "stream",
     "text": [
      "\r\n",
      "Usage: tmap-laplace [-h] --dens=DENS --output=OUTPUT\r\n",
      "  [--tol=TOL --ders=DERS --log=LOG -I]\r\n",
      "\r\n"
     ]
    }
   ],
   "source": [
    "!tmap-laplace"
   ]
  },
  {
   "cell_type": "code",
   "execution_count": null,
   "metadata": {
    "collapsed": false,
    "scrolled": true,
    "slideshow": {
     "slide_type": "notes"
    }
   },
   "outputs": [],
   "source": []
  }
 ],
 "metadata": {
  "celltoolbar": "Slideshow",
  "kernelspec": {
   "display_name": "Python 3",
   "language": "python",
   "name": "python3"
  },
  "language_info": {
   "codemirror_mode": {
    "name": "ipython",
    "version": 3
   },
   "file_extension": ".py",
   "mimetype": "text/x-python",
   "name": "python",
   "nbconvert_exporter": "python",
   "pygments_lexer": "ipython3",
   "version": "3.5.2"
  }
 },
 "nbformat": 4,
 "nbformat_minor": 2
}
