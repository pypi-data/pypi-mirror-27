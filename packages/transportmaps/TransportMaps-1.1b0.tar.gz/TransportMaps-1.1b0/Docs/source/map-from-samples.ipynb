{
 "cells": [
  {
   "cell_type": "code",
   "execution_count": 66,
   "metadata": {
    "collapsed": false
   },
   "outputs": [],
   "source": [
    "'''\n",
    "This file shows how to find a transport map from data. That is, we start with\n",
    "$N$ samples from an arbitrary distribution $\\pi$ (1D in this example) and\n",
    "construct a map $S$ which maps $\\pi$ to a 1D standard normal $\\pi_{tar}$ (also\n",
    "called $\\eta$). To be consistent with terminology of the direct maps, the\n",
    "``target'' distribution is $\\pi_{tar} = \\eta$ and the ``reference'' distribution is $\\pi$.\n",
    "'''\n",
    "import warnings\n",
    "import time\n",
    "import math\n",
    "import matplotlib.pyplot as plt\n",
    "import numpy as np\n",
    "import scipy.stats as stats\n",
    "import TransportMaps as TM\n",
    "import TransportMaps.Functionals as FUNC\n",
    "import TransportMaps.Maps as MAPS\n",
    "import TransportMaps.Densities as DENS\n",
    "%matplotlib inline"
   ]
  },
  {
   "cell_type": "code",
   "execution_count": 67,
   "metadata": {
    "collapsed": true
   },
   "outputs": [],
   "source": [
    "nax = np.newaxis\n",
    "\n",
    "# PLOTTING\n",
    "fsize = (6,5)\n",
    "discr = 51\n",
    "\n",
    "# Initial set up\n",
    "setup = {}\n",
    "test = {}\n",
    "setup['dim'] = 1\n",
    "setup['refplotspan'] = np.array([[-7.,7.]])\n",
    "setup['plotspan'] = np.array([[-6.,6.]])"
   ]
  },
  {
   "cell_type": "code",
   "execution_count": 68,
   "metadata": {
    "collapsed": true
   },
   "outputs": [],
   "source": [
    "# Define a class for the reference density based on samples\n",
    "class SamplesDensity(DENS.Density):\n",
    "    r\"\"\" Arbitrary density built from samples\n",
    "    \"\"\"\n",
    "    def __init__(self, samples):\n",
    "        super(SamplesDensity,self).__init__(samples.shape[1])\n",
    "        self.samples = samples\n",
    "\n",
    "    def rvs(self, m):\n",
    "        if m > self.samples.shape[0]:\n",
    "            raise ValueError(\"Number of rvs must be less than or equal to length of samples provided\")\n",
    "\n",
    "        msamples = self.samples[0:m,:]\n",
    "        return msamples\n",
    "\n",
    "    def quadrature(self, qtype, qparams):\n",
    "        if qtype == 0:\n",
    "            x = self.rvs(qparams)\n",
    "            w = np.ones(qparams)/qparams\n",
    "        else:\n",
    "            raise NotImplementedError(\"Not implemented because sample density only has quadrature via samples\")\n",
    "        return (x,w)\n",
    "\n",
    "    # Define if no analytical form of pdf\n",
    "    def pdf(self, x, params=None):\n",
    "        if self.samples.shape[1] == 1:\n",
    "            samps = self.samples.flatten()\n",
    "        else:\n",
    "            samps = self.samples\n",
    "\n",
    "        # kde takes data in form (#dim, #data)\n",
    "        density = stats.gaussian_kde(samps.T)\n",
    "        pdf_kde = density.evaluate(x.T)\n",
    "        return pdf_kde\n",
    "\n",
    "    def log_pdf(self, x, params=None):\n",
    "        if self.samples.shape[1] == 1:\n",
    "            samps = self.samples.flatten()\n",
    "        else:\n",
    "            samps = self.samples\n",
    "        # kde takes data in form (#dim, #data)\n",
    "        density = stats.gaussian_kde(samps.T)\n",
    "        pdf_kde = density.evaluate(x.T)\n",
    "        return np.log(pdf_kde)"
   ]
  },
  {
   "cell_type": "code",
   "execution_count": 69,
   "metadata": {
    "collapsed": true
   },
   "outputs": [],
   "source": [
    "# In this example, the samples will be generated according to a mixed gaussian distribution\n",
    "class MixedNormal(DENS.Density):\n",
    "  def __init__(self, mu1, sigma1, mu2, sigma2):\n",
    "    self.mu1 = mu1\n",
    "    self.sigma1 = sigma1\n",
    "    self.mu2 = mu2\n",
    "    self.sigma2 = sigma2\n",
    "\n",
    "  def pdf(self,x,params=None):\n",
    "    out = .5*stats.norm.pdf(x, loc = self.mu1, scale = self.sigma1) + .5*stats.norm.pdf(x,\n",
    "        loc = self.mu2, scale = self.sigma2)\n",
    "    return out.flatten()\n",
    "\n",
    "  def log_pdf(self,x,params=None):\n",
    "    pdf = .5*stats.norm.pdf(x, loc = self.mu1, scale = self.sigma1) + .5*stats.norm.pdf(x,\n",
    "        loc = self.mu2, scale = self.sigma2)\n",
    "    out = np.log(pdf)\n",
    "    return out.flatten()\n",
    "\n",
    "  def rvs(self,n):\n",
    "    data1 = stats.norm.rvs(self.mu1, self.sigma1, size=int(n/2))\n",
    "    data2 = stats.norm.rvs(self.mu2, self.sigma2, size=int(n/2))\n",
    "    out = np.concatenate([data1,data2])\n",
    "    return out\n",
    "\n",
    "  def quadrature(self,qtype,qparams):\n",
    "    if qtype == 0:\n",
    "      x = qparams\n",
    "      l = qparams.shape[0]\n",
    "      w = np.ones(l)/l\n",
    "    else:\n",
    "      raise NotImplementedError(\"Not implemented\")\n",
    "    return (x,w)"
   ]
  },
  {
   "cell_type": "code",
   "execution_count": 70,
   "metadata": {
    "collapsed": true
   },
   "outputs": [],
   "source": [
    "# Use 1000 samples to generate map\n",
    "N_samp = 1000\n",
    "m1 = 0; s1 = 1;\n",
    "m2 = 3; s2 = 1;\n",
    "\n",
    "# Reference density is mixed normal as defined by class above\n",
    "ref_den = MixedNormal(mu1=m1, mu2 = m2, sigma1 = s1,\n",
    "        sigma2 = s2)\n",
    "\n",
    "# Generate data (the samples)\n",
    "data = ref_den.rvs(N_samp)\n",
    "if data.ndim == 1:\n",
    "    data = data[:,nax]\n",
    "\n",
    "# Will map from reference (or base) samples to standard normal\n",
    "test['base_density'] = SamplesDensity(data)\n",
    "test['target_density'] = DENS.StandardNormalDensity(setup['dim'])"
   ]
  },
  {
   "cell_type": "code",
   "execution_count": 71,
   "metadata": {
    "collapsed": true
   },
   "outputs": [],
   "source": [
    "# APPROXIMATION\n",
    "MONOTONE = 'intexp' #use integrated exponential\n",
    "\n",
    "# REGULARIZATION\n",
    "# None: No regularization\n",
    "# L2: L2 regularization\n",
    "REG = None\n",
    "\n",
    "# L2 error estimation\n",
    "# 3: Gauss quadrature of order n\n",
    "# 0: Monte Carlo quadrature with n point\n",
    "qtype = 0\n",
    "qparams = math.floor(data.shape[0]) #use all samples in quadrature\n",
    "\n",
    "# Gradient information\n",
    "# 0: derivative free\n",
    "# 1: gradient information\n",
    "# 2: Hessian information\n",
    "ders = 2\n",
    "\n",
    "# Approximation order\n",
    "order = 5\n",
    "# Tolerance\n",
    "tol = 1e-6"
   ]
  },
  {
   "cell_type": "code",
   "execution_count": 72,
   "metadata": {
    "collapsed": true
   },
   "outputs": [],
   "source": [
    "# Generate samples of reference and target\n",
    "ref_samp = data\n",
    "tar_samp = test['target_density'].rvs(N_samp)"
   ]
  },
  {
   "cell_type": "code",
   "execution_count": 73,
   "metadata": {
    "collapsed": false
   },
   "outputs": [],
   "source": [
    "# PLOTTING PRE-COMPUTATION\n",
    "# Start plotting of the 1d map\n",
    "pspan = setup['plotspan']\n",
    "rspan = setup['refplotspan']\n",
    "\n",
    "# Plot the 1d map\n",
    "X1d = np.vstack( (np.linspace(rspan[0,0],rspan[0,1],discr),\n",
    "                  np.zeros((setup['dim']-1,discr))) ).T\n",
    "\n",
    "# Compute map S = F_eta^-1 (F_z) where z ~ \\pi and \\eta is standard normal\n",
    "# Compute empirical cdf if no analytical cdf\n",
    "num_bins = 100;\n",
    "counts, bin_edges = np.histogram(data,bins=num_bins,normed=True)\n",
    "dx = bin_edges[1] - bin_edges[0]\n",
    "ecdf = np.cumsum(counts*dx)\n",
    "ecdf_eval = np.interp(X1d[:,0],bin_edges[1:],ecdf)\n",
    "t1 = stats.norm.ppf(ecdf_eval)"
   ]
  },
  {
   "cell_type": "code",
   "execution_count": 74,
   "metadata": {
    "collapsed": false,
    "scrolled": true
   },
   "outputs": [
    {
     "name": "stdout",
     "output_type": "stream",
     "text": [
      "Optimization terminated successfully.\n",
      "         Current function value: 1.927116\n",
      "         Iterations: 11\n",
      "         Function evaluations: 12\n",
      "         Gradient evaluations: 22\n",
      "         Hessian evaluations: 11\n"
     ]
    },
    {
     "data": {
      "text/plain": [
       "[12, 22, 11]"
      ]
     },
     "execution_count": 74,
     "metadata": {},
     "output_type": "execute_result"
    }
   ],
   "source": [
    "# Build the transport map (isotropic for each entry)\n",
    "tm_approx = TM.Default_IsotropicIntegratedExponentialTriangularTransportMap(\n",
    "       setup['dim'], order, active_vars=None)\n",
    "# Construct density\n",
    "# Density S_\\sharp \\pi\n",
    "tm_density = DENS.PushForwardTransportMapDensity(tm_approx, test['base_density'])\n",
    "# Target density to be approximated\n",
    "target_density = test['target_density']\n",
    "\n",
    "# SOLVE\n",
    "tm_density.minimize_kl_divergence(target_density,\n",
    "                                  qtype=qtype,\n",
    "                                  qparams=qparams,\n",
    "                                  regularization=REG,\n",
    "                                  tol=tol, ders=ders)"
   ]
  },
  {
   "cell_type": "code",
   "execution_count": 75,
   "metadata": {
    "collapsed": false
   },
   "outputs": [
    {
     "data": {
      "text/plain": [
       "<matplotlib.legend.Legend at 0x7fbf08b55ef0>"
      ]
     },
     "execution_count": 75,
     "metadata": {},
     "output_type": "execute_result"
    },
    {
     "data": {
      "image/png": "[encoded data removed]",
      "text/plain": [
       "<matplotlib.figure.Figure at 0x7fbf08c0f908>"
      ]
     },
     "metadata": {},
     "output_type": "display_data"
    }
   ],
   "source": [
    "# Plot the empirical map and the optimized map\n",
    "fig_map_1d = plt.figure()\n",
    "ax_map_1d = fig_map_1d.add_subplot(1,1,1)\n",
    "ax_map_1d.plot(X1d[:,0], t1, label='empirical map')\n",
    "\n",
    "# Map to S_\\sharp \\pi\n",
    "t1_approx = tm_density.map_samples_base_to_target(X1d)\n",
    "# Plot 1d transport map\n",
    "ax_map_1d.plot(X1d[:,0], t1_approx, label='ord %d' % order)\n",
    "fig_map_1d.gca().legend(loc=2)"
   ]
  },
  {
   "cell_type": "code",
   "execution_count": 76,
   "metadata": {
    "collapsed": false
   },
   "outputs": [
    {
     "data": {
      "text/plain": [
       "<matplotlib.legend.Legend at 0x7fbf08ab3c18>"
      ]
     },
     "execution_count": 76,
     "metadata": {},
     "output_type": "execute_result"
    },
    {
     "data": {
      "image/png": "[encoded data removed]",
      "text/plain": [
       "<matplotlib.figure.Figure at 0x7fbf08b46a90>"
      ]
     },
     "metadata": {},
     "output_type": "display_data"
    }
   ],
   "source": [
    "# Plot the target distribution (standard normal)\n",
    "fig_kde_1d = plt.figure()\n",
    "ax_kde_1d = fig_kde_1d.add_subplot(1,1,1)\n",
    "\n",
    "X1d_kde = np.linspace(pspan[0,0],pspan[0,1],discr).reshape((discr,1))\n",
    "\n",
    "# Plot analytic\n",
    "pdf1d = test['target_density'].pdf(X1d_kde)\n",
    "ax_kde_1d.plot(X1d_kde, pdf1d, label='$\\pi_{tar}$')\n",
    "\n",
    "# Plot computed\n",
    "pdf1d_approx = tm_density.pdf(X1d_kde)\n",
    "ax_kde_1d.plot(X1d_kde, pdf1d_approx, label='ord %d' % order)\n",
    "\n",
    "fig_kde_1d.gca().legend()"
   ]
  },
  {
   "cell_type": "code",
   "execution_count": 77,
   "metadata": {
    "collapsed": false
   },
   "outputs": [
    {
     "data": {
      "text/plain": [
       "<matplotlib.text.Text at 0x7fbf08a7cc88>"
      ]
     },
     "execution_count": 77,
     "metadata": {},
     "output_type": "execute_result"
    },
    {
     "data": {
      "image/png": "[encoded data removed]",
      "text/plain": [
       "<matplotlib.figure.Figure at 0x7fbf08af9588>"
      ]
     },
     "metadata": {},
     "output_type": "display_data"
    }
   ],
   "source": [
    "# Push forward reference samples\n",
    "# Map x from \\pi to y from S_\\sharp \\pi\n",
    "fapp_samp = tm_density.map_samples_base_to_target( ref_samp )\n",
    "\n",
    "# Pullback standard normal samples to original samples\n",
    "norm_samp = stats.norm.rvs(size=N_samp)\n",
    "norm_samp = norm_samp[:,nax]\n",
    "new_samp = tm_density.map_samples_target_to_base( norm_samp )\n",
    "\n",
    "# Plot pullback of inverse map\n",
    "plt.figure()\n",
    "p1 = plt.hist(data[:,0],bins=20,normed=1,alpha=.5)\n",
    "p2 = plt.hist(new_samp[:,0],bins=20,normed=1,alpha=.5,color='r')\n",
    "plt.legend([\"Original samples\",\"New samples\"])\n",
    "plt.title(\"Order %s\" %(order))"
   ]
  },
  {
   "cell_type": "code",
   "execution_count": 46,
   "metadata": {
    "collapsed": true
   },
   "outputs": [],
   "source": []
  },
  {
   "cell_type": "code",
   "execution_count": null,
   "metadata": {
    "collapsed": true
   },
   "outputs": [],
   "source": []
  }
 ],
 "metadata": {},
 "nbformat": 4,
 "nbformat_minor": 0
}
