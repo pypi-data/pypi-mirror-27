{
 "cells": [
  {
   "cell_type": "markdown",
   "metadata": {},
   "source": [
    "# Stochastic volatility"
   ]
  },
  {
   "cell_type": "markdown",
   "metadata": {
    "collapsed": true
   },
   "source": [
    "We apply the sequential inference algorithm outlined [[here]](../../example-sequential-stocvol-6d.html) to the exchange rate of different assets. \n",
    "\n",
    "We model the log-volatility ${\\bf Z}_{\\Lambda}$ of the return of a financial asset at times $\\Lambda=\\{0,1,\\ldots,n\\}$ with the autoregressive process\n",
    "\n",
    "$$ {\\bf Z}_{k+1} = \\mu + \\phi ({\\bf Z}_k - \\mu) + \\varepsilon_k \\;, \\qquad \\varepsilon_k \\sim \\mathcal{N}(0,\\sigma^2) \\;, \\quad \\varepsilon_k {\\perp\\!\\!\\!\\perp} {\\bf Z}_k $$\n",
    "$$ \\qquad \\left.{\\bf Z}_0 \\right\\vert \\mu,\\sigma,\\phi \\sim \\mathcal{N}\\left(\\mu, \\frac{\\sigma^2}{1-\\phi^2}\\right) \\;, \\qquad \\mu \\sim \\mathcal{N}(0,1) \\;\\, $$\n",
    "$$ \\qquad \\phi = 2 \\frac{\\exp(\\phi^\\star)}{1+\\exp(\\phi^\\star)} - 1 \\;, \\qquad \\phi^\\star \\sim \\mathcal{N}(3,1) \\;, $$\n",
    "$$ \\sigma^2 \\sim \\text{InvGamma}(\\alpha=1, \\beta=0.1) \\;.$$\n",
    "\n",
    "For $k \\in \\Xi \\subset \\Lambda$, estimate parameters $\\Theta = (\\mu,\\phi)$ and states $\\left\\{ {\\bf Z}_k \\right\\}$, given observations\n",
    "\n",
    "$$ {\\bf Y}_k = \\xi_k \\exp\\left(\\frac{1}{2}{\\bf Z}_k\\right) \\;, \\qquad \\xi_k \\sim \\mathcal{N}(0,1) \\;, \\quad \\xi_k {\\perp\\!\\!\\!\\perp} {\\bf Z}_k \\;.$$"
   ]
  },
  {
   "cell_type": "markdown",
   "metadata": {},
   "source": [
    "## Exchange rate GBP - USD"
   ]
  },
  {
   "cell_type": "markdown",
   "metadata": {},
   "source": [
    "We consider here the exchange rates between British Pound (GBP) and US Dollar (USD). These data and results are part of the paper [[TM4]](../../aa-references.html#spantini2017)."
   ]
  },
  {
   "cell_type": "markdown",
   "metadata": {},
   "source": [
    "### State and parameters estimation 10/01/81 - 06/27/85\n",
    "\n",
    "First we consider the problem of estimating the parameters $\\mu, \\phi$ and states ${\\bf Z}_{1:945}$ of the stochastic volatility model using the 945 observations of the daily returns associated to the GBP-USD exchange rates from 10/01/81 till 06/27/85.\n",
    "The same problem has been analyzed also in [[OR13]](../../aa-references.html#Durbin2000) and [[OR14]](../../aa-references.html#Rue2009).\n",
    "We provide a number of files which can be used to reproduce the results in [[TM4]](../../aa-references.html#spantini2017).\n",
    "\n",
    "* [DurbinData.csv](https://transportmaps.mit.edu/data/stochastic-volatility/DurbinData/Exchanges/Durbin.csv) [md5: a8a223904ded9d3f19d4a3c5946541ed]: daily returns"
   ]
  },
  {
   "cell_type": "code",
   "execution_count": null,
   "metadata": {
    "collapsed": true
   },
   "outputs": [],
   "source": []
  }
 ],
 "metadata": {
  "kernelspec": {
   "display_name": "Python 3",
   "language": "python",
   "name": "python3"
  },
  "language_info": {
   "codemirror_mode": {
    "name": "ipython",
    "version": 3
   },
   "file_extension": ".py",
   "mimetype": "text/x-python",
   "name": "python",
   "nbconvert_exporter": "python",
   "pygments_lexer": "ipython3",
   "version": "3.5.2"
  }
 },
 "nbformat": 4,
 "nbformat_minor": 2
}
