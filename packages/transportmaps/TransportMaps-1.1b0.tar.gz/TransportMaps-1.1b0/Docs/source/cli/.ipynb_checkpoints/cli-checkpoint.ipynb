{
 "cells": [
  {
   "cell_type": "code",
   "execution_count": 1,
   "metadata": {
    "collapsed": false,
    "slideshow": {
     "slide_type": "skip"
    }
   },
   "outputs": [
    {
     "name": "stdout",
     "output_type": "stream",
     "text": [
      "rm: cannot remove '*.dill.hdf5': No such file or directory\r\n",
      "rm: cannot remove '*.svg': No such file or directory\r\n"
     ]
    }
   ],
   "source": [
    "! rm *.dill *.dill.hdf5 *.svg"
   ]
  },
  {
   "cell_type": "markdown",
   "metadata": {
    "slideshow": {
     "slide_type": "slide"
    }
   },
   "source": [
    "# High-level Command Line Interface (CLI)\n",
    "\n",
    "We provide here a short tutorial of some useful command line scripts (bash/sh terminal) that allow an user-friendly access to the potential of the TransportMap module.\n",
    "\n",
    "One needs first to **store** a [Distribution](../api-TransportMaps-Distributions.html#TransportMaps.Distributions.Distribution) object. Then, the following scripts can be applied to it:\n",
    "\n",
    "* ``tmap-laplace``: build a [Laplace approximation](../example-gumbel-1d.html#Laplace-approximation) and the corresponding linear map\n",
    "* ``tmap-tm``: build a [transport map](../examples.html) coupling two densities\n",
    "* ``tmap-sequential-tm``: build a transport map pushing forward $\\mathcal{N}(0,{\\bf I})$ to a [sequential Hidden Markov Chain distribution](../api-TransportMaps-Distributions-Decomposable.html#TransportMaps.Distributions.Decomposable.SequentialHiddenMarkovChainDistribution) using the [algorithm for decomposable transports](../example-sequential-stocvol-6d.html)\n",
    "* ``tmap-postprocess``: provides a number of [diagnostics](../example-BOD-4d.html#Diagnostics) and [postprocessing](../example-BOD-4d.html#Unbiased-estimators) routines\n",
    "* ``tmap-sequential-postprocess``: provides a number of postprocessing routines tailored to the approximations of [sequential Hidden Markov Chain distributions](../api-TransportMaps-Distributions-Decomposable.html#TransportMaps.Distributions.Decomposable.SequentialHiddenMarkovChainDistribution)\n",
    "\n",
    "We will use the [Stochastic Volatility model](../example-sequential-stocvol-6d.html) ($d=6$) as an example and store the distribution $\\nu_\\pi$ in the file ``Distribution.dill``."
   ]
  },
  {
   "cell_type": "code",
   "execution_count": 2,
   "metadata": {
    "collapsed": false,
    "slideshow": {
     "slide_type": "fragment"
    }
   },
   "outputs": [],
   "source": [
    "import TransportMaps.Distributions.Examples.StochasticVolatility as SV\n",
    "yt,zt = SV.generate_data(4, -.5, .25, .95)\n",
    "yt[2] = None   # Missing data\n",
    "d = SV.StocVolHyperDistribution(True, False, True, sigma=.25)\n",
    "for n in range(4):\n",
    "    d.assimilate(y=yt[n], Xt=zt[n])\n",
    "d.store('Distribution.dill', force=True)"
   ]
  },
  {
   "cell_type": "markdown",
   "metadata": {
    "slideshow": {
     "slide_type": "skip"
    }
   },
   "source": [
    "**Note**: In the following we will use the esclamation point ``!`` to indicate the execution of command line scripts"
   ]
  },
  {
   "cell_type": "code",
   "execution_count": 3,
   "metadata": {
    "collapsed": false,
    "slideshow": {
     "slide_type": "skip"
    }
   },
   "outputs": [
    {
     "name": "stdout",
     "output_type": "stream",
     "text": [
      "cli.ipynb  Distribution.dill  xml\r\n"
     ]
    }
   ],
   "source": [
    "! ls "
   ]
  },
  {
   "cell_type": "markdown",
   "metadata": {
    "collapsed": false,
    "scrolled": true,
    "slideshow": {
     "slide_type": "slide"
    }
   },
   "source": [
    "## tmap-laplace\n",
    "\n",
    "This scripts builds a [Laplace approximation](../example-gumbel-1d.html#Laplace-approximation) and the corresponding linear map, and stores it on an output file. Let's check its syntax..."
   ]
  },
  {
   "cell_type": "code",
   "execution_count": 4,
   "metadata": {
    "collapsed": false,
    "slideshow": {
     "slide_type": "fragment"
    }
   },
   "outputs": [
    {
     "name": "stdout",
     "output_type": "stream",
     "text": [
      "\r\n",
      "Usage: tmap-laplace [-h -f -I] --dist=DIST --output=OUTPUT\r\n",
      "  [--tol=TOL --ders=DERS --log=LOG]\r\n",
      "\r\n",
      "2017-06-18 16:47:42 ERROR: Options --dist and --output must be specified\r\n"
     ]
    }
   ],
   "source": [
    "! tmap-laplace"
   ]
  },
  {
   "cell_type": "markdown",
   "metadata": {
    "collapsed": false,
    "scrolled": true,
    "slideshow": {
     "slide_type": "skip"
    }
   },
   "source": [
    "We can check its extended documentation using the flag ``-h`` ..."
   ]
  },
  {
   "cell_type": "code",
   "execution_count": 5,
   "metadata": {
    "collapsed": false,
    "slideshow": {
     "slide_type": "skip"
    }
   },
   "outputs": [
    {
     "name": "stdout",
     "output_type": "stream",
     "text": [
      "\r\n",
      "Usage: tmap-laplace [-h -f -I] --dist=DIST --output=OUTPUT\r\n",
      "  [--tol=TOL --ders=DERS --log=LOG]\r\n",
      "\r\n",
      "DESCRIPTION\r\n",
      "Given a file (--dist) storing the target distribution, generate the linear map\r\n",
      "corresponding to the Laplace approximation of it.\r\n",
      "All files involved are stored and loaded using the python package dill.\r\n",
      "\r\n",
      "OPTIONS\r\n",
      "  --dist=DIST             file containing the target distribution \r\n",
      "  --output=OUTPUT         output file containing the linear transport map,\r\n",
      "                          the base distribution (standard normal), the target distribution\r\n",
      "                          and all the additional parameters used for the\r\n",
      "                          construction\r\n",
      "  --tol=TOL               optimization tolerance (default: 1e-4)\r\n",
      "  --ders=DERS             derivatives to be used in the optimization\r\n",
      "                          Available options:\r\n",
      "                            0: BFGS (gradient free)\r\n",
      "                            1: BFGS (gradient needed)\r\n",
      "                            2: Newton-CG (Hessian needed)\r\n",
      "  --log=LOG               log level (default=30). Uses package logging.\r\n",
      "                          Available options:\r\n",
      "                            10: debug\r\n",
      "                            20: info\r\n",
      "                            30: warning\r\n",
      "                            40: error\r\n",
      "                            50: critical\r\n",
      "  -f                     force overwrite of OUTPUT file\r\n",
      "  -I                      enter interactive mode after finishing\r\n",
      "  -h                      print this help\r\n",
      "\r\n"
     ]
    }
   ],
   "source": [
    "! tmap-laplace -h"
   ]
  },
  {
   "cell_type": "markdown",
   "metadata": {
    "slideshow": {
     "slide_type": "slide"
    }
   },
   "source": [
    "Let us run ``tmap-laplace`` on the stored density..."
   ]
  },
  {
   "cell_type": "code",
   "execution_count": 6,
   "metadata": {
    "collapsed": false,
    "slideshow": {
     "slide_type": "fragment"
    }
   },
   "outputs": [
    {
     "name": "stdout",
     "output_type": "stream",
     "text": [
      "2017-06-18 16:47:47 INFO:TM.TransportMaps: Optimization terminated successfully\r\n",
      "2017-06-18 16:47:47 INFO:TM.TransportMaps:   Function value:          -2.147868\r\n",
      "2017-06-18 16:47:47 INFO:TM.TransportMaps:   Norm of the Jacobian:    0.000166\r\n",
      "2017-06-18 16:47:47 INFO:TM.TransportMaps:   Number of iterations:         6\r\n",
      "2017-06-18 16:47:47 INFO:TM.TransportMaps:   N. function evaluations:      7\r\n",
      "2017-06-18 16:47:47 INFO:TM.TransportMaps:   N. Jacobian evaluations:     12\r\n",
      "2017-06-18 16:47:47 INFO:TM.TransportMaps:   N. Hessian evaluations:       6\r\n"
     ]
    }
   ],
   "source": [
    "! tmap-laplace --dist=Distribution.dill --output=Laplace.dill --log=20"
   ]
  },
  {
   "cell_type": "code",
   "execution_count": 7,
   "metadata": {
    "collapsed": false,
    "slideshow": {
     "slide_type": "fragment"
    }
   },
   "outputs": [
    {
     "name": "stdout",
     "output_type": "stream",
     "text": [
      "cli.ipynb  Distribution.dill  Laplace.dill  xml\r\n"
     ]
    }
   ],
   "source": [
    "! ls"
   ]
  },
  {
   "cell_type": "markdown",
   "metadata": {
    "slideshow": {
     "slide_type": "slide"
    }
   },
   "source": [
    "## tmap-tm\n",
    "\n",
    "This script builds the map $T$ such that $T_\\sharp \\nu_\\rho \\approx \\nu_\\pi$, where $\\nu_\\rho$ and $\\nu_\\pi$ are two [Distributions](../api-TransportMaps-Distributions.html#TransportMaps.Distributions.Distribution) which provide the implementation of the necessary methods (densities and their derivatives) for solving\n",
    "\n",
    "$$\n",
    "T^\\star = \\arg\\min_{T \\in \\mathcal{T}} \\mathcal{D}_{\\rm KL}\\left( T_\\sharp \\nu_\\rho \\middle\\vert \\nu_\\pi \\right)\n",
    "$$\n",
    "\n",
    "Let's check its syntax..."
   ]
  },
  {
   "cell_type": "code",
   "execution_count": 8,
   "metadata": {
    "collapsed": false
   },
   "outputs": [
    {
     "name": "stdout",
     "output_type": "stream",
     "text": [
      "\r\n",
      "Usage: tmap-tm [-h -f -I] \r\n",
      "  --dist=DIST --output=OUTPUT [--base-dist=BASE_DIST]\r\n",
      "  (--mtype=MTYPE --span=SPAN --btype=BTYPE --order=ORDER)\r\n",
      "    / (--map-descr=MAP_DESCR)\r\n",
      "  --qtype=QTYPE --qnum=QNUM\r\n",
      "  [--tol=TOL --with-reg=REG --ders=DERS]\r\n",
      "  [--laplace-pull]\r\n",
      "  [--log=LOG --nprocs=NPROCS --batch=BATCH]\r\n",
      "\r\n",
      "2017-06-18 16:47:50 ERROR: Options --dist and --output must be specified\r\n"
     ]
    }
   ],
   "source": [
    "! tmap-tm"
   ]
  },
  {
   "cell_type": "markdown",
   "metadata": {},
   "source": [
    "We can check its extended documentation using the ``-h`` flag ..."
   ]
  },
  {
   "cell_type": "code",
   "execution_count": 9,
   "metadata": {
    "collapsed": false
   },
   "outputs": [
    {
     "name": "stdout",
     "output_type": "stream",
     "text": [
      "\r\n",
      "Usage: tmap-tm [-h -f -I] \r\n",
      "  --dist=DIST --output=OUTPUT [--base-dist=BASE_DIST]\r\n",
      "  (--mtype=MTYPE --span=SPAN --btype=BTYPE --order=ORDER)\r\n",
      "    / (--map-descr=MAP_DESCR)\r\n",
      "  --qtype=QTYPE --qnum=QNUM\r\n",
      "  [--tol=TOL --with-reg=REG --ders=DERS]\r\n",
      "  [--laplace-pull]\r\n",
      "  [--log=LOG --nprocs=NPROCS --batch=BATCH]\r\n",
      "\r\n",
      "DESCRIPTION\r\n",
      "Given a file (--dist) storing the target distribution, produce the transport map that\r\n",
      "pushes forward the base distribution (default: standard normal) to the target distribution.\r\n",
      "All files involved are stored and loaded using the python package dill.\r\n",
      "\r\n",
      "OPTIONS - input/output:\r\n",
      "  --dist=DIST             path to the file containing the target distribution \r\n",
      "  --output=OUTPUT         path to the output file containing the transport map,  \r\n",
      "                          the base distribution, the target distribution and all \r\n",
      "                          the additional parameters used for the construction \r\n",
      "  --base-dist=BASE_DIST   path to the file containing the base distribution\r\n",
      "                          (default: a standard normal of suitable dimension)\r\n",
      "OPTIONS - map description (using default maps):\r\n",
      "  --mtype=MTYPE           monotone format for the transport\r\n",
      "                          Available options:\r\n",
      "                            intexp: integrated exponential\r\n",
      "                            intsq: integrated square\r\n",
      "                            linspan: monotone linear span\r\n",
      "  --span=SPAN             span type for all the components of the map\r\n",
      "                          Available options:\r\n",
      "                            full: full span\r\n",
      "                            total: total order span\r\n",
      "  --btype=BTYPE           basis types for all the components of the map\r\n",
      "                          Available options:\r\n",
      "                            poly: polynomial basis\r\n",
      "                            rbf: radial basis functions (requires SPAN=full)\r\n",
      "  --order=ORDER           order of the transport map\r\n",
      "OPTIONS - map description (manual):\r\n",
      "  --map-descr=MAP_DESCR   XML file containing the skeleton of the transport map\r\n",
      "OPTIONS - solver:\r\n",
      "  --qtype=QTYPE           quadrature type for the discretization of the KL-divergence\r\n",
      "                          Available options:\r\n",
      "                            0: Monte Carlo\r\n",
      "                            3: Gauss quadrature\r\n",
      "  --qnum=QNUM             quadrature level\r\n",
      "  --tol=TOL               optimization tolerance (default: 1e-4)\r\n",
      "  --reg=REG               a float L2 regularization parameter\r\n",
      "                          (default: no regularization)\r\n",
      "  --ders=DERS             derivatives to be used in the optimization\r\n",
      "                          Available options:\r\n",
      "                            0: BFGS (gradient free)\r\n",
      "                            1: BFGS (gradient needed)\r\n",
      "                            2: Newton-CG (Hessian needed)\r\n",
      "  --laplace-pull          whether to precondition pulling back the target through\r\n",
      "                             its Laplace approximation\r\n",
      "  --log=LOG               log level (default=30). Uses package logging.\r\n",
      "                          Available options:\r\n",
      "                            10: debug\r\n",
      "                            20: info\r\n",
      "                            30: warning\r\n",
      "                            40: error\r\n",
      "                            50: critical\r\n",
      "  --nprocs=NPROCS         number of processors to be used (default=1)\r\n",
      "  --batch=BATCH           list of batch sizes for function evaluation, gradient\r\n",
      "                          evaluation and Hessian evaluation\r\n",
      "OPTIONS - other:\r\n",
      "  -f                      force overwrite of OUTPUT file\r\n",
      "  -I                      enter interactive mode after finishing\r\n",
      "  -h                      print this help\r\n",
      "\r\n"
     ]
    }
   ],
   "source": [
    "! tmap-tm -h"
   ]
  },
  {
   "cell_type": "markdown",
   "metadata": {},
   "source": [
    "Let us build an [IsotropicIntegratedSquaredTriangularTransportMap](../api-TransportMaps-Maps.html#TransportMaps.Maps.IntegratedSquaredTriangularTransportMap) of total order 2 such that $T_\\sharp \\nu_\\rho \\approx \\nu_\\pi$, where $\\nu_\\rho = \\mathcal{N}(0,{\\bf I})$."
   ]
  },
  {
   "cell_type": "code",
   "execution_count": 10,
   "metadata": {
    "collapsed": false
   },
   "outputs": [
    {
     "name": "stdout",
     "output_type": "stream",
     "text": [
      "INFO:root:Number coefficients: 83\r\n"
     ]
    }
   ],
   "source": [
    "! tmap-tm --dist=Distribution.dill --output=Direct-IntSq.dill \\\n",
    "    --mtype=intsq --span=total --btype=poly --order=2 \\\n",
    "    --qtype=3 --qnum=3,3,3,3,3,3 --log=20"
   ]
  },
  {
   "cell_type": "code",
   "execution_count": 11,
   "metadata": {
    "collapsed": false
   },
   "outputs": [
    {
     "name": "stdout",
     "output_type": "stream",
     "text": [
      "cli.ipynb  Direct-IntSq.dill  Distribution.dill  Laplace.dill  xml\r\n"
     ]
    }
   ],
   "source": [
    "! ls"
   ]
  },
  {
   "cell_type": "markdown",
   "metadata": {},
   "source": [
    "The same map $T$ (and more complex ones) can be defined using [XML descriptors](../xml-descriptors.html) ..."
   ]
  },
  {
   "cell_type": "code",
   "execution_count": 12,
   "metadata": {
    "collapsed": false
   },
   "outputs": [
    {
     "name": "stdout",
     "output_type": "stream",
     "text": [
      "INFO:root:Number coefficients: 83\r\n"
     ]
    }
   ],
   "source": [
    "! tmap-tm --dist=Distribution.dill --output=Direct-IntSq.dill -f \\\n",
    "    --map-descr=xml/IntSq-d6-o2.xml \\\n",
    "    --qtype=3 --qnum=3,3,3,3,3,3 --log=20"
   ]
  },
  {
   "cell_type": "markdown",
   "metadata": {},
   "source": [
    "## tmap-sequential-tm\n",
    "\n",
    "This script builds a transport map pushing forward $\\mathcal{N}(0,{\\bf I})$ to the [sequential Hidden Markov Chain distribution](../api-TransportMaps-Distributions-Decomposable.html#TransportMaps.Distributions.Decomposable.SequentialHiddenMarkovChainDistribution) $\\pi$ using the [algorithm for decomposable transports](../example-sequential-stocvol-6d.html).\n",
    "\n",
    "Let us check its syntax ..."
   ]
  },
  {
   "cell_type": "code",
   "execution_count": 13,
   "metadata": {
    "collapsed": false
   },
   "outputs": [
    {
     "name": "stdout",
     "output_type": "stream",
     "text": [
      "\r\n",
      "Usage: tmap-sequential-tm [-h -f -I] \r\n",
      "  --dist=DIST --output=OUTPUT \r\n",
      "  (--mtype=MTYPE --span=SPAN --btype=BTYPE --order=ORDER)\r\n",
      "    / (--map-0-descr=MAP_DESCR --map-descr=MAP_DESCR)\r\n",
      "  --qtype=QTYPE --qnum=QNUM\r\n",
      "  [--tol=TOL --with-reg=REG --ders=DERS]\r\n",
      "  [(--hyper-mtype=MTYPE --hyper-span=SPAN --hyper-btype=BTYPE --hyper-order=ORDER)\r\n",
      "    / (--hyper-map-descr=MAP_DESCR)\r\n",
      "   --hyper-qtype=QTYPE --hyper-qnum=QNUM\r\n",
      "   --hyper-tol=TOL --hyper-with-reg=REG]\r\n",
      "  [--safe-mode --reload --log=LOG --nprocs=NPROCS --batch=BATCH]\r\n",
      "\r\n",
      "2017-06-18 16:48:37 ERROR: Options --dist and --output must be specified\r\n"
     ]
    }
   ],
   "source": [
    "! tmap-sequential-tm"
   ]
  },
  {
   "cell_type": "code",
   "execution_count": 14,
   "metadata": {
    "collapsed": false
   },
   "outputs": [
    {
     "name": "stdout",
     "output_type": "stream",
     "text": [
      "\r\n",
      "Usage: tmap-sequential-tm [-h -f -I] \r\n",
      "  --dist=DIST --output=OUTPUT \r\n",
      "  (--mtype=MTYPE --span=SPAN --btype=BTYPE --order=ORDER)\r\n",
      "    / (--map-0-descr=MAP_DESCR --map-descr=MAP_DESCR)\r\n",
      "  --qtype=QTYPE --qnum=QNUM\r\n",
      "  [--tol=TOL --with-reg=REG --ders=DERS]\r\n",
      "  [(--hyper-mtype=MTYPE --hyper-span=SPAN --hyper-btype=BTYPE --hyper-order=ORDER)\r\n",
      "    / (--hyper-map-descr=MAP_DESCR)\r\n",
      "   --hyper-qtype=QTYPE --hyper-qnum=QNUM\r\n",
      "   --hyper-tol=TOL --hyper-with-reg=REG]\r\n",
      "  [--safe-mode --reload --log=LOG --nprocs=NPROCS --batch=BATCH]\r\n",
      "\r\n",
      "DESCRIPTION\r\n",
      "Given a file (--dist) storing the target distribution, produce the transport map that\r\n",
      "pushes forward the base distribution (default: standard normal) to the target distribution,\r\n",
      "using the algorithm for sequential low-dimensional couplings.\r\n",
      "The input distribution must be SequentialHiddenMarkcovChainDistribution with\r\n",
      "hdim hyperparameters and sdim state dimension.\r\n",
      "All files involved are stored and loaded using the python package dill.\r\n",
      "\r\n",
      "OPTIONS - input/output:\r\n",
      "  --dist=DIST             path to the file containing the target distribution \r\n",
      "  --output=OUTPUT         path to the output file containing the transport map,  \r\n",
      "                          the base distribution, the target distribution and all \r\n",
      "                          the additional parameters used for the construction \r\n",
      "OPTIONS - map description (using default maps):\r\n",
      "  --mtype=MTYPE           monotone format for the transport\r\n",
      "                          Available options:\r\n",
      "                            intexp: integrated exponential\r\n",
      "                            intsq: integrated square\r\n",
      "                            linspan: monotone linear span\r\n",
      "  --span=SPAN             span type for all the components of the map\r\n",
      "                          Available options:\r\n",
      "                            full: full span\r\n",
      "                            total: total order span\r\n",
      "  --btype=BTYPE           basis types for all the components of the map\r\n",
      "                          Available options:\r\n",
      "                            poly: polynomial basis\r\n",
      "                            rbf: radial basis functions (requires SPAN=full)\r\n",
      "  --order=ORDER           order of the transport map\r\n",
      "OPTIONS - map description (manual):\r\n",
      "  --map-0-descr=MAP_DESCR XML file with the skeleton of the zero-th transport map (hdim+sdim)\r\n",
      "  --map-descr=MAP_DESCR   XML file with the skeleton of the transport map (hdim+2*sdim)\r\n",
      "OPTIONS - KL-minimization solver:\r\n",
      "  --qtype=QTYPE           quadrature type for the discretization of the KL-divergence\r\n",
      "                          Available options:\r\n",
      "                            0: Monte Carlo\r\n",
      "                            3: Gauss quadrature\r\n",
      "  --qnum=QNUM             quadrature level\r\n",
      "  --tol=TOL               optimization tolerance (default: 1e-4)\r\n",
      "  --reg=REG               a float L2 regularization parameter\r\n",
      "                          (default: no regularization)\r\n",
      "  --ders=DERS             derivatives to be used in the optimization\r\n",
      "                          Available options:\r\n",
      "                            0: BFGS (gradient free)\r\n",
      "                            1: BFGS (gradient needed)\r\n",
      "                            2: Newton-CG (Hessian needed)\r\n",
      "OPTIONS - hyper-parameters map description (using default maps):\r\n",
      "  --hyper-mtype=MTYPE     monotone format for the transport\r\n",
      "                          Available options:\r\n",
      "                            intexp: integrated exponential\r\n",
      "                            intsq: integrated square\r\n",
      "                            linspan: monotone linear span\r\n",
      "  --hyper-span=SPAN       span type for all the components of the map\r\n",
      "                          Available options:\r\n",
      "                            full: full span\r\n",
      "                            total: total order span\r\n",
      "  --hyper-btype=BTYPE     basis types for all the components of the map\r\n",
      "                          Available options:\r\n",
      "                            poly: polynomial basis\r\n",
      "                            rbf: radial basis functions (requires SPAN=full)\r\n",
      "  --hyper-order=ORDER     order of the transport map\r\n",
      "OPTIONS - hyper-parameters map description (manual):\r\n",
      "  --hyper-map-descr=MAP_DESCR   XML file containing the skeleton of the transport map\r\n",
      "OPTIONS - regression solver:\r\n",
      "  --hyper-qtype=QTYPE     quadrature type for the discretization of the KL-divergence\r\n",
      "                          Available options:\r\n",
      "                            0: Monte Carlo\r\n",
      "                            3: Gauss quadrature\r\n",
      "  --hyper-qnum=QNUM       quadrature level\r\n",
      "  --hyper-tol=TOL         optimization tolerance (default: 1e-4)\r\n",
      "  --hyper-reg=REG         a float L2 regularization parameter\r\n",
      "                          (default: no regularization)\r\n",
      "OPTIONS - other:\r\n",
      "  --safe-mode             always store intermediate maps (allows for restarting)\r\n",
      "  --reload                automatically resume from stored data (conflicts with -f)\r\n",
      "  --log=LOG               log level (default=30). Uses package logging.\r\n",
      "                          Available options:\r\n",
      "                            10: debug\r\n",
      "                            20: info\r\n",
      "                            30: warning\r\n",
      "                            40: error\r\n",
      "                            50: critical\r\n",
      "  --nprocs=NPROCS         number of processors to be used (default=1)\r\n",
      "  --batch=BATCH           list of batch sizes for function evaluation, gradient\r\n",
      "                          evaluation and Hessian evaluation\r\n",
      "  -v                      verbose output (not affecting --log)\r\n",
      "  -f                      force overwrite of OUTPUT file\r\n",
      "  -I                      enter interactive mode after finishing\r\n",
      "  -h                      print this help\r\n",
      "\r\n"
     ]
    }
   ],
   "source": [
    "! tmap-sequential-tm -h"
   ]
  },
  {
   "cell_type": "code",
   "execution_count": 15,
   "metadata": {
    "collapsed": false
   },
   "outputs": [
    {
     "name": "stdout",
     "output_type": "stream",
     "text": [
      "2017-06-18 16:48:43 Step     0    [DONE]\n",
      "2017-06-18 16:48:44 Step     1    [DONE]\n",
      "2017-06-18 16:48:48 Step     2    [DONE]\n",
      "2017-06-18 16:48:58 Step     3    [DONE]\n"
     ]
    }
   ],
   "source": [
    "! tmap-sequential-tm --dist=Distribution.dill --output=Sequential-IntSq.dill -v -f \\\n",
    "    --mtype=intsq --span=total --btype=poly --order=3 \\\n",
    "    --qtype=3 --qnum=4,4,4,4 \\\n",
    "    --hyper-mtype=intsq --hyper-span=total --hyper-btype=poly --hyper-order=4 \\\n",
    "    --hyper-qtype=3 --hyper-qnum=5,5"
   ]
  },
  {
   "cell_type": "code",
   "execution_count": 16,
   "metadata": {
    "collapsed": false
   },
   "outputs": [
    {
     "name": "stdout",
     "output_type": "stream",
     "text": [
      "cli.ipynb\t   Distribution.dill  Sequential-IntSq.dill\r\n",
      "Direct-IntSq.dill  Laplace.dill       xml\r\n"
     ]
    }
   ],
   "source": [
    "! ls"
   ]
  },
  {
   "cell_type": "markdown",
   "metadata": {
    "collapsed": true
   },
   "source": [
    "The same maps $R_i$ and $\\mathfrak{H}_i$ (and more complex ones) can be defined using [XML descriptors](../xml-descriptors.html) ..."
   ]
  },
  {
   "cell_type": "code",
   "execution_count": 17,
   "metadata": {
    "collapsed": false
   },
   "outputs": [
    {
     "name": "stdout",
     "output_type": "stream",
     "text": [
      "2017-06-18 16:49:13 Step     0    [DONE]\n",
      "2017-06-18 16:49:13 Step     1    [DONE]\n",
      "2017-06-18 16:49:16 Step     2    [DONE]\n",
      "2017-06-18 16:49:27 Step     3    [DONE]\n"
     ]
    }
   ],
   "source": [
    "! tmap-sequential-tm --dist=Distribution.dill --output=Sequential-IntSq.dill -v -f \\\n",
    "    --map-0-descr=xml/IntSq-d3-o3.xml \\\n",
    "    --map-descr=xml/IntSq-d4-o3.xml \\\n",
    "    --qtype=3 --qnum=4,4,4,4 \\\n",
    "    --hyper-map-descr=xml/IntSq-d2-o4.xml \\\n",
    "    --hyper-qtype=3 --hyper-qnum=5,5"
   ]
  },
  {
   "cell_type": "markdown",
   "metadata": {},
   "source": [
    "## tmap-postprocess\n",
    "\n",
    "This script provides a number of [diagnostics](../example-BOD-4d.html#Diagnostics) and [postprocessing](../example-BOD-4d.html#Unbiased-estimators) routines. We test it on the output ``Sequential-IntSq.dill`` generated by ``tmap-sequential-tm``. However this could be applied directly also to the output ``Laplace.dill`` and ``Direct-IntSq.dill`` generated by ``tmap-laplace`` and ``tmap-tm`` respectively.\n",
    "\n",
    "Let us first check its syntax ..."
   ]
  },
  {
   "cell_type": "code",
   "execution_count": 18,
   "metadata": {
    "collapsed": false
   },
   "outputs": [
    {
     "name": "stdout",
     "output_type": "stream",
     "text": [
      "\r\n",
      "Usage: tmap-postprocess [-h -v -I]\r\n",
      "  --data=DATA --output=OUTPUT\r\n",
      "  [--store-fig-dir=DIR --store-fig-fmats=FMATS\r\n",
      "   --extra-tit=TITLE --no-plotting \r\n",
      "   --aligned-conditionals=DIST\r\n",
      "     --alc-n-points-x-ax=N --alc-n-tri-plots=N\r\n",
      "     --alc-anchor=LIST --alc-range=LIST\r\n",
      "   --random-conditionals=DIST\r\n",
      "     --rndc-n-points-x-ax=N --rndc-n-plots-x-ax=N\r\n",
      "     --rndc-anchor=LIST --rndc-range=LIST\r\n",
      "   --var-diag=DIST\r\n",
      "     --var-diag-qtype=QTYPE --var-diag-qnum=QNUM\r\n",
      "   --aligned-marginals=DIST\r\n",
      "     --alm-n-points=N --alm-n-tri-plots=N\r\n",
      "   --quadrature=DIST\r\n",
      "     --quadrature-qtype=QTYPE\r\n",
      "     --quadrature-qnum=QNUM\r\n",
      "   --importance-samples=NSAMP\r\n",
      "   --metropolis-samples=NSAMP\r\n",
      "     --metropolis-burnin=BURNIN\r\n",
      "     --metropolis-ess-q=QUANTILE\r\n",
      "     --metropolis-ess-plot-lag=LAG\r\n",
      "     --metropolis-ess-xcorr\r\n",
      "   --log=LOG --batch=BATCH --nprocs=NPROCS]\r\n",
      "\r\n",
      "2017-06-18 16:49:41 ERROR: Option --data and --output must be specified\r\n"
     ]
    }
   ],
   "source": [
    "! tmap-postprocess"
   ]
  },
  {
   "cell_type": "code",
   "execution_count": 19,
   "metadata": {
    "collapsed": false,
    "scrolled": false
   },
   "outputs": [
    {
     "name": "stdout",
     "output_type": "stream",
     "text": [
      "\r\n",
      "Usage: tmap-postprocess [-h -v -I]\r\n",
      "  --data=DATA --output=OUTPUT\r\n",
      "  [--store-fig-dir=DIR --store-fig-fmats=FMATS\r\n",
      "   --extra-tit=TITLE --no-plotting \r\n",
      "   --aligned-conditionals=DIST\r\n",
      "     --alc-n-points-x-ax=N --alc-n-tri-plots=N\r\n",
      "     --alc-anchor=LIST --alc-range=LIST\r\n",
      "   --random-conditionals=DIST\r\n",
      "     --rndc-n-points-x-ax=N --rndc-n-plots-x-ax=N\r\n",
      "     --rndc-anchor=LIST --rndc-range=LIST\r\n",
      "   --var-diag=DIST\r\n",
      "     --var-diag-qtype=QTYPE --var-diag-qnum=QNUM\r\n",
      "   --aligned-marginals=DIST\r\n",
      "     --alm-n-points=N --alm-n-tri-plots=N\r\n",
      "   --quadrature=DIST\r\n",
      "     --quadrature-qtype=QTYPE\r\n",
      "     --quadrature-qnum=QNUM\r\n",
      "   --importance-samples=NSAMP\r\n",
      "   --metropolis-samples=NSAMP\r\n",
      "     --metropolis-burnin=BURNIN\r\n",
      "     --metropolis-ess-q=QUANTILE\r\n",
      "     --metropolis-ess-plot-lag=LAG\r\n",
      "     --metropolis-ess-xcorr\r\n",
      "   --log=LOG --batch=BATCH --nprocs=NPROCS]\r\n",
      "\r\n",
      "DESCRIPTION\r\n",
      "Given a file (--data) storing the transport map pushing forward a base distribution\r\n",
      "to a target distribution, provides a number of diagnositic routines.\r\n",
      "All files involved are stored and loaded using the python package dill and\r\n",
      "an extra file OUTPUT.hdf5 is created to store big datasets in the hdf5 format.\r\n",
      "In the following default values are shown in brackets.\r\n",
      "\r\n",
      "OPTIONS - input/output:\r\n",
      "  --data=DATA           path to the file containing the target distribution,\r\n",
      "                          the base distribution and the transport map pushing forward\r\n",
      "                          the base to the target.\r\n",
      "  --output=OUTPUT       path to the file storing all postprocess data.\r\n",
      "                          The additional file OUTPUT.hdf5 will be used to store\r\n",
      "                          the more memory consuming data.\r\n",
      "  --store-fig-dir=DIR   path to the directory where to store the figures.\r\n",
      "  --store-fig-fmats=FMATS  figure formats - see matplotlib for supported formats (svg)\r\n",
      "  --extra-tit=TITLE     additional title for the figures' file names.\r\n",
      "  --no-plotting         do not plot figures, but only store their data.\r\n",
      "                          (requires --output or --store-fig-dir)\r\n",
      "OPTIONS - Diagnostics:\r\n",
      "  --aligned-conditionals=DIST  plot aligned slices of the selected DIST:\r\n",
      "                          approx-base: approximate base density\r\n",
      "                          approx-target: approximate target density\r\n",
      "                          exact-base: exact base density\r\n",
      "                          exact-target: exact target density\r\n",
      "                        Optional arguments:\r\n",
      "    --alc-n-points-x-ax=N  number of discretization points per axis (40)\r\n",
      "    --alc-n-tri-plots=N    number of subplots (0)\r\n",
      "    --alc-anchor=LIST      list of floats \"f1,f2,f3...\" for the anchor point (0)\r\n",
      "    --alc-range=LIST       list of two floats \"f1,f2\" for the range (-5,5)\r\n",
      "  --random-conditionals=DIST   plot randomly chosen slices of the selected DIST:\r\n",
      "                          approx-base: approximate base density\r\n",
      "                          approx-target: approximate target density\r\n",
      "                          exact-base: exact base density\r\n",
      "                          exact-target: exact target density\r\n",
      "                        Optional arguments:\r\n",
      "    --rndc-n-points-x-ax=N   number of discretization points per axis (40)\r\n",
      "    --rndc-n-plots-x-ax=N    number of subplots (0)\r\n",
      "    --rndc-anchor=LIST       list of floats \"f1,f2,f3...\" for the anchor point (0)\r\n",
      "    --rndc-range=LIST        list of two floats \"f1,f2\" for the range (-5,5)\r\n",
      "  --var-diag=DIST       compute variance diagostic using the sampling DIST:\r\n",
      "                          approx-base: approximate base density\r\n",
      "                          approx-target: approximate target density\r\n",
      "                          exact-base: exact base density\r\n",
      "                          exact-target: exact target density\r\n",
      "                        Optional arguments:\r\n",
      "    --var-diag-qtype=QTYPE  quadrature type to be used (0)\r\n",
      "    --var-diag-qnum=QNUM    level of the quadrature (1000)\r\n",
      "OPTIONS - Sampling:\r\n",
      "  --aligned-marginals=DIST  plot aligned marginals of the selected DIST:\r\n",
      "                          approx-base: approximate base density\r\n",
      "                          approx-target: approximate target density\r\n",
      "                          exact-base: exact base density\r\n",
      "                          exact-target: exact target density\r\n",
      "                        Optional arguments:\r\n",
      "    --alm-n-points=N         number of samples to be used for the kernel density estimation\r\n",
      "    --alm-n-tri-plots=N      number of subplots (0)\r\n",
      "  --quadrature=DIST     generate quadrature for the selected DIST:\r\n",
      "                          approx-base: approximate base density\r\n",
      "                          approx-target: approximate target density\r\n",
      "                          exact-base: exact base density\r\n",
      "                          exact-target: exact target density\r\n",
      "                        Optional arguments:\r\n",
      "    --quadrature-qtype=QTYPE  generate quadrature of type QTYPE (0)\r\n",
      "    --quadrature-qnum=QNUM  level of the quadrature (int or list)\r\n",
      "  --importance-samples=NSAMP  number of importance samples and weights for the approximation\r\n",
      "                        of estimators with respect to the target distribution\r\n",
      "  --metropolis-samples=NSAMP  length of the chain with invariant distribution the\r\n",
      "                        target distribution using Metropolis-Hastings with independent\r\n",
      "                        proposals\r\n",
      "    --metropolis-burnin=BURNIN   number of samples to be considered as burn-in\r\n",
      "    --metropolis-ess-q=QUANTILE  quantile used for the estimation of the sample size (0.99).\r\n",
      "                             This is estimated over the worst decaying autocorrelation rate.\r\n",
      "    --metropolis-ess-plot-lag=LAG  maximum lag to be plotted (50)\r\n",
      "    --metropolis-ess-xcorr       whether to compute also cross-correlation decays\r\n",
      "OPTIONS - Computation:\r\n",
      "  --log=LOG               log level (default=30). Uses package logging.\r\n",
      "                          Available options:\r\n",
      "                            10: debug\r\n",
      "                            20: info\r\n",
      "                            30: warning\r\n",
      "                            40: error\r\n",
      "                            50: critical\r\n",
      "  --nprocs=NPROCS         number of processors to be used (default=1)\r\n",
      "  --batch=BATCH           list of batch sizes for function evaluation, gradient\r\n",
      "                          evaluation and Hessian evaluation\r\n",
      "OPTIONS - other:\r\n",
      "  -v                      verbose output (not affecting --log)\r\n",
      "  -I                      enter interactive mode after finishing\r\n",
      "  -h                      print this help\r\n",
      "\r\n"
     ]
    }
   ],
   "source": [
    "! tmap-postprocess -h"
   ]
  },
  {
   "cell_type": "code",
   "execution_count": 20,
   "metadata": {
    "collapsed": false
   },
   "outputs": [
    {
     "name": "stdout",
     "output_type": "stream",
     "text": [
      "2017-06-18 16:49:47 [Start] Aligned conditionals approx-base\n",
      "2017-06-18 16:49:59 [Stop]  Aligned conditionals approx-base\n",
      "2017-06-18 16:49:59 [Start] Random conditionals approx-base\n",
      "2017-06-18 16:50:12 [Stop]  Random conditionals approx-base\n",
      "2017-06-18 16:50:12 [Start] Variance diagnostic exact-base\n",
      "2017-06-18 16:50:15 [Stop]  Variance Diagnostic exact-base: 3.153136e-02\n",
      "2017-06-18 16:50:15 [Start] Aligned marginals approx-target - Sample generation\n",
      "2017-06-18 16:50:16         Aligned marginals approx-target - Plotting\n",
      "2017-06-18 16:51:45 [Stop]  Aligned marginals approx-target\n",
      "2017-06-18 16:51:45 [Start] Quadrature 0\n",
      "2017-06-18 16:51:45 [Stop]  Quadrature\n",
      "2017-06-18 16:51:45 [Start] Importance sampling\n",
      "2017-06-18 16:51:49 [Stop]  Importance sampling\n",
      "2017-06-18 16:51:49 [Start] Metropolis-Hastings with Independent Proposals\n",
      "2017-06-18 16:52:14         Metropolis-Hastings with Independent Proposals - Estimating ESS\n",
      "2017-06-18 16:52:15 [Stop]  Metropolis-Hastings with Independent Proposals - ESS: 2230\n"
     ]
    }
   ],
   "source": [
    "! tmap-postprocess --data=Sequential-IntSq.dill --output=Sequential-IntSq-Postprocess.dill -v \\\n",
    "    --store-fig-dir=./ --log=20 \\\n",
    "    --aligned-conditionals=approx-base \\\n",
    "    --random-conditionals=approx-base --rndc-n-plots-x-ax=4 \\\n",
    "    --var-diag=exact-base --var-diag-qtype=0 --var-diag-qnum=10000 \\\n",
    "    --aligned-marginals=approx-target --alm-n-points=10000 \\\n",
    "    --quadrature=approx-target --quadrature-qtype=0 --quadrature-qnum=10000 \\\n",
    "    --importance-samples=10000 \\\n",
    "    --metropolis-samples=10000 --metropolis-burnin=5000 --metropolis-ess-plot-lag=50"
   ]
  },
  {
   "cell_type": "code",
   "execution_count": 21,
   "metadata": {
    "collapsed": false
   },
   "outputs": [
    {
     "name": "stdout",
     "output_type": "stream",
     "text": [
      "cli.ipynb\r\n",
      "Direct-IntSq.dill\r\n",
      "Distribution.dill\r\n",
      "Laplace.dill\r\n",
      "Sequential-IntSq-aligned-conditionals-approx-base.svg\r\n",
      "Sequential-IntSq-aligned-marginals-approx-target.svg\r\n",
      "Sequential-IntSq.dill\r\n",
      "Sequential-IntSq-metropolis-ess.svg\r\n",
      "Sequential-IntSq-Postprocess.dill\r\n",
      "Sequential-IntSq-Postprocess.dill.hdf5\r\n",
      "Sequential-IntSq-random-conditionals-approx-base.svg\r\n",
      "xml\r\n"
     ]
    }
   ],
   "source": [
    "! ls"
   ]
  },
  {
   "cell_type": "markdown",
   "metadata": {},
   "source": [
    "The command above produced a number of outputs. Let us show the figures generated\n",
    "\n",
    "* [Aligned conditonals](#Aligned-conditonals)\n",
    "* [Random conditionals](#Random-conditionals)\n",
    "* [Variance diagnostic](#Variance-diagnostic)\n",
    "* [Aligned marginals](#Aligned-marginals)\n",
    "* Generated $10^4$ [Monte-Carlo samples](#Monte-Carlo-quadrature) from $T_\\sharp \\nu_\\rho$\n",
    "* Generated $10^4$ [importance samples](#Importance-samples) from $\\nu_\\pi$ using $T_\\sharp \\nu_\\rho$ as biasing distribution\n",
    "* Generated a $10^4$ long [Markov chain](#Metropolis-Hastings-with-independent-proposals) with invariant distribution $\\nu_\\pi$ and proposal $T_\\sharp \\nu_\\rho$\n",
    "\n",
    "In the following we show how to access all these outputs.\n",
    "\n",
    "### Aligned conditionals\n",
    "\n",
    "These are contained in the figures ``*-aligned-conditionals-approx-base.*``.\n",
    "\n",
    "![](Sequential-IntSq-aligned-conditionals-approx-base.svg)\n",
    "\n",
    "### Random conditionals\n",
    "\n",
    "These are contained in the figures ``*-random-conditionals-approx-base.*``.\n",
    "\n",
    "![](Sequential-IntSq-random-conditionals-approx-base.svg)\n",
    "\n",
    "### Variance diagnostic\n",
    "\n",
    "The values for the variance diagnostic are stored in the field ``vals_var_diag`` in the file ``-Postprocess.dill.hdf5`` in the [HDF5 format](http://www.h5py.org/). The accuracy of the variance diagnostic can be improved by calling ``tmap-postprocess`` again with a higher number of samples/higher order quadrature."
   ]
  },
  {
   "cell_type": "code",
   "execution_count": 22,
   "metadata": {
    "collapsed": false
   },
   "outputs": [
    {
     "name": "stdout",
     "output_type": "stream",
     "text": [
      "['importance-samples', 'metropolis-independent-proposal-samples', 'quadrature', 'vals_var_diag']\n"
     ]
    }
   ],
   "source": [
    "import h5py\n",
    "f = h5py.File('Sequential-IntSq-Postprocess.dill.hdf5','r')\n",
    "print( list(f.keys()) )\n",
    "f.close()"
   ]
  },
  {
   "cell_type": "markdown",
   "metadata": {},
   "source": [
    "### Aligned marginals\n",
    "\n",
    "We are contained in the figures ``*-aligned-marginals-approx-target.*``.\n",
    "\n",
    "![](Sequential-IntSq-aligned-marginals-approx-target.svg)"
   ]
  },
  {
   "cell_type": "markdown",
   "metadata": {},
   "source": [
    "### Monte-Carlo quadrature\n",
    "\n",
    "A Monte-Carlo quadrature with $10^4$ points for the density $T_\\sharp \\nu_\\rho$ is stored in ``Sequential-IntSq-Postprocess.dill.hdf5``."
   ]
  },
  {
   "cell_type": "code",
   "execution_count": 23,
   "metadata": {
    "collapsed": false
   },
   "outputs": [],
   "source": [
    "import h5py\n",
    "f = h5py.File('Sequential-IntSq-Postprocess.dill.hdf5','r')\n",
    "x = f['quadrature']['approx-target']['0'][:,:]\n",
    "f.close()"
   ]
  },
  {
   "cell_type": "markdown",
   "metadata": {},
   "source": [
    "### Importance samples\n",
    "\n",
    "A set of $10^4$ importance samples for $\\nu_\\pi$ are generated using the biasing distribution $T_\\sharp \\nu_\\rho$."
   ]
  },
  {
   "cell_type": "code",
   "execution_count": 24,
   "metadata": {
    "collapsed": false
   },
   "outputs": [],
   "source": [
    "import h5py\n",
    "f = h5py.File('Sequential-IntSq-Postprocess.dill.hdf5','r')\n",
    "x = f['importance-samples']['x']\n",
    "w = f['importance-samples']['w']\n",
    "f.close()"
   ]
  },
  {
   "cell_type": "markdown",
   "metadata": {},
   "source": [
    "### Metropolis-Hastings with independent proposals\n",
    "\n",
    "A $10^4$ long Markov chain with invariant distribution $\\nu_\\pi$ is generated using $T_\\sharp \\nu_\\rho$ as proposal distribution."
   ]
  },
  {
   "cell_type": "code",
   "execution_count": 25,
   "metadata": {
    "collapsed": true
   },
   "outputs": [],
   "source": [
    "import h5py\n",
    "f = h5py.File('Sequential-IntSq-Postprocess.dill.hdf5','r')\n",
    "mc = f['metropolis-independent-proposal-samples']['x']\n",
    "f.close()"
   ]
  },
  {
   "cell_type": "markdown",
   "metadata": {},
   "source": [
    "Additionally the Effective Sample Size (ESS) of the Markov chain is estimated using the $0.99$ percentile accurate decay of the auto-correlation of its components. This analysis is shown in the figures ``*-metropolis-ess.*`` and the ESS is reported as an output of ``tmap-postprocess``.\n",
    "\n",
    "![](Sequential-IntSq-metropolis-ess.svg)"
   ]
  },
  {
   "cell_type": "markdown",
   "metadata": {},
   "source": [
    "## tmap-sequential-posprocess\n",
    "\n",
    "This script provides a number of postprocessing routines for approximations of [sequential Hidden Markov Chain distributions](../api-TransportMaps-Distributions-Decomposable.html#TransportMaps.Distributions.Decomposable.SequentialHiddenMarkovChainDistribution). In particular it deals with the characterization of the [filtering distributions](../example-sequential-stocvol-6d.html#Filtering-distribution) $\\nu_\\pi\\left({\\bf Z}_k\\middle\\vert {\\bf y}_{0:k}\\right)$."
   ]
  },
  {
   "cell_type": "code",
   "execution_count": 26,
   "metadata": {
    "collapsed": false
   },
   "outputs": [
    {
     "name": "stdout",
     "output_type": "stream",
     "text": [
      "\r\n",
      "Usage: tmap-sequential-postprocess [-h -v -I]\r\n",
      "  --data=DATA --output=OUTPUT\r\n",
      "  [--store-fig-dir=DIR --store-fig-fmats=FMATS\r\n",
      "   --extra-tit=TITLE --no-plotting \r\n",
      "   --filtering-conditionals\r\n",
      "     --filt-alc-n-points-x-ax=N --filt-alc-n-tri-plots=N\r\n",
      "     --filt-alc-anchor=LIST --filt-alc-range=LIST\r\n",
      "   --filtering-marginals\r\n",
      "     --filt-alm-n-points=N --filt-alm-n-tri-plots=N\r\n",
      "   --filtering-quadrature\r\n",
      "     --filt-quad-qtype=QTYPE\r\n",
      "     --filt-quad-qnum=QNUM\r\n",
      "   --log=LOG --batch=BATCH --nprocs=NPROCS]\r\n",
      "\r\n",
      "2017-06-18 16:52:19 ERROR: Option --data and --output must be specified\r\n"
     ]
    }
   ],
   "source": [
    "! tmap-sequential-postprocess"
   ]
  },
  {
   "cell_type": "code",
   "execution_count": 27,
   "metadata": {
    "collapsed": false
   },
   "outputs": [
    {
     "name": "stdout",
     "output_type": "stream",
     "text": [
      "\r\n",
      "Usage: tmap-sequential-postprocess [-h -v -I]\r\n",
      "  --data=DATA --output=OUTPUT\r\n",
      "  [--store-fig-dir=DIR --store-fig-fmats=FMATS\r\n",
      "   --extra-tit=TITLE --no-plotting \r\n",
      "   --filtering-conditionals\r\n",
      "     --filt-alc-n-points-x-ax=N --filt-alc-n-tri-plots=N\r\n",
      "     --filt-alc-anchor=LIST --filt-alc-range=LIST\r\n",
      "   --filtering-marginals\r\n",
      "     --filt-alm-n-points=N --filt-alm-n-tri-plots=N\r\n",
      "   --filtering-quadrature\r\n",
      "     --filt-quad-qtype=QTYPE\r\n",
      "     --filt-quad-qnum=QNUM\r\n",
      "   --log=LOG --batch=BATCH --nprocs=NPROCS]\r\n",
      "\r\n",
      "DESCRIPTION\r\n",
      "Given a file (--data) storing the transport map pushing forward a base distribution\r\n",
      "to a sequential Hidden Markov target distribution, \r\n",
      "provides a number of postrprocessing routines.\r\n",
      "All files involved are stored and loaded using the python package dill and\r\n",
      "an extra file OUTPUT.hdf5 is created to store big datasets in the hdf5 format.\r\n",
      "In the following default values are shown in brackets.\r\n",
      "\r\n",
      "OPTIONS - input/output:\r\n",
      "  --data=DATA           path to the file containing the target distribution,\r\n",
      "                          the base distribution and the transport map pushing forward\r\n",
      "                          the base to the target.\r\n",
      "  --output=OUTPUT       path to the file storing all postprocess data.\r\n",
      "                          The additional file OUTPUT.hdf5 will be used to store\r\n",
      "                          the more memory consuming data.\r\n",
      "  --store-fig-dir=DIR   path to the directory where to store the figures.\r\n",
      "  --store-fig-fmats=FMATS  figure formats - see matplotlib for supported formats (svg)\r\n",
      "  --extra-tit=TITLE     additional title for the figures' file names.\r\n",
      "  --no-plotting         do not plot figures, but only store their data.\r\n",
      "                          (requires --output or --store-fig-dir)\r\n",
      "OPTIONS - Diagnostics:\r\n",
      "  --filtering-conditionals  plot aligned slices of the filtering distribution:\r\n",
      "                        Optional arguments:\r\n",
      "    --filt-alc-n-points-x-ax=N  number of discretization points per axis (30)\r\n",
      "    --filt-alc-n-tri-plots=N    number of subplots (0)\r\n",
      "    --filt-alc-anchor=LIST      list of floats \"f1,f2,f3...\" for the anchor point (0)\r\n",
      "    --filt-alc-range=LIST       list of two floats \"f1,f2\" for the range (-5,5)\r\n",
      "OPTIONS - Sampling:\r\n",
      "  --filtering-marginals  plot aligned marginals of the filtering distribution:\r\n",
      "                        Optional arguments:\r\n",
      "    --filt-alm-n-points=N     number of samples to be used for the kernel density estimation\r\n",
      "    --filt-alm-n-tri-plots=N  number of subplots (0)\r\n",
      "  --filtering-quadrature  generate quadrature of the filtering distribution:\r\n",
      "                        Optional arguments:\r\n",
      "    --filt-quad-qtype=QTYPE  generate quadrature of type QTYPE (0)\r\n",
      "    --filt-quad-qnum=QNUM    level of the quadrature (int or list)\r\n",
      "OPTIONS - Computation:\r\n",
      "  --log=LOG               log level (default=30). Uses package logging.\r\n",
      "                          Available options:\r\n",
      "                            10: debug\r\n",
      "                            20: info\r\n",
      "                            30: warning\r\n",
      "                            40: error\r\n",
      "                            50: critical\r\n",
      "  --nprocs=NPROCS         number of processors to be used (default=1)\r\n",
      "  --batch=BATCH           list of batch sizes for function evaluation, gradient\r\n",
      "                          evaluation and Hessian evaluation\r\n",
      "OPTIONS - other:\r\n",
      "  -v                      verbose output (not affecting --log)\r\n",
      "  -I                      enter interactive mode after finishing\r\n",
      "  -h                      print this help\r\n",
      "\r\n"
     ]
    }
   ],
   "source": [
    "! tmap-sequential-postprocess -h"
   ]
  },
  {
   "cell_type": "code",
   "execution_count": 28,
   "metadata": {
    "collapsed": false
   },
   "outputs": [
    {
     "name": "stdout",
     "output_type": "stream",
     "text": [
      "2017-06-18 16:52:25 [Start] Filtering conditionals\n",
      "2017-06-18 16:52:25         Filtering conditionals - Step 0\n",
      "2017-06-18 16:53:53         Filtering conditionals - Step 1\n",
      "2017-06-18 16:55:24         Filtering conditionals - Step 2\n",
      "2017-06-18 16:57:25         Filtering conditionals - Step 3\n",
      "2017-06-18 16:59:42 [Stop]  Filtering conditionals\n",
      "2017-06-18 16:59:42 [Start] Filtering marginals\n",
      "2017-06-18 16:59:42         Filtering marginals - Step 0 - Sample generation\n",
      "2017-06-18 16:59:42         Filtering marginals - Step 0 - Plotting\n",
      "2017-06-18 16:59:46         Filtering marginals - Step 1 - Sample generation\n",
      "2017-06-18 16:59:46         Filtering marginals - Step 1 - Plotting\n",
      "2017-06-18 16:59:51         Filtering marginals - Step 2 - Sample generation\n",
      "2017-06-18 16:59:51         Filtering marginals - Step 2 - Plotting\n",
      "2017-06-18 16:59:56         Filtering marginals - Step 3 - Sample generation\n",
      "2017-06-18 16:59:56         Filtering marginals - Step 3 - Plotting\n",
      "2017-06-18 17:00:01 [Stop]  Filtering marginals\n",
      "2017-06-18 17:00:01 [Start] Quadrature 0\n",
      "2017-06-18 17:00:01         Quadrature 0- Step 0 - Sample generation\n",
      "2017-06-18 17:00:01         Quadrature 0- Step 1 - Sample generation\n",
      "2017-06-18 17:00:01         Quadrature 0- Step 2 - Sample generation\n",
      "2017-06-18 17:00:01         Quadrature 0- Step 3 - Sample generation\n",
      "2017-06-18 17:00:01 [Stop]  Quadrature\n"
     ]
    }
   ],
   "source": [
    "! tmap-sequential-postprocess \\\n",
    "    --data=Sequential-IntSq.dill --output=Sequential-IntSq-Postprocess.dill -v \\\n",
    "    --store-fig-dir=./ --log=20 \\\n",
    "    --filtering-conditionals \\\n",
    "    --filtering-marginals --filt-alm-n-points=2000 \\\n",
    "    --filtering-quadrature --filt-quad-qtype=0 --filt-quad-qnum=10000"
   ]
  },
  {
   "cell_type": "code",
   "execution_count": 29,
   "metadata": {
    "collapsed": false
   },
   "outputs": [
    {
     "name": "stdout",
     "output_type": "stream",
     "text": [
      "cli.ipynb\r\n",
      "Direct-IntSq.dill\r\n",
      "Distribution.dill\r\n",
      "Laplace.dill\r\n",
      "Sequential-IntSq-aligned-conditionals-approx-base.svg\r\n",
      "Sequential-IntSq-aligned-marginals-approx-target.svg\r\n",
      "Sequential-IntSq.dill\r\n",
      "Sequential-IntSq-filtering-conditionals-0.svg\r\n",
      "Sequential-IntSq-filtering-conditionals-1.svg\r\n",
      "Sequential-IntSq-filtering-conditionals-2.svg\r\n",
      "Sequential-IntSq-filtering-conditionals-3.svg\r\n",
      "Sequential-IntSq-filtering-marginals-0.svg\r\n",
      "Sequential-IntSq-filtering-marginals-1.svg\r\n",
      "Sequential-IntSq-filtering-marginals-2.svg\r\n",
      "Sequential-IntSq-filtering-marginals-3.svg\r\n",
      "Sequential-IntSq-metropolis-ess.svg\r\n",
      "Sequential-IntSq-Postprocess.dill\r\n",
      "Sequential-IntSq-Postprocess.dill.hdf5\r\n",
      "Sequential-IntSq-random-conditionals-approx-base.svg\r\n",
      "xml\r\n"
     ]
    }
   ],
   "source": [
    "! ls"
   ]
  },
  {
   "cell_type": "markdown",
   "metadata": {},
   "source": [
    "The command above procuced several outputs:\n",
    "\n",
    "* [Aligned conditionals of the filtering distributions](#Aligned-conditionals-of-filtering-distributions)\n",
    "* [Aligned marginals of the filtering distributions](#Aligned-marginals-of-filtering-distributions)\n",
    "* [Monte-Carlo samples for each filtering distribution](#Monte-Carlo-samples-of-filtering-distributions)\n",
    "\n",
    "### Aligned conditionals of filtering distributions\n",
    "\n",
    "Step 0                                              |  Step 1\n",
    ":--------------------------------------------------:|:--------------------------------------------------:\n",
    "![](Sequential-IntSq-filtering-conditionals-0.svg)  |  ![](Sequential-IntSq-filtering-conditionals-1.svg)\n",
    "\n",
    "Step 2                                              |  Step 3\n",
    ":--------------------------------------------------:|:--------------------------------------------------:\n",
    "![](Sequential-IntSq-filtering-conditionals-2.svg)  |  ![](Sequential-IntSq-filtering-conditionals-3.svg)\n",
    "\n",
    "### Aligned marginals of filtering distributions\n",
    "\n",
    "Step 0                                              |  Step 1\n",
    ":--------------------------------------------------:|:--------------------------------------------------:\n",
    "![](Sequential-IntSq-filtering-marginals-0.svg)  |  ![](Sequential-IntSq-filtering-marginals-1.svg)\n",
    "\n",
    "Step 2                                              |  Step 3\n",
    ":--------------------------------------------------:|:--------------------------------------------------:\n",
    "![](Sequential-IntSq-filtering-marginals-2.svg)  |  ![](Sequential-IntSq-filtering-marginals-3.svg)\n",
    "\n",
    "### Monte-Carlo samples of filtering distributions"
   ]
  },
  {
   "cell_type": "code",
   "execution_count": 30,
   "metadata": {
    "collapsed": false
   },
   "outputs": [],
   "source": [
    "import h5py\n",
    "f = h5py.File('Sequential-IntSq-Postprocess.dill.hdf5','r')\n",
    "x_list = []\n",
    "for i in range(4):\n",
    "    x_list.append( f['filtering']['step-%d' % i]['quadrature']['0'] )\n",
    "f.close()"
   ]
  }
 ],
 "metadata": {
  "celltoolbar": "Slideshow",
  "kernelspec": {
   "display_name": "Python 3",
   "language": "python",
   "name": "python3"
  },
  "language_info": {
   "codemirror_mode": {
    "name": "ipython",
    "version": 3
   },
   "file_extension": ".py",
   "mimetype": "text/x-python",
   "name": "python",
   "nbconvert_exporter": "python",
   "pygments_lexer": "ipython3",
   "version": "3.5.2"
  }
 },
 "nbformat": 4,
 "nbformat_minor": 2
}
