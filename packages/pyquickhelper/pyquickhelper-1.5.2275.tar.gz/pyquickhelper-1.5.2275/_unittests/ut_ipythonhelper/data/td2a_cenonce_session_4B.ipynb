{
 "cells": [
  {
   "cell_type": "markdown",
   "metadata": {},
   "source": [
    "# TD 4B : Code Jam"
   ]
  },
  {
   "cell_type": "markdown",
   "metadata": {},
   "source": [
    "Le problème est tiré de [Google Jam 2008, round 1A](https://code.google.com/codejam/contest/32016/dashboard#s=p0).\n",
    "\n",
    "On considère deux tableaux $v=(v_1,..., v_n)$ et $w=(w_1,...,w_n)$. On souhaite le minimum : $$\\min_{\\sigma,\\sigma'} \\sum_{i=1}^{n} v_{\\sigma(i)} w_{\\sigma'(i)}$$ où $\\sigma,\\sigma'$ sont deux permutations de l'ensemble $[[1,...,n]]$.\n",
    "\n",
    "**Plan**\n",
    "\n",
    "* [Solution naïve](#naive)\n",
    "* [Solution moins naïve](#sort)\n",
    "* [Problème de recouvrement](#recouv)\n",
    "* [Découpage intelligent d'une base de données](#decoup)"
   ]
  },
  {
   "cell_type": "markdown",
   "metadata": {},
   "source": [
    "<h3 id=\"naive\">Solution naïve</h3>"
   ]
  },
  {
   "cell_type": "code",
   "execution_count": 0,
   "metadata": {
    "collapsed": false
   },
   "outputs": [],
   "source": []
  },
  {
   "cell_type": "markdown",
   "metadata": {},
   "source": [
    "<h3 id=\"sort\">Solution moins naïve</h3>"
   ]
  },
  {
   "cell_type": "code",
   "execution_count": null,
   "metadata": {
    "collapsed": false
   },
   "outputs": [],
   "source": []
  },
  {
   "cell_type": "markdown",
   "metadata": {},
   "source": [
    "<h3 id=\"recouv\">Problème de recouvrement</h3>"
   ]
  },
  {
   "cell_type": "code",
   "execution_count": null,
   "metadata": {
    "collapsed": false
   },
   "outputs": [],
   "source": []
  },
  {
   "cell_type": "markdown",
   "metadata": {},
   "source": [
    "<h3 id=\"decoup\">Découpage intelligent d'une base de données</h3>\n",
    "\n",
    "On dispose d'une base de données à $N$ observations et $K$ variables $(X^1,...,X^K)$. On calcule la moyenne de chaque variable $\\bar{X_k} =\\frac{1}{N}\\sum_{i=1}^N X^k_i$ sur l'ensemble de la base.\n",
    "\n",
    "On souhaite maintenant diviser la base en deux bases apprentissage de taille égale, test sous intersection. On mesure également la moyenne de chaque variable sur chacun des deux bases : $\\bar{X^k}_a$ et $\\bar{X^k}_t$. On souhaite effectuer un découpage de telle sorte que l'indicateur suivant soit minimum : \n",
    "\n",
    "$$ E = \\sum_{k=1}^K \\left( \\bar{X^k_a}  - \\bar{X^k_t} \\right)^2 $$\n",
    "\n",
    "Imaginer un algorithme qui effectue un tel découpage. Vérifie-t-on que si $\\bar{X^k_a}, \\bar{X^k_t} \\rightarrow \\bar{X^k}$ ?"
   ]
  },
  {
   "cell_type": "code",
   "execution_count": 0,
   "metadata": {
    "collapsed": false
   },
   "outputs": [],
   "source": []
  }
 ],
 "metadata": {},
 "nbformat": 4,
 "nbformat_minor": 0
}