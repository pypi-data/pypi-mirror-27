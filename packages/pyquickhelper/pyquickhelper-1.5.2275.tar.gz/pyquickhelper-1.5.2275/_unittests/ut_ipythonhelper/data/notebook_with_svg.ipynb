{
  "cells": [
    {
      "cell_type": "markdown",
      "metadata": {},
      "source": [
        "# Notebook with SVG\n",
        "\n",
        "SVG in a notebook."
      ]
    },
    {
      "cell_type": "code",
      "execution_count": null,
      "metadata": {
        "collapsed": false
      },
      "outputs": [
        {
          "data": {
            "image/svg+xml": [
              "<svg height=\"391\" viewBox=\"-70.5 -70.5 391 391\" width=\"391\" xmlns=\"http://www.w3.org/2000/svg\" xmlns:xlink=\"http://www.w3.org/1999/xlink\">\n",
              "<defs>\n",
              "\t<pattern height=\"50\" id=\"grid\" patternUnits=\"userSpaceOnUse\" width=\"50\">\n",
              "\t\t<rect fill=\"#000\" height=\"1\" opacity=\"1.0\" width=\"50\" x=\"0\" y=\"0\"/>\n",
              "\t\t<rect fill=\"#000\" height=\"50\" opacity=\"1.0\" width=\"1\" x=\"0\" y=\"0\"/>\n",
              "\t</pattern>\n",
              "</defs>\n",
              "<rect fill=\"#fff\" height=\"390\" stroke=\"#000\" width=\"390\" x=\"-70\" y=\"-70\"/>\n",
              "<rect fill=\"url(#grid)\" height=\"250\" stroke=\"#000\" stroke-width=\"2\" width=\"250\" x=\"0\" y=\"0\"/>\n",
              "<text font-family=\"Granada,Times New Roman,serif\" font-size=\"16\" text-anchor=\"middle\" x=\"0\" y=\"0\">\n",
              "<tspan font-size=\"1.2em\" font-weight=\"bold\" x=\"125\" y=\"-40\">x</tspan>\n",
              "<tspan x=\"0\" y=\"-10\">0</tspan>\n",
              "<tspan x=\"50\" y=\"-10\">50</tspan>\n",
              "<tspan x=\"100\" y=\"-10\">100</tspan>\n",
              "<tspan x=\"150\" y=\"-10\">150</tspan>\n",
              "<tspan x=\"200\" y=\"-10\">200</tspan>\n",
              "<tspan x=\"250\" y=\"-10\">250</tspan>\n",
              "</text>\n",
              "<text font-family=\"Granada,Times New Roman,serif\" font-size=\"16\" text-anchor=\"middle\" x=\"0\" y=\"0\">\n",
              "<tspan font-size=\"1.2em\" font-weight=\"bold\" x=\"-50\" y=\"125\">y</tspan>\n",
              "<tspan dy=\"6\" x=\"-20\" y=\"0\">0</tspan>\n",
              "<tspan dy=\"6\" x=\"-20\" y=\"50\">50</tspan>\n",
              "<tspan dy=\"6\" x=\"-20\" y=\"100\">100</tspan>\n",
              "<tspan dy=\"6\" x=\"-20\" y=\"150\">150</tspan>\n",
              "<tspan dy=\"6\" x=\"-20\" y=\"200\">200</tspan>\n",
              "<tspan dy=\"6\" x=\"-20\" y=\"250\">250</tspan>\n",
              "</text>\n",
              "<g opacity=\"0.8\">\n",
              "\t<rect fill=\"lime\" height=\"200\" stroke=\"pink\" stroke-width=\"4\" width=\"200\" x=\"25\" y=\"25\"/>\n",
              "\t<circle cx=\"125\" cy=\"125\" fill=\"orange\" r=\"75\"/>\n",
              "\t<polyline fill=\"none\" points=\"50,150 50,200 200,200 200,100\" stroke=\"red\" stroke-width=\"4\"/>\n",
              "\t<line stroke=\"blue\" stroke-width=\"4\" x1=\"50\" x2=\"200\" y1=\"50\" y2=\"200\"/>\n",
              "</g>\n",
              "</svg>"
            ],
            "text/plain": [
              "<IPython.core.display.SVG object>"
            ]
          },
          "execution_count": null,
          "metadata": {},
          "output_type": "execute_result"
        }
      ],
      "source": [
        "from IPython.core.display import SVG\n",
        "SVG(url=\"https://upload.wikimedia.org/wikipedia/commons/1/1a/SVG_example_markup_grid.svg\")"
      ]
    },
    {
      "cell_type": "code",
      "execution_count": null,
      "metadata": {
        "collapsed": true
      },
      "outputs": [],
      "source": []
    }
  ],
  "metadata": {
    "kernelspec": {
      "display_name": "Python 3",
      "language": "python",
      "name": "python3"
    },
    "language_info": {
      "codemirror_mode": {
        "name": "ipython",
        "version": 3
      },
      "file_extension": ".py",
      "mimetype": "text/x-python",
      "name": "python",
      "nbconvert_exporter": "python",
      "pygments_lexer": "ipython3",
      "version": "3.5.2"
    }
  },
  "nbformat": 4,
  "nbformat_minor": 0
}