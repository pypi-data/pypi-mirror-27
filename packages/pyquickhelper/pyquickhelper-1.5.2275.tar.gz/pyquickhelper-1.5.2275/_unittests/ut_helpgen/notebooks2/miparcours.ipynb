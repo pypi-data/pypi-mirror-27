{
 "cells": [
  {
   "cell_type": "code",
   "execution_count": 5,
   "metadata": {
    "collapsed": false
   },
   "outputs": [
    {
     "name": "stdout",
     "output_type": "stream",
     "text": [
      "url = enonce_76.txt\n"
     ]
    }
   ],
   "source": [
    "def get_code(mail):\n",
    "    import hashlib\n",
    "    m = hashlib.md5()\n",
    "    m.update(mail)\n",
    "    b = m.digest()\n",
    "    return int(b[0])\n",
    "code = get_code(\"xxxxx@xxxxx\".encode('utf-8'))\n",
    "print(\"url = enonce_%d.txt\" % code)\n"
   ]
  },
  {
   "cell_type": "code",
   "execution_count": 61,
   "metadata": {
    "collapsed": false
   },
   "outputs": [
    {
     "name": "stdout",
     "output_type": "stream",
     "text": [
      "  ***   H\n",
      " ***    H\n",
      "***     H\n",
      "***     H\n",
      "  *** H H\n",
      "***     H\n",
      "  ***   H\n",
      " ***    H\n",
      "***     H\n",
      "***     H\n",
      "  *** H H\n",
      "***     H\n"
     ]
    }
   ],
   "source": [
    "for j in range (0, 2):\n",
    "    for i in range(0, 3):\n",
    "        s = \" \" * abs(2-i) + \"***\" + \" \" * abs(3+i) + \"H\"  \n",
    "        print(s)\n",
    "    for i in range(0, 3):\n",
    "        t = \" \" * abs(1+(-1)**(i+1)) + \"***\"\n",
    "        if i!=1:\n",
    "            t += \" \" * abs(5) + \"H\"\n",
    "        else:\n",
    "            t += \" H H\"\n",
    "        print(t)"
   ]
  },
  {
   "cell_type": "code",
   "execution_count": 37,
   "metadata": {
    "collapsed": false
   },
   "outputs": [],
   "source": []
  },
  {
   "cell_type": "code",
   "execution_count": null,
   "metadata": {
    "collapsed": false
   },
   "outputs": [],
   "source": []
  }
 ],
 "metadata": {},
 "nbformat": 4,
 "nbformat_minor": 1
}