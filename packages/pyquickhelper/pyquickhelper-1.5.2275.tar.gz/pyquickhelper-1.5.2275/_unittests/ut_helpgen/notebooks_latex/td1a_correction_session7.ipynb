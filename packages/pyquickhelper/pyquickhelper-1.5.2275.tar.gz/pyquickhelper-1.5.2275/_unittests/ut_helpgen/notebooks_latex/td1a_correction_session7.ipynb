{
 "cells": [
  {
   "cell_type": "markdown",
   "metadata": {},
   "source": [
    "# TD 7 : Programmation dynamique et plus court chemin (correction)"
   ]
  },
  {
   "cell_type": "markdown",
   "metadata": {},
   "source": [
    "Plan\n",
    "\n",
    "* [Exercice 1](#exo1)\n",
    "* [Exercice 2](#exo2)\n",
    "* [Exercice 3](#exo3)\n",
    "* [Exercice 4](#exo4)\n",
    "* [Exercice facultatif](#exof)\n",
    "* [Exercice 5](#exo5)\n",
    "* [Exercice 6](#exo6)\n",
    "* [Exercice 7](#exo7)\n",
    "* [Exercice 8](#exo8)\n",
    "* [Prolongements : degré de séparation sur Facebook](#prol)"
   ]
  },
  {
   "cell_type": "code",
   "execution_count": 1,
   "metadata": {
    "collapsed": false
   },
   "outputs": [
    {
     "data": {
      "text/plain": [
       "['matrix_distance_7398.txt']"
      ]
     },
     "execution_count": 1,
     "metadata": {},
     "output_type": "execute_result"
    }
   ],
   "source": [
    "import pyensae\n",
    "pyensae.download_data(\"matrix_distance_7398.zip\", website  = \"xd\")"
   ]
  },
  {
   "cell_type": "code",
   "execution_count": 3,
   "metadata": {
    "collapsed": false
   },
   "outputs": [
    {
     "data": {
      "text/plain": [
       "array([['Courbevoie', 'Sevran', 26564],\n",
       "       ['Colombes', 'Alfortville', 36843],\n",
       "       ['Bagneux', 'Marcq-En-Baroeul', 233455],\n",
       "       ['Suresnes', 'Gennevilliers', 10443],\n",
       "       ['Lens', 'Maubeuge', 93768]], dtype=object)"
      ]
     },
     "execution_count": 3,
     "metadata": {},
     "output_type": "execute_result"
    }
   ],
   "source": [
    "import pandas\n",
    "df = pandas.read_csv(\"matrix_distance_7398.txt\", sep=\"\\t\", header=False, names=[\"v1\",\"v2\",\"distance\"])\n",
    "matrice = df.values\n",
    "matrice[:5]"
   ]
  },
  {
   "cell_type": "markdown",
   "metadata": {},
   "source": [
    "<h3 id=\"exo1\"> Exercice 1</h3>"
   ]
  },
  {
   "cell_type": "code",
   "execution_count": 4,
   "metadata": {
    "collapsed": false
   },
   "outputs": [
    {
     "name": "stdout",
     "output_type": "stream",
     "text": [
      "196\n"
     ]
    }
   ],
   "source": [
    "vil = { }\n",
    "for row in matrice :\n",
    "    vil [row[0]] = 0\n",
    "    vil [row[1]] = 1\n",
    "vil = list(vil.keys())\n",
    "print (len(vil))"
   ]
  },
  {
   "cell_type": "markdown",
   "metadata": {},
   "source": [
    "<h3 id=\"exo2\">Exercice 2</h3>\n",
    "\n",
    "La distance n'existe pas encore. L'exception du court programme suivant le montre. Rejoindre Bordeaux depuis Charleville nécessite plusieurs étapes."
   ]
  },
  {
   "cell_type": "code",
   "execution_count": 5,
   "metadata": {
    "collapsed": false
   },
   "outputs": [
    {
     "name": "stdout",
     "output_type": "stream",
     "text": [
      "7888\n"
     ]
    },
    {
     "ename": "KeyError",
     "evalue": "('Charleville-Mezieres', 'Bordeaux')",
     "output_type": "error",
     "traceback": [
      "\u001b[1;31m---------------------------------------------------------------------------\u001b[0m\n\u001b[1;31mKeyError\u001b[0m                                  Traceback (most recent call last)",
      "\u001b[1;32m<ipython-input-5-bf31d4830b2f>\u001b[0m in \u001b[0;36m<module>\u001b[1;34m()\u001b[0m\n\u001b[0;32m      5\u001b[0m     \u001b[0mdist\u001b[0m\u001b[1;33m[\u001b[0m\u001b[0ma\u001b[0m\u001b[1;33m,\u001b[0m\u001b[0mb\u001b[0m\u001b[1;33m]\u001b[0m \u001b[1;33m=\u001b[0m \u001b[0mdist\u001b[0m\u001b[1;33m[\u001b[0m\u001b[0mb\u001b[0m\u001b[1;33m,\u001b[0m\u001b[0ma\u001b[0m\u001b[1;33m]\u001b[0m \u001b[1;33m=\u001b[0m \u001b[0mrow\u001b[0m\u001b[1;33m[\u001b[0m\u001b[1;36m2\u001b[0m\u001b[1;33m]\u001b[0m\u001b[1;33m\u001b[0m\u001b[0m\n\u001b[0;32m      6\u001b[0m \u001b[0mprint\u001b[0m \u001b[1;33m(\u001b[0m\u001b[0mlen\u001b[0m\u001b[1;33m(\u001b[0m\u001b[0mdist\u001b[0m\u001b[1;33m)\u001b[0m\u001b[1;33m)\u001b[0m\u001b[1;33m\u001b[0m\u001b[0m\n\u001b[1;32m----> 7\u001b[1;33m \u001b[0mprint\u001b[0m \u001b[1;33m(\u001b[0m \u001b[0mdist\u001b[0m\u001b[1;33m[\u001b[0m\u001b[1;34m\"Charleville-Mezieres\"\u001b[0m\u001b[1;33m,\u001b[0m\u001b[1;34m\"Bordeaux\"\u001b[0m\u001b[1;33m]\u001b[0m \u001b[1;33m)\u001b[0m  \u001b[1;31m# elle n'existe pas encore\u001b[0m\u001b[1;33m\u001b[0m\u001b[0m\n\u001b[0m",
      "\u001b[1;31mKeyError\u001b[0m: ('Charleville-Mezieres', 'Bordeaux')"
     ]
    }
   ],
   "source": [
    "dist = { }\n",
    "for row in matrice :\n",
    "    a = row[0]\n",
    "    b = row[1]\n",
    "    dist[a,b] = dist[b,a] = row[2]\n",
    "print (len(dist))\n",
    "print ( dist[\"Charleville-Mezieres\",\"Bordeaux\"] )  # elle n'existe pas encore"
   ]
  },
  {
   "cell_type": "markdown",
   "metadata": {},
   "source": [
    "<h3 id=\"exo3\">Exercice 3</h3>\n",
    "\n",
    "On peut remplir facilement toutes les cases correspondant aux villes reliées à Charleville-Mézières, c'est-à-dire toutes les villes accessibles en une étape."
   ]
  },
  {
   "cell_type": "code",
   "execution_count": 7,
   "metadata": {
    "collapsed": false
   },
   "outputs": [
    {
     "name": "stdout",
     "output_type": "stream",
     "text": [
      "196\n"
     ]
    }
   ],
   "source": [
    "d = { }\n",
    "d['Charleville-Mezieres'] = 0\n",
    "for v in vil : d[v] = 1e10\n",
    "for v,w in dist :\n",
    "    if v == 'Charleville-Mezieres': \n",
    "        d[w] = dist[v,w]\n",
    "print(len(d))        "
   ]
  },
  {
   "cell_type": "markdown",
   "metadata": {},
   "source": [
    "<h3 id=\"exo4\">Exercice 4</h3>\n",
    "\n",
    "Si on découvre que $d[w] > d[v] + dist[w,v]$, cela veut dire qu'il faut mettre à jour le tableau $d$ car il ne contient pas la distance optimale. On répète cela pour toutes les paires $(v,w)$."
   ]
  },
  {
   "cell_type": "code",
   "execution_count": 8,
   "metadata": {
    "collapsed": false
   },
   "outputs": [
    {
     "name": "stdout",
     "output_type": "stream",
     "text": [
      "804288\n"
     ]
    }
   ],
   "source": [
    "for v,w in dist :\n",
    "    d2 = d[v] + dist[v,w]\n",
    "    if d2 < d[w] :\n",
    "        d[w] = d2\n",
    "print ( d[\"Bordeaux\"] )        "
   ]
  },
  {
   "cell_type": "markdown",
   "metadata": {},
   "source": [
    "On trouve 813197 mètres pour la distance (Charleville-Mezieres, Bordeaux). Ce n'est pas forcément la meilleure. Pour être sûr, il faut répéter la même itération autant de fois qu'il y a de villes (car le plus long chemin contient autant d'étapes qu'il y a de villes). "
   ]
  },
  {
   "cell_type": "code",
   "execution_count": 9,
   "metadata": {
    "collapsed": false
   },
   "outputs": [
    {
     "name": "stdout",
     "output_type": "stream",
     "text": [
      "795670\n"
     ]
    }
   ],
   "source": [
    "for i in range(0,len(d)) :        \n",
    "    for v,w in dist :\n",
    "        d2 = d[v] + dist[v,w]\n",
    "        if d2 < d[w] :\n",
    "            d[w] = d2\n",
    "print ( d[\"Bordeaux\"] )             "
   ]
  },
  {
   "cell_type": "markdown",
   "metadata": {},
   "source": [
    "<h3 id=\"exof\">Exercice facultatif</h3>\n",
    "\n",
    "Pour montrer que l'algorithme suggéré permettra d'obtenir la solution optimale, il faut montrer qu'il n'est pas nécessaire d'envisager aucun autre ordre que celui des skieurs et des paires triés par taille croissante. Cela ne veut pas dire qu'un autre ordre ne sera pas optimal, cela veut dire que pour obtenir l'appariement de coût optimal, il existe une solution pour laquelle skieurs et skis sont rangés dans l'ordre.\n",
    "\n",
    "On considère donc un appariement $\\sigma$ qui associé le skieur $t_i$ à la paire $s_{\\sigma(i)}$. Il suffit que montrer que :\n",
    "\n",
    "$$\\forall i,j,  \\; t_i \\leqslant t_j \\Longleftrightarrow s_{\\sigma(i)} \\leqslant s_{\\sigma(j)}$$\n",
    "\n",
    "Pour montrer cela, on fait un raisonnement par l'absurde : pour $i$ et $j$ quelconques, on suppose qu'il existe un appariement optimal tel que  $t_i \\geqslant  t_j$ et $s_{\\sigma(i)} < s_{\\sigma(j)}$. Le coût $C(\\sigma)$ de cet appariement est :\n",
    "\n",
    "$$C(\\sigma) = \\sum_{k=1}^{N} \\left| t_k - s_{\\sigma(k)} \\right| = \\alpha + \\left| t_i - s_{\\sigma(i)} \\right| + \\left| t_j - s_{\\sigma(j)} \\right|$$\n",
    "\n",
    "Le coût de l'appariement en permutant les skieurs $i$ et $j$ (donc en les rangeant dans l'ordre croissant) est :\n",
    "\n",
    "$$C(\\sigma') = \\sum_{k=1}^{N} \\left| t_k - s_{\\sigma(k)} \\right| = \\alpha + \\left| t_j - s_{\\sigma(i)} \\right| + \\left| t_i - s_{\\sigma(j)} \\right|$$\n",
    "\n",
    "On calcule :\n",
    "\n",
    "$$C(\\sigma) - C(\\sigma') = \\left| t_i - s_{\\sigma(i)} \\right| + \\left| t_j - s_{\\sigma(j)} \\right|  - \\left| t_j - s_{\\sigma(i)} \\right| - \\left| t_i - s_{\\sigma(j)} \\right|$$"
   ]
  },
  {
   "cell_type": "markdown",
   "metadata": {},
   "source": [
    "Premier cas $t_j \\geqslant s_{\\sigma(i)}$ et $t_i > t_j \\geqslant s_{\\sigma(i)}$ et :\n",
    "\n",
    "$$\\begin{array}{rcl} C(\\sigma) - C(\\sigma') &=& \\left| t_i - s_{\\sigma(i)} \\right| + \\left| t_j - s_{\\sigma(j)} \\right|  - \\left(  t_j - s_{\\sigma(j)} + s_{\\sigma(j)} - s_{\\sigma(i)} \\right) - \\left| t_i - s_{\\sigma(j)} \\right| \\\\ &=&  t_i - s_{\\sigma(i)}  + \\left| t_j - s_{\\sigma(j)} \\right|  - \\left(  t_j - s_{\\sigma(j)} \\right) - \\left( s_{\\sigma(j)} - s_{\\sigma(i)} \\right) - \\left| t_i - s_{\\sigma(j)} \\right| \\\\ &=&  t_i - s_{\\sigma(i)}- \\left| t_i - s_{\\sigma(i)} \\right|  + \\left| t_j - s_{\\sigma(j)} \\right|  - \\left(  t_j - s_{\\sigma(j)} \\right) \\\\ &=&  \\left| t_j - s_{\\sigma(j)} \\right|  - \\left(  t_j - s_{\\sigma(j)} \\right|) \\\\  &\\geqslant& 0 \\end{array}$$"
   ]
  },
  {
   "cell_type": "markdown",
   "metadata": {},
   "source": [
    "Second cas $t_j \\leqslant s_{\\sigma(i)}$ et $t_j \\leqslant s_{\\sigma(i)} \\leqslant s_{\\sigma(j)}$ et :\n",
    "\n",
    "$$\\begin{array}{rcl} C(\\sigma) - C(\\sigma') &=& \\left| t_i - s_{\\sigma(i)} \\right| + s_{\\sigma(j)} -t_j  - \\left(  s_{\\sigma(i)} - t_j\\right) - \\left| t_i - s_{\\sigma(j)} \\right| \\\\ &=& \\left| t_i - s_{\\sigma(i)} \\right| + s_{\\sigma(j)} -  s_{\\sigma(i)} - \\left| t_i - s_{\\sigma(j)} \\right| \\\\ &\\geqslant& \\left| t_i - s_{\\sigma(j)}\\right| - \\left|  s_{\\sigma(j)} -  s_{\\sigma(i)} \\right| + s_{\\sigma(j)} -  s_{\\sigma(i)} - \\left| t_i - s_{\\sigma(j)} \\right| \\\\ &\\geqslant& 0 \\end{array}$$\n",
    "\n",
    "Dans les deux cas, on montre donc qu'il existe un appariement meilleur ou équivalent en permutant les deux skieurs $i$ et $j$, c'est-à-dire en les triant par ordre croissant de taille. Nous avons donc montré que, si les paires de ski sont triées par ordre croissant de taille, il existe necéssairement un appariement optimal pour lequel les skieurs sont aussi triés par ordre croissant. Lors de la recherche de cet appariement optimal, on peut se restreindre à ces cas de figure."
   ]
  },
  {
   "cell_type": "markdown",
   "metadata": {},
   "source": [
    "<h3 id=\"exo5\">Exercice 5</h3>\n",
    "\n",
    "$$p(n,m) = \\min \\left\\{  p(n-1,m-1) + \\left| t_n - s_m \\right|, p(n,m-1) \\right\\}$$\n",
    "\n",
    "Lorsqu'on considère le meilleur appariement des paires $1..m$ et des skieurs $1..n$, il n'y a que deux choix possibles pour la paire $m$ :\n",
    "\n",
    "- soit elle n'est associée à aucun skieur et dans ce cas : $p(n,m) = p(n,m-1)$,\n",
    "- soit elle est associée au skieur $n$ (et à aucun autre) : $p(n,m) = p(n-1,m-1) + \\left| t_n - s_m \\right|$."
   ]
  },
  {
   "cell_type": "markdown",
   "metadata": {},
   "source": [
    "<h3 id=\"exo6\">Exercice 6</h3>"
   ]
  },
  {
   "cell_type": "code",
   "execution_count": 18,
   "metadata": {
    "collapsed": false
   },
   "outputs": [
    {
     "name": "stdout",
     "output_type": "stream",
     "text": [
      "0.19573001943098167\n"
     ]
    }
   ],
   "source": [
    "import random\n",
    "skieurs = [ random.gauss(1.75, 0.1) for i in range(0,10) ]\n",
    "paires  = [ random.gauss(1.75, 0.1) for i in range(0,15) ]\n",
    "skieurs.sort()\n",
    "paires.sort()\n",
    "\n",
    "p = { }\n",
    "p [-1,-1] = 0\n",
    "for n,taille in enumerate(skieurs) : p[n,-1] = p[n-1,-1] + taille\n",
    "for m,paire  in enumerate(paires ) : p[-1,m] = 0\n",
    "for n,taille in enumerate(skieurs) :\n",
    "    for m,paire in enumerate(paires) :\n",
    "        p1 = p.get ( (n  ,m-1), 1e10 ) \n",
    "        p2 = p.get ( (n-1,m-1), 1e10 ) + abs(taille - paire)\n",
    "        p[n,m] = min(p1,p2)\n",
    "        \n",
    "print (p[len(skieurs)-1,len(paires)-1])"
   ]
  },
  {
   "cell_type": "markdown",
   "metadata": {},
   "source": [
    "<h3 id=\"exo7\">Exercice 7</h3>\n",
    "\n",
    "Il faut imaginer que $p$ peut être représenté sous forme de matrice et qu'à chaque fois, on prend le meilleur chemin parmi 2 :\n",
    "\n",
    "- Chemin horizontal : on ne choisit pas la paire $m$.\n",
    "- Chemin diagonal : on choisit la paire $m$ pour le skieur $n$"
   ]
  },
  {
   "cell_type": "code",
   "execution_count": 3,
   "metadata": {
    "collapsed": false
   },
   "outputs": [
    {
     "data": {
      "image/png": "[encoded data removed]",
      "text/plain": [
       "<IPython.core.display.Image at 0x849f350>"
      ]
     },
     "execution_count": 3,
     "metadata": {},
     "output_type": "execute_result"
    }
   ],
   "source": [
    "from pyquickhelper import NbImage\n",
    "NbImage('graph_notebook_ski.png') "
   ]
  },
  {
   "cell_type": "markdown",
   "metadata": {},
   "source": [
    "`` \\xymatrix{  & m-1  & m \\\\      n-1   &  p(n-1,m-1) \\ar[dr]^{ + \\abs{t_n - s_m}} &  p(n-1,m) \\\\      n     &  p(n,m-1)   \\ar[r] & p(n,m) \\\\ } ``"
   ]
  },
  {
   "cell_type": "code",
   "execution_count": 19,
   "metadata": {
    "collapsed": false
   },
   "outputs": [
    {
     "name": "stdout",
     "output_type": "stream",
     "text": [
      "0.19573001943098167\n",
      "(9, 14)\n",
      "(9, 13)\n",
      "(9, 12)\n",
      "(9, 11)\n",
      "(8, 10)\n",
      "(7, 9)\n",
      "(6, 8)\n",
      "(5, 7)\n",
      "(4, 6)\n",
      "(4, 5)\n",
      "(3, 4)\n",
      "(2, 3)\n",
      "(1, 2)\n",
      "(0, 1)\n",
      "[(0, 1), (1, 2), (2, 3), (3, 4), (4, 5), (4, 6), (5, 7), (6, 8), (7, 9), (8, 10), (9, 11), (9, 12), (9, 13), (9, 14)]\n"
     ]
    }
   ],
   "source": [
    "p = { }\n",
    "p [-1,-1] = 0\n",
    "best = { }\n",
    "for n,taille in enumerate(skieurs) : p[n,-1] = p[n-1,-1] + taille\n",
    "for m,paire  in enumerate(paires ) : p[-1,m] = 0\n",
    "for n,taille in enumerate(skieurs) :\n",
    "    for m,paire in enumerate(paires) :\n",
    "        p1 = p.get ( (n  ,m-1), 1e10 ) \n",
    "        p2 = p.get ( (n-1,m-1), 1e10 ) + abs(taille - paire)\n",
    "        p[n,m] = min(p1,p2)\n",
    "        \n",
    "        if p[n,m] == p1 : best [n,m] = n,m-1\n",
    "        else : best [n,m] = n-1,m-1\n",
    "        \n",
    "print (p[len(skieurs)-1,len(paires)-1])\n",
    "\n",
    "chemin = [ ]\n",
    "pos = len(skieurs)-1,len(paires)-1\n",
    "while pos in best :\n",
    "    print (pos)\n",
    "    chemin.append(pos)\n",
    "    pos = best[pos]\n",
    "chemin.reverse()\n",
    "print (chemin)"
   ]
  },
  {
   "cell_type": "markdown",
   "metadata": {},
   "source": [
    "<h3 id=\"exo8\">Exercice 8</h3>\n",
    "\n",
    "Les deux algorithmes ont un coût quadratique."
   ]
  },
  {
   "cell_type": "markdown",
   "metadata": {},
   "source": [
    "<h3 id=\"prol\">Prolongements : degré de séparation sur Facebook</h3>"
   ]
  },
  {
   "cell_type": "code",
   "execution_count": 11,
   "metadata": {
    "collapsed": false
   },
   "outputs": [
    {
     "name": "stdout",
     "output_type": "stream",
     "text": [
      "(60050, 2)\n"
     ]
    },
    {
     "data": {
      "text/html": [
       "<div style=\"max-height:1000px;max-width:1500px;overflow:auto;\">\n",
       "<table border=\"1\" class=\"dataframe\">\n",
       "  <thead>\n",
       "    <tr style=\"text-align: right;\">\n",
       "      <th></th>\n",
       "      <th>v1</th>\n",
       "      <th>v2</th>\n",
       "    </tr>\n",
       "  </thead>\n",
       "  <tbody>\n",
       "    <tr>\n",
       "      <th>0</th>\n",
       "      <td> 2290</td>\n",
       "      <td> 2363</td>\n",
       "    </tr>\n",
       "    <tr>\n",
       "      <th>1</th>\n",
       "      <td> 2346</td>\n",
       "      <td> 2025</td>\n",
       "    </tr>\n",
       "    <tr>\n",
       "      <th>2</th>\n",
       "      <td> 2140</td>\n",
       "      <td> 2428</td>\n",
       "    </tr>\n",
       "    <tr>\n",
       "      <th>3</th>\n",
       "      <td> 2201</td>\n",
       "      <td> 2506</td>\n",
       "    </tr>\n",
       "    <tr>\n",
       "      <th>4</th>\n",
       "      <td> 2425</td>\n",
       "      <td> 2557</td>\n",
       "    </tr>\n",
       "  </tbody>\n",
       "</table>\n",
       "</div>"
      ],
      "text/plain": [
       "     v1    v2\n",
       "0  2290  2363\n",
       "1  2346  2025\n",
       "2  2140  2428\n",
       "3  2201  2506\n",
       "4  2425  2557"
      ]
     },
     "execution_count": 11,
     "metadata": {},
     "output_type": "execute_result"
    }
   ],
   "source": [
    "import pyensae # utiliser pyensae >= 0.8\n",
    "files = pyensae.download_data(\"facebook.tar.gz\",website=\"http://snap.stanford.edu/data/\")\n",
    "import pandas\n",
    "df = pandas.read_csv(\"facebook/1912.edges\", sep=\" \", names=[\"v1\",\"v2\"])\n",
    "print(df.shape)\n",
    "df.head()"
   ]
  },
  {
   "cell_type": "code",
   "execution_count": null,
   "metadata": {
    "collapsed": false
   },
   "outputs": [],
   "source": []
  }
 ],
 "metadata": {},
 "nbformat": 4,
 "nbformat_minor": 0
}