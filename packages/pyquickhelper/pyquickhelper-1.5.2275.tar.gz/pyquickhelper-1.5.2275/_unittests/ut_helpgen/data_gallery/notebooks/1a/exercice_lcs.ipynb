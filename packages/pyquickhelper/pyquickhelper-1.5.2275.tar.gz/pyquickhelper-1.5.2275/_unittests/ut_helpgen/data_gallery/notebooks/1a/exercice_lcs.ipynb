{
  "cells": [
    {
      "cell_type": "markdown",
      "metadata": {},
      "source": [
        "# La plus grande s\u00e9quence commune"
      ]
    },
    {
      "cell_type": "markdown",
      "metadata": {},
      "source": [
        "Aussi connu sous le nom _longest common subsequence_. C'est un probl\u00e8me classique de programmation dynamique que la page Wikipedia r\u00e9sume tr\u00e8s bien : [Longest common subsequence problem](http://en.wikipedia.org/wiki/Longest_common_subsequence). Vous trouverez une solution d\u00e9taill\u00e9e [Exercice 2 : plus grande s\u00e9quence croissante](http://www.xavierdupre.fr/app/ensae_teaching_cs/helpsphinx/notebooks/td1a_correction_session_11.html#exo2)."
      ]
    },
    {
      "cell_type": "code",
      "execution_count": null,
      "metadata": {
        "collapsed": false
      },
      "outputs": [],
      "source": []
    }
  ],
  "metadata": {},
  "nbformat": 4,
  "nbformat_minor": 0
}