{
  "cells": [
    {
      "cell_type": "markdown",
      "metadata": {},
      "source": [
        "# Huge datasets, datasets hi\u00e9rarchiques"
      ]
    },
    {
      "cell_type": "markdown",
      "metadata": {},
      "source": [
        "Plan\n",
        "\n",
        "- [Introduction](#intro)\n",
        "\n",
        "<h3 id=\"intro\">Introduction</h3>\n",
        "\n",
        "L'exemple [Building a huge numpy array using pytables](http://stackoverflow.com/questions/8642626/building-a-huge-numpy-array-using-pytables) montre cr\u00e9er une grande matrice qui ne tient pourtant pas en m\u00e9moire. Le module [h5py](http://www.h5py.org/) est un module qui permet d'agr\u00e9ger un grand nombre de donn\u00e9es dans un seul fichier et de les nommer comme des fichiers sur un disque. L'exemple suivant cr\u00e9e un seul fichier contenant deux tableaux :"
      ]
    },
    {
      "cell_type": "code",
      "execution_count": null,
      "metadata": {
        "collapsed": false
      },
      "outputs": [
        {
          "name": "stdout",
          "output_type": "stream",
          "text": [
            "<HDF5 file \"example.hdf5\" (mode r)>\n",
            "random f0_100 <HDF5 dataset \"f0_100\": shape (1000,), type \"<i4\"> (1000,)\n",
            "random f0_1000 <HDF5 dataset \"f0_1000\": shape (10000,), type \"<i4\"> (10000,)\n"
          ]
        }
      ],
      "source": [
        "import h5py\n",
        "import random\n",
        "hf = h5py.File('example.hdf5','w')\n",
        "arr = [ random.randint(0,100) for h in range(0,1000) ]\n",
        "hf[\"random/f0_100\"] = arr\n",
        "arr = [ random.randint(0,1000) for h in range(0,10000) ]\n",
        "hf[\"random/f0_1000\"] = arr\n",
        "hf.close()\n",
        "\n",
        "hf = h5py.File('example.hdf5','r')\n",
        "print(hf)\n",
        "for k in hf :\n",
        "    for k2 in hf[k] :\n",
        "        obj =hf[\"{0}/{1}\".format(k,k2)]\n",
        "        print(k, k2, obj, obj.value.shape)\n",
        "hf.close()"
      ]
    },
    {
      "cell_type": "markdown",
      "metadata": {},
      "source": [
        "L'avantage est de pouvoir acc\u00e9der \u00e0 une partie d'un ensemble sans que celui-ci ne soit charg\u00e9 en m\u00e9moire :"
      ]
    },
    {
      "cell_type": "code",
      "execution_count": null,
      "metadata": {
        "collapsed": false
      },
      "outputs": [
        {
          "name": "stdout",
          "output_type": "stream",
          "text": [
            "[806  47 605 126 440]\n"
          ]
        }
      ],
      "source": [
        "hf = h5py.File('example.hdf5','r')\n",
        "print(hf[\"random/f0_1000\"][20:25])\n",
        "hf.close()"
      ]
    },
    {
      "cell_type": "markdown",
      "metadata": {},
      "source": [
        "Les deux autres modules int\u00e9ressants sont [pytables](http://pytables.github.io/) et [blosc](http://www.blosc.org/)."
      ]
    },
    {
      "cell_type": "code",
      "execution_count": null,
      "metadata": {
        "collapsed": false
      },
      "outputs": [],
      "source": []
    }
  ],
  "metadata": {},
  "nbformat": 4,
  "nbformat_minor": 0
}