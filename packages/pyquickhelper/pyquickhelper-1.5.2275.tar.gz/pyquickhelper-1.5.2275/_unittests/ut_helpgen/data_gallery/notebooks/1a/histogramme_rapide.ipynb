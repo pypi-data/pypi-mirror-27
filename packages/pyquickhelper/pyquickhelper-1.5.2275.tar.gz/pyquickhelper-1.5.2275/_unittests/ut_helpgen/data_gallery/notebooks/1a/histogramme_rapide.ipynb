{
  "cells": [
    {
      "cell_type": "markdown",
      "metadata": {},
      "source": [
        "# Histogramme et dictionnaire"
      ]
    },
    {
      "cell_type": "markdown",
      "metadata": {},
      "source": [
        "Compter les occurences de nombres dans une liste est assez facile avec un dictionnaire."
      ]
    },
    {
      "cell_type": "code",
      "execution_count": null,
      "metadata": {
        "collapsed": true
      },
      "outputs": [],
      "source": [
        "import random\n",
        "num = [random.randint(0,10) for i in range(1000)]"
      ]
    },
    {
      "cell_type": "code",
      "execution_count": null,
      "metadata": {
        "collapsed": false
      },
      "outputs": [],
      "source": [
        "hist = {}\n",
        "for i in num:\n",
        "    hist[i] = hist.get(i, 0) + 1"
      ]
    },
    {
      "cell_type": "code",
      "execution_count": null,
      "metadata": {
        "collapsed": false
      },
      "outputs": [
        {
          "data": {
            "text/plain": [
              "{0: 84,\n",
              " 1: 100,\n",
              " 2: 87,\n",
              " 3: 84,\n",
              " 4: 72,\n",
              " 5: 99,\n",
              " 6: 94,\n",
              " 7: 91,\n",
              " 8: 90,\n",
              " 9: 116,\n",
              " 10: 83}"
            ]
          },
          "execution_count": null,
          "metadata": {},
          "output_type": "execute_result"
        }
      ],
      "source": [
        "hist"
      ]
    },
    {
      "cell_type": "markdown",
      "metadata": {},
      "source": [
        "Mesurer le temps que cela prend :"
      ]
    },
    {
      "cell_type": "code",
      "execution_count": null,
      "metadata": {
        "collapsed": false
      },
      "outputs": [
        {
          "name": "stdout",
          "output_type": "stream",
          "text": [
            "1000 loops, best of 3: 331 \u00b5s per loop\n"
          ]
        }
      ],
      "source": [
        "def count1(num):\n",
        "    hist = {}\n",
        "    for i in num:\n",
        "        hist[i] = hist.get(i, 0) + 1\n",
        "    return hist\n",
        "\n",
        "%timeit count1(num)"
      ]
    },
    {
      "cell_type": "markdown",
      "metadata": {},
      "source": [
        "Comparons avec une autre impl\u00e9mentation :"
      ]
    },
    {
      "cell_type": "code",
      "execution_count": null,
      "metadata": {
        "collapsed": false
      },
      "outputs": [
        {
          "name": "stdout",
          "output_type": "stream",
          "text": [
            "1000 loops, best of 3: 221 \u00b5s per loop\n"
          ]
        }
      ],
      "source": [
        "def count2(num):\n",
        "    hist = {}\n",
        "    for i in num:\n",
        "        if i in hist:\n",
        "            hist[i] += 1\n",
        "        else:\n",
        "            hist[i] = 1\n",
        "    return hist\n",
        "\n",
        "%timeit count2(num)"
      ]
    },
    {
      "cell_type": "markdown",
      "metadata": {},
      "source": [
        "Et une derni\u00e8re version, la plus rapide :"
      ]
    },
    {
      "cell_type": "code",
      "execution_count": null,
      "metadata": {
        "collapsed": false
      },
      "outputs": [
        {
          "name": "stdout",
          "output_type": "stream",
          "text": [
            "10000 loops, best of 3: 106 \u00b5s per loop\n"
          ]
        }
      ],
      "source": [
        "from collections import Counter\n",
        "\n",
        "def count3(num):\n",
        "    return Counter(num)\n",
        "\n",
        "%timeit count3(num)"
      ]
    },
    {
      "cell_type": "code",
      "execution_count": null,
      "metadata": {
        "collapsed": true
      },
      "outputs": [],
      "source": []
    }
  ],
  "metadata": {
    "kernelspec": {
      "display_name": "Python 3",
      "language": "python",
      "name": "python3"
    },
    "language_info": {
      "codemirror_mode": {
        "name": "ipython",
        "version": 3
      },
      "file_extension": ".py",
      "mimetype": "text/x-python",
      "name": "python",
      "nbconvert_exporter": "python",
      "pygments_lexer": "ipython3",
      "version": "3.4.3"
    }
  },
  "nbformat": 4,
  "nbformat_minor": 0
}