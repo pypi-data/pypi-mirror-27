{
  "cells": [
    {
      "cell_type": "markdown",
      "metadata": {},
      "source": [
        "# TD 6 : Classes, h\u00e9ritage (correction)"
      ]
    },
    {
      "cell_type": "code",
      "execution_count": null,
      "metadata": {
        "collapsed": false
      },
      "outputs": [
        {
          "data": {
            "text/html": [
              "<b>Plan</b>\n",
              "<div id=\"my_menu_id\">run previous cell, wait for 2 seconds</div>\n",
              "<script>\n",
              "function repeat_indent_string(n){\n",
              "    var a = \"\" ;\n",
              "    for ( ; n > 0 ; --n) {\n",
              "        a += \"    \";\n",
              "    }\n",
              "    return a;\n",
              "}\n",
              "var update_menu = function() {\n",
              "    var anchors = document.getElementsByClassName(\"section\");\n",
              "    if (anchors.length == 0) {\n",
              "        anchors = document.getElementsByClassName(\"text_cell_render rendered_html\");\n",
              "    }\n",
              "    var i;\n",
              "    var text_menu = \"\";\n",
              "    var ind = \"\";\n",
              "    var memo_level = 1;\n",
              "    var href;\n",
              "    for (i = 0; i < anchors.length; i++) {\n",
              "        var child = anchors[i].children[0];\n",
              "        if (anchors[i].hasAttribute(\"id\")) {\n",
              "            href = anchors[i].id;\n",
              "        }\n",
              "        else if (child.hasAttribute(\"id\")) {\n",
              "            href = child.id;\n",
              "        }\n",
              "        else {\n",
              "            continue;\n",
              "        }\n",
              "        var title = child.textContent;\n",
              "        var level = parseInt(child.tagName.substring(1,2));\n",
              "        if ((level <= 2) || (level > 4)) {\n",
              "            continue ;\n",
              "        }\n",
              "        if (title.endsWith('\u00b6')) {\n",
              "            title = title.substring(0,title.length-1).replace(\"<\", \"&lt;\").replace(\">\", \"&gt;\").replace(\"&\", \"&amp;\")\n",
              "        }\n",
              "        if (title.length == 0) {\n",
              "            continue;\n",
              "        }\n",
              "        while (level > memo_level) {\n",
              "            text_menu += \"<ul>\\n\";\n",
              "            memo_level += 1;\n",
              "        }\n",
              "        while (level < memo_level) {\n",
              "            text_menu += \"</ul>\\n\";\n",
              "            memo_level -= 1;\n",
              "        }\n",
              "        text_menu += repeat_indent_string(level-2) + '<li><a href=\"#' + href + '\">' + title + '</a></li>';\n",
              "    }\n",
              "    while (1 < memo_level) {\n",
              "        text_menu += \"</ul>\\n\";\n",
              "        memo_level -= 1;\n",
              "    }\n",
              "    text_menu += \"\";\n",
              "    var menu = document.getElementById(\"my_menu_id\");\n",
              "    menu.innerHTML=text_menu;\n",
              "};\n",
              "window.setTimeout(update_menu,2000);\n",
              "            </script>"
            ],
            "text/plain": [
              "<IPython.core.display.HTML object>"
            ]
          },
          "execution_count": null,
          "metadata": {},
          "output_type": "execute_result"
        }
      ],
      "source": [
        "from jyquickhelper import add_notebook_menu\n",
        "add_notebook_menu()"
      ]
    },
    {
      "cell_type": "markdown",
      "metadata": {},
      "source": [
        "### Exercice 1 : pi\u00e8ce normale"
      ]
    },
    {
      "cell_type": "code",
      "execution_count": null,
      "metadata": {
        "collapsed": false
      },
      "outputs": [
        {
          "name": "stdout",
          "output_type": "stream",
          "text": [
            "0.48\n"
          ]
        }
      ],
      "source": [
        "import random\n",
        "class Piece :\n",
        "    def tirage_aleatoire(self, precedent) :\n",
        "        return random.randint(0,1)\n",
        "    def moyenne_tirage(self, n):\n",
        "        tirage = [ ]\n",
        "        for i in range (n) :\n",
        "            precedent = tirage[-1] if i > 0 else None\n",
        "            tirage.append( self.tirage_aleatoire (precedent) )\n",
        "        s = sum(tirage)\n",
        "        return s * 1.0 / len(tirage)\n",
        "            \n",
        "p = Piece()\n",
        "print (p.moyenne_tirage(100))"
      ]
    },
    {
      "cell_type": "markdown",
      "metadata": {},
      "source": [
        "### Exercice 2 : pi\u00e8ce truqu\u00e9e"
      ]
    },
    {
      "cell_type": "code",
      "execution_count": null,
      "metadata": {
        "collapsed": false
      },
      "outputs": [
        {
          "name": "stdout",
          "output_type": "stream",
          "text": [
            "0.58\n"
          ]
        }
      ],
      "source": [
        "class PieceTruquee (Piece) :\n",
        "    def tirage_aleatoire(self, precedent) :\n",
        "        if precedent == None or precedent == 1 :\n",
        "            return random.randint(0,1)\n",
        "        else :\n",
        "            return 1 if random.randint(0,9) >= 3 else 0\n",
        "        \n",
        "p = PieceTruquee()\n",
        "print (p.moyenne_tirage(100))"
      ]
    },
    {
      "cell_type": "markdown",
      "metadata": {},
      "source": [
        "### Exercice 3 : Pi\u00e8ce mixte"
      ]
    },
    {
      "cell_type": "code",
      "execution_count": null,
      "metadata": {
        "collapsed": false
      },
      "outputs": [
        {
          "name": "stdout",
          "output_type": "stream",
          "text": [
            "0.67\n"
          ]
        }
      ],
      "source": [
        "class PieceTruqueeMix (PieceTruquee) :\n",
        "    def tirage_aleatoire(self, precedent) :\n",
        "        if random.randint(0,1) == 0 :\n",
        "            return Piece.tirage_aleatoire(self, precedent)\n",
        "        else :\n",
        "            return PieceTruquee.tirage_aleatoire(self, precedent)\n",
        "        \n",
        "p = PieceTruqueeMix()\n",
        "print (p.moyenne_tirage(100))"
      ]
    },
    {
      "cell_type": "markdown",
      "metadata": {},
      "source": [
        "### Exercice 4 : pi\u00e8ce mixte avec des fonctions"
      ]
    },
    {
      "cell_type": "code",
      "execution_count": null,
      "metadata": {
        "collapsed": false
      },
      "outputs": [
        {
          "name": "stdout",
          "output_type": "stream",
          "text": [
            "0.51\n"
          ]
        }
      ],
      "source": [
        "# ce qui vient de l'\u00e9nonc\u00e9\n",
        "def moyenne_tirage(n, fonction):\n",
        "    \"\"\"\n",
        "    cette fonction fait la moyenne des r\u00e9sultats produits par la fonction pass\u00e9e en argument\n",
        "    \"\"\"\n",
        "    tirage = [ ]\n",
        "    for i in range (n) :\n",
        "        precedent = tirage[-1] if i > 0 else None\n",
        "        tirage.append( fonction (precedent) )\n",
        "    s = sum(tirage)\n",
        "    return s * 1.0 / len(tirage)\n",
        "        \n",
        "def truquee (precedent) :\n",
        "    if precedent == None or precedent == 1 :\n",
        "        return random.randint(0,1)\n",
        "    else :\n",
        "        return 1 if random.randint(0,9) >= 3 else 0\n",
        "\n",
        "# la partie ajout\u00e9e pour la correction\n",
        "print (moyenne_tirage(100, lambda v : random.randint(0,1) if  random.randint(0,1) == 0 \\\n",
        "                    else truquee(v)))"
      ]
    }
  ],
  "metadata": {
    "kernelspec": {
      "display_name": "Python 3",
      "language": "python",
      "name": "python3"
    },
    "language_info": {
      "codemirror_mode": {
        "name": "ipython",
        "version": 3
      },
      "file_extension": ".py",
      "mimetype": "text/x-python",
      "name": "python",
      "nbconvert_exporter": "python",
      "pygments_lexer": "ipython3",
      "version": "3.4.3"
    }
  },
  "nbformat": 4,
  "nbformat_minor": 0
}