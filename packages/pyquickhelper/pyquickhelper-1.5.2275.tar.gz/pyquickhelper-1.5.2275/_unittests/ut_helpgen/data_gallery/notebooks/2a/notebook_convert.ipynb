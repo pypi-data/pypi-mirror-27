{
  "cells": [
    {
      "cell_type": "markdown",
      "metadata": {},
      "source": [
        "# Convert a notebook into a document"
      ]
    },
    {
      "cell_type": "markdown",
      "metadata": {},
      "source": [
        "First, we need to retrieve the notebook name (see [How to I get the current IPython Notebook name](http://stackoverflow.com/questions/12544056/how-to-i-get-the-current-ipython-notebook-name)):"
      ]
    },
    {
      "cell_type": "code",
      "execution_count": null,
      "metadata": {
        "collapsed": false
      },
      "outputs": [
        {
          "data": {
            "application/javascript": [
              "var kernel = IPython.notebook.kernel;\n",
              "var body = document.body,  \n",
              "    attribs = body.attributes;\n",
              "var command = \"theNotebook = \" + \"'\"+attribs['data-notebook-name'].value+\"'\";\n",
              "kernel.execute(command);"
            ],
            "text/plain": [
              "<IPython.core.display.Javascript object>"
            ]
          },
          "metadata": {},
          "output_type": "display_data"
        }
      ],
      "source": [
        "%%javascript\n",
        "var kernel = IPython.notebook.kernel;\n",
        "var body = document.body,  \n",
        "    attribs = body.attributes;\n",
        "var command = \"theNotebook = \" + \"'\"+attribs['data-notebook-name'].value+\"'\";\n",
        "kernel.execute(command);"
      ]
    },
    {
      "cell_type": "code",
      "execution_count": null,
      "metadata": {
        "collapsed": false
      },
      "outputs": [
        {
          "data": {
            "text/plain": [
              "'notebook_convert.ipynb'"
            ]
          },
          "execution_count": null,
          "metadata": {},
          "output_type": "execute_result"
        }
      ],
      "source": [
        "if \"theNotebook\" in locals():\n",
        "    a=theNotebook\n",
        "else:\n",
        "    a=\"pas trouv\u00e9\"\n",
        "a"
      ]
    },
    {
      "cell_type": "markdown",
      "metadata": {},
      "source": [
        "On Windows, you might need to execute the following trick (see [Pywin32 does not find its DLL](http://www.xavierdupre.fr/blog/2014-07-01_nojs.html))."
      ]
    },
    {
      "cell_type": "code",
      "execution_count": null,
      "metadata": {
        "collapsed": false
      },
      "outputs": [
        {
          "data": {
            "text/plain": [
              "<module 'win32com' from 'C:\\\\Python34_x64\\\\lib\\\\site-packages\\\\win32com\\\\__init__.py'>"
            ]
          },
          "execution_count": null,
          "metadata": {},
          "output_type": "execute_result"
        }
      ],
      "source": [
        "from pyquickhelper.helpgen.utils_pywin32 import import_pywin32\n",
        "import_pywin32()"
      ]
    },
    {
      "cell_type": "markdown",
      "metadata": {},
      "source": [
        "Then, we call the following code:"
      ]
    },
    {
      "cell_type": "code",
      "execution_count": null,
      "metadata": {
        "collapsed": false
      },
      "outputs": [],
      "source": [
        "from nbconvert import HTMLExporter\n",
        "exportHtml = HTMLExporter()\n",
        "if a != \"pas trouv\u00e9\":\n",
        "    body,resources = exportHtml.from_filename(theNotebook)\n",
        "    with open(\"conv_notebook.html\",\"w\",encoding=\"utf8\") as f : f.write(body)"
      ]
    },
    {
      "cell_type": "markdown",
      "metadata": {},
      "source": [
        "We can do it with the RST format (see [RSTExporter](https://nbconvert.readthedocs.io/en/latest/api/exporters.html?highlight=rstexporter#nbconvert.exporters.RSTExporter))."
      ]
    },
    {
      "cell_type": "code",
      "execution_count": null,
      "metadata": {
        "collapsed": false
      },
      "outputs": [],
      "source": [
        "from nbconvert import RSTExporter\n",
        "exportRst = RSTExporter()\n",
        "if a != \"pas trouv\u00e9\":\n",
        "    body,resources = exportRst.from_filename(theNotebook)\n",
        "    with open(\"conv_notebook.rst\",\"w\",encoding=\"utf8\") as f : f.write(body)"
      ]
    },
    {
      "cell_type": "markdown",
      "metadata": {},
      "source": [
        "If you need to add custom RST instructions, you could add HTML comments:\n",
        "\n",
        "<!--RST ..index:: conversion,nbconvert !RST-->\n",
        "\n",
        "``<!--RST ..index:: conversion,nbconvert !RST-->``\n",
        "       \n",
        "And write custom code to add it to your RST file."
      ]
    },
    {
      "cell_type": "markdown",
      "metadata": {},
      "source": [
        "Finally, if you want to retrieve the download a local file such as the RST conversion for example:\n",
        "\n",
        "<!--RST ..index:: FileLink !RST-->"
      ]
    },
    {
      "cell_type": "code",
      "execution_count": null,
      "metadata": {
        "collapsed": false
      },
      "outputs": [
        {
          "data": {
            "text/html": [
              "<a href='conv_notebook.rst' target='_blank'>conv_notebook.rst</a><br>"
            ],
            "text/plain": [
              "GitHub\\ensae_teaching_cs\\_doc\\notebooks\\2a\\conv_notebook.rst"
            ]
          },
          "execution_count": null,
          "metadata": {},
          "output_type": "execute_result"
        }
      ],
      "source": [
        "from IPython.display import FileLink\n",
        "FileLink(\"conv_notebook.rst\")"
      ]
    },
    {
      "cell_type": "code",
      "execution_count": null,
      "metadata": {
        "collapsed": false
      },
      "outputs": [],
      "source": []
    }
  ],
  "metadata": {
    "kernelspec": {
      "display_name": "Python 3",
      "language": "python",
      "name": "python3"
    },
    "language_info": {
      "codemirror_mode": {
        "name": "ipython",
        "version": 3
      },
      "file_extension": ".py",
      "mimetype": "text/x-python",
      "name": "python",
      "nbconvert_exporter": "python",
      "pygments_lexer": "ipython3",
      "version": "3.4.3"
    }
  },
  "nbformat": 4,
  "nbformat_minor": 0
}