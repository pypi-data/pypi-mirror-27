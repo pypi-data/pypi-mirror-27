{
  "cells": [
    {
      "cell_type": "markdown",
      "metadata": {},
      "source": [
        "# Casser le code de Vigen\u00e8re"
      ]
    },
    {
      "cell_type": "markdown",
      "metadata": {},
      "source": [
        "La lettre la plus fr\u00e9quente en fran\u00e7ais est la lettre E. Cette information permet de casser le code de C\u00e9sar en calculant le d\u00e9calage entre la lettre la plus fr\u00e9quente du message cod\u00e9 et E. Mais cette m\u00eame m\u00e9thode ne marchera pas pour casser le [code de Vigen\u00e8re](http://fr.wikipedia.org/wiki/Chiffre_de_Vigen%C3%A8re). Babbage a contourn\u00e9 cet obstacle en \u00e9tudiant la fr\u00e9quence des groupes de trois lettres.\n",
        "\n",
        "[Charles Babbage](http://fr.wikipedia.org/wiki/Charles_Babbage) s'est dit qu'un groupe de trois lettres cons\u00e9cutives avaient toutes les chances, \u00e0 chaque fois qu'il apparaissait dans le message chiffr\u00e9, d'\u00eatre la cons\u00e9quence du chiffrement des m\u00eames lettres du message avec les m\u00eames lettres de la cl\u00e9 (voir [Cryptanalyse du chiffre de Vigen\u00e8re](http://fr.wikipedia.org/wiki/Cryptanalyse_du_chiffre_de_Vigen%C3%A8re)). Pour un groupe de quatre lettres, c'est encore plus probable. Par cons\u00e9quent, l'espacement entre deux m\u00eames groupes de lettres chiffr\u00e9es est un multiple de la longueur de la cl\u00e9. Par exemple, si la r\u00e9p\u00e9tition d'un groupe est espac\u00e9e de 30 lettres, puis celle d'un autre de 25, le plus grand diviseur commun de 25 et 30 est 5. La cl\u00e9 poss\u00e8de donc dans ce cas 5 lettres.\n",
        "\n",
        "La premi\u00e8re fonction crypte et d\u00e9crypte le code de Vigen\u00e8re connaissant la cl\u00e9."
      ]
    },
    {
      "cell_type": "code",
      "execution_count": null,
      "metadata": {
        "collapsed": false
      },
      "outputs": [],
      "source": [
        "def code_vigenere ( message, cle, decode = False) :\n",
        "    message_code = \"\"\n",
        "    for i,c in enumerate(message) :\n",
        "        d = cle[ i % len(cle) ]\n",
        "        d = ord(d) - 65\n",
        "        if decode : d = 26 - d\n",
        "        message_code += chr((ord(c)-65+d)%26+65)\n",
        "    return message_code\n",
        "    \n",
        "def DecodeVigenere(message, cle):\n",
        "    return code_vigenere(message, cle, True)\n",
        "    \n",
        "def CodeVigenere(message, cle):\n",
        "    return code_vigenere(message, cle)"
      ]
    },
    {
      "cell_type": "markdown",
      "metadata": {},
      "source": [
        "Les deux fonctions suivantes estime la longueur de la cl\u00e9."
      ]
    },
    {
      "cell_type": "code",
      "execution_count": null,
      "metadata": {
        "collapsed": false
      },
      "outputs": [],
      "source": [
        "def PGCD (m,n) :\n",
        "    if m <= 0 or n <= 0 : raise Exception(\"impossible de calculer le PGCD\")\n",
        "    if m == 1 or n == 1 : return 1\n",
        "    if m == n : return m\n",
        "    if m < n : return PGCD (m, n-m)\n",
        "    return PGCD (n, m-n)\n",
        "\n",
        "def DecodeVigenereLongueurCle (message, mot = 3) :\n",
        "    \"\"\"\n",
        "    cette fonction determine la longueur de la cl\u00e9, elle \n",
        "    rep\u00e8re les groupes de trois lettres qui se r\u00e9p\u00e8te dans le message cod\u00e9\n",
        "    et suppose qu'il y a une tr\u00e8s forte probabilit\u00e9 qu'un m\u00eame groupe de trois\n",
        "    lettres soit cod\u00e9 avec les m\u00eames trois lettres du message et les m\u00eames trois \n",
        "    lettres de la cl\u00e9\n",
        "    \n",
        "    message  : .....DES...........DES...........DES.........DES....DES\n",
        "    cle      : ABCDABCDABCDABCDABCDABCDABCDABCDABCDABCDABCDABCDABCDABCDABCD\n",
        "    code     : .....EGV.........................EGV.........EGV..........\n",
        "    distance :      <----------24--------------><----8----->\n",
        "    \n",
        "    la longueur de la cl\u00e9 divise le PGCD de 24 et 8\n",
        "    \"\"\"\n",
        "    al = \"\".join([ chr(97+i) for i in range(0,26) ]) # l'alphabet\n",
        "    al = al.upper ()\n",
        "    \n",
        "    # parcours du message pour recenser toutes les positions\n",
        "    dico = {}\n",
        "    for i in range (0, len (message)-2) :\n",
        "        t = message [i:i+mot]\n",
        "        if t in dico : dico [t].append (i)\n",
        "        else : dico [t] = [i]\n",
        "\n",
        "    # on va garder toutes les distances entre \n",
        "    # entre deux occurrences du meme mot de n lettres\n",
        "    dis = []\n",
        "    for d in dico :\n",
        "        p = dico [d]\n",
        "        if len (p) > 1 :\n",
        "            for i in range (0, len (p)-1) : \n",
        "                #print d, p [i+1] - p [i], \" --- \", float (p [i+1] - p [i]) / 8\n",
        "                dis.append ( p [i+1] - p [i] )\n",
        "\n",
        "    # on extrait le PGCD\n",
        "    if len (dis) == 0 : \n",
        "        raise Exception(\"impossible de determiner la cl\u00e9\")\n",
        "        \n",
        "    if len (dis) == 1 : return dis [0]\n",
        "        \n",
        "    longueur = PGCD (dis [0], dis [1])\n",
        "    for d in dis : \n",
        "        longueur = PGCD (longueur, d)\n",
        "        \n",
        "    if longueur > 5 : \n",
        "        # si la longueur est suffisante, le resultat a des chances d'etre bon\n",
        "        return longueur\n",
        "    else :\n",
        "        # sinon, on relance l'algorithme avec des mots plus grand\n",
        "        return DecodeVigenereLongueurCle (message, mot+1)"
      ]
    },
    {
      "cell_type": "markdown",
      "metadata": {},
      "source": [
        "La fonction suivante casse le code de Vigen\u00e8re connaissance la longueur de la cl\u00e9."
      ]
    },
    {
      "cell_type": "code",
      "execution_count": null,
      "metadata": {
        "collapsed": false
      },
      "outputs": [],
      "source": [
        "def DecodeVigenereCle (code, l) :\n",
        "    \"\"\"\n",
        "    D\u00e9termine la cle du message code, connaissant sa longueur,\n",
        "    on suppose que la lettre E est la lettre la plus fr\u00e9quente\n",
        "    \n",
        "    @param      code        message cod\u00e9\n",
        "    @param      l           longueur probable de la cl\u00e9\n",
        "    @return                 message d\u00e9cod\u00e9\n",
        "    \"\"\"\n",
        "    al  = \"\".join([ chr(97+i) for i in range(0,26) ]) \n",
        "    al  = al.upper ()\n",
        "    cle = \"\"\n",
        "    for i in range (0, l) :\n",
        "        nombre = [ 0 for a in al]\n",
        "        sous   = code [i:len (code):l]  # on extrait toutes les lettres\n",
        "                                        # i, i+l, i+2l; i+3l, ...\n",
        "\n",
        "        # on compte les lettres\n",
        "        for k in sous : nombre [ al.find (k) ] += 1\n",
        "        \n",
        "        # on cherche le maximum\n",
        "        p = 0 \n",
        "        for k in range (0, len (nombre)) :\n",
        "            if nombre [k] > nombre [p] : p = k\n",
        "            \n",
        "        # on suppose que al [p] est la lettre E code,\n",
        "        # il ne reste plus qu'a trouver la lettre de la cle\n",
        "        # qui a permis de coder E en al [p]\n",
        "        cle += al [ (p + 26 - al.find (\"E\")) % 26 ]\n",
        "        \n",
        "    return cle"
      ]
    },
    {
      "cell_type": "markdown",
      "metadata": {},
      "source": [
        "Enfin, la derni\u00e8re fonction qui casse le code en appelant toutes les autres :"
      ]
    },
    {
      "cell_type": "code",
      "execution_count": null,
      "metadata": {
        "collapsed": false
      },
      "outputs": [],
      "source": [
        "def CasseVigenere(message):\n",
        "    \"\"\"\n",
        "    appelle les deux fonctions @see fn DecodeVigenereLongueurCle et \n",
        "    @see fn DecodeVigenereCle pour casser le code de Vigen\u00e8re\n",
        "    \n",
        "    @param      message     message cod\u00e9\n",
        "    @return                 message d\u00e9cod\u00e9 (sans la cl\u00e9)\n",
        "    \"\"\"\n",
        "    l = DecodeVigenereLongueurCle(message)\n",
        "    cle = DecodeVigenereCle(message,l)\n",
        "    decode = DecodeVigenere(message, cle)\n",
        "    return decode"
      ]
    },
    {
      "cell_type": "markdown",
      "metadata": {},
      "source": [
        "Un petit example avec le [dernier jour d'un condamn\u00e9](http://www.gutenberg.org/ebooks/6838) qu'on r\u00e9cup\u00e8re depuis le site [Gutenberg](http://www.gutenberg.org/) :"
      ]
    },
    {
      "cell_type": "code",
      "execution_count": null,
      "metadata": {
        "collapsed": false
      },
      "outputs": [
        {
          "data": {
            "text/plain": [
              "224060"
            ]
          },
          "execution_count": null,
          "metadata": {},
          "output_type": "execute_result"
        }
      ],
      "source": [
        "from ensae_teaching_cs.data import gutenberg_name\n",
        "text = gutenberg_name(\"condamne\", load=True)\n",
        "len(text)"
      ]
    },
    {
      "cell_type": "markdown",
      "metadata": {},
      "source": [
        "On enl\u00e8ve les caract\u00e8res ind\u00e9sirables :"
      ]
    },
    {
      "cell_type": "code",
      "execution_count": null,
      "metadata": {
        "collapsed": false
      },
      "outputs": [],
      "source": [
        "message = text.replace (\"\\n\", \"\").replace (\"\\r\", \"\").replace (\"\\t\", \"\").replace (\" \", \"\").replace (\",\", \"\")\n",
        "message = message.replace (\";\", \"\").replace (\":\", \"\").replace (\".\", \"\").replace (\"'\", \"\").replace (\"\\\"\", \"\")\n",
        "message = message.replace (\"-\", \"\").replace (\"!\", \"\").replace (\"?\", \"\").replace (\"(\", \"\").replace (\")\", \"\")\n",
        "message = message.upper ()"
      ]
    },
    {
      "cell_type": "markdown",
      "metadata": {},
      "source": [
        "On le code une cl\u00e9 :"
      ]
    },
    {
      "cell_type": "code",
      "execution_count": null,
      "metadata": {
        "collapsed": false
      },
      "outputs": [],
      "source": [
        "message = message [5000:7000]  # on r\u00e9duit la taille du message\n",
        "code = CodeVigenere (message, \"VIGENERES\")"
      ]
    },
    {
      "cell_type": "markdown",
      "metadata": {},
      "source": [
        "Puis on essaye de retrouver la cl\u00e9 :"
      ]
    },
    {
      "cell_type": "code",
      "execution_count": null,
      "metadata": {
        "collapsed": false
      },
      "outputs": [
        {
          "data": {
            "text/plain": [
              "'VIGENERES'"
            ]
          },
          "execution_count": null,
          "metadata": {},
          "output_type": "execute_result"
        }
      ],
      "source": [
        "cle_code = DecodeVigenereCle (code, DecodeVigenereLongueurCle (code))\n",
        "cle_code"
      ]
    },
    {
      "cell_type": "code",
      "execution_count": null,
      "metadata": {
        "collapsed": false
      },
      "outputs": [],
      "source": []
    }
  ],
  "metadata": {
    "kernelspec": {
      "display_name": "Python 3",
      "language": "python",
      "name": "python3"
    },
    "language_info": {
      "codemirror_mode": {
        "name": "ipython",
        "version": 3
      },
      "file_extension": ".py",
      "mimetype": "text/x-python",
      "name": "python",
      "nbconvert_exporter": "python",
      "pygments_lexer": "ipython3",
      "version": "3.4.3"
    }
  },
  "nbformat": 4,
  "nbformat_minor": 0
}