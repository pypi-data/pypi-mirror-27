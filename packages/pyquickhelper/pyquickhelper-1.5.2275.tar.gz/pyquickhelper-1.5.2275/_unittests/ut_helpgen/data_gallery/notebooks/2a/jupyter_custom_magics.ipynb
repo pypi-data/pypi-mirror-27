{
  "cells": [
    {
      "cell_type": "markdown",
      "metadata": {},
      "source": [
        "# Custom Magics for Jupyter"
      ]
    },
    {
      "cell_type": "markdown",
      "metadata": {},
      "source": [
        "The following example shows how to define custom logic to your notebooks. You will find more details here: [Defining your own magics](http://ipython.readthedocs.io/en/stable/config/custommagics.html?defining-custom-magics). It works pretty simple. I just defined the magic commands ``%ENSAEl``, ``%%ENSAEb`` and both ``%ENSAE``, ``%%ENSAE``."
      ]
    },
    {
      "cell_type": "code",
      "execution_count": null,
      "metadata": {
        "collapsed": false
      },
      "outputs": [],
      "source": [
        "from ensae_teaching_cs.mypython.custom_magics import register_magics\n",
        "register_magics()"
      ]
    },
    {
      "cell_type": "code",
      "execution_count": null,
      "metadata": {
        "collapsed": false
      },
      "outputs": [
        {
          "data": {
            "text/html": [
              "<a href=\"http://www.xavierdupre.fr/app/ensae_teaching_cs/helpsphinx/index.html\">ENSAE TD</a>"
            ],
            "text/plain": [
              "<IPython.core.display.HTML at 0x634ebf0>"
            ]
          },
          "execution_count": null,
          "metadata": {},
          "output_type": "execute_result"
        }
      ],
      "source": [
        "%ENSAEl site"
      ]
    },
    {
      "cell_type": "code",
      "execution_count": null,
      "metadata": {
        "collapsed": false
      },
      "outputs": [
        {
          "data": {
            "text/html": [
              "<a href=\"http://www.xavierdupre.fr/blog/xd_blog_nojs.html\">blog</a>"
            ],
            "text/plain": [
              "<IPython.core.display.HTML at 0x634ed90>"
            ]
          },
          "execution_count": null,
          "metadata": {},
          "output_type": "execute_result"
        }
      ],
      "source": [
        "%ENSAE blog"
      ]
    },
    {
      "cell_type": "code",
      "execution_count": null,
      "metadata": {
        "collapsed": false
      },
      "outputs": [
        {
          "name": "stdout",
          "output_type": "stream",
          "text": [
            "    downloading of  http://www.xavierdupre.fr/enseignement/complements/stations.txt  to  stations.txt\n"
          ]
        },
        {
          "data": {
            "text/plain": [
              "'stations.txt'"
            ]
          },
          "execution_count": null,
          "metadata": {},
          "output_type": "execute_result"
        }
      ],
      "source": [
        "%ENSAE download stations.txt"
      ]
    },
    {
      "cell_type": "markdown",
      "metadata": {},
      "source": [
        "You will find the code there: [custom_magics.py](http://www.xavierdupre.fr/app/ensae_teaching_cs/helpsphinx3/ensae_teaching_cs/mypython/custom_magics.html)."
      ]
    },
    {
      "cell_type": "code",
      "execution_count": null,
      "metadata": {
        "collapsed": false
      },
      "outputs": [],
      "source": []
    }
  ],
  "metadata": {},
  "nbformat": 4,
  "nbformat_minor": 0
}