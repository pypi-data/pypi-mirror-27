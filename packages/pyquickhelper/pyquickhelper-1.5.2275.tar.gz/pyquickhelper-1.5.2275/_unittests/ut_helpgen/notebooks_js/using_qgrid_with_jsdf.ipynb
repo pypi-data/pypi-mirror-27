{
  "cells": [
    {
      "cell_type": "markdown",
      "metadata": {
        "deletable": true,
        "editable": true
      },
      "source": [
        "# using qgrid with jsdf"
      ]
    },
    {
      "cell_type": "markdown",
      "metadata": {
        "deletable": true,
        "editable": true
      },
      "source": [
        "This follows module [qgrid](https://github.com/quantopian/qgrid). You can find some options at [SlickGrid/Grid-Options](https://github.com/mleibman/SlickGrid/wiki/Grid-Options.)"
      ]
    },
    {
      "cell_type": "code",
      "execution_count": null,
      "metadata": {
        "collapsed": true,
        "deletable": true,
        "editable": true
      },
      "outputs": [],
      "source": [
        "import pyensae\n",
        "%load_ext pyensae"
      ]
    },
    {
      "cell_type": "code",
      "execution_count": null,
      "metadata": {
        "collapsed": false,
        "deletable": true,
        "editable": true
      },
      "outputs": [
        {
          "data": {
            "text/html": [
              "<div>\n",
              "<table border=\"1\" class=\"dataframe\">\n",
              "  <thead>\n",
              "    <tr style=\"text-align: right;\">\n",
              "      <th></th>\n",
              "      <th>x</th>\n",
              "      <th>y</th>\n",
              "    </tr>\n",
              "  </thead>\n",
              "  <tbody>\n",
              "    <tr>\n",
              "      <th>0</th>\n",
              "      <td>2</td>\n",
              "      <td>3</td>\n",
              "    </tr>\n",
              "    <tr>\n",
              "      <th>1</th>\n",
              "      <td>4</td>\n",
              "      <td>5</td>\n",
              "    </tr>\n",
              "  </tbody>\n",
              "</table>\n",
              "</div>"
            ],
            "text/plain": [
              "   x  y\n",
              "0  2  3\n",
              "1  4  5"
            ]
          },
          "execution_count": null,
          "metadata": {},
          "output_type": "execute_result"
        }
      ],
      "source": [
        "import pandas\n",
        "df = pandas.DataFrame([{\"x\":2, \"y\":3},{\"x\":4, \"y\":5}])\n",
        "df"
      ]
    },
    {
      "cell_type": "code",
      "execution_count": null,
      "metadata": {
        "collapsed": false,
        "deletable": true,
        "editable": true
      },
      "outputs": [
        {
          "data": {
            "application/vnd.jupyter.widget-view+json": {
              "model_id": "cdd70b93bce742f0a58deb3655b3f10a"
            }
          },
          "metadata": {},
          "output_type": "display_data"
        },
        {
          "data": {
            "text/plain": [
              "''"
            ]
          },
          "execution_count": null,
          "metadata": {},
          "output_type": "execute_result"
        }
      ],
      "source": [
        "%jsdf df --remote_slick=True"
      ]
    },
    {
      "cell_type": "code",
      "execution_count": null,
      "metadata": {
        "collapsed": false,
        "deletable": true,
        "editable": true
      },
      "outputs": [
        {
          "name": "stdout",
          "output_type": "stream",
          "text": [
            "usage: jsdf [-h] [--defaultColumnWidth DEFAULTCOLUMNWIDTH]\n",
            "            [--enableColumnReorder ENABLECOLUMNREORDER]\n",
            "            [--multiColumnSort MULTICOLUMNSORT] [--rowHeight ROWHEIGHT]\n",
            "            [--showHeaderRow SHOWHEADERROW]\n",
            "            [--forceFitColumns FORCEFITCOLUMNS] [--autoHeight AUTOHEIGHT]\n",
            "            [--enableCellNavigation ENABLECELLNAVIGATION]\n",
            "            [--remote_slick REMOTE_SLICK] [--precision PRECISION]\n",
            "            [--editable EDITABLE]\n",
            "            df\n",
            "\n",
            "display a pandas DataFrame based on module qgrid\n",
            "\n",
            "positional arguments:\n",
            "  df                    dataframe to display\n",
            "\n",
            "optional arguments:\n",
            "  -h, --help            show this help message and exit\n",
            "  --defaultColumnWidth DEFAULTCOLUMNWIDTH\n",
            "                        see https://github.com/mleibman/SlickGrid/wiki/Grid-\n",
            "                        Options\n",
            "  --enableColumnReorder ENABLECOLUMNREORDER\n",
            "                        see https://github.com/mleibman/SlickGrid/wiki/Grid-\n",
            "                        Options\n",
            "  --multiColumnSort MULTICOLUMNSORT\n",
            "                        see https://github.com/mleibman/SlickGrid/wiki/Grid-\n",
            "                        Options\n",
            "  --rowHeight ROWHEIGHT\n",
            "                        see https://github.com/mleibman/SlickGrid/wiki/Grid-\n",
            "                        Options\n",
            "  --showHeaderRow SHOWHEADERROW\n",
            "                        see https://github.com/mleibman/SlickGrid/wiki/Grid-\n",
            "                        Options\n",
            "  --forceFitColumns FORCEFITCOLUMNS\n",
            "                        see https://github.com/mleibman/SlickGrid/wiki/Grid-\n",
            "                        Options\n",
            "  --autoHeight AUTOHEIGHT\n",
            "                        see https://github.com/mleibman/SlickGrid/wiki/Grid-\n",
            "                        Options\n",
            "  --enableCellNavigation ENABLECELLNAVIGATION\n",
            "                        see https://github.com/mleibman/SlickGrid/wiki/Grid-\n",
            "                        Options\n",
            "  --remote_slick REMOTE_SLICK\n",
            "                        use remote link for the javascript library or local\n",
            "  --precision PRECISION\n",
            "                        see function qgrid.set_defaults\n",
            "  --editable EDITABLE   make the output editable\n",
            "usage: jsdf [-h] [--defaultColumnWidth DEFAULTCOLUMNWIDTH]\n",
            "            [--enableColumnReorder ENABLECOLUMNREORDER]\n",
            "            [--multiColumnSort MULTICOLUMNSORT] [--rowHeight ROWHEIGHT]\n",
            "            [--showHeaderRow SHOWHEADERROW]\n",
            "            [--forceFitColumns FORCEFITCOLUMNS] [--autoHeight AUTOHEIGHT]\n",
            "            [--enableCellNavigation ENABLECELLNAVIGATION]\n",
            "            [--remote_slick REMOTE_SLICK] [--precision PRECISION]\n",
            "            [--editable EDITABLE]\n",
            "            df\n",
            "\n"
          ]
        }
      ],
      "source": [
        "%jsdf -h"
      ]
    },
    {
      "cell_type": "code",
      "execution_count": null,
      "metadata": {
        "collapsed": true,
        "deletable": true,
        "editable": true
      },
      "outputs": [],
      "source": []
    }
  ],
  "metadata": {
    "kernelspec": {
      "display_name": "Python 3",
      "language": "python",
      "name": "python3"
    },
    "language_info": {
      "codemirror_mode": {
        "name": "ipython",
        "version": 3
      },
      "file_extension": ".py",
      "mimetype": "text/x-python",
      "name": "python",
      "nbconvert_exporter": "python",
      "pygments_lexer": "ipython3",
      "version": "3.5.2"
    }
  },
  "nbformat": 4,
  "nbformat_minor": 0
}