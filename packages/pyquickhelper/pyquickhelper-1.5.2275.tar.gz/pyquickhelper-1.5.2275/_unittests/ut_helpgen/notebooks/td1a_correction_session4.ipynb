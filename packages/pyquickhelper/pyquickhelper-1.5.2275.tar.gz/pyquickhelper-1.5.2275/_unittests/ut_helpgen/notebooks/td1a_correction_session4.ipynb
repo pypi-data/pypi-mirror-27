{
 "cells": [
  {
   "cell_type": "markdown",
   "metadata": {},
   "source": [
    "# TD 4 : Modules, fichiers, expressions régulières (correction)"
   ]
  },
  {
   "cell_type": "markdown",
   "metadata": {},
   "source": [
    "Plan\n",
    "\n",
    "- [Exercice 1 : Excel → Python → Excel](#exo1)\n",
    "- [Exercice 2 : trouver un module (1)](#exo2)\n",
    "- [Exercice 3 : trouver un module (2)](#exo3)\n",
    "- [Exercice 4 : son propre module](#exo4)\n",
    "- [Exercice 5 : chercher un motif dans un texte](#exo5)\n",
    "- [Exercice 6 : chercher un autre motif dans un texte](#exo6)"
   ]
  },
  {
   "cell_type": "markdown",
   "metadata": {},
   "source": [
    "<h3 id=\"exo1\">Exercice 1 : Excel $\\rightarrow$ Python $\\rightarrow$ Excel</h3>\n",
    "    \n",
    "Il faut télécharger le fichier [seance4_excel.xlsx](http://www.xavierdupre.fr/enseignement/complements/seance4_excel.xlsx) puis l'enregistrer au formet **texte (séparateur : tabulation) (*.txt)**. On rappelle les étapes de l'exercice :\n",
    "\n",
    "- enregistrer le fichier au format texte,\n",
    "- le lire sous python\n",
    "- créer une matrice carrée 3x3 où chaque valeur est dans sa case (X,Y),\n",
    "- enregistrer le résultat sous format texte,\n",
    "- le récupérer sous Excel.    "
   ]
  },
  {
   "cell_type": "code",
   "execution_count": 3,
   "metadata": {
    "collapsed": false
   },
   "outputs": [],
   "source": [
    "with open (\"seance4_excel.txt\", \"r\") as f :\n",
    "    mat = [ row.strip(' \\n').split('\\t') for row in f.readlines() ]\n",
    "    \n",
    "mat = mat [1:]\n",
    "res = [ [ None ] * 3 for i in range(5) ] \n",
    "for i,j,v in mat :\n",
    "    res [ int(j)-1 ] [ int (i)-1 ] = float(v)\n",
    "\n",
    "with open (\"seance4_excel_mat.txt\", \"w\") as f :\n",
    "    f.write ( '\\n'.join ( [   '\\t'.join( [ str(x) for x in row ] ) for row in res ] ) )    "
   ]
  },
  {
   "cell_type": "markdown",
   "metadata": {},
   "source": [
    "Il est très rare d'écrire ce genre de code. En règle générale, on se sert de modules déjà existant comme [pandas](http://pandas.pydata.org/), [xlrd](http://www.python-excel.org/) et  [openpyxl](http://pythonhosted.org/openpyxl/). Cela évite la conversion au format texte :"
   ]
  },
  {
   "cell_type": "code",
   "execution_count": 12,
   "metadata": {
    "collapsed": false
   },
   "outputs": [
    {
     "data": {
      "text/html": [
       "<div style=\"max-height:1000px;max-width:1500px;overflow:auto;\">\n",
       "<table border=\"1\" class=\"dataframe\">\n",
       "  <thead>\n",
       "    <tr style=\"text-align: right;\">\n",
       "      <th>Y</th>\n",
       "      <th>1.0</th>\n",
       "      <th>2.0</th>\n",
       "      <th>3.0</th>\n",
       "      <th>4.0</th>\n",
       "      <th>5.0</th>\n",
       "    </tr>\n",
       "    <tr>\n",
       "      <th>X</th>\n",
       "      <th></th>\n",
       "      <th></th>\n",
       "      <th></th>\n",
       "      <th></th>\n",
       "      <th></th>\n",
       "    </tr>\n",
       "  </thead>\n",
       "  <tbody>\n",
       "    <tr>\n",
       "      <th>1</th>\n",
       "      <td> 0</td>\n",
       "      <td>-1</td>\n",
       "      <td>-2</td>\n",
       "      <td>-3</td>\n",
       "      <td> -4</td>\n",
       "    </tr>\n",
       "    <tr>\n",
       "      <th>2</th>\n",
       "      <td> 1</td>\n",
       "      <td> 0</td>\n",
       "      <td>-1</td>\n",
       "      <td>-2</td>\n",
       "      <td> -3</td>\n",
       "    </tr>\n",
       "    <tr>\n",
       "      <th>3</th>\n",
       "      <td> 2</td>\n",
       "      <td> 1</td>\n",
       "      <td> 0</td>\n",
       "      <td>-1</td>\n",
       "      <td>NaN</td>\n",
       "    </tr>\n",
       "  </tbody>\n",
       "</table>\n",
       "</div>"
      ],
      "text/plain": [
       "Y  1  2  3  4   5\n",
       "X                \n",
       "1  0 -1 -2 -3  -4\n",
       "2  1  0 -1 -2  -3\n",
       "3  2  1  0 -1 NaN"
      ]
     },
     "execution_count": 12,
     "metadata": {},
     "output_type": "execute_result"
    }
   ],
   "source": [
    "import pandas\n",
    "df = pandas.read_excel(\"seance4_excel.xlsx\", sheetname=\"Feuil1\")\n",
    "mat = df.pivot(\"X\", \"Y\", \"value\")\n",
    "mat.to_excel(\"seance4_excel_mat.xlsx\")\n",
    "mat"
   ]
  },
  {
   "cell_type": "markdown",
   "metadata": {},
   "source": [
    "C'est un peu plus rapide."
   ]
  },
  {
   "cell_type": "markdown",
   "metadata": {},
   "source": [
    "<h3 id=\"exo2\">Exercice 2 : trouver un module (1)</h3>\n",
    "\n",
    "Le module [random](https://docs.python.org/3.4/library/random.html) est celui qu'on cherche."
   ]
  },
  {
   "cell_type": "code",
   "execution_count": 1,
   "metadata": {
    "collapsed": false
   },
   "outputs": [
    {
     "name": "stdout",
     "output_type": "stream",
     "text": [
      "[0.5765074301255028, 0.36269681540173804, 0.09688986134602329, 0.8822835641174932, 0.3875897036752274, 0.8916283649070885, 0.9604405677906747, 0.4765011038606005, 0.23665904987815278, 0.3694280926485696]\n",
      "[0.8822835641174932, 0.4765011038606005, 0.3875897036752274, 0.8916283649070885, 0.3694280926485696, 0.09688986134602329, 0.36269681540173804, 0.9604405677906747, 0.5765074301255028, 0.23665904987815278]\n"
     ]
    }
   ],
   "source": [
    "import random\n",
    "alea = [ random.random() for i in range(10) ]\n",
    "print (alea)\n",
    "random.shuffle(alea)\n",
    "print (alea)"
   ]
  },
  {
   "cell_type": "markdown",
   "metadata": {},
   "source": [
    "<h3 id=\"exo3\">Exercice 3 : trouver un module (2)</h3>\n",
    "\n",
    "Le module [datetime](https://docs.python.org/3.4/library/datetime.html) permet de faire des opérations sur les dates."
   ]
  },
  {
   "cell_type": "code",
   "execution_count": 2,
   "metadata": {
    "collapsed": false
   },
   "outputs": [
    {
     "name": "stdout",
     "output_type": "stream",
     "text": [
      "39 days, 0:00:00\n",
      "0\n"
     ]
    }
   ],
   "source": [
    "from datetime import datetime\n",
    "date1 = datetime(2013,9,9)\n",
    "date0 = datetime(2013,8,1)\n",
    "print (date1 - date0)\n",
    "birth = datetime (1975,8,11)\n",
    "print (birth.weekday())  # lundi"
   ]
  },
  {
   "cell_type": "markdown",
   "metadata": {},
   "source": [
    "<h3 id=\"exo4\">Exercice 4 : son propre module</h3>\n",
    "\n",
    "On effectue le remplacement ``if __name__ == \"__main__\":``  par ``if True :`` :"
   ]
  },
  {
   "cell_type": "code",
   "execution_count": 33,
   "metadata": {
    "collapsed": false
   },
   "outputs": [
    {
     "name": "stdout",
     "output_type": "stream",
     "text": [
      "ce message n'apparaît que ce programme est le point d'entrée\n"
     ]
    }
   ],
   "source": [
    "# fichier monmodule.py\n",
    "import math\n",
    "\n",
    "def fonction_cos_sequence(seq) :\n",
    "    return [ math.cos(x) for x in seq ]\n",
    "\n",
    "if __name__ == \"__main__\" :\n",
    "    print (\"ce message n'apparaît que ce programme est le point d'entrée\")\n",
    "    \n",
    "    # et une petite astuce quand on travaille sous notebook\n",
    "    code = \"\"\"\n",
    "        # -*- coding: utf-8 -*-\n",
    "        import math\n",
    "        def fonction_cos_sequence(seq) :\n",
    "            return [ math.cos(x) for x in seq ]        \n",
    "        if True :\n",
    "            print (\"Ce message n'apparaît que ce programme est le point d'entrée.\")\n",
    "        \"\"\".replace(\"        \",\"\")\n",
    "    with open(\"monmodule2.py\", \"w\", encoding=\"utf8\") as f : f.write(code)"
   ]
  },
  {
   "cell_type": "code",
   "execution_count": 34,
   "metadata": {
    "collapsed": false
   },
   "outputs": [
    {
     "name": "stdout",
     "output_type": "stream",
     "text": [
      "Ce message n'apparaît que ce programme est le point d'entrée.\n",
      "*\n",
      "[0.5403023058681398, -0.4161468365471424, -0.9899924966004454]\n"
     ]
    }
   ],
   "source": [
    "import monmodule2\n",
    "print(\"*\")\n",
    "print ( monmodule.fonction_cos_sequence ( [ 1, 2, 3 ] ) )"
   ]
  },
  {
   "cell_type": "markdown",
   "metadata": {},
   "source": [
    "Le message ``ce message n'apparaît que ce programme est le point d'entrée`` apparaît maintenant alors qu'il n'apparaissait pas avec la version de l'énoncé. Comme il apparaît après ``*``, cela montre que cette ligne est exécutée si le module est importé."
   ]
  },
  {
   "cell_type": "code",
   "execution_count": 35,
   "metadata": {
    "collapsed": false
   },
   "outputs": [],
   "source": [
    "import monmodule2"
   ]
  },
  {
   "cell_type": "markdown",
   "metadata": {},
   "source": [
    "Si on importe le module une seconde fois, le message n'apparaît plus : le langage Python a détecté que le module avait déjà été importé. Il ne le fait pas une seconde fois."
   ]
  },
  {
   "cell_type": "markdown",
   "metadata": {},
   "source": [
    "<h3 id=\"exo5\">Exercice 5 : chercher un motif dans un texte</h3>\n",
    "\n",
    "L'expression régulière est ``je .{1,60}``. Le symbol ``.`` signifie n'importe quel caractère. Suivi de ``{1,60}`` veut dire n'importe quel caractère répété entre 1 et 60 fois."
   ]
  },
  {
   "cell_type": "code",
   "execution_count": 19,
   "metadata": {
    "collapsed": false
   },
   "outputs": [
    {
     "name": "stdout",
     "output_type": "stream",
     "text": [
      "---- VOEUX01.txt\n",
      "je pense aussi à nos compatriotes de Toulouse, mais également d\n",
      "je veux dire, en ce 31 décembre, la solidarité et l'amitié de l\n",
      "je sais que vous voulez faire vivre les valeurs qui sont celles\n",
      "je souhaite une bonne et heureuse année.\n",
      "---- VOEUX05.txt\n",
      "je pense d'abord à toutes celles et à tous ceux qui connaissent\n",
      "Je pense aussi à nos soldats qui sont engagés sur tous les cont\n",
      "je veux dire à la famille de Bernard PLANCHE, que les pouvoirs \n",
      "je prendrai rapidement des initiatives pour relancer la constru\n",
      "---- VOEUX06.txt\n",
      "je pense d'abord à toutes celles et à tous ceux qui sont victim\n",
      "Je veux aussi saluer avec respect et reconnaissance nos soldats\n",
      "je me bats pour qu'elle prenne toute sa place dans ce nouveau m\n",
      "Je me bats pour que chaque Français, pour que chaque jeune en p\n",
      "je voudrais que les choses avancent plus vite, et qu'elles avan\n",
      "je m'y engagerai pleinement. Je voudrais vous dire ce soir quel\n",
      "Je sais les souffrances et les difficultés auxquelles certains \n",
      "Je connais vos attentes pour ce qui concerne les salaires et le\n",
      "je demande au Gouvernement d'avancer sur ce point dans les tout\n",
      "---- VOEUX07.txt\n",
      "je m'adresse à vous.\n",
      "Je pense à vous qui vous préparez à fêter la nouvelle année ave\n",
      "Je pense à vous qui êtes obligés de travailler cette nuit au se\n",
      "Je pense aussi à vous qui êtes seuls et pour qui cette soirée s\n",
      "Je pense à vous, que la vie a éprouvés, et que la tristesse ou \n",
      "je veux adresser un message d'espérance, un message de foi dans\n",
      "Je voudrais convaincre même celui qui en doute qu'il n'y a pas \n",
      "Je sais combien est grande votre attente d'un changement profon\n",
      "Je sais les craintes que beaucoup d'entre vous éprouvent pour l\n",
      "Je sais l'angoisse qui vous étreint quand vous avez peur de per\n",
      "Je sais votre exaspération quand vous voulez entreprendre ou qu\n",
      "je le ferai. Je le ferai tout simplement parce que c'est l'inté\n",
      "je vous avais faite de vous rendre la fierté d'être Français, d\n",
      "je veux dire que j'ai fait tout ce que je pensais possible de f\n",
      "Je ne crois pas à la brutalité comme méthode de gouvernement. J\n",
      "je me suis efforcé dans le respect de tous.\n",
      "je veux dire qu'il ne faut pas perdre de vue que notre pays a t\n",
      "je n'ai agi qu'avec le souci de défendre les intérêts de la Fra\n",
      "je ne me sois répété l'engagement que j'ai pris envers chacun d\n",
      "Je ne vous tromperai pas, je ne vous trahirai pas ». Je vous do\n",
      "Je vous la dirai toujours. Je ne m'autoriserai aucune hypocrisi\n",
      "je l'ai faite avec des hommes et des femmes de valeur. Je ne le\n",
      "Je leur ai simplement proposé de servir leur pays. Ils l'ont ac\n",
      "Je leur en suis reconnaissant.\n",
      "je n'ai jamais cessé de penser qu'elle était indispensable. Urg\n",
      "Je souhaite du fond du coeur qu'elle soit pour la France, pour \n",
      "---- VOEUX08.txt\n",
      "je veux penser d'abord à ceux que la vie a durement éprouvés, à\n",
      "Je veux penser à nos soldats qui en ce moment même risquent leu\n",
      "Je veux penser à leurs familles qui vivent douloureusement cett\n",
      "je mesure la responsabilité qui est la mienne. Cette responsabi\n",
      "je l'assumerai pour que tous ceux qui en ont besoin soient prot\n",
      "je vous ai toujours dit la vérité et j'ai agi. C'était mon devo\n",
      "je reste persuadé que le monde a besoin d'une Europe forte, ind\n",
      "Je suis plus décidé que jamais à y faire face, avec le souci de\n",
      "Je ne laisserai pas les plus fragiles se débattre seuls dans le\n",
      "Je pense aussi à la réforme du lycée qui est nécessaire pour év\n",
      "Je pense enfin à la réforme de notre procédure pénale si import\n",
      "je les mènerai avec le Premier ministre François Fillon et le g\n",
      "je me rendrai dès lundi parce que c'est la vocation de la Franc\n",
      "je veux le relever avec vous. Vous pouvez compter sur moi.\n",
      "je présente à chacun d'entre vous mes meilleurs voeux pour 2009\n",
      "---- VOEUX09.txt\n",
      "Je pense en particulier à ceux qui ont perdu leur emploi. Cepen\n",
      "Je veux rendre hommage ce soir au sang-froid et au courage des \n",
      "Je veux rendre un hommage particulier aux partenaires sociaux q\n",
      "je ne suis pas un homme qui renonce à la première difficulté, e\n",
      "Je sais qu'elles ont bouleversé des habitudes et qu'avant de pr\n",
      "Je le conduirai avec le Premier Ministre et le Gouvernement dan\n",
      "je forme pour notre pays.\n",
      "je veux dire ma détermination à ce que la République tienne à l\n",
      "je veux dire ce soir qu'ils ne seront pas abandonnés. Face à l'\n",
      "je souhaite que 2010 soit l'année où nous redonnerons un sens a\n",
      "---- VOEUX74.txt\n",
      "JE VAIS VOUS PARLER, JE NE VOUDRAIS NI VOUS ENNUYER, NI VOUS AT\n",
      "JE VOUS AI DEJA DECRITES ET DONT J'AURAI L'OCCASION DE VOUS PAR\n",
      "JE VOUDRAIS QUE MES VOEUX SOIENT VRAIMENT DES VOEUX, LES VOEUX \n",
      "JE SOUHAITE, AU NOM DE LA FRANCE, QUE LA SOCIETE FRANCAISE VOUS\n",
      "JE SOUHAITE QUE 1975 SOIT L'ANNEE DE LA FRATERNITE, C'EST-A-DIR\n",
      "JE PENSE AUX AGRICULTEURS, JE PENSE AUX ARTISANS, DONT LES COND\n",
      "JE PENSE A CERTAINES PETITES ENTREPRISES - DEVRONT ETRE EXAMINE\n",
      "JE SOUHAITE DONC QUE 1975 SOIT L'ANNEE DE LA FRATERNITE ET QU'A\n",
      "JE SOUHAITE QUE LA FRANCE, EN 1975, CONTINUE DE JOUER CE ROLE, \n",
      "JE LUI SOUHAITE, DANS LE MONDE TOURMENTE OU NOUS VIVONS, D'APPA\n",
      "JE VOUDRAIS LES ADRESSER A CERTAINES CATEGORIES DE FRANCAIS ET,\n",
      "JE NE SAIS PAS SI VOUS AVEZ PU LE VOIR, ILS M'ONT RECU AVEC LEU\n",
      "JE SUIS RENTRE DES ANTILLES, MES MAINS ETAIENT COUVERTES DES EC\n",
      "JE LEUR SOUHAITE, A EUX, A NOS AUTRES COMPATRIOTES DES DEPARTEM\n",
      "JE PENSE AUSSI AUX FRANCAIS INSTALLES A_L_ETRANGER QUI FONT PAR\n",
      "JE VOUDRAIS EN VOTRE NOM M'ADRESSER CE SOIR AUX PLUS MALHEUREUX\n",
      "JE VEUX DIRE D'ABORD LES VICTIMES DES ACCIDENTS CRUELS, ET NOTA\n",
      "JE PENSE AUSSI AUX FRANCAIS QUI SONT CE SOIR DANS LES HOPITAUX,\n",
      "JE VOUDRAIS EGALEMENT ADRESSER NOTRE SALUT AUX TRAVAILLEURS IMM\n",
      "JE VOUDRAIS ENFIN, PENSANT A LA FRANCE A LA FOIS CHRETIENNE ET \n",
      "JE SOUHAITE QUE TU SOIES UNE ANNEE ACCUEILLANTE POUR LES FRANCA\n",
      "---- VOEUX75.txt\n",
      "JE VOUDRAIS, CE SOIR, PRESIDENT DE TOUS LES FRANCAIS, QUE MES V\n",
      "JE SOUHAITE QUE L'ANNEE 1976 CONTRIBUE AU RAYONNEMENT DE LA FRA\n",
      "JE RAYONNEMENT ET NE DIS-JE PAS GRANDEUR ? PARCE QUE LA GRANDEU\n",
      "JE LE SOUHAITE POUR ELLE ET POUR LE MONDE\n",
      "JE SOUHAITE QUE CE SOIT A VOTRE AVANTAGE, AFIN QUE VOUS VIVIEZ \n",
      "JE SUIS SUR QUE CELA NE LUI REND PAS SERVICE. JE NE CROIS PAS Q\n",
      "JE SOUHAITE L'ENTENTE ET L'UNITE DES FRANCAIS. CE NE SERAIT REN\n",
      "JE SOUHAITE, AU NOM DE LA FRANCE UNE BONNE ET HEUREUSE ANNEE 19\n",
      "JE CROIS QU'ANNE AYMONE VEUT AUSSI VOUS ADRESSER SES VOEUX\n",
      "---- VOEUX79.txt\n",
      "JE VOUS ADRESSE LES SOUHAITS QUE LES FRANCAIS ECHANGENT ENTRE E\n",
      "JE SUIS CONDUIT A PENSER TOUS LES JOURS A LA FRANCE DANS LE MON\n",
      "JE SOUHAITE QU'EN 1979, LA FRANCE FASSE RAYONNER SON MESSAGE DE\n",
      "JE REVIENS D'AFRIQUE. DANS TROIS JOURS, J'ACCUEILLERAI EN TERRE\n",
      "JE ME RENDRAI EN UNION SOVIETIQUE 'URSS'. PENDANT LES SIX PROCH\n",
      "JE M'EFFORCE D'AFFIRMER L'IMAGE DE LA FRANCE, CELLE D'UN PAYS O\n",
      "JE SOUHAITE QU'EN 1979 NOUS NOUS ORGANISIONS POUR PREPARER L'AV\n",
      "JE TIENS A LE DIRE, DES UNS ET DES AUTRES. C'EST NOTRE BIEN LE \n",
      "---- VOEUX83.txt\n",
      "je souhaite que l'an nouveau donne des raisons d'espérer.\n",
      "je ne promets rien d'autre à personne que la poursuite, sans fa\n",
      "je soutiendrai demain qu'il devait y avoir équilibre des forces\n",
      "je ne me lasserai jamais d'espérer - ni de vouloir - que les Fr\n",
      "---- VOEUX87.txt\n",
      "je vous y invite chaque fois, pour ceux qui seront seuls, âgés,\n",
      "je crois, que d'exprimer au nom de tous la fraternité qui nous \n",
      "Je forme des voeux, simplement, pour qu'on s'y aime un peu plus\n",
      "Je désire, précisément, réfléchir avec vous à trois des rendez-\n",
      "Je souhaite ardemment qu'ils se reprennent et que la France, un\n",
      "je veux dire l'élection présidentielle.\n",
      "Je n'établirai pas ici la liste de ces choix. Les candidats s'e\n",
      "---- VOEUX89.txt\n",
      "Je suis persuadé qu'elle a, par sa seule existence, puissamment\n",
      "je compte voir naître dans les années 90 une confédération euro\n",
      "je me disais que nous avions de la chance, nous Français, de vi\n",
      "je pensais aussi qu'il nous fallait en être dignes. Les peuples\n",
      "Je forme des voeux pour que la France échappe aux entraînements\n",
      "Je forme des voeux, et le gouvernement y travaille, pour que la\n",
      "Je forme des voeux pour que de grands chantiers tels que le log\n",
      "Je souhaite de toutes mes forces que la France offre à ceux qui\n",
      "---- VOEUX90.txt\n",
      "je ne veux pas que cela recommence.\n",
      "je crois encore aux chances de la paix et la France y travaille\n",
      "Je l'ai dit à la tribune des Nations unies, le 24 septembre der\n",
      "Je souhaite qu'il s'organise dans le cadre d'une ou plusieurs c\n",
      "Je me souviens de vous avoir déclaré lors des premiers voeux qu\n",
      "je vous adressais, le 31 décembre 1981 : \"Tout ce qui permettra\n",
      "Je suis frappé du décalage qui existe entre la réalité de notre\n",
      "Je sais ce qui ne va pas chez nous. Je sais aussi ce qui va bie\n",
      "je n'ignore pas que nous avons besoin de bien d'autres choses e\n",
      "---- VOEUX94.txt\n",
      "je dois redire l'admiration que m'inspire l'extraordinaire coup\n",
      "Je pense, en particulier, à l'équipage d'Air-France dont le san\n",
      "je trouve dans ces faits un véritable réconfort. Il est bon de \n",
      "Je constate seulement que les efforts accomplis par les uns et \n",
      "je m'adresse à vous pour des voeux de nouvelle année en ma qual\n",
      "je me permettrai deux recommandations : la première : ne dissoc\n",
      "Je vous le dis avec la même passion que naguère. N'en doutez pa\n",
      "Je n'apprendrai rien à personne en rappelant que dans quatre mo\n",
      "Je souhaite vivement que ce soit l'occasion d'un vrai, d'un gra\n",
      "je serai, je l'écouterai le coeur plein de reconnaissance pour \n",
      "Je crois aux forces de l'esprit et je ne vous quitterai pas. Je\n"
     ]
    }
   ],
   "source": [
    "import pyensae, re\n",
    "discours = pyensae.download_data('voeux.zip', website = 'xd')\n",
    "\n",
    "exp = re.compile (\"je .{1,60}\", re.IGNORECASE)\n",
    "for fichier in discours :\n",
    "    print(\"----\",fichier)\n",
    "    with open(fichier,\"r\") as f : text = f.read()\n",
    "    je = exp.findall(text)    \n",
    "    for t in je :\n",
    "            print (t)"
   ]
  },
  {
   "cell_type": "markdown",
   "metadata": {},
   "source": [
    "<h3 id=\"exo6\">Exercice 6 : chercher un autre motif dans un texte</h3>\n",
    "\n",
    "Pour les mots _securite_ ou _insecurite_, on construit l'expression :"
   ]
  },
  {
   "cell_type": "code",
   "execution_count": 24,
   "metadata": {
    "collapsed": false
   },
   "outputs": [
    {
     "name": "stdout",
     "output_type": "stream",
     "text": [
      "---- VOEUX01.txt\n",
      "(\"enacée quand l'insécurité progresse, quand l'exercice des libertés, la qual\", 'in')\n",
      "---- VOEUX05.txt\n",
      "----"
     ]
    },
    {
     "name": "stdout",
     "output_type": "stream",
     "text": [
      " VOEUX06.txt\n",
      "(\"traites, notre sécurité sociale se réforment et c'est la garantie de leur\", '')\n",
      "(\"rvice, pour la sécurité, pour l'emploi, pour le pouvoir d'achat et que ce\", '')\n",
      "(\" l'énergie, la sécurité, l'immigration. N'oublions jamais que l'Europe, c\", '')\n",
      "---- VOEUX07.txt\n",
      "---- VOEUX08.txt\n",
      "('vie pour notre sécurité et pour la paix. Je veux penser à leurs familles ', '')"
     ]
    },
    {
     "name": "stdout",
     "output_type": "stream",
     "text": [
      "\n",
      "---- VOEUX09.txt\n",
      "('garantir notre sécurité.', '')\n",
      "---- VOEUX74.txt\n",
      "---- VOEUX75.txt\n",
      "---- VOEUX79.txt\n",
      "----"
     ]
    },
    {
     "name": "stdout",
     "output_type": "stream",
     "text": [
      " VOEUX83.txt\n",
      "(\"tres : plus de sécurité, des banlieues rénovées et plus d'enfants dans no\", '')\n",
      "---- VOEUX87.txt\n",
      "---- VOEUX89.txt\n",
      "(' de paix et de sécurité.', '')\n",
      "---- VOEUX90.txt\n",
      "(' du Conseil de sécurité, organe suprême des Nations unies. A ce titre, no', '')\n",
      "(' du Conseil de sécurité, y compris le recours éventuel à la force. Voilà ', '')\n",
      "(\" d'Israël à la sécurité, ni le droit des Palestiniens à posséder une patr\", '')\n",
      "---- VOEUX94.txt\n"
     ]
    }
   ],
   "source": [
    "import pyensae, re\n",
    "discours = pyensae.download_data('voeux.zip', website = 'xd')\n",
    "\n",
    "exp = re.compile (\"(.{1,15}(in)?sécurité.{1,50})\", re.IGNORECASE)\n",
    "for fichier in discours :\n",
    "    print(\"----\",fichier)\n",
    "    with open(fichier,\"r\") as f : text = f.read()\n",
    "    je = exp.findall(text)    \n",
    "    for t in je :\n",
    "            print (t)"
   ]
  },
  {
   "cell_type": "code",
   "execution_count": null,
   "metadata": {
    "collapsed": false
   },
   "outputs": [],
   "source": []
  }
 ],
 "metadata": {},
 "nbformat": 4,
 "nbformat_minor": 0
}