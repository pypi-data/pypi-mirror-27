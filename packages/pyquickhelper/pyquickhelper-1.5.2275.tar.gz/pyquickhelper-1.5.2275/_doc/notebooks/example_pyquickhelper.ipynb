{
  "cells": [
    {
      "cell_type": "markdown",
      "metadata": {},
      "source": [
        "# example pyquickhelper\n",
        "\n",
        "Explore a folder, run a command line from a notebook."
      ]
    },
    {
      "cell_type": "code",
      "execution_count": 1,
      "metadata": {
        "collapsed": false
      },
      "outputs": [
        {
          "data": {
            "text/html": [
              "<b>Plan</b>\n",
              "<div id=\"my_id_menu_nb\">run previous cell, wait for 2 seconds</div>\n",
              "<script>\n",
              "function repeat_indent_string(n){\n",
              "    var a = \"\" ;\n",
              "    for ( ; n > 0 ; --n) {\n",
              "        a += \"    \";\n",
              "    }\n",
              "    return a;\n",
              "}\n",
              "var update_menu = function() {\n",
              "    var anchors = document.getElementsByClassName(\"section\");\n",
              "    if (anchors.length == 0) {\n",
              "        anchors = document.getElementsByClassName(\"text_cell_render rendered_html\");\n",
              "    }\n",
              "    var i;\n",
              "    var text_menu = \"\";\n",
              "    var ind = \"\";\n",
              "    var memo_level = 1;\n",
              "    var href;\n",
              "    for (i = 0; i < anchors.length; i++) {\n",
              "        var child = anchors[i].children[0];\n",
              "        if (anchors[i].hasAttribute(\"id\")) {\n",
              "            href = anchors[i].id;\n",
              "        }\n",
              "        else if (child.hasAttribute(\"id\")) {\n",
              "            href = child.id;\n",
              "        }\n",
              "        else {\n",
              "            continue;\n",
              "        }\n",
              "        var title = child.textContent;\n",
              "        var level = parseInt(child.tagName.substring(1,2));\n",
              "        if ((level <= 2) || (level > 4)) {\n",
              "            continue ;\n",
              "        }\n",
              "        if (title.endsWith('\u00b6')) {\n",
              "            title = title.substring(0,title.length-1).replace(\"<\", \"&lt;\").replace(\">\", \"&gt;\").replace(\"&\", \"&amp;\")\n",
              "        }\n",
              "        if (title.length == 0) {\n",
              "            continue;\n",
              "        }\n",
              "        while (level > memo_level) {\n",
              "            text_menu += \"<ul>\\n\";\n",
              "            memo_level += 1;\n",
              "        }\n",
              "        while (level < memo_level) {\n",
              "            text_menu += \"</ul>\\n\";\n",
              "            memo_level -= 1;\n",
              "        }\n",
              "        text_menu += repeat_indent_string(level-2) + '<li><a href=\"#' + href + '\">' + title + '</a></li>';\n",
              "    }\n",
              "    while (1 < memo_level) {\n",
              "        text_menu += \"</ul>\\n\";\n",
              "        memo_level -= 1;\n",
              "    }\n",
              "    text_menu += \"\";\n",
              "    var menu = document.getElementById(\"my_id_menu_nb\");\n",
              "    menu.innerHTML=text_menu;\n",
              "};\n",
              "window.setTimeout(update_menu,2000);\n",
              "            </script>"
            ],
            "text/plain": [
              "<IPython.core.display.HTML object>"
            ]
          },
          "execution_count": 2,
          "metadata": {},
          "output_type": "execute_result"
        }
      ],
      "source": [
        "from jyquickhelper import add_notebook_menu\n",
        "add_notebook_menu(header=\"Plan\")"
      ]
    },
    {
      "cell_type": "markdown",
      "metadata": {},
      "source": [
        "### Log, run_cmd\n",
        "\n",
        "The function [fLOG](http://www.xavierdupre.fr/app/pyquickhelper/helpsphinx/pyquickhelper/loghelper/flog.html?highlight=flog) prints information on the standard output and in a file *temp_log.txt*:"
      ]
    },
    {
      "cell_type": "code",
      "execution_count": 2,
      "metadata": {
        "collapsed": false
      },
      "outputs": [
        {
          "name": "stdout",
          "output_type": "stream",
          "text": [
            "2015-08-13 16:32:33 printed\n"
          ]
        }
      ],
      "source": [
        "from pyquickhelper.loghelper import fLOG\n",
        "fLOG(OutputPrint=False)  # by default\n",
        "fLOG(\"not printed\")\n",
        "fLOG(OutputPrint=True)\n",
        "fLOG(\"printed\")"
      ]
    },
    {
      "cell_type": "markdown",
      "metadata": {},
      "source": [
        "The function [run_cmd](http://www.xavierdupre.fr/app/pyquickhelper/helpsphinx/pyquickhelper/loghelper/flog.html?highlight=run_cmd#loghelper.flog.run_cmd) runs a command line and returns the standard output and error:"
      ]
    },
    {
      "cell_type": "code",
      "execution_count": 3,
      "metadata": {
        "collapsed": false,
        "scrolled": false
      },
      "outputs": [
        {
          "name": "stdout",
          "output_type": "stream",
          "text": [
            "2015-08-13 16:32:35 execute help\n",
            "2015-08-13 16:32:35 end of execution help\n",
            "Pour plus d'informations sur une commande spcifique, entrez HELP\n",
            "suivi de la commande.\n",
            "ASSOC          Affiche ou modifie les applications associes aux extensions de\n",
            "               fichiers.\n",
            "ATTRIB         Affiche ou modifie les attributs d'un fichier.\n",
            "BREAK          Active ou dsactive le contrle tendu de CTRL+C.\n",
            "BCDEDIT        Dfinit les proprits dans la base de donnes de dmarrage pour\n",
            "               le contrle du chargement d'amorage.\n",
            "CACLS          Affiche ou modifie les listes de contrles d'accs aux fichiers.\n",
            "CALL           Appelle un fichier de commandes  partir d'un autre fichier de\n",
            "               commandes.\n",
            "CD             Modifie le rpertoire ou affiche le rpertoire actif.\n",
            "CHCP           Modifie ou affiche le numro de la page de code active.\n",
            "CHDIR          Modifie le rpertoire ou affiche le nom du rpertoire actif.\n",
            "CHKDSK         Vrifie un disque et affiche un rapport d'tat.\n",
            "CHKNTFS        Affiche ou modifie la vrification du disque au dmarrage.\n",
            "CLS            Efface l'cran.\n",
            "CMD            Excute une nouvelle instance de l'interprteur de commandes de\n",
            "               Windows.\n",
            "COLOR          Modifie les couleurs du premier plan et de l'arrire-plan de la\n",
            "               console.\n",
            "COMP           Compare les contenus de deux fichiers ou groupes de fichiers.\n",
            "COMPACT        Modifie ou affiche la compression des fichiers sur une\n",
            "               partition NTFS.\n",
            "CONVERT        Convertit des volumes FAT en volumes NTFS. Vous ne pouvez pas\n",
            "               convertir le lecteur en cours d'utilisation.\n",
            "COPY           Copie un ou plusieurs fichiers.\n",
            "DATE           Affiche ou dfinit la date.\n",
            "DEL            Supprime un ou plusieurs fichiers.\n",
            "DIR            Affiche la liste des fichiers et des sous-rpertoires d'un\n",
            "               rpertoire.\n",
            "DISKCOMP       Compare les contenus de deux disquettes.\n",
            "DISKCOPY       Copie le contenu d'une disquette sur une autre.\n",
            "DISKPART       Affiche ou configure les proprits d'une partition de disque.\n",
            "DOSKEY         Modifie les lignes de commande, rappelle des commandes Windows,\n",
            "               et cre des macros.\n",
            "DRIVERQUERY    Affiche l'tat et les proprits du pilote de priphrique en\n",
            "               cours d'utilisation.\n",
            "ECHO           Affiche des messages ou active/dsactive l'affichage des\n",
            "               commandes.\n",
            "ENDLOCAL       Stoppe la localisation des modifications d'environnement dans\n",
            "               un fichier de commandes.\n",
            "ERASE          Supprime un ou plusieurs fichiers.\n",
            "EXIT           Quitte l'interprteur de commandes (CMD.EXE).\n",
            "FC             Compare deux fichiers ou groupes de fichiers et affiche \n",
            "               les diffrences.\n",
            "FIND           Recherche une chane de caractres dans un ou plusieurs\n",
            "               fichiers.\n",
            "FINDSTR        Cherche des chanes dans les fichiers.\n",
            "FOR            Excute une commande sur chaque fichier d'un ensemble de\n",
            "               fichiers.\n",
            "FORMAT         Formate un disque devant tre utilis avec Windows.\n",
            "FSUTIL         Affiche ou configure les proprits du systme de fichiers.\n",
            "FTYPE          Affiche ou modifie les types de fichiers utiliss dans les\n",
            "               associations d'extensions.\n",
            "GOTO           Indique l'excution d'un fichier de commandes pour une ligne\n",
            "               identifie par une tiquette.\n",
            "GPRESULT       Affiche les informations de stratgie de groupe pour un\n",
            "               ordinateur ou un utilisateur.\n",
            "GRAFTABL       Permet  Windows d'afficher un jeu de caractres en \n",
            "               mode graphique.\n",
            "HELP           Affiche des informations sur les commandes de Windows.\n",
            "ICACLS         Afficher, modifier, sauvegarder ou restaurer les listes de\n",
            "               contrle d'accs pour les fichiers et les rpertoires.\n",
            "IF             Effectue un traitement conditionnel dans un fichier de\n",
            "               commandes.\n",
            "LABEL          Cre, modifie ou supprime le nom de volume d'un disque.\n",
            "MD             Cre un rpertoire.\n",
            "MKDIR          Cre un rpertoire.\n",
            "MKLINK         Crer des liens symboliques et des liens physiques\n",
            "MODE           Configure un priphrique du systme.\n",
            "MORE           Affiche la sortie cran par cran.\n",
            "MOVE           Dplace un ou plusieurs fichiers d'un rpertoire \n",
            "                un autre.\n",
            "OPENFILES      Affiche les fichiers partags ouverts  distance par les\n",
            "               utilisateurs.\n",
            "PATH           Affiche ou dfinit le chemin de recherche des fichiers\n",
            "               excutables.\n",
            "PAUSE          Interrompt l'excution d'un fichier de commandes et affiche un\n",
            "               message.\n",
            "POPD           Restaure la valeur prcdente du rpertoire actif enregistre\n",
            "               par PUSHD.\n",
            "PRINT          Imprime un fichier texte.\n",
            "PROMPT         Modifie l'invite de commande de Windows.\n",
            "PUSHD          Enregistre le rpertoire actif puis le modifie.\n",
            "RD             Supprime un rpertoire.\n",
            "RECOVER        Rcupre l'information lisible d'un disque dfectueux.\n",
            "REM            Insre un commentaire dans un fichier de commandes ou\n",
            "               CONFIG.SYS.\n",
            "REN            Renomme un ou plusieurs fichiers.\n",
            "RENAME         Renomme un ou plusieurs fichiers.\n",
            "REPLACE        Remplace des fichiers.\n",
            "RMDIR          Supprime un rpertoire.\n",
            "ROBOCOPY       Utilitaire avanc pour copier les fichiers et les\n",
            "               arborescences de rpertoires\n",
            "SET            Affiche, dfinit ou supprime des variables d'environnement\n",
            "               Windows.\n",
            "SETLOCAL       Commence la localisation des modifications d'environnement dans\n",
            "               un fichier de commandes.\n",
            "SC             Affiche ou configure les services (processus en arrire-plan).\n",
            "SCHTASKS       Planifie les commandes et les programmes  excuter sur\n",
            "               l'ordinateur.\n",
            "SHIFT          Modifie la position des paramtres remplaables dans un fichier\n",
            "               de commandes.\n",
            "SHUTDOWN       Permet un arrt local ou distant correct de l'ordinateur.\n",
            "SORT           Trie les entres.\n",
            "START          Ouvre une fentre spare pour l'excution d'un programme ou\n",
            "               d'une commande spcifique.\n",
            "SUBST          Associe un chemin d'accs  une lettre de lecteur.\n",
            "SYSTEMINFO     Affiche les proprits et la configuration spcifiques de\n",
            "               l'ordinateur.\n",
            "TASKLIST       Affiche toutes les tches en cours d'excution, y compris les\n",
            "               services.\n",
            "TASKKILL       Termine ou interrompt un processus ou une application en cours\n",
            "               d'excution.\n",
            "TIME           Affiche ou dfinit l'heure du systme.\n",
            "TITLE          Dfinit le titre de la fentre pour une session CMD.EXE.\n",
            "TREE           Affiche le graphisme de la structure de rpertoire d'un lecteur\n",
            "               ou d'un chemin d'accs.\n",
            "TYPE           Affiche le contenu d'un fichier texte.\n",
            "VER            Affiche la version de Windows.\n",
            "VERIFY         Demande  Windows de vrifier si vos fichiers sont\n",
            "               correctement crits sur le disque.\n",
            "VOL            Affiche le nom et le numro de srie d'un volume de disque.\n",
            "XCOPY          Copie les fichiers et les arborescences de rpertoires.\n",
            "WMIC           Affiche les informations WMI dans l'interface de commande\n",
            "               interactive.\n",
            "\n",
            "Pour obtenir plus d'informations sur les outils, consultez la rfrence de\n",
            "commande en ligne dans l'aide en ligne.\n",
            "\n"
          ]
        }
      ],
      "source": [
        "from pyquickhelper.loghelper import run_cmd\n",
        "out,err=run_cmd(\"help\", wait=True, shell=True)\n",
        "print(out)"
      ]
    },
    {
      "cell_type": "markdown",
      "metadata": {},
      "source": [
        "### Ask something to the user in a notebook"
      ]
    },
    {
      "cell_type": "code",
      "execution_count": 4,
      "metadata": {
        "collapsed": false
      },
      "outputs": [
        {
          "data": {
            "text/html": [
              "<div style=\"background-color:gainsboro; padding:2px; border:0px;\"><b>fill the fields</b>\n",
              "<br />module <input type=\"text\" id=\"form1module\" value=\"\" size=\"80\" />\n",
              "<br />version <input type=\"text\" id=\"form1version\" value=\"v...\" size=\"80\" />\n",
              "<br /><button onclick=\"set_valueform1()\">Ok</button></div>\n",
              "<script type=\"text/Javascript\">\n",
              "function form1callback(msg) {\n",
              "   var ret = msg.content.data['text/plain'];\n",
              "   $('#outform1').text(ret);\n",
              "}\n",
              "function set_valueform1(){\n",
              "   command='form1 = {' ;\n",
              "   var form1modulevar_value = document.getElementById('form1module').value;\n",
              "   command += '\"module\":\"' + form1modulevar_value + '\",';\n",
              "   var form1versionvar_value = document.getElementById('form1version').value;\n",
              "   command += '\"version\":\"' + form1versionvar_value + '\",';\n",
              "   command += '}';\n",
              "   var kernel = IPython.notebook.kernel;\n",
              "   kernel.execute(command);\n",
              "}\n",
              "</script>"
            ],
            "text/plain": [
              "<IPython.core.display.HTML object>"
            ]
          },
          "execution_count": 5,
          "metadata": {},
          "output_type": "execute_result"
        }
      ],
      "source": [
        "from pyquickhelper.ipythonhelper import open_html_form\n",
        "params= {\"module\":\"\", \"version\":\"v...\"}\n",
        "open_html_form(params, \"fill the fields\", \"form1\")"
      ]
    },
    {
      "cell_type": "code",
      "execution_count": 5,
      "metadata": {
        "collapsed": false
      },
      "outputs": [
        {
          "data": {
            "text/plain": [
              "{'module': 'l', 'version': 'v...'}"
            ]
          },
          "execution_count": 6,
          "metadata": {},
          "output_type": "execute_result"
        }
      ],
      "source": [
        "form1"
      ]
    },
    {
      "cell_type": "markdown",
      "metadata": {},
      "source": [
        "### Explore a folder"
      ]
    },
    {
      "cell_type": "code",
      "execution_count": 6,
      "metadata": {
        "collapsed": false
      },
      "outputs": [
        {
          "data": {
            "application/javascript": [
              "var kernel = IPython.notebook.kernel;\n",
              "var body = document.body, attribs = body.attributes;\n",
              "var command = \"theNotebook = \" + \"'\"+attribs['data-notebook-name'].value+\"'\";\n",
              "kernel.execute(command);"
            ],
            "text/plain": [
              "<IPython.core.display.Javascript object>"
            ]
          },
          "metadata": {},
          "output_type": "display_data"
        }
      ],
      "source": [
        "from pyquickhelper.ipythonhelper import set_notebook_name_theNotebook\n",
        "set_notebook_name_theNotebook()"
      ]
    },
    {
      "cell_type": "code",
      "execution_count": 7,
      "metadata": {
        "collapsed": true
      },
      "outputs": [],
      "source": [
        "import os\n",
        "path = os.path.join(os.path.abspath(os.path.dirname(theNotebook)), \"..\")"
      ]
    },
    {
      "cell_type": "code",
      "execution_count": 8,
      "metadata": {
        "collapsed": false
      },
      "outputs": [
        {
          "data": {
            "text/plain": [
              "['example_about_files.ipynb',\n",
              " 'example_completion.ipynb',\n",
              " 'example_documentation.ipynb',\n",
              " 'example_pyquickhelper.ipynb',\n",
              " 'exemple_of_fix_menu.ipynb']"
            ]
          },
          "execution_count": 9,
          "metadata": {},
          "output_type": "execute_result"
        }
      ],
      "source": [
        "from pyquickhelper.filehelper import explore_folder\n",
        "d,f =explore_folder(path)\n",
        "[ os.path.split(_)[-1] for _ in f[:5]]"
      ]
    },
    {
      "cell_type": "code",
      "execution_count": 9,
      "metadata": {
        "collapsed": true
      },
      "outputs": [],
      "source": []
    }
  ],
  "metadata": {
    "kernelspec": {
      "display_name": "Python 3",
      "language": "python",
      "name": "python3"
    },
    "language_info": {
      "codemirror_mode": {
        "name": "ipython",
        "version": 3
      },
      "file_extension": ".py",
      "mimetype": "text/x-python",
      "name": "python",
      "nbconvert_exporter": "python",
      "pygments_lexer": "ipython3",
      "version": "3.5.2"
    }
  },
  "nbformat": 4,
  "nbformat_minor": 0
}