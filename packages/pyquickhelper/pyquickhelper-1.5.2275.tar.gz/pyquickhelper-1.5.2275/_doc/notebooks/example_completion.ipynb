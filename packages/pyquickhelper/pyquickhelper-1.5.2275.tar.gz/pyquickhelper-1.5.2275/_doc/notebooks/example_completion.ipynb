{
  "cells": [
    {
      "cell_type": "markdown",
      "metadata": {},
      "source": [
        "# Example of auto completion with IPython\n",
        "\n",
        "Dirty trick to extend the automated completion in a notebook."
      ]
    },
    {
      "cell_type": "code",
      "execution_count": 1,
      "metadata": {
        "collapsed": true
      },
      "outputs": [],
      "source": [
        "from pyquickhelper.ipythonhelper import AutoCompletionFile, set_notebook_name_theNotebook"
      ]
    },
    {
      "cell_type": "code",
      "execution_count": 2,
      "metadata": {
        "collapsed": false
      },
      "outputs": [
        {
          "data": {
            "application/javascript": [
              "var kernel = IPython.notebook.kernel;\n",
              "var body = document.body, attribs = body.attributes;\n",
              "var command = \"theNotebook = \" + \"'\"+attribs['data-notebook-name'].value+\"'\";\n",
              "kernel.execute(command);"
            ],
            "text/plain": [
              "<IPython.core.display.Javascript object>"
            ]
          },
          "metadata": {},
          "output_type": "display_data"
        }
      ],
      "source": [
        "set_notebook_name_theNotebook()"
      ]
    },
    {
      "cell_type": "code",
      "execution_count": 3,
      "metadata": {
        "collapsed": false
      },
      "outputs": [
        {
          "data": {
            "text/plain": [
              "'example_completion.ipynb'"
            ]
          },
          "execution_count": 4,
          "metadata": {},
          "output_type": "execute_result"
        }
      ],
      "source": [
        "theNotebook"
      ]
    },
    {
      "cell_type": "code",
      "execution_count": 4,
      "metadata": {
        "collapsed": true
      },
      "outputs": [],
      "source": [
        "import os\n",
        "path = os.path.join(os.path.abspath(os.path.dirname(theNotebook)), \"..\")"
      ]
    },
    {
      "cell_type": "code",
      "execution_count": 5,
      "metadata": {
        "collapsed": false
      },
      "outputs": [
        {
          "data": {
            "text/plain": [
              "['notebooks', 'sphinxdoc']"
            ]
          },
          "execution_count": 6,
          "metadata": {},
          "output_type": "execute_result"
        }
      ],
      "source": [
        "d = AutoCompletionFile(path)\n",
        "d._members"
      ]
    },
    {
      "cell_type": "code",
      "execution_count": 6,
      "metadata": {
        "collapsed": false
      },
      "outputs": [
        {
          "data": {
            "text/plain": [
              "'GitHub\\\\pyquickhelper\\\\_doc\\\\sphinxdoc\\\\source\\\\index.rst'"
            ]
          },
          "execution_count": 7,
          "metadata": {},
          "output_type": "execute_result"
        }
      ],
      "source": [
        "d.sphinxdoc.source.index_rst._ [25:]"
      ]
    },
    {
      "cell_type": "code",
      "execution_count": 7,
      "metadata": {
        "collapsed": false
      },
      "outputs": [
        {
          "data": {
            "text/plain": [
              "['all_coverage.rst',\n",
              " 'all_example.rst',\n",
              " 'all_example_otherpageofexamples.rst',\n",
              " 'all_example_pagewithanaccentinthetitle.rst',\n",
              " 'all_example_pagewithanaccentointhetitle.rst',\n",
              " 'all_FAQ.rst',\n",
              " 'all_indexes.rst',\n",
              " 'all_notebooks.rst',\n",
              " 'all_report.rst',\n",
              " 'blog',\n",
              " 'completion.png',\n",
              " 'conf.py',\n",
              " 'doctestunit.rst',\n",
              " 'documentation_example.rst',\n",
              " 'filechanges.rst',\n",
              " 'form.png',\n",
              " 'generatedoc.rst',\n",
              " 'generatesetup.rst',\n",
              " 'glossary.rst',\n",
              " 'images',\n",
              " 'index.rst',\n",
              " 'indexmenu.rst',\n",
              " 'index_class.rst',\n",
              " 'index_ext-doc.rst',\n",
              " 'index_function.rst',\n",
              " 'index_method.rst',\n",
              " 'index_module.rst',\n",
              " 'index_property.rst',\n",
              " 'index_staticmethod.rst',\n",
              " 'installation.rst',\n",
              " 'license.rst',\n",
              " 'LICENSE.txt',\n",
              " 'notebooks',\n",
              " 'open_function.png',\n",
              " 'open_functionl.png',\n",
              " 'open_params.png',\n",
              " 'phdoc_static',\n",
              " 'phdoc_templates',\n",
              " 'pyquickhelper',\n",
              " 'README.rst',\n",
              " '_images',\n",
              " '__pycache__']"
            ]
          },
          "execution_count": 8,
          "metadata": {},
          "output_type": "execute_result"
        }
      ],
      "source": [
        "import os\n",
        "os.listdir(d.sphinxdoc.source._)"
      ]
    },
    {
      "cell_type": "code",
      "execution_count": 8,
      "metadata": {
        "collapsed": false
      },
      "outputs": [],
      "source": []
    }
  ],
  "metadata": {
    "kernelspec": {
      "display_name": "Python 3",
      "language": "python",
      "name": "python3"
    },
    "language_info": {
      "codemirror_mode": {
        "name": "ipython",
        "version": 3
      },
      "file_extension": ".py",
      "mimetype": "text/x-python",
      "name": "python",
      "nbconvert_exporter": "python",
      "pygments_lexer": "ipython3",
      "version": "3.5.2"
    }
  },
  "nbformat": 4,
  "nbformat_minor": 0
}