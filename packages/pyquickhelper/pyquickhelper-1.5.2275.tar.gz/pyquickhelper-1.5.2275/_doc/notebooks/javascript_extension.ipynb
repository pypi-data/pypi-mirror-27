{
  "cells": [
    {
      "cell_type": "markdown",
      "metadata": {},
      "source": [
        "# Javascript extension for a notebook\n",
        "\n",
        "Play with Javascript extensions."
      ]
    },
    {
      "cell_type": "code",
      "execution_count": 1,
      "metadata": {
        "collapsed": false,
        "run_control": {
          "marked": false
        }
      },
      "outputs": [],
      "source": [
        "from pyquickhelper.ipythonhelper import load_extension, install_notebook_extension, get_installed_notebook_extension"
      ]
    },
    {
      "cell_type": "markdown",
      "metadata": {},
      "source": [
        "We install extension in case it was not done before:"
      ]
    },
    {
      "cell_type": "code",
      "execution_count": 2,
      "metadata": {
        "code_folding": [],
        "collapsed": false,
        "run_control": {
          "marked": false
        }
      },
      "outputs": [
        {
          "name": "stdout",
          "output_type": "stream",
          "text": [
            "downloading https://github.com/ipython-contrib/IPython-notebook-extensions/archive/master.zip to C:\\Users\\auser\\AppData\\Local\\Temp\\tmpt0c6mp8q\\master.zip\n",
            "extracting C:\\Users\\auser\\AppData\\Local\\Temp\\tmpt0c6mp8q\\master.zip to C:\\ProgramData\\jupyter\\nbextensions\n"
          ]
        }
      ],
      "source": [
        "install_notebook_extension()"
      ]
    },
    {
      "cell_type": "markdown",
      "metadata": {},
      "source": [
        "We check the list of installed extensions (from [IPython-notebook-extensions](https://github.com/ipython-contrib/IPython-notebook-extensions/wiki)):"
      ]
    },
    {
      "cell_type": "code",
      "execution_count": 3,
      "metadata": {
        "collapsed": false
      },
      "outputs": [
        {
          "data": {
            "text/plain": [
              "['IPython-notebook-extensions-master/config/main',\n",
              " 'IPython-notebook-extensions-master/publishing/nbviewer_theme/main',\n",
              " 'IPython-notebook-extensions-master/publishing/printview/main',\n",
              " 'IPython-notebook-extensions-master/slidemode/main',\n",
              " 'IPython-notebook-extensions-master/styling/css_selector/main',\n",
              " 'IPython-notebook-extensions-master/styling/zenmode/main',\n",
              " 'IPython-notebook-extensions-master/testing/hierarchical_collapse/main',\n",
              " 'IPython-notebook-extensions-master/testing/swc/main',\n",
              " 'IPython-notebook-extensions-master/usability/chrome-clipboard/main',\n",
              " 'IPython-notebook-extensions-master/usability/codefolding/main',\n",
              " 'IPython-notebook-extensions-master/usability/dragdrop/main',\n",
              " 'IPython-notebook-extensions-master/usability/exercise/main',\n",
              " 'IPython-notebook-extensions-master/usability/hide_input/main',\n",
              " 'IPython-notebook-extensions-master/usability/init_cell/main',\n",
              " 'IPython-notebook-extensions-master/usability/limit_output/main',\n",
              " 'IPython-notebook-extensions-master/usability/navigation-hotkeys/main',\n",
              " 'IPython-notebook-extensions-master/usability/python-markdown/main',\n",
              " 'IPython-notebook-extensions-master/usability/rubberband/main',\n",
              " 'IPython-notebook-extensions-master/usability/runtools/main',\n",
              " 'IPython-notebook-extensions-master/usability/search-replace/main',\n",
              " 'IPython-notebook-extensions-master/usability/skip-traceback/main']"
            ]
          },
          "execution_count": 4,
          "metadata": {},
          "output_type": "execute_result"
        }
      ],
      "source": [
        "get_installed_notebook_extension()"
      ]
    },
    {
      "cell_type": "markdown",
      "metadata": {},
      "source": [
        "And then, we load one of them:"
      ]
    },
    {
      "cell_type": "code",
      "execution_count": 4,
      "metadata": {
        "code_folding": [],
        "collapsed": false,
        "input_collapsed": false
      },
      "outputs": [
        {
          "data": {
            "application/javascript": [
              "IPython.utils.load_extensions('IPython-notebook-extensions-master/usability/search-replace/main')"
            ],
            "text/plain": [
              "<IPython.core.display.Javascript object>"
            ]
          },
          "metadata": {},
          "output_type": "display_data"
        }
      ],
      "source": [
        "%%javascript\n",
        "IPython.utils.load_extensions('IPython-notebook-extensions-master/usability/search-replace/main')"
      ]
    },
    {
      "cell_type": "markdown",
      "metadata": {},
      "source": [
        "Or if you prefer with pyquickhelper:"
      ]
    },
    {
      "cell_type": "code",
      "execution_count": 5,
      "metadata": {
        "code_folding": [
          0
        ],
        "collapsed": false,
        "input_collapsed": false,
        "run_control": {
          "marked": true
        }
      },
      "outputs": [
        {
          "data": {
            "application/javascript": [
              "IPython.utils.load_extensions('IPython-notebook-extensions-master/usability/hide_input/main')"
            ],
            "text/plain": [
              "<IPython.core.display.Javascript object>"
            ]
          },
          "execution_count": 6,
          "metadata": {},
          "output_type": "execute_result"
        }
      ],
      "source": [
        "load_extension('IPython-notebook-extensions-master/usability/hide_input/main')"
      ]
    },
    {
      "cell_type": "code",
      "execution_count": 6,
      "metadata": {
        "collapsed": true,
        "input_collapsed": false
      },
      "outputs": [],
      "source": []
    }
  ],
  "metadata": {
    "kernelspec": {
      "display_name": "Python 3",
      "language": "python",
      "name": "python3"
    },
    "language_info": {
      "codemirror_mode": {
        "name": "ipython",
        "version": 3
      },
      "file_extension": ".py",
      "mimetype": "text/x-python",
      "name": "python",
      "nbconvert_exporter": "python",
      "pygments_lexer": "ipython3",
      "version": "3.5.2"
    }
  },
  "nbformat": 4,
  "nbformat_minor": 0
}