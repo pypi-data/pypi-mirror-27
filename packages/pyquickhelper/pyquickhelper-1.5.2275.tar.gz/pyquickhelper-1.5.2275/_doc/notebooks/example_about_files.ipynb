{
  "cells": [
    {
      "cell_type": "markdown",
      "metadata": {},
      "source": [
        "# Helpers about files\n",
        "\n",
        "How to compress, encrypt, decrypt files with pyquickhelper."
      ]
    },
    {
      "cell_type": "markdown",
      "metadata": {},
      "source": [
        "## compress"
      ]
    },
    {
      "cell_type": "code",
      "execution_count": 1,
      "metadata": {
        "collapsed": false
      },
      "outputs": [],
      "source": [
        "from pyquickhelper.filehelper import download, gzip_files, zip7_files, zip_files"
      ]
    },
    {
      "cell_type": "code",
      "execution_count": 2,
      "metadata": {
        "collapsed": false
      },
      "outputs": [
        {
          "data": {
            "text/plain": [
              "'.\\\\urllib.request.html'"
            ]
          },
          "execution_count": 3,
          "metadata": {},
          "output_type": "execute_result"
        }
      ],
      "source": [
        "download(\"https://docs.python.org/3.4/library/urllib.request.html\")"
      ]
    },
    {
      "cell_type": "code",
      "execution_count": 3,
      "metadata": {
        "collapsed": false
      },
      "outputs": [
        {
          "data": {
            "text/plain": [
              "1"
            ]
          },
          "execution_count": 4,
          "metadata": {},
          "output_type": "execute_result"
        }
      ],
      "source": [
        "gzip_files(\"request.html.gz\", [\"urllib.request.html\"])"
      ]
    },
    {
      "cell_type": "code",
      "execution_count": 4,
      "metadata": {
        "collapsed": false
      },
      "outputs": [
        {
          "data": {
            "text/plain": [
              "['.ipynb_checkpoints',\n",
              " 'example_about_files.ipynb',\n",
              " 'example_completion.ipynb',\n",
              " 'example_documentation.ipynb',\n",
              " 'example_pyquickhelper.ipynb',\n",
              " 'example_with_comments.ipynb',\n",
              " 'exemple_of_fix_menu.ipynb',\n",
              " 'having_a_form_in_a_notebook.ipynb',\n",
              " 'javascript_extension.ipynb',\n",
              " 'nbimage.png',\n",
              " 'notebooks.7z',\n",
              " 'notebooks.enc',\n",
              " 'notebooks2.7z',\n",
              " 'notebook_with_svg.ipynb',\n",
              " 'request.html.gz',\n",
              " 'simple_example.ipynb',\n",
              " 'urllib.request.html']"
            ]
          },
          "execution_count": 5,
          "metadata": {},
          "output_type": "execute_result"
        }
      ],
      "source": [
        "import os\n",
        "os.listdir(\".\")"
      ]
    },
    {
      "cell_type": "code",
      "execution_count": 5,
      "metadata": {
        "collapsed": false
      },
      "outputs": [
        {
          "data": {
            "text/plain": [
              "11"
            ]
          },
          "execution_count": 6,
          "metadata": {},
          "output_type": "execute_result"
        }
      ],
      "source": [
        "ipy = [ _ for _ in os.listdir(\".\") if \".ipynb\" in _ ]\n",
        "if os.path.exists(\"request.html.zip\"):\n",
        "    os.remove(\"notebooks.zip\")\n",
        "zip_files(\"notebooks.zip\", ipy)"
      ]
    },
    {
      "cell_type": "markdown",
      "metadata": {},
      "source": [
        "The following example get all files registered in a repository GIT or SVN."
      ]
    },
    {
      "cell_type": "code",
      "execution_count": 6,
      "metadata": {
        "collapsed": false
      },
      "outputs": [],
      "source": [
        "from pyquickhelper.filehelper import explore_folder_iterfile_repo"
      ]
    },
    {
      "cell_type": "code",
      "execution_count": 7,
      "metadata": {
        "collapsed": false
      },
      "outputs": [],
      "source": [
        "files = list ( explore_folder_iterfile_repo(\".\") )"
      ]
    },
    {
      "cell_type": "code",
      "execution_count": 8,
      "metadata": {
        "collapsed": false
      },
      "outputs": [
        {
          "data": {
            "text/plain": [
              "['javascript_extension.ipynb',\n",
              " 'having_a_form_in_a_notebook.ipynb',\n",
              " 'nbimage.png',\n",
              " 'example_with_comments.ipynb',\n",
              " 'example_documentation.ipynb',\n",
              " 'example_completion.ipynb',\n",
              " 'example_pyquickhelper.ipynb',\n",
              " 'example_about_files.ipynb',\n",
              " 'notebook_with_svg.ipynb',\n",
              " 'exemple_of_fix_menu.ipynb',\n",
              " 'simple_example.ipynb']"
            ]
          },
          "execution_count": 9,
          "metadata": {},
          "output_type": "execute_result"
        }
      ],
      "source": [
        "files"
      ]
    },
    {
      "cell_type": "markdown",
      "metadata": {},
      "source": [
        "## encrypt, decrypt"
      ]
    },
    {
      "cell_type": "code",
      "execution_count": 9,
      "metadata": {
        "collapsed": false
      },
      "outputs": [],
      "source": [
        "%load_ext pyquickhelper"
      ]
    },
    {
      "cell_type": "code",
      "execution_count": 10,
      "metadata": {
        "collapsed": true
      },
      "outputs": [],
      "source": [
        "%encrypt_file notebooks.zip notebooks.enc passwordpassword"
      ]
    },
    {
      "cell_type": "code",
      "execution_count": 11,
      "metadata": {
        "collapsed": false
      },
      "outputs": [],
      "source": [
        "%decrypt_file notebooks.enc notebooks2.zip passwordpassword"
      ]
    },
    {
      "cell_type": "code",
      "execution_count": 12,
      "metadata": {
        "collapsed": true
      },
      "outputs": [],
      "source": []
    }
  ],
  "metadata": {
    "kernelspec": {
      "display_name": "Python 3",
      "language": "python",
      "name": "python3"
    },
    "language_info": {
      "codemirror_mode": {
        "name": "ipython",
        "version": 3
      },
      "file_extension": ".py",
      "mimetype": "text/x-python",
      "name": "python",
      "nbconvert_exporter": "python",
      "pygments_lexer": "ipython3",
      "version": "3.5.2"
    }
  },
  "nbformat": 4,
  "nbformat_minor": 0
}