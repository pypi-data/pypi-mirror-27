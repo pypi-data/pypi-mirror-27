{
 "metadata": {
  "kernelspec": {
   "codemirror_mode": {
    "name": "ipython",
    "version": 3
   },
   "display_name": "IPython (Python 3)",
   "language": "python",
   "name": "python3"
  },
  "name": "",
  "parameterise": {
   "stock": {
    "display_name": "Stock symbol"
   }
  },
  "signature": "sha256:1eed9df88bd81940f6f7c556715c567d33a7a371a05ee0896ca23ddfc4d7e918"
 },
 "nbformat": 3,
 "nbformat_minor": 0,
 "worksheets": [
  {
   "cells": [
    {
     "cell_type": "markdown",
     "metadata": {},
     "source": [
      "Stock displays. Code cribbed from [this notebook](http://nbviewer.ipython.org/github/twiecki/financial-analysis-python-tutorial/blob/master/1.%20Pandas%20Basics.ipynb) by [Thomas Wiecki](https://github.com/twiecki)."
     ]
    },
    {
     "cell_type": "code",
     "collapsed": false,
     "input": [
      "stock = 'YHOO'   # Display names are stored in notebook metadata\n",
      "days_back = 600"
     ],
     "language": "python",
     "metadata": {},
     "outputs": []
    },
    {
     "cell_type": "code",
     "collapsed": false,
     "input": [
      "import datetime\n",
      "\n",
      "import pandas as pd\n",
      "import pandas.io.data as webdata\n",
      "from matplotlib import pyplot as plt\n",
      "%matplotlib inline"
     ],
     "language": "python",
     "metadata": {},
     "outputs": []
    },
    {
     "cell_type": "code",
     "collapsed": false,
     "input": [
      "now = datetime.date.today()\n",
      "start = now - datetime.timedelta(days=days_back)\n",
      "df = webdata.get_data_yahoo(stock, start=start, end=now)"
     ],
     "language": "python",
     "metadata": {},
     "outputs": []
    },
    {
     "cell_type": "code",
     "collapsed": false,
     "input": [
      "close_px = df['Adj Close']\n",
      "mavg = pd.rolling_mean(close_px, 30)"
     ],
     "language": "python",
     "metadata": {},
     "outputs": []
    },
    {
     "cell_type": "code",
     "collapsed": false,
     "input": [
      "close_px.plot(label=stock)\n",
      "mavg.plot(label='mavg')\n",
      "plt.legend()"
     ],
     "language": "python",
     "metadata": {},
     "outputs": []
    }
   ],
   "metadata": {}
  }
 ]
}