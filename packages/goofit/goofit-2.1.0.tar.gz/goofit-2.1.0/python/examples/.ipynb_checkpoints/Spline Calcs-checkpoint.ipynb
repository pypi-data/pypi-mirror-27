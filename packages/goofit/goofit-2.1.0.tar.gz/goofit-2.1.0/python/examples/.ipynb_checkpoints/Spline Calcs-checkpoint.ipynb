{
 "cells": [
  {
   "cell_type": "code",
   "execution_count": 1,
   "metadata": {
    "collapsed": true
   },
   "outputs": [],
   "source": [
    "import matplotlib.pyplot as plt\n",
    "import numpy as np\n",
    "import pandas as pd\n",
    "import scipy.interpolate"
   ]
  },
  {
   "cell_type": "markdown",
   "metadata": {},
   "source": [
    "Positions of the splines"
   ]
  },
  {
   "cell_type": "code",
   "execution_count": 2,
   "metadata": {
    "collapsed": true
   },
   "outputs": [],
   "source": [
    "C = np.array([\n",
    "    [0,0],\n",
    "    [1,0],\n",
    "    [2,2],\n",
    "    [3,2],\n",
    "    [4,4],\n",
    "    [5,5],\n",
    "    [6,2],\n",
    "    [7,1],\n",
    "]).T"
   ]
  },
  {
   "cell_type": "code",
   "execution_count": 3,
   "metadata": {
    "collapsed": true
   },
   "outputs": [],
   "source": [
    "Xnew = np.linspace(-1,8,500)\n",
    "spl = scipy.interpolate.CubicSpline(C[0], C[1], bc_type='natural')\n",
    "Ynew = spl(Xnew)"
   ]
  },
  {
   "cell_type": "code",
   "execution_count": 4,
   "metadata": {},
   "outputs": [
    {
     "data": {
      "image/png": "[encoded data removed]",
      "text/plain": [
       "<matplotlib.figure.Figure at 0x1190fca20>"
      ]
     },
     "metadata": {},
     "output_type": "display_data"
    }
   ],
   "source": [
    "plt.plot(C[0],C[1], '.')\n",
    "plt.plot(Xnew, Ynew)\n",
    "plt.show()"
   ]
  },
  {
   "cell_type": "code",
   "execution_count": 5,
   "metadata": {
    "collapsed": true
   },
   "outputs": [],
   "source": [
    "def mkspline(x,y):\n",
    "    n = len(x)-1\n",
    "    output = np.empty((5,n),dtype=np.double)\n",
    "    output[0] = y[:-1]\n",
    "    output[4] = x[:-1]\n",
    "    \n",
    "    l = np.ones(n+1)\n",
    "    mu = np.zeros(n+1)\n",
    "    z = np.zeros(n+1)\n",
    "    c = np.zeros(n+1)\n",
    "        \n",
    "    h = np.diff(x)\n",
    "    alpha = 3/h[1:]*(y[2:]-y[1:-1]) - 3/h[:-1]*(y[1:-1]-y[:-2])\n",
    "\n",
    "    for i in range(1,n):\n",
    "        l[i] = 2*(x[i+1]-x[i-1])-h[i-1]*mu[i-1]\n",
    "        mu[i] = h[i]/l[i]\n",
    "        z[i] = (alpha[i-1] - h[i-1]*z[i-1])/l[i]\n",
    "\n",
    "    for j in range(n):\n",
    "        j = n-j-1\n",
    "        c[j]=z[j]-mu[j]*c[j+1]\n",
    "        \n",
    "    output[1]=(y[1:]-y[:-1])/h - h*(c[1:]+2*c[:-1])/3\n",
    "    output[3]=(c[1:]-c[:-1])/3*h\n",
    "        \n",
    "    output[2] = c[:-1]\n",
    "    return output"
   ]
  },
  {
   "cell_type": "markdown",
   "metadata": {},
   "source": [
    "$$\n",
    "{\\displaystyle {S}_{j}\\left(x\\right)=a_{j}+b_{j}\\left(x-x_{j}\\right)+c_{j}{\\left(x-x_{j}\\right)}^{2}+d_{j}{\\left(x-x_{j}\\right)}^{3}}\n",
    "$$"
   ]
  },
  {
   "cell_type": "code",
   "execution_count": 6,
   "metadata": {
    "collapsed": true
   },
   "outputs": [],
   "source": [
    "def plotit(output, xval):\n",
    "    b = np.digitize(xval, output[4])\n",
    "    b = np.maximum(0, b-1)\n",
    "    out = output[:,b]\n",
    "    diff = xval-out[4]\n",
    "    return out[0] + out[1]*diff + out[2]*diff**2 + out[3]*diff**3"
   ]
  },
  {
   "cell_type": "code",
   "execution_count": 7,
   "metadata": {},
   "outputs": [
    {
     "data": {
      "application/vnd.jupyter.widget-view+json": {
       "model_id": "160aee623f9a4d44a60644e0174211ad"
      }
     },
     "metadata": {},
     "output_type": "display_data"
    },
    {
     "data": {
      "text/plain": [
       "<function __main__.mkC>"
      ]
     },
     "execution_count": 7,
     "metadata": {},
     "output_type": "execute_result"
    }
   ],
   "source": [
    "from ipywidgets import interact\n",
    "def mkC(a=0, b=0, c=3, d=2, e=4,f=5,g=2,h=1):\n",
    "    C[1] = [a,b,c,d,e,f,g,h]\n",
    "    plt.plot(C[0],C[1], '.')\n",
    "    output = mkspline(C[0], C[1])\n",
    "    plt.plot(Xnew, plotit(output, Xnew))\n",
    "    plt.show()\n",
    "x = (-3.,6.)\n",
    "interact(mkC,a=x,b=x,c=x,d=x,e=x,f=x,g=x,h=x)"
   ]
  },
  {
   "cell_type": "code",
   "execution_count": 9,
   "metadata": {},
   "outputs": [
    {
     "data": {
      "image/png": "[encoded data removed]",
      "text/plain": [
       "<matplotlib.figure.Figure at 0x11d31d080>"
      ]
     },
     "metadata": {},
     "output_type": "display_data"
    }
   ],
   "source": [
    "plt.plot(C[0],C[1], '.')\n",
    "output = mkspline(C[0], C[1])\n",
    "plt.plot(Xnew, plotit(output, Xnew))\n",
    "plt.savefig('SplineExample.pdf', transperent=True)\n",
    "plt.show()"
   ]
  },
  {
   "cell_type": "code",
   "execution_count": null,
   "metadata": {
    "collapsed": true
   },
   "outputs": [],
   "source": []
  }
 ],
 "metadata": {
  "kernelspec": {
   "display_name": "Python 3",
   "language": "python",
   "name": "python3"
  },
  "language_info": {
   "codemirror_mode": {
    "name": "ipython",
    "version": 3
   },
   "file_extension": ".py",
   "mimetype": "text/x-python",
   "name": "python",
   "nbconvert_exporter": "python",
   "pygments_lexer": "ipython3",
   "version": "3.6.1"
  }
 },
 "nbformat": 4,
 "nbformat_minor": 2
}
