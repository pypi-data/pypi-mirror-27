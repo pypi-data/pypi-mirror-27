{
 "cells": [
  {
   "cell_type": "code",
   "execution_count": 1,
   "metadata": {
    "collapsed": false,
    "inputHidden": false,
    "outputHidden": false,
    "slideshow": {
     "slide_type": "slide"
    }
   },
   "outputs": [],
   "source": [
    "import matplotlib.pyplot as plt\n",
    "import numpy as np\n",
    "import sys\n",
    "sys.path.append('.')"
   ]
  },
  {
   "cell_type": "code",
   "execution_count": 2,
   "metadata": {
    "collapsed": false
   },
   "outputs": [
    {
     "name": "stdout",
     "output_type": "stream",
     "text": [
      "/Users/henryiii/git/fitting/goofit/build\n"
     ]
    }
   ],
   "source": [
    "cd ../../build"
   ]
  },
  {
   "cell_type": "markdown",
   "metadata": {},
   "source": [
    "For now I'm importing from the build directory instead of using `pip install -e .`"
   ]
  },
  {
   "cell_type": "markdown",
   "metadata": {},
   "source": [
    "First, we need to import GooFit. For scripts, this can be written `from goofit import *`, but the following form is clearer for examples."
   ]
  },
  {
   "cell_type": "code",
   "execution_count": 3,
   "metadata": {
    "collapsed": false,
    "inputHidden": false,
    "outputHidden": false
   },
   "outputs": [],
   "source": [
    "import goofit"
   ]
  },
  {
   "cell_type": "markdown",
   "metadata": {
    "slideshow": {
     "slide_type": "slide"
    }
   },
   "source": [
    "We start by defining our independent variable:"
   ]
  },
  {
   "cell_type": "code",
   "execution_count": 4,
   "metadata": {
    "collapsed": true,
    "inputHidden": false,
    "outputHidden": false
   },
   "outputs": [],
   "source": [
    "x = goofit.Variable('x', -10, 10)"
   ]
  },
  {
   "cell_type": "markdown",
   "metadata": {},
   "source": [
    "Make data in Numpy from a random distribution. We could explicitly limit this to the correct range, but instead, we'll pass `filter=True` when we convert the array to a GooFit DataSet:"
   ]
  },
  {
   "cell_type": "code",
   "execution_count": 5,
   "metadata": {
    "collapsed": true,
    "inputHidden": false,
    "outputHidden": false
   },
   "outputs": [],
   "source": [
    "data = np.random.normal(1,2.5,1000000)"
   ]
  },
  {
   "cell_type": "markdown",
   "metadata": {
    "slideshow": {
     "slide_type": "slide"
    }
   },
   "source": [
    "When we make the dataset, we'll need a 2D dataset ($1\\times n$ in this case). We could simply add a dimension, but passing an list of arrays works as well:"
   ]
  },
  {
   "cell_type": "code",
   "execution_count": 6,
   "metadata": {
    "collapsed": true,
    "inputHidden": false,
    "outputHidden": false
   },
   "outputs": [],
   "source": [
    "dataset = goofit.UnbinnedDataSet(x)\n",
    "dataset.from_numpy([data], filter=True)"
   ]
  },
  {
   "cell_type": "markdown",
   "metadata": {},
   "source": [
    "GooFit classes are expected to act like Python objects, so we can check the length, for example:"
   ]
  },
  {
   "cell_type": "code",
   "execution_count": 7,
   "metadata": {
    "collapsed": false
   },
   "outputs": [
    {
     "data": {
      "text/plain": [
       "999842"
      ]
     },
     "execution_count": 7,
     "metadata": {},
     "output_type": "execute_result"
    }
   ],
   "source": [
    "len(dataset)"
   ]
  },
  {
   "cell_type": "markdown",
   "metadata": {
    "slideshow": {
     "slide_type": "slide"
    }
   },
   "source": [
    "Now, we set up two more Variables (fit parameters in this case), floating with an initial value and a range."
   ]
  },
  {
   "cell_type": "code",
   "execution_count": 8,
   "metadata": {
    "collapsed": true
   },
   "outputs": [],
   "source": [
    "mean = goofit.Variable('mean', 0, -10, 10)\n",
    "sigma = goofit.Variable('sigma', 1, 0, 5)"
   ]
  },
  {
   "cell_type": "markdown",
   "metadata": {},
   "source": [
    "Now, we make a new Gaussian PDF, with a name, a variable, and two parameters:"
   ]
  },
  {
   "cell_type": "code",
   "execution_count": 9,
   "metadata": {
    "collapsed": true
   },
   "outputs": [],
   "source": [
    "goofit.GaussianPdf?"
   ]
  },
  {
   "cell_type": "code",
   "execution_count": 10,
   "metadata": {
    "collapsed": true,
    "inputHidden": false,
    "outputHidden": false
   },
   "outputs": [],
   "source": [
    "gauss = goofit.GaussianPdf('gauss', x, mean, sigma)"
   ]
  },
  {
   "cell_type": "markdown",
   "metadata": {
    "slideshow": {
     "slide_type": "slide"
    }
   },
   "source": [
    "Now, fit our dataset with our PDF:"
   ]
  },
  {
   "cell_type": "code",
   "execution_count": 15,
   "metadata": {
    "collapsed": false,
    "inputHidden": false,
    "outputHidden": false
   },
   "outputs": [
    {
     "name": "stdout",
     "output_type": "stream",
     "text": [
      "\u001b[37m\u001b[1mMnSeedGenerator: for initial parameters FCN = 4665189.716239\n",
      "MnSeedGenerator: Initial state:   - FCN =   4665189.716239 Edm =  1.64236e-05 NCalls =      9\n",
      "VariableMetric: start iterating until Edm is < 0.0001\n",
      "VariableMetric: Initial state   - FCN =   4665189.716239 Edm =  1.64236e-05 NCalls =      9\n",
      "VariableMetric: Iteration #   0 - FCN =   4665189.716239 Edm =  1.64236e-05 NCalls =      9\n",
      "VariableMetric: Iteration #   1 - FCN =   4665189.716218 Edm =  2.31124e-07 NCalls =     16\n",
      "VariableMetric: After Hessian   - FCN =   4665189.716218 Edm =  1.58612e-07 NCalls =     28\n",
      "VariableMetric: Iteration #   2 - FCN =   4665189.716218 Edm =  1.58612e-07 NCalls =     28\n",
      "\u001b[0m\u001b[32m\n",
      "Minuit did successfully converge.\n",
      "# of function calls: 28\n",
      "minimum function Value: 4665189.716218\n",
      "minimum edm: 1.586120182956e-07\n",
      "minimum internal state vector: LAVector parameters:\n",
      "     0.1002910229112\n",
      "   -0.00226303929723\n",
      "\n",
      "minimum internal covariance matrix: LASymMatrix parameters:\n",
      "  6.2857422e-08  1.3175639e-10\n",
      "  1.3175639e-10  4.9782072e-07\n",
      "\n",
      "\n",
      "# ext. ||   Name    ||   type  ||     Value     ||  Error +/- \n",
      "\n",
      "   0   ||      mean || limited ||      1.001229814239 ||0.001763906175499\n",
      "   1   ||     sigma || limited ||      2.494342406586 ||0.001247269684061\n",
      "\n",
      "\n",
      "\n",
      "\n",
      "\u001b[0m\u001b[35mThe minimization took: 1.5707 s\u001b[0m\n",
      "Average time per call: 56.178 ms\n"
     ]
    }
   ],
   "source": [
    "mn = gauss.fitTo(dataset)"
   ]
  },
  {
   "cell_type": "markdown",
   "metadata": {},
   "source": [
    "We can check our parameters to verify they have changed to match the values we used to make the data:"
   ]
  },
  {
   "cell_type": "code",
   "execution_count": 12,
   "metadata": {
    "collapsed": false,
    "inputHidden": false,
    "outputHidden": false
   },
   "outputs": [
    {
     "name": "stdout",
     "output_type": "stream",
     "text": [
      "mean: 1.00124 +/- 0.00176391 [-10, 10] GooFit index: 0 Fitter index: 0\n",
      "sigma: 2.49435 +/- 0.00124728 [0, 5] GooFit index: 1 Fitter index: 1\n"
     ]
    }
   ],
   "source": [
    "print(mean)\n",
    "print(sigma)"
   ]
  },
  {
   "cell_type": "markdown",
   "metadata": {
    "slideshow": {
     "slide_type": "slide"
    }
   },
   "source": [
    "### Plotting\n",
    "First, we make a grid dataset (grid) and evaluate the pdf over the grid (pts)."
   ]
  },
  {
   "cell_type": "code",
   "execution_count": 13,
   "metadata": {
    "collapsed": false,
    "inputHidden": false,
    "outputHidden": false
   },
   "outputs": [],
   "source": [
    "grid, pts = gauss.evaluatePdf(x)"
   ]
  },
  {
   "cell_type": "markdown",
   "metadata": {},
   "source": [
    "Then, plot the histogram (normalized) and the PDF points."
   ]
  },
  {
   "cell_type": "code",
   "execution_count": 14,
   "metadata": {
    "collapsed": false,
    "inputHidden": false,
    "outputHidden": false,
    "slideshow": {
     "slide_type": "subslide"
    }
   },
   "outputs": [],
   "source": [
    "plt.figure(figsize=(6, 4))\n",
    "plt.hist(dataset.to_numpy().T, bins=50, range=(-10,10), normed=True)\n",
    "plt.plot(grid.to_numpy().flatten(), pts, linewidth=2)\n",
    "plt.xlabel('xvar')\n",
    "plt.ylabel('Normalized probability')\n",
    "plt.show()"
   ]
  },
  {
   "cell_type": "code",
   "execution_count": 17,
   "metadata": {
    "collapsed": false
   },
   "outputs": [],
   "source": [
    "ms = mn.UserState()"
   ]
  },
  {
   "cell_type": "code",
   "execution_count": null,
   "metadata": {
    "collapsed": true
   },
   "outputs": [],
   "source": [
    "ms.Value(0)"
   ]
  }
 ],
 "metadata": {
  "celltoolbar": "Slideshow",
  "kernel_info": {
   "name": "python3"
  },
  "kernelspec": {
   "display_name": "Python 2",
   "language": "python",
   "name": "python2"
  },
  "language_info": {
   "codemirror_mode": {
    "name": "ipython",
    "version": 2
   },
   "file_extension": ".py",
   "mimetype": "text/x-python",
   "name": "python",
   "nbconvert_exporter": "python",
   "pygments_lexer": "ipython2",
   "version": "2.7.13"
  }
 },
 "nbformat": 4,
 "nbformat_minor": 4
}
