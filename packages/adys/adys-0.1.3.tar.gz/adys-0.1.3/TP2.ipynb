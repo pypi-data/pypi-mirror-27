{
 "cells": [
  {
   "cell_type": "markdown",
   "metadata": {},
   "source": [
    "# TP Mutations et reprogrammation des réseaux booléens"
   ]
  },
  {
   "cell_type": "code",
   "execution_count": 1,
   "metadata": {
    "collapsed": true
   },
   "outputs": [],
   "source": [
    "from adys import *"
   ]
  },
  {
   "cell_type": "markdown",
   "metadata": {},
   "source": [
    "## Mutations pour le réseau ERBB"
   ]
  },
  {
   "cell_type": "markdown",
   "metadata": {},
   "source": [
    "### Exercice 1"
   ]
  },
  {
   "cell_type": "code",
   "execution_count": 2,
   "metadata": {},
   "outputs": [
    {
     "name": "stdout",
     "output_type": "stream",
     "text": [
      "fEGF := TRUE;\n",
      "fERBB1 := EGF;\n",
      "fERBB2 := EGF;\n",
      "fERBB3 := EGF;\n",
      "fERBB1_2 := ERBB1 & ERBB2;\n",
      "fERBB1_3 := ERBB1 & ERBB3;\n",
      "fERBB2_3 := ERBB2 & ERBB3;\n",
      "fIGF1R := (ERa | AKT1) & !ERBB2_3;\n",
      "fERa := AKT1 | MEK1;\n",
      "fcMYC := AKT1 | MEK1 | ERa;\n",
      "fAKT1 := ERBB1 | ERBB1_2 | ERBB1_3 | ERBB2_3 | IGF1R;\n",
      "fMEK1 := ERBB1 | ERBB1_2 | ERBB1_3 | ERBB2_3 | IGF1R;\n",
      "fCDK2 := CycE1 & !p21 & !p27;\n",
      "fCDK4 := CycD1 & !p21 & !p27;\n",
      "fCDK6 := CycD1;\n",
      "fCycD1 := AKT1 | MEK1 | ERa | cMYC;\n",
      "fCycE1 := cMYC;\n",
      "fp21 := ERa & !AKT1 & !cMYC & !CDK4;\n",
      "fp27 := ERa & !CDK4 & !CDK2 & !AKT1 & !cMYC;\n",
      "fpRB := (CDK4 & CDK6);\n"
     ]
    }
   ],
   "source": [
    "print(ERBB_BN)"
   ]
  },
  {
   "cell_type": "code",
   "execution_count": 3,
   "metadata": {
    "collapsed": true
   },
   "outputs": [],
   "source": [
    "bn_prelim = parse_bn(ERBB_BN)"
   ]
  },
  {
   "cell_type": "markdown",
   "metadata": {},
   "source": [
    "(1) Il est possible d'activer pRB depuis l'état initial où EGF est actif"
   ]
  },
  {
   "cell_type": "code",
   "execution_count": 4,
   "metadata": {},
   "outputs": [
    {
     "name": "stdout",
     "output_type": "stream",
     "text": [
      "-- specification EF pRB  is true\n"
     ]
    }
   ],
   "source": [
    "smv = bn2smv(bn_prelim, \"async\", init={\"EGF\"})\n",
    "append_line(smv, \"CTLSPEC EF pRB;\")\n",
    "NuSMV(smv)"
   ]
  },
  {
   "cell_type": "markdown",
   "metadata": {},
   "source": [
    "(2) Désactivation de ERa:"
   ]
  },
  {
   "cell_type": "code",
   "execution_count": 5,
   "metadata": {
    "collapsed": true
   },
   "outputs": [],
   "source": [
    "bn_koERa = bn_prelim.copy()\n",
    "bn_koERa[\"ERa\"] = \"FALSE\""
   ]
  },
  {
   "cell_type": "code",
   "execution_count": 6,
   "metadata": {},
   "outputs": [
    {
     "name": "stdout",
     "output_type": "stream",
     "text": [
      "-- specification EF pRB  is true\n"
     ]
    }
   ],
   "source": [
    "smv = bn2smv(bn_koERa, \"async\", init={\"EGF\"})\n",
    "append_line(smv, \"CTLSPEC EF pRB;\")\n",
    "NuSMV(smv)"
   ]
  },
  {
   "cell_type": "markdown",
   "metadata": {},
   "source": [
    "Le modèle préliminaire n'est pas correct car il ne peut pas reproduire l'effet de la mutation de ERa."
   ]
  },
  {
   "cell_type": "markdown",
   "metadata": {},
   "source": [
    "### Exercice 2"
   ]
  },
  {
   "cell_type": "markdown",
   "metadata": {},
   "source": [
    "(1) Oui, la modification est compatible car on n'ajoute pas de variable, et on ne change pas leur signe.\n",
    "\n",
    "(2) Réseau corrigé:"
   ]
  },
  {
   "cell_type": "code",
   "execution_count": 7,
   "metadata": {
    "collapsed": true
   },
   "outputs": [],
   "source": [
    "bn_wt = bn_prelim.copy()\n",
    "bn_wt[\"CycD1\"] = \"(AKT1|MEK1) & ERa & cMYC\""
   ]
  },
  {
   "cell_type": "markdown",
   "metadata": {},
   "source": [
    "(3) Sans mutations, on peut bien activer pRB:"
   ]
  },
  {
   "cell_type": "code",
   "execution_count": 8,
   "metadata": {},
   "outputs": [
    {
     "name": "stdout",
     "output_type": "stream",
     "text": [
      "-- specification EF pRB  is true\n"
     ]
    }
   ],
   "source": [
    "smv = bn2smv(bn_wt, \"async\", init={\"EGF\"})\n",
    "append_line(smv, \"CTLSPEC EF pRB\")\n",
    "NuSMV(smv)"
   ]
  },
  {
   "cell_type": "markdown",
   "metadata": {},
   "source": [
    "(4) La mutation de ERa bloque pRB:"
   ]
  },
  {
   "cell_type": "code",
   "execution_count": 9,
   "metadata": {},
   "outputs": [
    {
     "name": "stdout",
     "output_type": "stream",
     "text": [
      "-- specification EF pRB  is false\n"
     ]
    }
   ],
   "source": [
    "bn_koERa = bn_wt.copy()\n",
    "bn_koERa[\"ERa\"] = \"FALSE\"\n",
    "smv = bn2smv(bn_koERa, \"async\", init={\"EGF\"})\n",
    "append_line(smv, \"CTLSPEC EF pRB\")\n",
    "NuSMV(smv)"
   ]
  },
  {
   "cell_type": "markdown",
   "metadata": {},
   "source": [
    "(5) Désactivation de cMYC:"
   ]
  },
  {
   "cell_type": "code",
   "execution_count": 10,
   "metadata": {},
   "outputs": [
    {
     "name": "stdout",
     "output_type": "stream",
     "text": [
      "-- specification EF pRB  is false\n"
     ]
    }
   ],
   "source": [
    "bn_koCMYC = bn_wt.copy()\n",
    "bn_koCMYC[\"cMYC\"] = \"FALSE\"\n",
    "smv = bn2smv(bn_koCMYC, \"async\", init={\"EGF\"})\n",
    "append_line(smv, \"CTLSPEC EF pRB\")\n",
    "NuSMV(smv)"
   ]
  },
  {
   "cell_type": "markdown",
   "metadata": {},
   "source": [
    "oui, cMYC bloque bien pRB."
   ]
  },
  {
   "cell_type": "markdown",
   "metadata": {},
   "source": [
    "### Exercice 3"
   ]
  },
  {
   "cell_type": "code",
   "execution_count": 11,
   "metadata": {},
   "outputs": [
    {
     "name": "stdout",
     "output_type": "stream",
     "text": [
      "-- specification EF pRB  is false\n"
     ]
    }
   ],
   "source": [
    "bn_kip21 = bn_wt.copy()\n",
    "bn_kip21[\"p21\"] = \"TRUE\"\n",
    "smv = bn2smv(bn_kip21, \"async\", init={\"EGF\", \"p21\"})\n",
    "append_line(smv, \"CTLSPEC EF pRB\")\n",
    "NuSMV(smv)"
   ]
  },
  {
   "cell_type": "markdown",
   "metadata": {},
   "source": [
    "### Exercice 4"
   ]
  },
  {
   "cell_type": "markdown",
   "metadata": {},
   "source": [
    "(1) Les attracteurs du réseau sans mutation vérifient bien pRB et CycE1 actifs constamment:"
   ]
  },
  {
   "cell_type": "code",
   "execution_count": 12,
   "metadata": {},
   "outputs": [
    {
     "name": "stdout",
     "output_type": "stream",
     "text": [
      "-- specification AG (EF (AG (pRB & CycE1)))  is true\n"
     ]
    }
   ],
   "source": [
    "smv = bn2smv(bn_wt, \"async\", init={\"EGF\"})\n",
    "append_line(smv, \"CTLSPEC AG EF AG (pRB & CycE1)\")\n",
    "NuSMV(smv)"
   ]
  },
  {
   "cell_type": "markdown",
   "metadata": {},
   "source": [
    "(2)"
   ]
  },
  {
   "cell_type": "code",
   "execution_count": 13,
   "metadata": {},
   "outputs": [
    {
     "name": "stdout",
     "output_type": "stream",
     "text": [
      "-- specification AG (EF (AG (!pRB & CycE1)))  is true\n"
     ]
    }
   ],
   "source": [
    "bn_koERa = bn_wt.copy()\n",
    "bn_koERa[\"ERa\"] = \"FALSE\"\n",
    "smv = bn2smv(bn_koERa, \"async\", init={\"EGF\"})\n",
    "append_line(smv, \"CTLSPEC AG EF AG (!pRB & CycE1)\")\n",
    "NuSMV(smv)"
   ]
  },
  {
   "cell_type": "code",
   "execution_count": 14,
   "metadata": {},
   "outputs": [
    {
     "name": "stdout",
     "output_type": "stream",
     "text": [
      "-- specification AG (EF (AG (!pRB & CycE1)))  is false\n"
     ]
    }
   ],
   "source": [
    "bn_koCMYC = bn_wt.copy()\n",
    "bn_koCMYC[\"cMYC\"] = \"FALSE\"\n",
    "smv = bn2smv(bn_koCMYC, \"async\", init={\"EGF\"})\n",
    "append_line(smv, \"CTLSPEC AG EF AG (!pRB & CycE1)\")\n",
    "NuSMV(smv)"
   ]
  },
  {
   "cell_type": "code",
   "execution_count": 15,
   "metadata": {},
   "outputs": [
    {
     "name": "stdout",
     "output_type": "stream",
     "text": [
      "-- specification AG (EF (AG (!pRB & CycE1)))  is true\n"
     ]
    }
   ],
   "source": [
    "bn_kip21 = bn_wt.copy()\n",
    "bn_kip21[\"p21\"] = \"TRUE\"\n",
    "smv = bn2smv(bn_kip21, \"async\", init={\"EGF\", \"p21\"})\n",
    "append_line(smv, \"CTLSPEC AG EF AG (!pRB & CycE1)\")\n",
    "NuSMV(smv)"
   ]
  },
  {
   "cell_type": "markdown",
   "metadata": {},
   "source": [
    "On constate que la désactivation de ERa et l'activation de p21 sont des mutations acceptables, mais pas la désactivation de cMYC."
   ]
  },
  {
   "cell_type": "markdown",
   "metadata": {},
   "source": [
    "### Exercice 5"
   ]
  },
  {
   "cell_type": "markdown",
   "metadata": {},
   "source": [
    "(1) Liste complète des désactivations forcées qui fonctionnent:"
   ]
  },
  {
   "cell_type": "code",
   "execution_count": 16,
   "metadata": {},
   "outputs": [
    {
     "name": "stdout",
     "output_type": "stream",
     "text": [
      "Mutation effective: **KO CDK4**\n",
      "Mutation effective: **KO CDK6**\n",
      "Mutation effective: **KO CycD1**\n",
      "Mutation effective: **KO ERa**\n"
     ]
    }
   ],
   "source": [
    "for n in sorted(bn_wt):\n",
    "    if n in [\"EGF\",\"pRB\"]:\n",
    "        continue\n",
    "    bn_mod = bn_wt.copy()\n",
    "    bn_mod[n] = \"FALSE\"\n",
    "    smv = bn2smv(bn_mod, \"async\", init={\"EGF\"})\n",
    "    append_line(smv, \"CTLSPEC AG EF AG (!pRB & CycE1)\")\n",
    "    r = NuSMV(smv, parse=True)\n",
    "    if r[0]:\n",
    "        print(\"Mutation effective: **KO %s**\" % n)"
   ]
  },
  {
   "cell_type": "markdown",
   "metadata": {},
   "source": [
    "(2) Liste complète des activations forcées qui fonctionnent:"
   ]
  },
  {
   "cell_type": "code",
   "execution_count": 17,
   "metadata": {},
   "outputs": [
    {
     "name": "stdout",
     "output_type": "stream",
     "text": [
      "Mutation effective: **UP p21**\n",
      "Mutation effective: **UP p27**\n"
     ]
    }
   ],
   "source": [
    "for n in sorted(bn_wt):\n",
    "    if n in [\"EGF\",\"pRB\"]:\n",
    "        continue\n",
    "    bn_mod = bn_wt.copy()\n",
    "    bn_mod[n] = \"TRUE\"\n",
    "    smv = bn2smv(bn_mod, \"async\", init={\"EGF\", n})\n",
    "    append_line(smv, \"CTLSPEC AG EF AG (!pRB & CycE1)\")\n",
    "    r = NuSMV(smv, parse=True)\n",
    "    if r[0]:\n",
    "        print(\"Mutation effective: **UP %s**\" % n)"
   ]
  },
  {
   "cell_type": "markdown",
   "metadata": {},
   "source": [
    "(3)"
   ]
  },
  {
   "cell_type": "code",
   "execution_count": 18,
   "metadata": {},
   "outputs": [
    {
     "data": {
      "text/plain": [
       "423.0"
      ]
     },
     "execution_count": 18,
     "metadata": {},
     "output_type": "execute_result"
    }
   ],
   "source": [
    "nb_ko = 18 - 4\n",
    "nb_up = 18 - 2\n",
    "(nb_ko*(nb_ko-1))/2 + (nb_up*(nb_up-1))/2 + (nb_ko*nb_up)-(18-6)"
   ]
  },
  {
   "cell_type": "markdown",
   "metadata": {},
   "source": [
    "Vérification manuelle (non démandée):"
   ]
  },
  {
   "cell_type": "code",
   "execution_count": 19,
   "metadata": {},
   "outputs": [
    {
     "data": {
      "text/plain": [
       "423"
      ]
     },
     "execution_count": 19,
     "metadata": {},
     "output_type": "execute_result"
    }
   ],
   "source": [
    "ko = [\"-%s\" % n for n in bn_wt if n not in [\"EGF\",\"pRB\",\"CDK4\",\"CDK6\",\"CycD1\",\"ERa\"]]\n",
    "up = [\"+%s\" % n for n in bn_wt if n not in [\"EGF\",\"pRB\",\"p21\", \"p27\"]]\n",
    "couples = set()\n",
    "for a in ko+up:\n",
    "    for b in ko+up:\n",
    "        if a[1:] == b[1:]:\n",
    "            continue\n",
    "        couples.add((min(a,b),max(a,b)))\n",
    "len(couples)"
   ]
  },
  {
   "cell_type": "markdown",
   "metadata": {},
   "source": [
    "## Trans-différentiation et dé-différentiation cellulaire"
   ]
  },
  {
   "cell_type": "code",
   "execution_count": 20,
   "metadata": {},
   "outputs": [
    {
     "data": {
      "image/svg+xml": [
       "<?xml version=\"1.0\" encoding=\"UTF-8\" standalone=\"no\"?>\n",
       "<!DOCTYPE svg PUBLIC \"-//W3C//DTD SVG 1.1//EN\"\n",
       " \"http://www.w3.org/Graphics/SVG/1.1/DTD/svg11.dtd\">\n",
       "<!-- Generated by graphviz version 2.38.0 (20140413.2041)\n",
       " -->\n",
       "<!-- Pages: 1 -->\n",
       "<svg width=\"200pt\" height=\"404pt\"\n",
       " viewBox=\"0.00 0.00 200.00 404.00\" xmlns=\"http://www.w3.org/2000/svg\" xmlns:xlink=\"http://www.w3.org/1999/xlink\">\n",
       "<g id=\"graph0\" class=\"graph\" transform=\"scale(1 1) rotate(0) translate(4 400)\">\n",
       "<polygon fill=\"white\" stroke=\"none\" points=\"-4,4 -4,-400 196,-400 196,4 -4,4\"/>\n",
       "<!-- 011 -->\n",
       "<g id=\"node1\" class=\"node\"><title>011</title>\n",
       "<ellipse fill=\"none\" stroke=\"black\" cx=\"165\" cy=\"-234\" rx=\"27\" ry=\"18\"/>\n",
       "<text text-anchor=\"middle\" x=\"165\" y=\"-230.3\" font-family=\"Times,serif\" font-size=\"14.00\">011</text>\n",
       "</g>\n",
       "<!-- 111 -->\n",
       "<g id=\"node2\" class=\"node\"><title>111</title>\n",
       "<ellipse fill=\"none\" stroke=\"black\" cx=\"133\" cy=\"-18\" rx=\"27\" ry=\"18\"/>\n",
       "<text text-anchor=\"middle\" x=\"133\" y=\"-14.3\" font-family=\"Times,serif\" font-size=\"14.00\">111</text>\n",
       "</g>\n",
       "<!-- 011&#45;&gt;111 -->\n",
       "<g id=\"edge1\" class=\"edge\"><title>011&#45;&gt;111</title>\n",
       "<path fill=\"none\" stroke=\"black\" d=\"M158.646,-216.208C149.559,-179.342 136.078,-91.0448 132.385,-46.1713\"/>\n",
       "<polygon fill=\"black\" stroke=\"black\" points=\"135.864,-45.7438 131.68,-36.0103 128.881,-46.2288 135.864,-45.7438\"/>\n",
       "</g>\n",
       "<!-- 001 -->\n",
       "<g id=\"node3\" class=\"node\"><title>001</title>\n",
       "<ellipse fill=\"none\" stroke=\"black\" cx=\"101\" cy=\"-162\" rx=\"27\" ry=\"18\"/>\n",
       "<text text-anchor=\"middle\" x=\"101\" y=\"-158.3\" font-family=\"Times,serif\" font-size=\"14.00\">001</text>\n",
       "</g>\n",
       "<!-- 011&#45;&gt;001 -->\n",
       "<g id=\"edge2\" class=\"edge\"><title>011&#45;&gt;001</title>\n",
       "<path fill=\"none\" stroke=\"black\" d=\"M151.427,-218.155C142.688,-208.596 131.166,-195.994 121.342,-185.249\"/>\n",
       "<polygon fill=\"black\" stroke=\"black\" points=\"123.884,-182.842 114.553,-177.824 118.718,-187.566 123.884,-182.842\"/>\n",
       "</g>\n",
       "<!-- 111&#45;&gt;011 -->\n",
       "<g id=\"edge11\" class=\"edge\"><title>111&#45;&gt;011</title>\n",
       "<path fill=\"none\" stroke=\"black\" d=\"M139.317,-35.6405C148.392,-72.3687 161.883,-160.669 165.601,-205.658\"/>\n",
       "<polygon fill=\"black\" stroke=\"black\" points=\"162.124,-206.118 166.313,-215.849 169.107,-205.63 162.124,-206.118\"/>\n",
       "</g>\n",
       "<!-- 101 -->\n",
       "<g id=\"node8\" class=\"node\"><title>101</title>\n",
       "<ellipse fill=\"none\" stroke=\"black\" cx=\"101\" cy=\"-90\" rx=\"27\" ry=\"18\"/>\n",
       "<text text-anchor=\"middle\" x=\"101\" y=\"-86.3\" font-family=\"Times,serif\" font-size=\"14.00\">101</text>\n",
       "</g>\n",
       "<!-- 001&#45;&gt;101 -->\n",
       "<g id=\"edge10\" class=\"edge\"><title>001&#45;&gt;101</title>\n",
       "<path fill=\"none\" stroke=\"black\" d=\"M101,-143.697C101,-135.983 101,-126.712 101,-118.112\"/>\n",
       "<polygon fill=\"black\" stroke=\"black\" points=\"104.5,-118.104 101,-108.104 97.5001,-118.104 104.5,-118.104\"/>\n",
       "</g>\n",
       "<!-- 000 -->\n",
       "<g id=\"node4\" class=\"node\"><title>000</title>\n",
       "<ellipse fill=\"none\" stroke=\"black\" cx=\"93\" cy=\"-234\" rx=\"27\" ry=\"18\"/>\n",
       "<text text-anchor=\"middle\" x=\"93\" y=\"-230.3\" font-family=\"Times,serif\" font-size=\"14.00\">000</text>\n",
       "</g>\n",
       "<!-- 110 -->\n",
       "<g id=\"node5\" class=\"node\"><title>110</title>\n",
       "<ellipse fill=\"none\" stroke=\"black\" cx=\"55\" cy=\"-378\" rx=\"27\" ry=\"18\"/>\n",
       "<text text-anchor=\"middle\" x=\"55\" y=\"-374.3\" font-family=\"Times,serif\" font-size=\"14.00\">110</text>\n",
       "</g>\n",
       "<!-- 110&#45;&gt;111 -->\n",
       "<g id=\"edge4\" class=\"edge\"><title>110&#45;&gt;111</title>\n",
       "<path fill=\"none\" stroke=\"black\" d=\"M42.2521,-361.702C34.4415,-351.587 24.8523,-337.708 19,-324 3.1192,-286.801 0,-275.447 0,-235 0,-235 0,-235 0,-161 0,-101.273 63.4534,-56.308 102.703,-34.2075\"/>\n",
       "<polygon fill=\"black\" stroke=\"black\" points=\"104.529,-37.1987 111.631,-29.3372 101.176,-31.0536 104.529,-37.1987\"/>\n",
       "</g>\n",
       "<!-- 100 -->\n",
       "<g id=\"node6\" class=\"node\"><title>100</title>\n",
       "<ellipse fill=\"none\" stroke=\"black\" cx=\"55\" cy=\"-306\" rx=\"27\" ry=\"18\"/>\n",
       "<text text-anchor=\"middle\" x=\"55\" y=\"-302.3\" font-family=\"Times,serif\" font-size=\"14.00\">100</text>\n",
       "</g>\n",
       "<!-- 110&#45;&gt;100 -->\n",
       "<g id=\"edge3\" class=\"edge\"><title>110&#45;&gt;100</title>\n",
       "<path fill=\"none\" stroke=\"black\" d=\"M55,-359.697C55,-351.983 55,-342.712 55,-334.112\"/>\n",
       "<polygon fill=\"black\" stroke=\"black\" points=\"58.5001,-334.104 55,-324.104 51.5001,-334.104 58.5001,-334.104\"/>\n",
       "</g>\n",
       "<!-- 010 -->\n",
       "<g id=\"node7\" class=\"node\"><title>010</title>\n",
       "<ellipse fill=\"none\" stroke=\"black\" cx=\"127\" cy=\"-306\" rx=\"27\" ry=\"18\"/>\n",
       "<text text-anchor=\"middle\" x=\"127\" y=\"-302.3\" font-family=\"Times,serif\" font-size=\"14.00\">010</text>\n",
       "</g>\n",
       "<!-- 110&#45;&gt;010 -->\n",
       "<g id=\"edge5\" class=\"edge\"><title>110&#45;&gt;010</title>\n",
       "<path fill=\"none\" stroke=\"black\" d=\"M69.5703,-362.834C79.7499,-352.938 93.5239,-339.546 105.031,-328.359\"/>\n",
       "<polygon fill=\"black\" stroke=\"black\" points=\"107.474,-330.865 112.204,-321.385 102.595,-325.846 107.474,-330.865\"/>\n",
       "</g>\n",
       "<!-- 100&#45;&gt;000 -->\n",
       "<g id=\"edge6\" class=\"edge\"><title>100&#45;&gt;000</title>\n",
       "<path fill=\"none\" stroke=\"black\" d=\"M63.8135,-288.765C68.4177,-280.283 74.155,-269.714 79.3214,-260.197\"/>\n",
       "<polygon fill=\"black\" stroke=\"black\" points=\"82.5393,-261.606 84.2343,-251.147 76.3874,-258.266 82.5393,-261.606\"/>\n",
       "</g>\n",
       "<!-- 100&#45;&gt;101 -->\n",
       "<g id=\"edge7\" class=\"edge\"><title>100&#45;&gt;101</title>\n",
       "<path fill=\"none\" stroke=\"black\" d=\"M52.9295,-287.892C49.9541,-257.745 46.6686,-193.654 65,-144 68.8716,-133.513 75.2517,-123.092 81.5739,-114.301\"/>\n",
       "<polygon fill=\"black\" stroke=\"black\" points=\"84.5301,-116.195 87.7819,-106.111 78.9517,-111.966 84.5301,-116.195\"/>\n",
       "</g>\n",
       "<!-- 010&#45;&gt;011 -->\n",
       "<g id=\"edge8\" class=\"edge\"><title>010&#45;&gt;011</title>\n",
       "<path fill=\"none\" stroke=\"black\" d=\"M135.813,-288.765C140.418,-280.283 146.155,-269.714 151.321,-260.197\"/>\n",
       "<polygon fill=\"black\" stroke=\"black\" points=\"154.539,-261.606 156.234,-251.147 148.387,-258.266 154.539,-261.606\"/>\n",
       "</g>\n",
       "<!-- 010&#45;&gt;000 -->\n",
       "<g id=\"edge9\" class=\"edge\"><title>010&#45;&gt;000</title>\n",
       "<path fill=\"none\" stroke=\"black\" d=\"M119.114,-288.765C115.096,-280.491 110.113,-270.232 105.58,-260.9\"/>\n",
       "<polygon fill=\"black\" stroke=\"black\" points=\"108.596,-259.099 101.079,-251.633 102.3,-262.158 108.596,-259.099\"/>\n",
       "</g>\n",
       "<!-- 101&#45;&gt;111 -->\n",
       "<g id=\"edge12\" class=\"edge\"><title>101&#45;&gt;111</title>\n",
       "<path fill=\"none\" stroke=\"black\" d=\"M108.584,-72.411C112.369,-64.1292 117.034,-53.9249 121.269,-44.662\"/>\n",
       "<polygon fill=\"black\" stroke=\"black\" points=\"124.496,-46.0199 125.471,-35.4699 118.13,-43.1095 124.496,-46.0199\"/>\n",
       "</g>\n",
       "</g>\n",
       "</svg>\n"
      ],
      "text/plain": [
       "{000: set(),\n",
       " 001: {101},\n",
       " 010: {000, 011},\n",
       " 011: {001, 111},\n",
       " 100: {000, 101},\n",
       " 101: {111},\n",
       " 110: {010, 100, 111},\n",
       " 111: {011}}"
      ]
     },
     "execution_count": 20,
     "metadata": {},
     "output_type": "execute_result"
    }
   ],
   "source": [
    "g = stategraph(\"reseau1.bn\", \"async\")\n",
    "g"
   ]
  },
  {
   "cell_type": "markdown",
   "metadata": {},
   "source": [
    "### Exercice 6"
   ]
  },
  {
   "cell_type": "code",
   "execution_count": 21,
   "metadata": {
    "collapsed": true
   },
   "outputs": [],
   "source": [
    "def attractors(g):\n",
    "    def is_terminal(scc):\n",
    "        for x in scc:\n",
    "            for y in g[x]:\n",
    "                if y not in scc:\n",
    "                    return False\n",
    "        return True\n",
    "    return [scc for scc in g.tarjan() if is_terminal(scc)]"
   ]
  },
  {
   "cell_type": "code",
   "execution_count": 22,
   "metadata": {},
   "outputs": [
    {
     "data": {
      "text/plain": [
       "[{001, 011, 101, 111}, {000}]"
      ]
     },
     "execution_count": 22,
     "metadata": {},
     "output_type": "execute_result"
    }
   ],
   "source": [
    "a = attractors(g)\n",
    "a"
   ]
  },
  {
   "cell_type": "code",
   "execution_count": 23,
   "metadata": {},
   "outputs": [
    {
     "data": {
      "text/plain": [
       "{000: {1},\n",
       " 001: {0},\n",
       " 010: {0, 1},\n",
       " 011: {0},\n",
       " 100: {0, 1},\n",
       " 101: {0},\n",
       " 110: {0, 1},\n",
       " 111: {0}}"
      ]
     },
     "execution_count": 23,
     "metadata": {},
     "output_type": "execute_result"
    }
   ],
   "source": [
    "b = basins(g, a)\n",
    "b"
   ]
  },
  {
   "cell_type": "markdown",
   "metadata": {},
   "source": [
    "### Exercice 7"
   ]
  },
  {
   "cell_type": "markdown",
   "metadata": {},
   "source": [
    "(1)"
   ]
  },
  {
   "cell_type": "code",
   "execution_count": 24,
   "metadata": {
    "collapsed": true
   },
   "outputs": [],
   "source": [
    "def controls(g,b):\n",
    "    c = set() # ensemble des états décisifs\n",
    "    # on parcourt tous les états\n",
    "    for x in b:\n",
    "        nb = len(b[x]) # nombre d'attracteurs atteignables depuis x\n",
    "        # XXX si un des enfants de x a strictement moins d'attracteurs\n",
    "        # alors ajouter x dans c (c.add(x))\n",
    "        for y in g[x]:\n",
    "            if len(b[y]) < nb:\n",
    "                c.add(x)\n",
    "    return c"
   ]
  },
  {
   "cell_type": "code",
   "execution_count": 25,
   "metadata": {},
   "outputs": [
    {
     "data": {
      "text/plain": [
       "{010, 100, 110}"
      ]
     },
     "execution_count": 25,
     "metadata": {},
     "output_type": "execute_result"
    }
   ],
   "source": [
    "controls(g,b)"
   ]
  },
  {
   "cell_type": "markdown",
   "metadata": {},
   "source": [
    "(2) "
   ]
  },
  {
   "cell_type": "code",
   "execution_count": 26,
   "metadata": {},
   "outputs": [
    {
     "data": {
      "text/plain": [
       "set()"
      ]
     },
     "execution_count": 26,
     "metadata": {},
     "output_type": "execute_result"
    }
   ],
   "source": [
    "g_sync = stategraph(\"reseau1.bn\",\"sync\")\n",
    "a_sync = attractors(g_sync)\n",
    "b_sync = basins(g_sync, a_sync)\n",
    "controls(g_sync,b_sync)"
   ]
  },
  {
   "cell_type": "code",
   "execution_count": 27,
   "metadata": {},
   "outputs": [
    {
     "data": {
      "text/plain": [
       "{010, 100, 110}"
      ]
     },
     "execution_count": 27,
     "metadata": {},
     "output_type": "execute_result"
    }
   ],
   "source": [
    "g_gen = stategraph(\"reseau1.bn\",\"general\")\n",
    "a_gen = attractors(g_gen)\n",
    "b_gen = basins(g_gen, a_gen)\n",
    "controls(g_gen,b_gen)"
   ]
  },
  {
   "cell_type": "code",
   "execution_count": 28,
   "metadata": {},
   "outputs": [
    {
     "data": {
      "image/svg+xml": [
       "<?xml version=\"1.0\" encoding=\"UTF-8\" standalone=\"no\"?>\n",
       "<!DOCTYPE svg PUBLIC \"-//W3C//DTD SVG 1.1//EN\"\n",
       " \"http://www.w3.org/Graphics/SVG/1.1/DTD/svg11.dtd\">\n",
       "<!-- Generated by graphviz version 2.38.0 (20140413.2041)\n",
       " -->\n",
       "<!-- Pages: 1 -->\n",
       "<svg width=\"278pt\" height=\"332pt\"\n",
       " viewBox=\"0.00 0.00 278.00 332.00\" xmlns=\"http://www.w3.org/2000/svg\" xmlns:xlink=\"http://www.w3.org/1999/xlink\">\n",
       "<g id=\"graph0\" class=\"graph\" transform=\"scale(1 1) rotate(0) translate(4 328)\">\n",
       "<polygon fill=\"white\" stroke=\"none\" points=\"-4,4 -4,-328 274,-328 274,4 -4,4\"/>\n",
       "<!-- 110 -->\n",
       "<g id=\"node1\" class=\"node\"><title>110</title>\n",
       "<ellipse fill=\"none\" stroke=\"black\" cx=\"27\" cy=\"-306\" rx=\"27\" ry=\"18\"/>\n",
       "<text text-anchor=\"middle\" x=\"27\" y=\"-302.3\" font-family=\"Times,serif\" font-size=\"14.00\">110</text>\n",
       "</g>\n",
       "<!-- 001 -->\n",
       "<g id=\"node2\" class=\"node\"><title>001</title>\n",
       "<ellipse fill=\"none\" stroke=\"black\" cx=\"99\" cy=\"-234\" rx=\"27\" ry=\"18\"/>\n",
       "<text text-anchor=\"middle\" x=\"99\" y=\"-230.3\" font-family=\"Times,serif\" font-size=\"14.00\">001</text>\n",
       "</g>\n",
       "<!-- 110&#45;&gt;001 -->\n",
       "<g id=\"edge1\" class=\"edge\"><title>110&#45;&gt;001</title>\n",
       "<path fill=\"none\" stroke=\"black\" d=\"M41.5703,-290.834C51.7499,-280.938 65.5239,-267.546 77.0306,-256.359\"/>\n",
       "<polygon fill=\"black\" stroke=\"black\" points=\"79.4741,-258.865 84.2043,-249.385 74.5945,-253.846 79.4741,-258.865\"/>\n",
       "</g>\n",
       "<!-- 101 -->\n",
       "<g id=\"node5\" class=\"node\"><title>101</title>\n",
       "<ellipse fill=\"none\" stroke=\"black\" cx=\"99\" cy=\"-162\" rx=\"27\" ry=\"18\"/>\n",
       "<text text-anchor=\"middle\" x=\"99\" y=\"-158.3\" font-family=\"Times,serif\" font-size=\"14.00\">101</text>\n",
       "</g>\n",
       "<!-- 001&#45;&gt;101 -->\n",
       "<g id=\"edge5\" class=\"edge\"><title>001&#45;&gt;101</title>\n",
       "<path fill=\"none\" stroke=\"black\" d=\"M99,-215.697C99,-207.983 99,-198.712 99,-190.112\"/>\n",
       "<polygon fill=\"black\" stroke=\"black\" points=\"102.5,-190.104 99,-180.104 95.5001,-190.104 102.5,-190.104\"/>\n",
       "</g>\n",
       "<!-- 000 -->\n",
       "<g id=\"node3\" class=\"node\"><title>000</title>\n",
       "<ellipse fill=\"none\" stroke=\"black\" cx=\"243\" cy=\"-306\" rx=\"27\" ry=\"18\"/>\n",
       "<text text-anchor=\"middle\" x=\"243\" y=\"-302.3\" font-family=\"Times,serif\" font-size=\"14.00\">000</text>\n",
       "</g>\n",
       "<!-- 011 -->\n",
       "<g id=\"node4\" class=\"node\"><title>011</title>\n",
       "<ellipse fill=\"none\" stroke=\"black\" cx=\"99\" cy=\"-18\" rx=\"27\" ry=\"18\"/>\n",
       "<text text-anchor=\"middle\" x=\"99\" y=\"-14.3\" font-family=\"Times,serif\" font-size=\"14.00\">011</text>\n",
       "</g>\n",
       "<!-- 011&#45;&gt;101 -->\n",
       "<g id=\"edge2\" class=\"edge\"><title>011&#45;&gt;101</title>\n",
       "<path fill=\"none\" stroke=\"black\" d=\"M95.7517,-36.1119C93.9542,-46.4578 91.9053,-59.9366 91,-72 89.8026,-87.9551 89.8026,-92.0449 91,-108 91.6366,-116.482 92.8384,-125.664 94.1208,-133.964\"/>\n",
       "<polygon fill=\"black\" stroke=\"black\" points=\"90.6763,-134.588 95.7517,-143.888 97.5836,-133.453 90.6763,-134.588\"/>\n",
       "</g>\n",
       "<!-- 111 -->\n",
       "<g id=\"node8\" class=\"node\"><title>111</title>\n",
       "<ellipse fill=\"none\" stroke=\"black\" cx=\"127\" cy=\"-90\" rx=\"27\" ry=\"18\"/>\n",
       "<text text-anchor=\"middle\" x=\"127\" y=\"-86.3\" font-family=\"Times,serif\" font-size=\"14.00\">111</text>\n",
       "</g>\n",
       "<!-- 101&#45;&gt;111 -->\n",
       "<g id=\"edge7\" class=\"edge\"><title>101&#45;&gt;111</title>\n",
       "<path fill=\"none\" stroke=\"black\" d=\"M105.636,-144.411C108.913,-136.216 112.944,-126.14 116.618,-116.955\"/>\n",
       "<polygon fill=\"black\" stroke=\"black\" points=\"119.948,-118.055 120.412,-107.47 113.448,-115.455 119.948,-118.055\"/>\n",
       "</g>\n",
       "<!-- 100 -->\n",
       "<g id=\"node6\" class=\"node\"><title>100</title>\n",
       "<ellipse fill=\"none\" stroke=\"black\" cx=\"99\" cy=\"-306\" rx=\"27\" ry=\"18\"/>\n",
       "<text text-anchor=\"middle\" x=\"99\" y=\"-302.3\" font-family=\"Times,serif\" font-size=\"14.00\">100</text>\n",
       "</g>\n",
       "<!-- 100&#45;&gt;001 -->\n",
       "<g id=\"edge3\" class=\"edge\"><title>100&#45;&gt;001</title>\n",
       "<path fill=\"none\" stroke=\"black\" d=\"M99,-287.697C99,-279.983 99,-270.712 99,-262.112\"/>\n",
       "<polygon fill=\"black\" stroke=\"black\" points=\"102.5,-262.104 99,-252.104 95.5001,-262.104 102.5,-262.104\"/>\n",
       "</g>\n",
       "<!-- 010 -->\n",
       "<g id=\"node7\" class=\"node\"><title>010</title>\n",
       "<ellipse fill=\"none\" stroke=\"black\" cx=\"171\" cy=\"-306\" rx=\"27\" ry=\"18\"/>\n",
       "<text text-anchor=\"middle\" x=\"171\" y=\"-302.3\" font-family=\"Times,serif\" font-size=\"14.00\">010</text>\n",
       "</g>\n",
       "<!-- 010&#45;&gt;001 -->\n",
       "<g id=\"edge4\" class=\"edge\"><title>010&#45;&gt;001</title>\n",
       "<path fill=\"none\" stroke=\"black\" d=\"M156.43,-290.834C146.25,-280.938 132.476,-267.546 120.969,-256.359\"/>\n",
       "<polygon fill=\"black\" stroke=\"black\" points=\"123.405,-253.846 113.796,-249.385 118.526,-258.865 123.405,-253.846\"/>\n",
       "</g>\n",
       "<!-- 111&#45;&gt;011 -->\n",
       "<g id=\"edge6\" class=\"edge\"><title>111&#45;&gt;011</title>\n",
       "<path fill=\"none\" stroke=\"black\" d=\"M120.364,-72.411C117.087,-64.2164 113.056,-54.1395 109.382,-44.9548\"/>\n",
       "<polygon fill=\"black\" stroke=\"black\" points=\"112.552,-43.4548 105.588,-35.4699 106.052,-46.0546 112.552,-43.4548\"/>\n",
       "</g>\n",
       "</g>\n",
       "</svg>\n"
      ],
      "text/plain": [
       "{000: set(),\n",
       " 001: {101},\n",
       " 010: {001},\n",
       " 011: {101},\n",
       " 100: {001},\n",
       " 101: {111},\n",
       " 110: {001},\n",
       " 111: {011}}"
      ]
     },
     "execution_count": 28,
     "metadata": {},
     "output_type": "execute_result"
    }
   ],
   "source": [
    "g_sync"
   ]
  },
  {
   "cell_type": "markdown",
   "metadata": {},
   "source": [
    "### Exercice 8\n",
    "(1)"
   ]
  },
  {
   "cell_type": "code",
   "execution_count": 29,
   "metadata": {
    "collapsed": true
   },
   "outputs": [],
   "source": [
    "def jump(x,y,b):\n",
    "    # dans le pire des cas, la réponse est y\n",
    "    best = y # réponse\n",
    "    nb_mod = x.dst(y) # nombre de modifications\n",
    "    # on parcourt tous les états z\n",
    "    for z in b:\n",
    "        if b[z] == b[y]: # z ne peut atteindre que y\n",
    "            dstz = x.dst(z)\n",
    "            if dstz < nb_mod:\n",
    "                nb_mod = dstz\n",
    "                best = z\n",
    "    return best"
   ]
  },
  {
   "cell_type": "code",
   "execution_count": 30,
   "metadata": {},
   "outputs": [
    {
     "data": {
      "text/plain": [
       "001"
      ]
     },
     "execution_count": 30,
     "metadata": {},
     "output_type": "execute_result"
    }
   ],
   "source": [
    "x = state(0,0,0)\n",
    "y = state(1,1,1)\n",
    "jump(x,y,b)"
   ]
  },
  {
   "cell_type": "markdown",
   "metadata": {},
   "source": [
    "(2)"
   ]
  },
  {
   "cell_type": "code",
   "execution_count": 31,
   "metadata": {},
   "outputs": [
    {
     "data": {
      "text/html": [
       "<a href='../edit/reseau1-async.smv' target='_blank'>reseau1-async.smv</a><br>"
      ],
      "text/plain": [
       "/home/pauleve/orga/baskets/basket85/TP/reseau1-async.smv"
      ]
     },
     "metadata": {},
     "output_type": "display_data"
    },
    {
     "name": "stdout",
     "output_type": "stream",
     "text": [
      "-- specification (((!x1 & !x2) & x3) -> AG (EF ((x1 & x2) & x3)))  is true\n"
     ]
    }
   ],
   "source": [
    "smv = bn2smv(\"reseau1.bn\", \"async\")\n",
    "append_line(smv, \"CTLSPEC (!x1&!x2&x3 -> AG EF (x1&x2&x3))\")\n",
    "NuSMV(smv)"
   ]
  },
  {
   "cell_type": "markdown",
   "metadata": {},
   "source": [
    "###  Exercice 9\n",
    "(1)"
   ]
  },
  {
   "cell_type": "code",
   "execution_count": 32,
   "metadata": {
    "collapsed": true
   },
   "outputs": [],
   "source": [
    "def rewind(x,y,b):\n",
    "    best = None # aucune réponse\n",
    "    nb_mod = len(x)+1 # on ne peut pas faire pire\n",
    "    for z in b:\n",
    "        if b[z].issuperset(b[x]) and b[z].issuperset(b[y]):\n",
    "            dstz = x.dst(z)\n",
    "            if dstz < nb_mod:\n",
    "                nb_mod = dstz\n",
    "                best = z\n",
    "    return best       "
   ]
  },
  {
   "cell_type": "code",
   "execution_count": 33,
   "metadata": {},
   "outputs": [
    {
     "data": {
      "text/plain": [
       "100"
      ]
     },
     "execution_count": 33,
     "metadata": {},
     "output_type": "execute_result"
    }
   ],
   "source": [
    "rewind(x,y,b)"
   ]
  },
  {
   "cell_type": "markdown",
   "metadata": {},
   "source": [
    "(note: plusieurs réponses sont possibles)\n",
    "\n",
    "(2)"
   ]
  },
  {
   "cell_type": "code",
   "execution_count": 34,
   "metadata": {},
   "outputs": [
    {
     "data": {
      "text/html": [
       "<a href='../edit/reseau1-async.smv' target='_blank'>reseau1-async.smv</a><br>"
      ],
      "text/plain": [
       "/home/pauleve/orga/baskets/basket85/TP/reseau1-async.smv"
      ]
     },
     "metadata": {},
     "output_type": "display_data"
    },
    {
     "name": "stdout",
     "output_type": "stream",
     "text": [
      "-- specification (((x1 & !x2) & !x3) -> (EF ((x1 & x2) & x3) & EF ((!x1 & !x2) & !x3)))  is true\n"
     ]
    }
   ],
   "source": [
    "smv = bn2smv(\"reseau1.bn\", \"async\")\n",
    "append_line(smv, \"CTLSPEC (x1&!x2&!x3) -> EF (x1&x2&x3) & EF (!x1&!x2&!x3)\")\n",
    "NuSMV(smv)"
   ]
  },
  {
   "cell_type": "markdown",
   "metadata": {},
   "source": [
    "(3) Quand les bassins d'attractions de x et y sont disjoints.\n",
    "En particulier, en sémantique synchrone, cette fonction renvoie toujours None car un état est toujours connecté à un unique attracteur."
   ]
  },
  {
   "cell_type": "markdown",
   "metadata": {},
   "source": [
    "### Exercice 10"
   ]
  },
  {
   "cell_type": "code",
   "execution_count": 35,
   "metadata": {
    "collapsed": true
   },
   "outputs": [],
   "source": [
    "f = parse_bn(\"\"\"\n",
    "f1 := x2;\n",
    "f2 := x1;\n",
    "f3 := x2 | !x4;\n",
    "f4 := x5;\n",
    "f5 := !x3;\n",
    "\"\"\")"
   ]
  },
  {
   "cell_type": "markdown",
   "metadata": {},
   "source": [
    "(1)"
   ]
  },
  {
   "cell_type": "code",
   "execution_count": 36,
   "metadata": {
    "collapsed": true
   },
   "outputs": [],
   "source": [
    "gf = stategraph(f, \"async\")"
   ]
  },
  {
   "cell_type": "code",
   "execution_count": 37,
   "metadata": {},
   "outputs": [
    {
     "data": {
      "text/plain": [
       "[{11100}, {00100}, {00011}]"
      ]
     },
     "execution_count": 37,
     "metadata": {},
     "output_type": "execute_result"
    }
   ],
   "source": [
    "af = attractors(gf)\n",
    "af"
   ]
  },
  {
   "cell_type": "markdown",
   "metadata": {},
   "source": [
    "(2)"
   ]
  },
  {
   "cell_type": "code",
   "execution_count": 38,
   "metadata": {},
   "outputs": [
    {
     "data": {
      "text/plain": [
       "5"
      ]
     },
     "execution_count": 38,
     "metadata": {},
     "output_type": "execute_result"
    }
   ],
   "source": [
    "bf = basins(gf, af)\n",
    "x = state(1,1,1,0,0)\n",
    "y = state(0,0,0,1,1)\n",
    "z = jump(x,y,bf)\n",
    "x.dst(z)"
   ]
  },
  {
   "cell_type": "markdown",
   "metadata": {},
   "source": [
    "(3)"
   ]
  },
  {
   "cell_type": "code",
   "execution_count": 39,
   "metadata": {},
   "outputs": [
    {
     "data": {
      "text/plain": [
       "2"
      ]
     },
     "execution_count": 39,
     "metadata": {},
     "output_type": "execute_result"
    }
   ],
   "source": [
    "x.dst(rewind(x,y,bf))"
   ]
  },
  {
   "cell_type": "markdown",
   "metadata": {},
   "source": [
    "(4)"
   ]
  },
  {
   "cell_type": "code",
   "execution_count": 40,
   "metadata": {},
   "outputs": [
    {
     "data": {
      "text/plain": [
       "2"
      ]
     },
     "execution_count": 40,
     "metadata": {},
     "output_type": "execute_result"
    }
   ],
   "source": [
    "y.dst(jump(y,x,bf))"
   ]
  },
  {
   "cell_type": "code",
   "execution_count": 41,
   "metadata": {},
   "outputs": [
    {
     "data": {
      "text/plain": [
       "1"
      ]
     },
     "execution_count": 41,
     "metadata": {},
     "output_type": "execute_result"
    }
   ],
   "source": [
    "y.dst(rewind(y,x,bf))"
   ]
  },
  {
   "cell_type": "markdown",
   "metadata": {
    "collapsed": true
   },
   "source": [
    "### Exercice 11"
   ]
  },
  {
   "cell_type": "code",
   "execution_count": 42,
   "metadata": {
    "collapsed": true
   },
   "outputs": [],
   "source": [
    "def jump(x,y,b):\n",
    "    # dans le pire des cas, la réponse est y\n",
    "    best = set([y]) # réponse\n",
    "    nb_mod = x.dst(y) # nombre de modifications\n",
    "    # on parcourt tous les états z\n",
    "    for z in b:\n",
    "        if b[z] == b[y]: # z ne peut atteindre que y\n",
    "            dstz = x.dst(z)\n",
    "            if dstz < nb_mod:\n",
    "                nb_mod = dstz\n",
    "                best = set([z])\n",
    "            elif dstz == nb_mod:\n",
    "                best.add(z)\n",
    "    return best"
   ]
  },
  {
   "cell_type": "code",
   "execution_count": 43,
   "metadata": {},
   "outputs": [
    {
     "data": {
      "text/plain": [
       "{001}"
      ]
     },
     "execution_count": 43,
     "metadata": {},
     "output_type": "execute_result"
    }
   ],
   "source": [
    "x = state(0,0,0)\n",
    "y = state(1,1,1)\n",
    "jump(x,y,b)"
   ]
  },
  {
   "cell_type": "code",
   "execution_count": 44,
   "metadata": {
    "collapsed": true
   },
   "outputs": [],
   "source": [
    "def rewind(x,y,b):\n",
    "    best = set() # aucune réponse\n",
    "    nb_mod = len(x)+1 # on ne peut pas faire pire\n",
    "    for z in b:\n",
    "        if b[z].issuperset(b[x]) and b[z].issuperset(b[y]):\n",
    "            dstz = x.dst(z)\n",
    "            if dstz < nb_mod:\n",
    "                nb_mod = dstz\n",
    "                best = set([z])\n",
    "            elif dstz == nb_mod:\n",
    "                best.add(z)\n",
    "    return best  "
   ]
  },
  {
   "cell_type": "code",
   "execution_count": 45,
   "metadata": {},
   "outputs": [
    {
     "data": {
      "text/plain": [
       "{010, 100}"
      ]
     },
     "execution_count": 45,
     "metadata": {},
     "output_type": "execute_result"
    }
   ],
   "source": [
    "rewind(x,y,b)"
   ]
  },
  {
   "cell_type": "code",
   "execution_count": null,
   "metadata": {
    "collapsed": true
   },
   "outputs": [],
   "source": []
  }
 ],
 "metadata": {
  "kernelspec": {
   "display_name": "Python 2",
   "language": "python2.7",
   "name": "python2"
  },
  "language_info": {
   "codemirror_mode": {
    "name": "ipython",
    "version": 2
   },
   "file_extension": ".py",
   "mimetype": "text/x-python",
   "name": "python",
   "nbconvert_exporter": "python",
   "pygments_lexer": "ipython2",
   "version": "2.7.14"
  }
 },
 "nbformat": 4,
 "nbformat_minor": 2
}
