{
 "cells": [
  {
   "cell_type": "markdown",
   "metadata": {},
   "source": [
    "# Getting Started\n",
    "## Get a Scopus API key\n",
    "\n",
    "Using Scopus is not free. You need to have a license or institutional access to use it. Got to http://dev.elsevier.com/myapikey.html to register and get a key. `scopus` expects this key to be in a variable called MY_API_KEY defined in ~/.scopus/my_scopus.py. I recommend you create it like this."
   ]
  },
  {
   "cell_type": "code",
   "execution_count": null,
   "metadata": {
    "collapsed": true
   },
   "outputs": [],
   "source": [
    "import os\n",
    "os.makedirs('~/.scopus')"
   ]
  },
  {
   "cell_type": "markdown",
   "metadata": {},
   "source": [
    "Note running this next cell will overwrite your file if it already exists!"
   ]
  },
  {
   "cell_type": "code",
   "execution_count": null,
   "metadata": {
    "collapsed": false
   },
   "outputs": [],
   "source": [
    "%%file ~/.scopus/my_scopus.py\n",
    "MY_API_KEY = 'xxxxxxxxxxxxxxxxxxxxxxxxxxxxxxxxxx'"
   ]
  },
  {
   "cell_type": "markdown",
   "metadata": {
    "collapsed": true
   },
   "source": [
    "## Examples of usage\n",
    "### scopus_api\n",
    "\n",
    "This module implements the http://dev.elsevier.com/retrieval.html API. The main entry point is the ScopusAbstract class, which takes a Scopus EID and an optional refresh boolean value. Retrieving these results is not fast, so we cache them to speed up subsequent uses of the code. Sometimes you may want new results, e.g. to get citation counts, and then you set refresh=True."
   ]
  },
  {
   "cell_type": "code",
   "execution_count": 2,
   "metadata": {
    "collapsed": false
   },
   "outputs": [
    {
     "name": "stdout",
     "output_type": "stream",
     "text": [
      "[[https://www.scopus.com/inward/record.uri?partnerID=HzOxMe3b&scp=84930616647&origin=inward][2-s2.0-84930616647]]  John R. Kitchin, Examples of effective data sharing in scientific publishing, ACS Catalysis, 5(6), p. 3894-3899, (2015). http://dx.doi.org/10.1021/acscatal.5b00538, https://www.scopus.com/inward/record.uri?partnerID=HzOxMe3b&scp=84930616647&origin=inward, cited 3 times (Scopus).\n",
      "  Affiliations:\n",
      "   id:60027950 Carnegie Mellon University\n"
     ]
    }
   ],
   "source": [
    "from scopus.scopus_api import ScopusAbstract\n",
    "\n",
    "ab = ScopusAbstract(\"2-s2.0-84930616647\", refresh=True)\n",
    "print(ab)"
   ]
  },
  {
   "cell_type": "markdown",
   "metadata": {},
   "source": [
    "You can print the abstract in a variety of formats, including LaTeX, bibtex, HTML, and RIS. Here is an example. For bibtex entries, you get a uuid for the key."
   ]
  },
  {
   "cell_type": "code",
   "execution_count": 3,
   "metadata": {
    "collapsed": false
   },
   "outputs": [
    {
     "name": "stdout",
     "output_type": "stream",
     "text": [
      "@article{0df2d8da-154e-11e7-92dc-48d705e201bd,\n",
      "  author = {John R. Kitchin},\n",
      "  title = {Examples of effective data sharing in scientific publishing},\n",
      "  journal = {ACS Catalysis},\n",
      "  year = {2015},\n",
      "  volume = {5},\n",
      "  number = {6},\n",
      "  pages = {3894-3899},\n",
      "  doi = {10.1021/acscatal.5b00538}\n",
      "}\n",
      "\n",
      "\n",
      "TY  - JOUR\n",
      "AU  - Kitchin J.R.\n",
      "TI  - Examples of effective data sharing in scientific publishing\n",
      "JO  - ACS Catalysis\n",
      "VL  - 5\n",
      "IS  - 6\n",
      "DA  - 2015-06-05\n",
      "SP  - 3894-3899\n",
      "PY  - 2015\n",
      "DO  - 10.1021/acscatal.5b00538\n",
      "UR  - http://dx.doi.org/10.1021/acscatal.5b00538\n",
      "ER  - \n",
      "\n",
      "\n"
     ]
    }
   ],
   "source": [
    "from scopus.scopus_api import ScopusAbstract\n",
    "\n",
    "ab = ScopusAbstract(\"2-s2.0-84930616647\")\n",
    "print(ab.bibtex)\n",
    "print(ab.ris)"
   ]
  },
  {
   "cell_type": "markdown",
   "metadata": {},
   "source": [
    "### Interacting with the abstract\n",
    "The abstract has a number of properties on it."
   ]
  },
  {
   "cell_type": "code",
   "execution_count": 4,
   "metadata": {
    "collapsed": false
   },
   "outputs": [
    {
     "name": "stdout",
     "output_type": "stream",
     "text": [
      "['affiliations', 'aggregationType', 'article_number', 'authors', 'authors_xml', 'bibtex', 'cite_link', 'citedby_count', 'coredata', 'coverDate', 'creator', 'description', 'doi', 'eid', 'endingPage', 'get_corresponding_author_info', 'html', 'identifier', 'issn', 'issueIdentifier', 'latex', 'nauthors', 'pageRange', 'publicationName', 'publisher', 'refcount', 'references', 'ris', 'scopus_link', 'self_link', 'source_id', 'srctype', 'startingPage', 'title', 'url', 'volume', 'xml']\n"
     ]
    }
   ],
   "source": [
    "from scopus.scopus_api import ScopusAbstract\n",
    "\n",
    "ab = ScopusAbstract(\"2-s2.0-84930616647\", view=\"FULL\")\n",
    "print([x for x in dir(ab) if not x.startswith('_')])"
   ]
  },
  {
   "cell_type": "markdown",
   "metadata": {},
   "source": [
    "Some of these are objects themselves. Here we consider the authors, which is a list of scopus.scopus_api.ScopusAuthor objects. These objects have quite a bit of information on them.\n",
    "\n"
   ]
  },
  {
   "cell_type": "code",
   "execution_count": 6,
   "metadata": {
    "collapsed": false
   },
   "outputs": [
    {
     "name": "stdout",
     "output_type": "stream",
     "text": [
      "1. John D. Michael scopusid:56673592900 affiliation_id:60027950\n",
      "2. Ethan L. Demeter scopusid:55328415000 affiliation_id:60027950\n",
      "3. Steven M. Illes scopusid:56674328100 affiliation_id:60027950\n",
      "4. Qingqi Fan scopusid:56673468200 affiliation_id:60027950\n",
      "5. Jacob R. Boes scopusid:56522803500 affiliation_id:60027950\n",
      "6. John R. Kitchin scopusid:7004212771 affiliation_id:60027950\n",
      "['affiliations', 'auid', 'author', 'author_url', 'given_name', 'indexed_name', 'initials', 'scopusid', 'seq', 'surname']\n"
     ]
    }
   ],
   "source": [
    "from scopus.scopus_api import ScopusAbstract\n",
    "\n",
    "ab = ScopusAbstract(\"2-s2.0-84930662492\")\n",
    "for au in ab.authors:\n",
    "    print(au)\n",
    "\n",
    "print([x for x in dir(au) if '__' not in x])"
   ]
  },
  {
   "cell_type": "markdown",
   "metadata": {},
   "source": [
    "Another item of potential interest is the journal. Here we can access information about the journal impact factors of an article.\n",
    "\n"
   ]
  },
  {
   "cell_type": "code",
   "execution_count": 7,
   "metadata": {
    "collapsed": false
   },
   "outputs": [
    {
     "name": "stdout",
     "output_type": "stream",
     "text": [
      "ACS Catalysis http://www.scopus.com/source/sourceInfo.url?sourceId=19700188320\n",
      "    Homepage: \n",
      "    SJR:  3.277 (2014)\n",
      "    SNIP: 1.997 (2014)\n",
      "    IPP:  8.458 (2014)\n",
      "\n"
     ]
    }
   ],
   "source": [
    "from scopus.scopus_api import ScopusAbstract, ScopusJournal\n",
    "\n",
    "ab = ScopusAbstract(\"2-s2.0-84930616647\")\n",
    "\n",
    "print(ScopusJournal(ab.issn))"
   ]
  },
  {
   "cell_type": "markdown",
   "metadata": {},
   "source": [
    "### scopus_search\n",
    "\n",
    "This is a class to enable you to perform a query and then retrieve the records of the query for analysis. The EIDs for the search are cached so subsequent analysis is quicker. This class mostly just provides a list of EIDs which you can use for the ScopusAbstract class."
   ]
  },
  {
   "cell_type": "code",
   "execution_count": 8,
   "metadata": {
    "collapsed": false
   },
   "outputs": [
    {
     "name": "stdout",
     "output_type": "stream",
     "text": [
      "1. [[https://www.scopus.com/inward/record.uri?partnerID=HzOxMe3b&scp=84971324241&origin=inward][2-s2.0-84971324241]]  J.R. Kitchin and A.J. Gellman, High-throughput methods using composition and structure spread libraries, AIChE Journal, 62(11), p. 3826-3835, (2016). http://dx.doi.org/10.1002/aic.15294, https://www.scopus.com/inward/record.uri?partnerID=HzOxMe3b&scp=84971324241&origin=inward, cited 0 times (Scopus).\n",
      "  Affiliations:\n",
      "   id:60027950 Carnegie Mellon University\n",
      "2. [[https://www.scopus.com/inward/record.uri?partnerID=HzOxMe3b&scp=84930349644&origin=inward][2-s2.0-84930349644]]  John R. Kitchin, Data sharing in Surface Science, Surface Science, 647, p. 103-107, (2016). http://dx.doi.org/10.1016/j.susc.2015.05.007, https://www.scopus.com/inward/record.uri?partnerID=HzOxMe3b&scp=84930349644&origin=inward, cited 0 times (Scopus).\n",
      "  Affiliations:\n",
      "   id:60027950 Carnegie Mellon University\n",
      "3. [[https://www.scopus.com/inward/record.uri?partnerID=HzOxMe3b&scp=84930616647&origin=inward][2-s2.0-84930616647]]  John R. Kitchin, Examples of effective data sharing in scientific publishing, ACS Catalysis, 5(6), p. 3894-3899, (2015). http://dx.doi.org/10.1021/acscatal.5b00538, https://www.scopus.com/inward/record.uri?partnerID=HzOxMe3b&scp=84930616647&origin=inward, cited 3 times (Scopus).\n",
      "  Affiliations:\n",
      "   id:60027950 Carnegie Mellon University\n",
      "4. [[https://www.scopus.com/inward/record.uri?partnerID=HzOxMe3b&scp=67449106405&origin=inward][2-s2.0-67449106405]]  John R. Kitchin, Correlations in coverage-dependent atomic adsorption energies on Pd(111), Physical Review B - Condensed Matter and Materials Physics, 79(20), Art. No. 205412 (2009). http://dx.doi.org/10.1103/PhysRevB.79.205412, https://www.scopus.com/inward/record.uri?partnerID=HzOxMe3b&scp=67449106405&origin=inward, cited 30 times (Scopus).\n",
      "  Affiliations:\n",
      "   id:60027950 Carnegie Mellon University\n",
      "5. [[https://www.scopus.com/inward/record.uri?partnerID=HzOxMe3b&scp=40949100780&origin=inward][2-s2.0-40949100780]]  J.R. Kitchin, K. Reuter and M. Scheffler, Alloy surface segregation in reactive environments: First-principles atomistic thermodynamics study of Ag3 Pd(111) in oxygen atmospheres, Physical Review B - Condensed Matter and Materials Physics, 77(7), Art. No. 075437 (2008). http://dx.doi.org/10.1103/PhysRevB.77.075437, https://www.scopus.com/inward/record.uri?partnerID=HzOxMe3b&scp=40949100780&origin=inward, cited 56 times (Scopus).\n",
      "  Affiliations:\n",
      "   id:60008644 Fritz Haber Institute of the Max Planck Society\n",
      "   id:60027950 Carnegie Mellon University\n",
      "7. [[https://www.scopus.com/inward/record.uri?partnerID=HzOxMe3b&scp=20544467859&origin=inward][2-s2.0-20544467859]]  J.R. Kitchin, J.K. Nørskov, M.A. Barteau and J.G. Chen, Trends in the chemical properties of early transition metal carbide surfaces: A density functional study, Catalysis Today, 105(1 SPEC. ISS.), p. 66-73, (2005). http://dx.doi.org/10.1016/j.cattod.2005.04.008, https://www.scopus.com/inward/record.uri?partnerID=HzOxMe3b&scp=20544467859&origin=inward, cited 85 times (Scopus).\n",
      "  Affiliations:\n",
      "   id:60011373 Danmarks Tekniske Universitet\n",
      "   id:60023004 University of Delaware\n",
      "8. [[https://www.scopus.com/inward/record.uri?partnerID=HzOxMe3b&scp=13444307808&origin=inward][2-s2.0-13444307808]]  J.R. Kitchin, J.K. Nørskov, M.A. Barteau and J.G. Chen, Role of strain and ligand effects in the modification of the electronic and chemical Properties of bimetallic surfaces, Physical Review Letters, 93(15), (no pages found) (2004). http://dx.doi.org/10.1103/PhysRevLett.93.156801, https://www.scopus.com/inward/record.uri?partnerID=HzOxMe3b&scp=13444307808&origin=inward, cited 451 times (Scopus).\n",
      "  Affiliations:\n",
      "   id:60011373 Danmarks Tekniske Universitet\n",
      "   id:60023004 University of Delaware\n",
      "9. [[https://www.scopus.com/inward/record.uri?partnerID=HzOxMe3b&scp=2942640180&origin=inward][2-s2.0-2942640180]]  J.R. Kitchin, J.K. Nørskov, M.A. Barteau and J.G. Chen, Modification of the surface electronic and chemical properties of Pt(111) by subsurface 3d transition metals, Journal of Chemical Physics, 120(21), p. 10240-10246, (2004). http://dx.doi.org/10.1063/1.1737365, https://www.scopus.com/inward/record.uri?partnerID=HzOxMe3b&scp=2942640180&origin=inward, cited 539 times (Scopus).\n",
      "  Affiliations:\n",
      "   id:60011373 Danmarks Tekniske Universitet\n",
      "   id:60023004 University of Delaware\n",
      "10. [[https://www.scopus.com/inward/record.uri?partnerID=HzOxMe3b&scp=0141924604&origin=inward][2-s2.0-0141924604]]  J.R. Kitchin, N.A. Khan, M.A. Barteau, J.G. Chen, B. Yakshinskiy and T.E. Madey, Elucidation of the active surface and origin of the weak metal-hydrogen bond on Ni/Pt(1 1 1) bimetallic surfaces: A surface science and density functional theory study, Surface Science, 544(2-3), p. 295-308, (2003). http://dx.doi.org/10.1016/j.susc.2003.09.007, https://www.scopus.com/inward/record.uri?partnerID=HzOxMe3b&scp=0141924604&origin=inward, cited 112 times (Scopus).\n",
      "  Affiliations:\n",
      "   id:60023004 University of Delaware\n",
      "   id:60030623 Rutgers, The State University of New Jersey\n",
      "11. [[https://www.scopus.com/inward/record.uri?partnerID=HzOxMe3b&scp=0037368024&origin=inward][2-s2.0-0037368024]]  J.R. Kitchin, M.A. Barteau and J.G. Chen, A comparison of gold and molybdenum nanoparticles on TiO2(1 1 0) 1 × 2 reconstructed single crystal surfaces, Surface Science, 526(3), p. 323-331, (2003). http://dx.doi.org/10.1016/S0039-6028(02)02679-1, https://www.scopus.com/inward/record.uri?partnerID=HzOxMe3b&scp=0037368024&origin=inward, cited 29 times (Scopus).\n",
      "  Affiliations:\n",
      "   id:60023004 University of Delaware\n",
      "\n"
     ]
    }
   ],
   "source": [
    "from scopus.scopus_search import ScopusSearch\n",
    "\n",
    "s = ScopusSearch('FIRSTAUTH ( kitchin  j.r. )', refresh=True)\n",
    "print(s.org_summary)"
   ]
  },
  {
   "cell_type": "markdown",
   "metadata": {},
   "source": [
    "### scopus_report\n",
    "This module provides a function to generate a report on a scopus search. It outputs text in org-format. It summarizes the results in a variety of ways, such as the number of hits, which journals they are published in, who the coauthors are, how many times the articles have been published, etc…"
   ]
  },
  {
   "cell_type": "code",
   "execution_count": 9,
   "metadata": {
    "collapsed": false
   },
   "outputs": [
    {
     "name": "stdout",
     "output_type": "stream",
     "text": [
      "*** Report for Kitchin - first author\n",
      "\n",
      "#+attr_latex: :placement [H] :center nil\n",
      "#+caption: Types of documents found for Kitchin - first author.\n",
      "| Document type | count |\n",
      "|-\n",
      "| Journal | 10 |\n",
      "| Conference Proceeding | 1 |\n",
      "\n",
      "\n",
      "\n",
      "10 articles (1305 citations) found by 10 authors\n",
      "\n",
      "#+attr_latex: :placement [H] :center nil\n",
      "#+caption: Author publication counts for Kitchin - first author.\n",
      "| name | count | categories |\n",
      "|-\n",
      "| [[scopusid:7004212771][Kitchin J.R.]] | 10 | Chemical Engineering (all) (24), Physical and Theoretical Chemistry (21), Chemistry (all) (20) |\n",
      "| [[scopusid:7501891385][Chen J.G.]] | 5 | Physical and Theoretical Chemistry (164), Catalysis (139), Condensed Matter Physics (78) |\n",
      "| [[scopusid:7005171428][Barteau M.A.]] | 5 | Physical and Theoretical Chemistry (166), Catalysis (109), Condensed Matter Physics (79) |\n",
      "| [[scopusid:7007042214][Norskov J.K.]] | 3 | Physical and Theoretical Chemistry (213), Catalysis (173), Condensed Matter Physics (154) |\n",
      "| [[scopusid:7401797491][Khan N.A.]] | 1 | Physical and Theoretical Chemistry (14), Catalysis (9), Surfaces and Interfaces (6) |\n",
      "| [[scopusid:7102229641][Scheffler M.]] | 1 | Condensed Matter Physics (256), Physics and Astronomy (all) (202), Physical and Theoretical Chemistry (94) |\n",
      "| [[scopusid:35477902900][Madey T.E.]] | 1 | Condensed Matter Physics (248), Surfaces and Interfaces (214), Physical and Theoretical Chemistry (186) |\n",
      "| [[scopusid:35514271900][Gellman A.J.]] | 1 | Physical and Theoretical Chemistry (92), Surfaces and Interfaces (65), Condensed Matter Physics (61) |\n",
      "| [[scopusid:7006349643][Reuter K.]] | 1 | Condensed Matter Physics (58), Physics and Astronomy (all) (55), Physical and Theoretical Chemistry (41) |\n",
      "| [[scopusid:6602686751][Yakshinskiy B.]] | 1 | Condensed Matter Physics (26), Electrical and Electronic Engineering (15), Physical and Theoretical Chemistry (14) |\n",
      "\n",
      "\n",
      "\n",
      "#+attr_latex: :placement [H] :center nil\n",
      "#+caption: Journal publication counts for Kitchin - first author.\n",
      "| Journal | count | IPP |\n",
      "|-\n",
      "| [[http://www.scopus.com/source/sourceInfo.url?sourceId=12284][Surface Science]] | 3 | 1.773 |\n",
      "| [[http://www.scopus.com/source/sourceInfo.url?sourceId=11000153773][Physical Review B - Condensed Matter and Materials]] | 2 | 3.153 |\n",
      "| [[http://www.scopus.com/source/sourceInfo.url?sourceId=28134][Journal of Chemical Physics]] | 1 | 2.536 |\n",
      "| [[http://www.scopus.com/source/sourceInfo.url?sourceId=29150][Physical Review Letters]] | 1 | 6.471 |\n",
      "| [[http://www.scopus.com/source/sourceInfo.url?sourceId=19700188320][ACS Catalysis]] | 1 | 8.458 |\n",
      "| [[http://www.scopus.com/source/sourceInfo.url?sourceId=16275][AIChE Journal]] | 1 | 2.6 |\n",
      "| [[http://www.scopus.com/source/sourceInfo.url?sourceId=16377][Catalysis Today]] | 1 | 3.764 |\n",
      "\n",
      "\n",
      "\n",
      "#+attr_latex: :placement [H] :center nil\n",
      "#+caption: Journal publication counts for Kitchin - first author sorted by IPP.\n",
      "| Journal | count | IPP |\n",
      "|-\n",
      "|[[http://www.scopus.com/source/sourceInfo.url?sourceId=19700188320][ACS Catalysis]]|1|8.458|\n",
      "|[[http://www.scopus.com/source/sourceInfo.url?sourceId=29150][Physical Review Letters]]|1|6.471|\n",
      "|[[http://www.scopus.com/source/sourceInfo.url?sourceId=16377][Catalysis Today]]|1|3.764|\n",
      "|[[http://www.scopus.com/source/sourceInfo.url?sourceId=11000153773][Physical Review B - Condensed Matter and Materials]]|2|3.153|\n",
      "|[[http://www.scopus.com/source/sourceInfo.url?sourceId=16275][AIChE Journal]]|1|2.6|\n",
      "|[[http://www.scopus.com/source/sourceInfo.url?sourceId=28134][Journal of Chemical Physics]]|1|2.536|\n",
      "|[[http://www.scopus.com/source/sourceInfo.url?sourceId=12284][Surface Science]]|3|1.773|\n",
      "\n",
      "\n",
      "#+attr_latex: :placement [H] :center nil\n",
      "#+caption: Top cited publication counts for Kitchin - first author. j-index = 8.\n",
      "| title | cite count |\n",
      "|-\n",
      "| [[https://www.scopus.com/inward/record.uri?partnerID=HzOxMe3b&scp=2942640180&origin=inward][Modification of the surface electronic and chemical properti]] | 539 |\n",
      "| [[https://www.scopus.com/inward/record.uri?partnerID=HzOxMe3b&scp=13444307808&origin=inward][Role of strain and ligand effects in the modification of the]] | 451 |\n",
      "| [[https://www.scopus.com/inward/record.uri?partnerID=HzOxMe3b&scp=0141924604&origin=inward][Elucidation of the active surface and origin of the weak met]] | 112 |\n",
      "| [[https://www.scopus.com/inward/record.uri?partnerID=HzOxMe3b&scp=20544467859&origin=inward][Trends in the chemical properties of early transition metal ]] | 85 |\n",
      "| [[https://www.scopus.com/inward/record.uri?partnerID=HzOxMe3b&scp=40949100780&origin=inward][Alloy surface segregation in reactive environments: First-pr]] | 56 |\n",
      "| [[https://www.scopus.com/inward/record.uri?partnerID=HzOxMe3b&scp=67449106405&origin=inward][Correlations in coverage-dependent atomic adsorption energie]] | 30 |\n",
      "| [[https://www.scopus.com/inward/record.uri?partnerID=HzOxMe3b&scp=0037368024&origin=inward][A comparison of gold and molybdenum nanoparticles on TiO2(1 ]] | 29 |\n",
      "| [[https://www.scopus.com/inward/record.uri?partnerID=HzOxMe3b&scp=84930616647&origin=inward][Examples of effective data sharing in scientific publishing]] | 3 |\n",
      "| [[https://www.scopus.com/inward/record.uri?partnerID=HzOxMe3b&scp=84930349644&origin=inward][Data sharing in Surface Science]] | 0 |\n",
      "| [[https://www.scopus.com/inward/record.uri?partnerID=HzOxMe3b&scp=84971324241&origin=inward][High-throughput methods using composition and structure spre]] | 0 |\n",
      "\n",
      "\n",
      "#+caption: Number of authors on each publication for Kitchin - first author.\n",
      "[[./Kitchin - first author-nauthors-per-publication.png]]\n",
      "**** Bibliography  :noexport:\n",
      "     :PROPERTIES:\n",
      "     :VISIBILITY: folded\n",
      "     :END:\n",
      "1. [[https://www.scopus.com/inward/record.uri?partnerID=HzOxMe3b&scp=84971324241&origin=inward][2-s2.0-84971324241]]  J.R. Kitchin and A.J. Gellman, High-throughput methods using composition and structure spread libraries, AIChE Journal, 62(11), p. 3826-3835, (2016). http://dx.doi.org/10.1002/aic.15294, https://www.scopus.com/inward/record.uri?partnerID=HzOxMe3b&scp=84971324241&origin=inward, cited 0 times (Scopus).\n",
      "  Affiliations:\n",
      "   id:60027950 Carnegie Mellon University\n",
      "2. [[https://www.scopus.com/inward/record.uri?partnerID=HzOxMe3b&scp=84930349644&origin=inward][2-s2.0-84930349644]]  John R. Kitchin, Data sharing in Surface Science, Surface Science, 647, p. 103-107, (2016). http://dx.doi.org/10.1016/j.susc.2015.05.007, https://www.scopus.com/inward/record.uri?partnerID=HzOxMe3b&scp=84930349644&origin=inward, cited 0 times (Scopus).\n",
      "  Affiliations:\n",
      "   id:60027950 Carnegie Mellon University\n",
      "3. [[https://www.scopus.com/inward/record.uri?partnerID=HzOxMe3b&scp=84930616647&origin=inward][2-s2.0-84930616647]]  John R. Kitchin, Examples of effective data sharing in scientific publishing, ACS Catalysis, 5(6), p. 3894-3899, (2015). http://dx.doi.org/10.1021/acscatal.5b00538, https://www.scopus.com/inward/record.uri?partnerID=HzOxMe3b&scp=84930616647&origin=inward, cited 3 times (Scopus).\n",
      "  Affiliations:\n",
      "   id:60027950 Carnegie Mellon University\n",
      "4. [[https://www.scopus.com/inward/record.uri?partnerID=HzOxMe3b&scp=67449106405&origin=inward][2-s2.0-67449106405]]  John R. Kitchin, Correlations in coverage-dependent atomic adsorption energies on Pd(111), Physical Review B - Condensed Matter and Materials Physics, 79(20), Art. No. 205412 (2009). http://dx.doi.org/10.1103/PhysRevB.79.205412, https://www.scopus.com/inward/record.uri?partnerID=HzOxMe3b&scp=67449106405&origin=inward, cited 30 times (Scopus).\n",
      "  Affiliations:\n",
      "   id:60027950 Carnegie Mellon University\n",
      "5. [[https://www.scopus.com/inward/record.uri?partnerID=HzOxMe3b&scp=40949100780&origin=inward][2-s2.0-40949100780]]  J.R. Kitchin, K. Reuter and M. Scheffler, Alloy surface segregation in reactive environments: First-principles atomistic thermodynamics study of Ag3 Pd(111) in oxygen atmospheres, Physical Review B - Condensed Matter and Materials Physics, 77(7), Art. No. 075437 (2008). http://dx.doi.org/10.1103/PhysRevB.77.075437, https://www.scopus.com/inward/record.uri?partnerID=HzOxMe3b&scp=40949100780&origin=inward, cited 56 times (Scopus).\n",
      "  Affiliations:\n",
      "   id:60008644 Fritz Haber Institute of the Max Planck Society\n",
      "   id:60027950 Carnegie Mellon University\n",
      "7. [[https://www.scopus.com/inward/record.uri?partnerID=HzOxMe3b&scp=20544467859&origin=inward][2-s2.0-20544467859]]  J.R. Kitchin, J.K. Nørskov, M.A. Barteau and J.G. Chen, Trends in the chemical properties of early transition metal carbide surfaces: A density functional study, Catalysis Today, 105(1 SPEC. ISS.), p. 66-73, (2005). http://dx.doi.org/10.1016/j.cattod.2005.04.008, https://www.scopus.com/inward/record.uri?partnerID=HzOxMe3b&scp=20544467859&origin=inward, cited 85 times (Scopus).\n",
      "  Affiliations:\n",
      "   id:60011373 Danmarks Tekniske Universitet\n",
      "   id:60023004 University of Delaware\n",
      "8. [[https://www.scopus.com/inward/record.uri?partnerID=HzOxMe3b&scp=13444307808&origin=inward][2-s2.0-13444307808]]  J.R. Kitchin, J.K. Nørskov, M.A. Barteau and J.G. Chen, Role of strain and ligand effects in the modification of the electronic and chemical Properties of bimetallic surfaces, Physical Review Letters, 93(15), (no pages found) (2004). http://dx.doi.org/10.1103/PhysRevLett.93.156801, https://www.scopus.com/inward/record.uri?partnerID=HzOxMe3b&scp=13444307808&origin=inward, cited 451 times (Scopus).\n",
      "  Affiliations:\n",
      "   id:60011373 Danmarks Tekniske Universitet\n",
      "   id:60023004 University of Delaware\n",
      "9. [[https://www.scopus.com/inward/record.uri?partnerID=HzOxMe3b&scp=2942640180&origin=inward][2-s2.0-2942640180]]  J.R. Kitchin, J.K. Nørskov, M.A. Barteau and J.G. Chen, Modification of the surface electronic and chemical properties of Pt(111) by subsurface 3d transition metals, Journal of Chemical Physics, 120(21), p. 10240-10246, (2004). http://dx.doi.org/10.1063/1.1737365, https://www.scopus.com/inward/record.uri?partnerID=HzOxMe3b&scp=2942640180&origin=inward, cited 539 times (Scopus).\n",
      "  Affiliations:\n",
      "   id:60011373 Danmarks Tekniske Universitet\n",
      "   id:60023004 University of Delaware\n",
      "10. [[https://www.scopus.com/inward/record.uri?partnerID=HzOxMe3b&scp=0141924604&origin=inward][2-s2.0-0141924604]]  J.R. Kitchin, N.A. Khan, M.A. Barteau, J.G. Chen, B. Yakshinskiy and T.E. Madey, Elucidation of the active surface and origin of the weak metal-hydrogen bond on Ni/Pt(1 1 1) bimetallic surfaces: A surface science and density functional theory study, Surface Science, 544(2-3), p. 295-308, (2003). http://dx.doi.org/10.1016/j.susc.2003.09.007, https://www.scopus.com/inward/record.uri?partnerID=HzOxMe3b&scp=0141924604&origin=inward, cited 112 times (Scopus).\n",
      "  Affiliations:\n",
      "   id:60023004 University of Delaware\n",
      "   id:60030623 Rutgers, The State University of New Jersey\n",
      "11. [[https://www.scopus.com/inward/record.uri?partnerID=HzOxMe3b&scp=0037368024&origin=inward][2-s2.0-0037368024]]  J.R. Kitchin, M.A. Barteau and J.G. Chen, A comparison of gold and molybdenum nanoparticles on TiO2(1 1 0) 1 × 2 reconstructed single crystal surfaces, Surface Science, 526(3), p. 323-331, (2003). http://dx.doi.org/10.1016/S0039-6028(02)02679-1, https://www.scopus.com/inward/record.uri?partnerID=HzOxMe3b&scp=0037368024&origin=inward, cited 29 times (Scopus).\n",
      "  Affiliations:\n",
      "   id:60023004 University of Delaware\n",
      "\n"
     ]
    }
   ],
   "source": [
    "from scopus.scopus_search import ScopusSearch\n",
    "from scopus.scopus_reports import report\n",
    "\n",
    "s = ScopusSearch('FIRSTAUTH ( kitchin  j.r. )')\n",
    "report_title='Kitchin - first author' #what ever you want\n",
    "report(s, report_title)"
   ]
  },
  {
   "cell_type": "code",
   "execution_count": 10,
   "metadata": {
    "collapsed": false
   },
   "outputs": [
    {
     "data": {
      "image/png": "[encoded data removed]",
      "text/plain": [
       "<IPython.core.display.Image object>"
      ]
     },
     "execution_count": 10,
     "metadata": {},
     "output_type": "execute_result"
    }
   ],
   "source": [
    "from IPython.display import Image\n",
    "Image(report_title+\"-nauthors-per-publication.png\")"
   ]
  },
  {
   "cell_type": "markdown",
   "metadata": {},
   "source": [
    "### scopus_author\n",
    "\n",
    "This class differs from the author class described in scopus_api. This class is to interact with the entire author record in Scopus, using the author’s scopus id. The ScopusAuthor object can access many bits of data about an author, including the number of papers, h-index, author impact factor, etc…"
   ]
  },
  {
   "cell_type": "code",
   "execution_count": 11,
   "metadata": {
    "collapsed": false
   },
   "outputs": [
    {
     "name": "stdout",
     "output_type": "stream",
     "text": [
      "['_affiliation_history', '_author_id', '_citedby_url', '_coauthor_url', '_current_affiliation', '_date_created', '_firstname', '_hindex', '_lastname', '_name', '_ncited_by', '_ncoauthors', '_ndocuments', '_orcid', '_scopus_url', 'affiliation_history', 'author_id', 'author_impact_factor', 'categories', 'citedby_url', 'coauthor_url', 'current_affiliation', 'date_created', 'firstname', 'get_abstracts', 'get_coauthors', 'get_document_eids', 'get_document_summary', 'hindex', 'lastname', 'level', 'n_first_author_papers', 'n_journal_articles', 'n_last_author_papers', 'n_yearly_publications', 'name', 'ncitations', 'ncited_by', 'ncoauthors', 'ndocuments', 'orcid', 'scopus_url']\n"
     ]
    }
   ],
   "source": [
    "from scopus.scopus_author import ScopusAuthor\n",
    "\n",
    "au = ScopusAuthor(7004212771)\n",
    "print([x for x in dir(au) if '__' not in x])"
   ]
  },
  {
   "cell_type": "code",
   "execution_count": 1,
   "metadata": {
    "collapsed": false
   },
   "outputs": [
    {
     "name": "stdout",
     "output_type": "stream",
     "text": [
      "['Jens Kehlet Nørskov', 'Bruce C. Gates', 'Matthias Scheffler', 'Dionisios G. Vlachos', 'R. J. Gorte', 'Theodore E. Madey', 'Inkyu Song', 'Israel E. Wachs', 'David S. Sholl', 'Marc T M Koper', 'Christopher W. Jones', 'Jingguang Chen', 'Ulrich Stimming', 'Anatoly I. Frenkel', 'Mark A. Barteau', 'Andrew J. Gellman', 'William D. Jones', 'Karsten Reuter', 'Morris Morris Bullock', 'Hannes Jónsson', 'Terrence J. Collins', 'Henry W. Pennline', 'Jan Rossmeisl', 'Edward S. Rubin', 'Thomas Francisco Jaramillo', 'Susannah Scott', 'Paul A. Salvador', 'E. Charles H Sykes', 'David R. Luebke', 'David C M Miller', 'Thomas Bligaard', 'Evan Jacob Granite', 'John R. Kitchin', 'Newell R. Washburn', 'Bryan D. Morreale', 'Krishnan V. Damodaran', 'Venkatasubramanian K. Viswanathan', 'Lars Lindqvist', 'José Ignacio Martínez', 'Lisa Mauck Weiland', 'Kirk R. Gerdes', 'James B. Miller', 'Federico Calle-Vallejo', 'Mc Mahan L Gray', 'Edward M. Sabolsky', 'Heine Anton Hansen', 'Ashish B. Mhadeshwar', 'Jeongwoo Han', 'John A. Keith', 'Shelley Lynn Anna', 'Ashleigh E. Baber', 'Boris V. Yakshinskiy', 'Hunaid B. Nulwala', 'Nicholas S. Siefert', 'Wei Shi', 'James Landon', 'Victor A. Kusuma', 'Jingguang G. Chen', 'Vladimir V. Pushkarev', 'Heather L. Tierney', 'Christina R. Myers', 'Relja Vasić', 'Haiyan Su', 'Áshildur Logadóttir', 'David P. Hopkinson', 'Robert L. Thompson', 'Kevin P. Resnik', 'Adefemi A. Egbebi', 'Erik J. Albenze', 'John C. Eslick', 'Isabelacostinela Man', 'Yogesh V. Joshi', 'Neetha A. Khan', 'Hari Chandan Mantripragada', 'B. A. Calfa', 'Sneha A. Akhade', 'Nilay G. Inoǧlu', 'Stanislav V. Pandelov', 'Christopher J. Keturakis', 'Carmeline J. Dsilva', 'Jacob R. Boes', 'John R. McCormick', 'Peter L. Versteeg', 'Spencer D. Miller', 'Fei Gao', 'Petro Kondratyuk', 'Zhongnan Xu', 'Gamze Gumuslu', 'W. Richard Alesi', 'James X. Mao', 'Anita S. Lee', 'Matthew T. Curnan', 'Peter Kondratyuk', 'John D. Watkins', 'Ratiporn Munprom', 'Mitchell C. Groenenboom', 'Paul A. Salvador', 'Rumyana V. Petrova', 'Ethan L. Demeter', 'Bruno A. Calfa', 'Charles T. Campbell', 'Chunrong Yin', 'Alexander P. Hallenbeck', 'Robin Chao', 'Charles H. Sykes', 'Shayna L. Hilburg', 'Sumathy Raman', 'Prateek Mehta', 'Xu Zhou', 'Nilay Inolu', 'Walter Richard Alesi', 'Qingqi Fan', 'Hari Thirumalai', 'Steven M. Illes', 'Aaron Marks', 'John D. Michael', 'Siddharth Deshpande', 'Feiyang Geng']\n"
     ]
    }
   ],
   "source": [
    "from scopus.scopus_author import ScopusAuthor\n",
    "\n",
    "au = ScopusAuthor(7004212771)\n",
    "print([a.name for a in au.get_coauthors()])"
   ]
  },
  {
   "cell_type": "markdown",
   "metadata": {},
   "source": [
    "You can generate a report about an author just by printing a ScopusAuthor object. The output of this is long, so we do not show it here."
   ]
  },
  {
   "cell_type": "code",
   "execution_count": null,
   "metadata": {
    "collapsed": false
   },
   "outputs": [],
   "source": [
    "from scopus.scopus_author import ScopusAuthor\n",
    "\n",
    "au = ScopusAuthor(7004212771)\n",
    "print(au)"
   ]
  }
 ],
 "metadata": {
  "anaconda-cloud": {},
  "kernelspec": {
   "display_name": "Python 3",
   "language": "python",
   "name": "python3"
  },
  "language_info": {
   "codemirror_mode": {
    "name": "ipython",
    "version": 3
   },
   "file_extension": ".py",
   "mimetype": "text/x-python",
   "name": "python",
   "nbconvert_exporter": "python",
   "pygments_lexer": "ipython3",
   "version": "3.5.2"
  }
 },
 "nbformat": 4,
 "nbformat_minor": 2
}
