{
 "cells": [
  {
   "cell_type": "markdown",
   "metadata": {},
   "source": [
    "# More examples\n",
    "\n",
    "> [<i class=\"fa fa-2x fa-paper-plane text-info fa-fw\"> </i> Simple example](./Simple example.ipynb)\n",
    ">\n",
    "> <i class=\"fa fa-2x fa-space-shuttle text-info fa-fw\"> </i> Advanced examples\n",
    ">\n",
    "> [<i class=\"fa fa-2x fa-link text-info fa-fw\"> </i> Linking and Layout](./Linking and Layout.ipynb)\n",
    ">\n",
    "> [<i class=\"fa fa-2x fa-image text-info fa-fw\"> </i> Exporting Images](./Exporting Images.ipynb)"
   ]
  },
  {
   "cell_type": "code",
   "execution_count": 1,
   "metadata": {
    "collapsed": true
   },
   "outputs": [],
   "source": [
    "from ipysankeywidget import SankeyWidget\n",
    "from ipywidgets import Layout"
   ]
  },
  {
   "cell_type": "markdown",
   "metadata": {},
   "source": [
    "> <i class=\"fa fa-gears fa-2x fa-fw text-info\"></i> A convenience factory function"
   ]
  },
  {
   "cell_type": "code",
   "execution_count": 2,
   "metadata": {
    "collapsed": true
   },
   "outputs": [],
   "source": [
    "layout = Layout(width=\"300\", height=\"200\")\n",
    "def sankey(**value):\n",
    "    \"\"\"Show SankeyWidget with default values for size and margins\"\"\"\n",
    "    return SankeyWidget(layout=layout,\n",
    "                        margins=dict(top=10, bottom=0, left=30, right=60),\n",
    "                        **value)"
   ]
  },
  {
   "cell_type": "markdown",
   "metadata": {},
   "source": [
    "## Rank assignment"
   ]
  },
  {
   "cell_type": "markdown",
   "metadata": {},
   "source": [
    "### Rank sets"
   ]
  },
  {
   "cell_type": "markdown",
   "metadata": {},
   "source": [
    "You can adjust the left-right placement of nodes by putting them in rank sets: all nodes in the same set end up with the same rank."
   ]
  },
  {
   "cell_type": "code",
   "execution_count": 3,
   "metadata": {},
   "outputs": [
    {
     "data": {
      "application/vnd.jupyter.widget-view+json": {
       "model_id": "65c405e4df2a432c96754d1f22705d29"
      }
     },
     "metadata": {},
     "output_type": "display_data"
    }
   ],
   "source": [
    "links = [\n",
    "    {'source': 'A', 'target': 'B', 'value': 1},\n",
    "    {'source': 'B', 'target': 'C', 'value': 1},\n",
    "    {'source': 'A', 'target': 'D', 'value': 1},\n",
    "]\n",
    "sankey(links=links)"
   ]
  },
  {
   "cell_type": "code",
   "execution_count": 4,
   "metadata": {},
   "outputs": [
    {
     "data": {
      "application/vnd.jupyter.widget-view+json": {
       "model_id": "154c33565e36429c89e57412dd3a8f52"
      }
     },
     "metadata": {},
     "output_type": "display_data"
    }
   ],
   "source": [
    "rank_sets = [\n",
    "    { 'type': 'same', 'nodes': ['C', 'D'] }\n",
    "]\n",
    "sankey(links=links, rank_sets=rank_sets)"
   ]
  },
  {
   "cell_type": "code",
   "execution_count": 5,
   "metadata": {},
   "outputs": [
    {
     "data": {
      "application/vnd.jupyter.widget-view+json": {
       "model_id": "71d9b8493fae44c2a03c76370b53480e"
      }
     },
     "metadata": {},
     "output_type": "display_data"
    }
   ],
   "source": [
    "order = [\n",
    "    ['A'],\n",
    "    ['D', 'B'],\n",
    "    ['C'],\n",
    "]\n",
    "sankey(links=links, order=order)"
   ]
  },
  {
   "cell_type": "code",
   "execution_count": 6,
   "metadata": {},
   "outputs": [
    {
     "data": {
      "application/vnd.jupyter.widget-view+json": {
       "model_id": "37f0a816c7c0408ba71fd7bbe0d206dd"
      }
     },
     "metadata": {},
     "output_type": "display_data"
    }
   ],
   "source": [
    "order = [\n",
    "    [ [   ], ['A'], [],   ],\n",
    "    [ ['B'], [   ], ['D'] ],\n",
    "    [ [   ], ['C'], []    ],\n",
    "]\n",
    "sankey(links=links, order=order)"
   ]
  },
  {
   "cell_type": "markdown",
   "metadata": {},
   "source": [
    "### Reversed nodes"
   ]
  },
  {
   "cell_type": "markdown",
   "metadata": {},
   "source": [
    "Most nodes are assumed to link from left to right, but sometimes there are return links which should be shown from right to left."
   ]
  },
  {
   "cell_type": "code",
   "execution_count": 10,
   "metadata": {},
   "outputs": [
    {
     "data": {
      "application/vnd.jupyter.widget-view+json": {
       "model_id": "235300d7a1df4777afed144608a133ae"
      }
     },
     "metadata": {},
     "output_type": "display_data"
    }
   ],
   "source": [
    "links = [\n",
    "    {'source': 'A', 'target': 'B', 'value': 1},\n",
    "    {'source': 'B', 'target': 'C', 'value': 1},\n",
    "    {'source': 'C', 'target': 'D', 'value': 1},\n",
    "    {'source': 'A', 'target': 'E', 'value': 0.5},\n",
    "]\n",
    "\n",
    "nodes = [\n",
    "    {'id': 'C', 'direction': 'l'},\n",
    "    {'id': 'D', 'direction': 'l'},\n",
    "]\n",
    "\n",
    "sankey(links=links, nodes=nodes)"
   ]
  },
  {
   "cell_type": "markdown",
   "metadata": {},
   "source": [
    "Variations:"
   ]
  },
  {
   "cell_type": "code",
   "execution_count": 11,
   "metadata": {},
   "outputs": [
    {
     "data": {
      "application/vnd.jupyter.widget-view+json": {
       "model_id": "f2958fed2a4347ababa1804efc88e27b"
      }
     },
     "metadata": {},
     "output_type": "display_data"
    }
   ],
   "source": [
    "nodes = [\n",
    "    {'id': 'C', 'direction': 'r'},\n",
    "    {'id': 'D', 'direction': 'l'},\n",
    "]\n",
    "sankey(links=links, nodes=nodes)"
   ]
  },
  {
   "cell_type": "code",
   "execution_count": 12,
   "metadata": {},
   "outputs": [
    {
     "data": {
      "application/vnd.jupyter.widget-view+json": {
       "model_id": "d28624a254c84931b2e70cc2265c2bdf"
      }
     },
     "metadata": {},
     "output_type": "display_data"
    }
   ],
   "source": [
    "nodes = [\n",
    "    {'id': 'C', 'direction': 'l'},\n",
    "    {'id': 'D', 'direction': 'r'},\n",
    "]\n",
    "sankey(links=links, nodes=nodes)"
   ]
  },
  {
   "cell_type": "markdown",
   "metadata": {},
   "source": [
    "## Styling"
   ]
  },
  {
   "cell_type": "markdown",
   "metadata": {},
   "source": [
    "By default, the links are coloured according to their type:"
   ]
  },
  {
   "cell_type": "code",
   "execution_count": 13,
   "metadata": {},
   "outputs": [
    {
     "data": {
      "application/vnd.jupyter.widget-view+json": {
       "model_id": "5919b61a39ee4e2ab3cc27951e7bd7a4"
      }
     },
     "metadata": {},
     "output_type": "display_data"
    }
   ],
   "source": [
    "links = [\n",
    "    {'source': 'A', 'target': 'B', 'value': 3, 'type': 'x'},\n",
    "    {'source': 'B', 'target': 'C', 'value': 2, 'type': 'y'},\n",
    "    {'source': 'B', 'target': 'D', 'value': 1, 'type': 'z'},\n",
    "]\n",
    "sankey(links=links)"
   ]
  },
  {
   "cell_type": "markdown",
   "metadata": {},
   "source": [
    "You can also set the colours directly:"
   ]
  },
  {
   "cell_type": "code",
   "execution_count": 14,
   "metadata": {},
   "outputs": [
    {
     "data": {
      "application/vnd.jupyter.widget-view+json": {
       "model_id": "cc305b28ddb94fd19ceeae83d594d436"
      }
     },
     "metadata": {},
     "output_type": "display_data"
    }
   ],
   "source": [
    "links = [\n",
    "    {'source': 'A', 'target': 'B', 'value': 3, 'color': 'steelblue'},\n",
    "    {'source': 'B', 'target': 'C', 'value': 2, 'color': '#aaa'},\n",
    "    {'source': 'B', 'target': 'D', 'value': 1, 'color': 'goldenrod'},\n",
    "]\n",
    "sankey(links=links)"
   ]
  },
  {
   "cell_type": "markdown",
   "metadata": {},
   "source": [
    "Process titles default to their ids, but can be overridden. There are also one built-in alternative \"style\" of node:\n",
    "- `process` is drawn with a thicker line"
   ]
  },
  {
   "cell_type": "code",
   "execution_count": 15,
   "metadata": {},
   "outputs": [
    {
     "data": {
      "application/vnd.jupyter.widget-view+json": {
       "model_id": "c3fb8db3ca5a42bda1e6ef108c078ac0"
      }
     },
     "metadata": {},
     "output_type": "display_data"
    }
   ],
   "source": [
    "nodes = [\n",
    "    {'id': 'B', 'title': 'Middle node', 'style': 'process' },\n",
    "]\n",
    "sankey(links=links, nodes=nodes)"
   ]
  },
  {
   "cell_type": "markdown",
   "metadata": {},
   "source": [
    "Of course, you can also use CSS to adjust the styling:"
   ]
  },
  {
   "cell_type": "code",
   "execution_count": 16,
   "metadata": {},
   "outputs": [
    {
     "data": {
      "text/html": [
       "<style>\n",
       ".sankey .node {\n",
       "    font-style: italic;\n",
       "}\n",
       "</style>"
      ],
      "text/plain": [
       "<IPython.core.display.HTML object>"
      ]
     },
     "metadata": {},
     "output_type": "display_data"
    }
   ],
   "source": [
    "%%html\n",
    "<style>\n",
    ".sankey .node {\n",
    "    font-style: italic;\n",
    "}\n",
    "</style>"
   ]
  },
  {
   "cell_type": "markdown",
   "metadata": {},
   "source": [
    "## Aligning link types"
   ]
  },
  {
   "cell_type": "code",
   "execution_count": 17,
   "metadata": {},
   "outputs": [
    {
     "data": {
      "application/vnd.jupyter.widget-view+json": {
       "model_id": "fddf65d37a5c4889b16331eb89adf2a9"
      }
     },
     "metadata": {},
     "output_type": "display_data"
    }
   ],
   "source": [
    "links = [\n",
    "    {'source': 'A1', 'target': 'B', 'value': 1.5, 'type': 'x'},\n",
    "    {'source': 'A1', 'target': 'B', 'value': 0.5, 'type': 'y'},\n",
    "    {'source': 'A2', 'target': 'B', 'value': 0.5, 'type': 'x'},\n",
    "    {'source': 'A2', 'target': 'B', 'value': 1.5, 'type': 'y'},\n",
    "    {'source': 'B',  'target': 'C', 'value': 2.0, 'type': 'x'},\n",
    "    {'source': 'B',  'target': 'C', 'value': 2.0, 'type': 'y'},\n",
    "]\n",
    "sankey(links=links, nodes=[])"
   ]
  },
  {
   "cell_type": "code",
   "execution_count": 18,
   "metadata": {},
   "outputs": [
    {
     "data": {
      "application/vnd.jupyter.widget-view+json": {
       "model_id": "2067ede0fdc84f5c82da48ce4470612e"
      }
     },
     "metadata": {},
     "output_type": "display_data"
    }
   ],
   "source": [
    "sankey(links=links, align_link_types=True)"
   ]
  },
  {
   "cell_type": "code",
   "execution_count": 19,
   "metadata": {},
   "outputs": [
    {
     "data": {
      "application/vnd.jupyter.widget-view+json": {
       "model_id": "f8c57579d1dd41229a70edfd2560a80e"
      }
     },
     "metadata": {},
     "output_type": "display_data"
    }
   ],
   "source": [
    "order = [\n",
    "    ['A2', 'A1'],\n",
    "    ['B'],\n",
    "    ['C'],\n",
    "]\n",
    "sankey(links=links, align_link_types=True, order=order)"
   ]
  },
  {
   "cell_type": "markdown",
   "metadata": {},
   "source": [
    "## Dynamic updating"
   ]
  },
  {
   "cell_type": "code",
   "execution_count": 22,
   "metadata": {},
   "outputs": [
    {
     "data": {
      "application/vnd.jupyter.widget-view+json": {
       "model_id": "5c3715a2f839484189fb038320ffa972"
      }
     },
     "metadata": {},
     "output_type": "display_data"
    }
   ],
   "source": [
    "from ipywidgets import Button, VBox\n",
    "\n",
    "links = [\n",
    "    {'source': 'A', 'target': 'B', 'value': 1},\n",
    "    {'source': 'B', 'target': 'C', 'value': 1},\n",
    "    {'source': 'A', 'target': 'D', 'value': 1},\n",
    "]\n",
    "order = [\n",
    "    ['A'],\n",
    "    ['D', 'B'],\n",
    "    ['C'],\n",
    "]\n",
    "s = sankey(links=links, order=order)\n",
    "\n",
    "def swap(x):\n",
    "    global order\n",
    "    order = [list(reversed(o)) for o in order]\n",
    "    s.order = order\n",
    "b = Button(description='Swap')\n",
    "b.on_click(swap)\n",
    "\n",
    "VBox([b, s])"
   ]
  },
  {
   "cell_type": "markdown",
   "metadata": {
    "collapsed": true
   },
   "source": [
    "## Node groups"
   ]
  },
  {
   "cell_type": "code",
   "execution_count": 25,
   "metadata": {},
   "outputs": [
    {
     "data": {
      "application/vnd.jupyter.widget-view+json": {
       "model_id": "2cad3fd6b6864ef0b8b9b1ad82ca4358"
      }
     },
     "metadata": {},
     "output_type": "display_data"
    }
   ],
   "source": [
    "links = [\n",
    "    {'source': 'A', 'target': 'B', 'value': 3, 'type': 'x'},\n",
    "    {'source': 'B', 'target': 'C', 'value': 2, 'type': 'y'},\n",
    "    {'source': 'B', 'target': 'D', 'value': 1, 'type': 'z'},\n",
    "]\n",
    "groups = [\n",
    "    {'id': 'G', 'title': 'Group', 'nodes': ['C', 'D']}\n",
    "]\n",
    "sankey(links=links, nodes=[], groups=groups, margin_top=50)"
   ]
  },
  {
   "cell_type": "code",
   "execution_count": 24,
   "metadata": {},
   "outputs": [
    {
     "data": {
      "text/plain": [
       "[{'source': 'A', 'target': 'B', 'type': 'x', 'value': 3},\n",
       " {'source': 'B', 'target': 'C', 'type': 'y', 'value': 2},\n",
       " {'source': 'B', 'target': 'D', 'type': 'z', 'value': 1}]"
      ]
     },
     "execution_count": 24,
     "metadata": {},
     "output_type": "execute_result"
    }
   ],
   "source": [
    "Out[20].links"
   ]
  },
  {
   "cell_type": "code",
   "execution_count": null,
   "metadata": {
    "collapsed": true
   },
   "outputs": [],
   "source": []
  }
 ],
 "metadata": {
  "anaconda-cloud": {},
  "hide_input": true,
  "kernelspec": {
   "display_name": "Python 3",
   "language": "python",
   "name": "python3"
  },
  "language_info": {
   "codemirror_mode": {
    "name": "ipython",
    "version": 3
   },
   "file_extension": ".py",
   "mimetype": "text/x-python",
   "name": "python",
   "nbconvert_exporter": "python",
   "pygments_lexer": "ipython3",
   "version": "3.5.2"
  },
  "widgets": {
   "application/vnd.jupyter.widget-state+json": {
    "state": {
     "08cdd23d475f46c99c3e31268012b188": {
      "model_module": "jupyter-sankey-widget",
      "model_module_version": "^0.2.1",
      "model_name": "SankeyModel",
      "state": {
       "_dom_classes": [],
       "_model_module_version": "^0.2.1",
       "_view_module_version": "^0.2.1",
       "layout": "IPY_MODEL_1bbb06896ecf404189cbb5cc1bdb648e",
       "links": [
        {
         "source": "A",
         "target": "B",
         "value": 1
        },
        {
         "source": "B",
         "target": "C",
         "value": 1
        },
        {
         "source": "C",
         "target": "D",
         "value": 1
        },
        {
         "source": "A",
         "target": "E",
         "value": 0.5
        }
       ],
       "margins": {
        "bottom": 0,
        "left": 30,
        "right": 60,
        "top": 10
       },
       "msg_throttle": 1,
       "nodes": [
        {
         "backwards": true,
         "id": "C"
        },
        {
         "backwards": false,
         "id": "D"
        }
       ],
       "order": [],
       "png": "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",
       "scale": 27.142857142857142,
       "svg": "<?xml version=\"1.0\" standalone=\"no\"?><!DOCTYPE svg PUBLIC \"-//W3C//DTD SVG 1.1//EN\" \"http://www.w3.org/Graphics/SVG/1.1/DTD/svg11.dtd\"><svg xmlns=\"http://www.w3.org/2000/svg\" width=\"300\" height=\"200\" viewBox=\"0 0 300 200\" style=\"font-family: &quot;Helvetica Neue&quot;,Helvetica,Arial,sans-serif;\"><g class=\"sankey\" transform=\"translate(30,10)\"><g class=\"groups\"/><g class=\"links\"><g class=\"link\" style=\"opacity: 0.8;\"><path d=\"M0,101.78571428571428 A134.01532642582066 134.01532642582066 0.31764191228594685 0 1 41.856646096858995,108.4898907892223 L172.38208165087747,151.40331169506408 A120.44389785439209 120.44389785439209 0.31764191228594685 0 0 210,157.42857142857142 L210,170.99999999999997 A134.01532642582066 134.01532642582066 0.31764191228594685 0 1 168.14335390314102,164.29582349649195 L37.61791834912253,121.38240259065017 A120.44389785439209 120.44389785439209 0.31764191228594685 0 0 0,115.35714285714286 Z\" style=\"fill: rgb(31, 119, 180);\"/><title>A → E\n500m</title></g><g class=\"link\" style=\"opacity: 0.8;\"><path d=\"M0,74.64285714285714 A113.6581835686778 113.6581835686778 0.3176419122859466 0 0 35.49855447525427,68.95705579435018 L166.0239900292728,26.043634888508375 A140.80104071153494 140.80104071153494 0.3176419122859466 0 1 210,19 L210,46.14285714285714 A113.6581835686778 113.6581835686778 0.3176419122859466 0 0 174.50144552474575,51.828658491364095 L43.97600997072719,94.7420793972059 A140.80104071153494 140.80104071153494 0.3176419122859466 0 1 0,101.78571428571428 Z\" style=\"fill: rgb(31, 119, 180);\"/><title>A → B\n1.00</title></g><g class=\"link\" style=\"opacity: 0.8;\"><path d=\"M210,19 A32.14285714285714 32.14285714285714 1.5707963267948966 0 1 242.14285714285714,51.14285714285714 L242.14285714285714,60.14285714285714 A32.14285714285714 32.14285714285714 1.5707963267948966 0 1 210,92.28571428571428 L210,65.14285714285714 A4.999999999999998 4.999999999999998 1.5707963267948966 0 0 214.99999999999997,60.14285714285714 L214.99999999999997,51.14285714285714 A4.999999999999998 4.999999999999998 1.5707963267948966 0 0 210,46.14285714285714 Z\" style=\"fill: rgb(31, 119, 180);\"/><title>B → C\n1.00</title></g><g class=\"link\" style=\"opacity: 0.8;\"><path d=\"M210,65.14285714285714 A32.14285714285714 32.14285714285714 1.5707963267948966 0 0 177.85714285714286,97.28571428571428 L177.85714285714286,106.28571428571428 A32.14285714285714 32.14285714285714 1.5707963267948966 0 0 210,138.42857142857142 L210,111.28571428571428 A4.999999999999998 4.999999999999998 1.5707963267948966 0 1 205.00000000000003,106.28571428571428 L205.00000000000003,97.28571428571428 A4.999999999999998 4.999999999999998 1.5707963267948966 0 1 210,92.28571428571428 Z\" style=\"fill: rgb(31, 119, 180);\"/><title>C → D\n1.00</title></g></g><g class=\"nodes\"><g class=\"node\" transform=\"translate(210,65.14285714285714)\"><title>C</title><text dy=\".35em\" text-anchor=\"start\" transform=\"translate(4, 13.571428298950195)\">C</text><line x1=\"0\" x2=\"0\" y1=\"0\" y2=\"27.142857142857142\" style=\"stroke: rgb(0, 0, 0);\"/><rect x=\"-5\" y=\"-5\" width=\"10\" style=\"fill: none; visibility: hidden; pointer-events: all;\" height=\"32.14285714285714\"/></g><g class=\"node\" transform=\"translate(210,111.28571428571428)\"><title>D</title><text dy=\".35em\" text-anchor=\"start\" transform=\"translate(4, 13.571428298950195)\">D</text><line x1=\"0\" x2=\"0\" y1=\"0\" y2=\"27.142857142857142\" style=\"stroke: rgb(0, 0, 0);\"/><rect x=\"-5\" y=\"-5\" width=\"10\" style=\"fill: none; visibility: hidden; pointer-events: all;\" height=\"32.14285714285714\"/></g><g class=\"node\" transform=\"translate(0,74.64285714285714)\"><title>A</title><text dy=\".35em\" text-anchor=\"end\" transform=\"translate(-4, 20.35714340209961)\">A</text><line x1=\"0\" x2=\"0\" y1=\"0\" y2=\"40.714285714285715\" style=\"stroke: rgb(0, 0, 0);\"/><rect x=\"-5\" y=\"-5\" width=\"10\" style=\"fill: none; visibility: hidden; pointer-events: all;\" height=\"45.714285714285715\"/></g><g class=\"node\" transform=\"translate(210,19)\"><title>B</title><text dy=\".35em\" text-anchor=\"start\" transform=\"translate(-4, -10)\">B</text><line x1=\"0\" x2=\"0\" y1=\"-5\" y2=\"27.142857142857142\" style=\"stroke: rgb(0, 0, 0);\"/><rect x=\"-5\" y=\"-5\" width=\"10\" style=\"fill: none; visibility: hidden; pointer-events: all;\" height=\"32.14285714285714\"/></g><g class=\"node\" transform=\"translate(210,157.42857142857142)\"><title>E</title><text dy=\".35em\" text-anchor=\"start\" transform=\"translate(4, 6.785714149475098)\">E</text><line x1=\"0\" x2=\"0\" y1=\"0\" y2=\"13.571428571428571\" style=\"stroke: rgb(0, 0, 0);\"/><rect x=\"-5\" y=\"-5\" width=\"10\" style=\"fill: none; visibility: hidden; pointer-events: all;\" height=\"18.57142857142857\"/></g></g><g class=\"slice-titles\"/></g></svg>"
      }
     },
     "0f67b73e28f34121b980eb1dc97c1a1b": {
      "model_module": "jupyter-sankey-widget",
      "model_module_version": "^0.2.1",
      "model_name": "SankeyModel",
      "state": {
       "_dom_classes": [],
       "_model_module_version": "^0.2.1",
       "_view_module_version": "^0.2.1",
       "layout": "IPY_MODEL_1bbb06896ecf404189cbb5cc1bdb648e",
       "links": [
        {
         "source": "A",
         "target": "B",
         "type": "x",
         "value": 3
        },
        {
         "source": "B",
         "target": "C",
         "type": "y",
         "value": 2
        },
        {
         "source": "B",
         "target": "D",
         "type": "z",
         "value": 1
        }
       ],
       "margins": {
        "bottom": 0,
        "left": 30,
        "right": 60,
        "top": 10
       },
       "msg_throttle": 1,
       "order": [],
       "png": "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",
       "scale": 31.666666666666668,
       "svg": "<?xml version=\"1.0\" standalone=\"no\"?><!DOCTYPE svg PUBLIC \"-//W3C//DTD SVG 1.1//EN\" \"http://www.w3.org/Graphics/SVG/1.1/DTD/svg11.dtd\"><svg xmlns=\"http://www.w3.org/2000/svg\" width=\"300\" height=\"200\" viewBox=\"0 0 300 200\" style=\"font-family: &quot;Helvetica Neue&quot;,Helvetica,Arial,sans-serif;\"><g class=\"sankey\" transform=\"translate(30,10)\"><g class=\"groups\"/><g class=\"links\"><g class=\"link\" style=\"opacity: 0.8;\"><path d=\"M78.5531192765574,110.83333333333334 A111.04666202766458 111.04666202766458 0.2617589573498933 0 1 107.28977359613057,114.61599466177117 L189.45804542949668,136.62935616534955 A79.37999536099792 79.37999536099792 0.2617589573498933 0 0 210,139.33333333333334 L210,171.00000000000003 A111.04666202766458 111.04666202766458 0.2617589573498933 0 1 181.26334568042682,167.2173386715622 L99.09507384706069,145.20397716798382 A79.37999536099792 79.37999536099792 0.2617589573498933 0 0 78.5531192765574,142.5 Z\" style=\"fill: rgb(255, 127, 14);\"/><title>B → D\n1.00</title></g><g class=\"link\" style=\"opacity: 0.8;\"><path d=\"M78.5531192765574,47.5 A63.54666202766464 63.54666202766464 0.2617589573498931 0 0 94.99772397252575,45.33536491224318 L177.1659958058919,23.322003408664823 A126.87999536099798 126.87999536099798 0.2617589573498931 0 1 210,19.000000000000004 L210,82.33333333333334 A63.54666202766464 63.54666202766464 0.2617589573498931 0 0 193.55539530403166,84.49796842109015 L111.38712347066549,106.51132992466852 A126.87999536099798 126.87999536099798 0.2617589573498931 0 1 78.5531192765574,110.83333333333334 Z\" style=\"fill: rgb(174, 199, 232);\"/><title>B → C\n2.00</title></g><g class=\"link\" style=\"opacity: 0.8;\"><path d=\"M0,47.5 A0 0 0 0 0 0,47.5 L78.5531192765574,47.5 A0 0 0 0 0 78.5531192765574,47.5 L78.5531192765574,142.5 A0 0 0 0 0 78.5531192765574,142.5 L0,142.5 A0 0 0 0 0 0,142.5 Z\" style=\"fill: rgb(31, 119, 180);\"/><title>A → B\n3.00</title></g></g><g class=\"nodes\"><g class=\"node\" transform=\"translate(0,47.5)\"><title>A</title><text dy=\".35em\" text-anchor=\"end\" transform=\"translate(-4, 47.5)\">A</text><line x1=\"0\" x2=\"0\" y1=\"0\" y2=\"95\" style=\"stroke: rgb(0, 0, 0);\"/><rect x=\"-5\" y=\"-5\" width=\"10\" style=\"fill: none; visibility: hidden; pointer-events: all;\" height=\"100\"/></g><g class=\"node\" transform=\"translate(78.5531192765574,47.5)\"><title>B</title><text dy=\".35em\" text-anchor=\"start\" transform=\"translate(-4, -10)\">B</text><line x1=\"0\" x2=\"0\" y1=\"-5\" y2=\"95\" style=\"stroke: rgb(0, 0, 0);\"/><rect x=\"-5\" y=\"-5\" width=\"10\" style=\"fill: none; visibility: hidden; pointer-events: all;\" height=\"100\"/></g><g class=\"node\" transform=\"translate(210,19)\"><title>C</title><text dy=\".35em\" text-anchor=\"start\" transform=\"translate(4, 31.66666603088379)\">C</text><line x1=\"0\" x2=\"0\" y1=\"0\" y2=\"63.333333333333336\" style=\"stroke: rgb(0, 0, 0);\"/><rect x=\"-5\" y=\"-5\" width=\"10\" style=\"fill: none; visibility: hidden; pointer-events: all;\" height=\"68.33333333333334\"/></g><g class=\"node\" transform=\"translate(210,139.33333333333334)\"><title>D</title><text dy=\".35em\" text-anchor=\"start\" transform=\"translate(4, 15.833333015441895)\">D</text><line x1=\"0\" x2=\"0\" y1=\"0\" y2=\"31.666666666666668\" style=\"stroke: rgb(0, 0, 0);\"/><rect x=\"-5\" y=\"-5\" width=\"10\" style=\"fill: none; visibility: hidden; pointer-events: all;\" height=\"36.66666666666667\"/></g></g><g class=\"slice-titles\"/></g></svg>"
      }
     },
     "1662c1a383f549cba1fa17f37db25ddd": {
      "model_module": "jupyter-sankey-widget",
      "model_module_version": "^0.2.1",
      "model_name": "SankeyModel",
      "state": {
       "_dom_classes": [],
       "_model_module_version": "^0.2.1",
       "_view_module_version": "^0.2.1",
       "layout": "IPY_MODEL_1bbb06896ecf404189cbb5cc1bdb648e",
       "links": [
        {
         "source": "A",
         "target": "B",
         "value": 1
        },
        {
         "source": "B",
         "target": "C",
         "value": 1
        },
        {
         "source": "A",
         "target": "D",
         "value": 1
        }
       ],
       "margins": {
        "bottom": 0,
        "left": 30,
        "right": 60,
        "top": 10
       },
       "msg_throttle": 1,
       "order": [
        [
         [],
         [
          "A"
         ],
         []
        ],
        [
         [
          "B"
         ],
         [],
         [
          "D"
         ]
        ],
        [
         [],
         [
          "C"
         ],
         []
        ]
       ],
       "png": "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",
       "scale": 23.75,
       "svg": "<?xml version=\"1.0\" standalone=\"no\"?><!DOCTYPE svg PUBLIC \"-//W3C//DTD SVG 1.1//EN\" \"http://www.w3.org/Graphics/SVG/1.1/DTD/svg11.dtd\"><svg xmlns=\"http://www.w3.org/2000/svg\" width=\"300\" height=\"200\" viewBox=\"0 0 300 200\" style=\"font-family: &quot;Helvetica Neue&quot;,Helvetica,Arial,sans-serif;\"><g class=\"sankey\" transform=\"translate(30,10)\"><g class=\"groups\"/><g class=\"links\"><g class=\"link\" style=\"opacity: 0.8;\"><path d=\"M0,71.25 A24.883881578947367 24.883881578947367 0.6330081239458107 0 0 14.720625899143348,66.42878862151565 L76.22952162926954,21.29773505459275 A48.63388157894737 48.63388157894737 0.6330081239458107 0 1 105,11.875 L105,35.625 A24.883881578947367 24.883881578947367 0.6330081239458107 0 0 90.27937410085666,40.446211378484364 L28.77047837073045,85.57726494540725 A48.63388157894737 48.63388157894737 0.6330081239458107 0 1 0,95 Z\" style=\"fill: rgb(31, 119, 180);\"/><title>A → B\n1.00</title></g><g class=\"link\" style=\"opacity: 0.8;\"><path d=\"M105,11.875 A45.77302631578947 45.77302631578947 0.7343349907016697 0 1 135.6722157881144,23.671782898464762 L195.24250918423098,77.44914937080694 A22.023026315789473 22.023026315789473 0.7343349907016697 0 0 210,83.125 L210,106.875 A45.77302631578947 45.77302631578947 0.7343349907016697 0 1 179.32778421188561,95.07821710153524 L119.75749081576902,41.30085062919307 A22.023026315789473 22.023026315789473 0.7343349907016697 0 0 105,35.625 Z\" style=\"fill: rgb(31, 119, 180);\"/><title>B → C\n1.00</title></g><g class=\"link\" style=\"opacity: 0.8;\"><path d=\"M0,95 A48.63388157894737 48.63388157894737 0.6330081239458107 0 1 28.77047837073045,104.42273505459275 L90.27937410085666,149.55378862151565 A24.883881578947367 24.883881578947367 0.6330081239458107 0 0 105,154.375 L105,178.125 A48.63388157894737 48.63388157894737 0.6330081239458107 0 1 76.22952162926954,168.70226494540725 L14.720625899143348,123.57121137848435 A24.883881578947367 24.883881578947367 0.6330081239458107 0 0 0,118.75 Z\" style=\"fill: rgb(31, 119, 180);\"/><title>A → D\n1.00</title></g></g><g class=\"nodes\"><g class=\"node\" transform=\"translate(0,71.25)\"><title>A</title><text dy=\".35em\" text-anchor=\"end\" transform=\"translate(-4, 23.75)\">A</text><line x1=\"0\" x2=\"0\" y1=\"0\" y2=\"47.5\" style=\"stroke: rgb(0, 0, 0);\"/><rect x=\"-5\" y=\"-5\" width=\"10\" style=\"fill: none; visibility: hidden; pointer-events: all;\" height=\"52.5\"/></g><g class=\"node\" transform=\"translate(105,11.875)\"><title>B</title><text dy=\".35em\" text-anchor=\"start\" transform=\"translate(-4, -10)\">B</text><line x1=\"0\" x2=\"0\" y1=\"-5\" y2=\"23.75\" style=\"stroke: rgb(0, 0, 0);\"/><rect x=\"-5\" y=\"-5\" width=\"10\" style=\"fill: none; visibility: hidden; pointer-events: all;\" height=\"28.75\"/></g><g class=\"node\" transform=\"translate(210,83.125)\"><title>C</title><text dy=\".35em\" text-anchor=\"start\" transform=\"translate(4, 11.875)\">C</text><line x1=\"0\" x2=\"0\" y1=\"0\" y2=\"23.75\" style=\"stroke: rgb(0, 0, 0);\"/><rect x=\"-5\" y=\"-5\" width=\"10\" style=\"fill: none; visibility: hidden; pointer-events: all;\" height=\"28.75\"/></g><g class=\"node\" transform=\"translate(105,154.375)\"><title>D</title><text dy=\".35em\" text-anchor=\"start\" transform=\"translate(4, 11.875)\">D</text><line x1=\"0\" x2=\"0\" y1=\"0\" y2=\"23.75\" style=\"stroke: rgb(0, 0, 0);\"/><rect x=\"-5\" y=\"-5\" width=\"10\" style=\"fill: none; visibility: hidden; pointer-events: all;\" height=\"28.75\"/></g></g><g class=\"slice-titles\"/></g></svg>"
      }
     },
     "1b1a926e1df141288ddd2fb70f9e031e": {
      "model_module": "jupyter-js-widgets",
      "model_module_version": "~2.1.4",
      "model_name": "LayoutModel",
      "state": {
       "_model_module_version": "~2.1.4",
       "_view_module_version": "~2.1.4"
      }
     },
     "1bbb06896ecf404189cbb5cc1bdb648e": {
      "model_module": "jupyter-js-widgets",
      "model_module_version": "~2.1.4",
      "model_name": "LayoutModel",
      "state": {
       "_model_module_version": "~2.1.4",
       "_view_module_version": "~2.1.4",
       "height": "200",
       "width": "300"
      }
     },
     "20811c7ff92045ba9935000fc5269ab7": {
      "model_module": "jupyter-sankey-widget",
      "model_module_version": "^0.2.1",
      "model_name": "SankeyModel",
      "state": {
       "_dom_classes": [],
       "_model_module_version": "^0.2.1",
       "_view_module_version": "^0.2.1",
       "align_link_types": true,
       "layout": "IPY_MODEL_1bbb06896ecf404189cbb5cc1bdb648e",
       "links": [
        {
         "source": "A1",
         "target": "B",
         "type": "x",
         "value": 1.5
        },
        {
         "source": "A1",
         "target": "B",
         "type": "y",
         "value": 0.5
        },
        {
         "source": "A2",
         "target": "B",
         "type": "x",
         "value": 0.5
        },
        {
         "source": "A2",
         "target": "B",
         "type": "y",
         "value": 1.5
        },
        {
         "source": "B",
         "target": "C",
         "type": "x",
         "value": 2
        },
        {
         "source": "B",
         "target": "C",
         "type": "y",
         "value": 2
        }
       ],
       "margins": {
        "bottom": 0,
        "left": 30,
        "right": 60,
        "top": 10
       },
       "msg_throttle": 1,
       "order": [
        [
         "A2",
         "A1"
        ],
        [
         "B"
        ],
        [
         "C"
        ]
       ],
       "png": "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",
       "scale": 23.75,
       "svg": "<?xml version=\"1.0\" standalone=\"no\"?><!DOCTYPE svg PUBLIC \"-//W3C//DTD SVG 1.1//EN\" \"http://www.w3.org/Graphics/SVG/1.1/DTD/svg11.dtd\"><svg xmlns=\"http://www.w3.org/2000/svg\" width=\"300\" height=\"200\" viewBox=\"0 0 300 200\" style=\"font-family: &quot;Helvetica Neue&quot;,Helvetica,Arial,sans-serif;\"><g class=\"sankey\" transform=\"translate(30,10)\"><g class=\"groups\"/><g class=\"links\"><g class=\"link\" style=\"opacity: 0.8;\"><path d=\"M0,159.125 A77.72123766447369 77.72123766447369 0.25306827522518294 0 0 19.459507730729978,156.64948210067485 L117.45533209577687,131.30650567938838 A21.396518640350877 21.396518640350877 0.25306827522518294 0 1 122.8125,130.625 L122.8125,142.5 A9.521518640350877 9.521518640350877 0.25306827522518294 0 0 120.42854329578387,142.80327218828788 L22.43271893073697,168.14624860957434 A89.59623766447369 89.59623766447369 0.25306827522518294 0 1 0,171 Z\" style=\"fill: rgb(174, 199, 232);\"/><title>A1 → B\n500m</title></g><g class=\"link\" style=\"opacity: 0.8;\"><path d=\"M0,19 A89.59623766447369 89.59623766447369 0.27957664378928837 0 1 24.723970238161634,22.478811441372063 L101.36542122772394,44.48226691351374 A77.72123766447369 77.72123766447369 0.27957664378928837 0 0 122.8125,47.5 L122.8125,59.375 A89.59623766447369 89.59623766447369 0.27957664378928837 0 1 98.08852976183837,55.89618855862794 L21.447078772276058,33.89273308648626 A77.72123766447369 77.72123766447369 0.27957664378928837 0 0 0,30.875 Z\" style=\"fill: rgb(31, 119, 180);\"/><title>A2 → B\n500m</title></g><g class=\"link\" style=\"opacity: 0.8;\"><path d=\"M0,123.5 A27.087911184210526 27.087911184210526 0.6680873534090849 0 0 16.780573032680792,117.67631466623001 L65.41930856136892,79.29326420876473 A92.64651864035088 92.64651864035088 0.6680873534090849 0 1 122.8125,59.375 L122.8125,95 A57.02151864035088 57.02151864035088 0.6680873534090849 0 0 87.48848584949124,107.25917271940367 L38.849750320803096,145.64222317686895 A62.712911184210526 62.712911184210526 0.6680873534090849 0 1 0,159.125 Z\" style=\"fill: rgb(31, 119, 180);\"/><title>A1 → B\n1.50</title></g><g class=\"link\" style=\"opacity: 0.8;\"><path d=\"M0,30.875 A62.712911184210526 62.712911184210526 0.5809703016644223 0 1 34.41905941034765,41.16427549852352 L111.06933527760921,91.48948404973275 A21.396518640350877 21.396518640350877 0.5809703016644223 0 0 122.8125,95 L122.8125,130.625 A57.02151864035088 57.02151864035088 0.5809703016644223 0 1 91.51707772267122,121.26950838661621 L14.866801855409667,70.94429983540697 A27.087911184210526 27.087911184210526 0.5809703016644223 0 0 0,66.5 Z\" style=\"fill: rgb(174, 199, 232);\"/><title>A2 → B\n1.50</title></g><g class=\"link\" style=\"opacity: 0.8;\"><path d=\"M122.8125,47.5 A0 0 0 0 0 122.8125,47.5 L210,47.5 A0 0 0 0 0 210,47.5 L210,95 A0 0 0 0 0 210,95 L122.8125,95 A0 0 0 0 0 122.8125,95 Z\" style=\"fill: rgb(31, 119, 180);\"/><title>B → C\n2.00</title></g><g class=\"link\" style=\"opacity: 0.8;\"><path d=\"M122.8125,95 A0 0 0 0 0 122.8125,95 L210,95 A0 0 0 0 0 210,95 L210,142.5 A0 0 0 0 0 210,142.5 L122.8125,142.5 A0 0 0 0 0 122.8125,142.5 Z\" style=\"fill: rgb(174, 199, 232);\"/><title>B → C\n2.00</title></g></g><g class=\"nodes\"><g class=\"node\" transform=\"translate(0,123.5)\"><title>A1</title><text dy=\".35em\" text-anchor=\"end\" transform=\"translate(-4, 23.75)\">A1</text><line x1=\"0\" x2=\"0\" y1=\"0\" y2=\"47.5\" style=\"stroke: rgb(0, 0, 0);\"/><rect x=\"-5\" y=\"-5\" width=\"10\" style=\"fill: none; visibility: hidden; pointer-events: all;\" height=\"52.5\"/></g><g class=\"node\" transform=\"translate(122.8125,47.5)\"><title>B</title><text dy=\".35em\" text-anchor=\"start\" transform=\"translate(-4, -10)\">B</text><line x1=\"0\" x2=\"0\" y1=\"-5\" y2=\"95\" style=\"stroke: rgb(0, 0, 0);\"/><rect x=\"-5\" y=\"-5\" width=\"10\" style=\"fill: none; visibility: hidden; pointer-events: all;\" height=\"100\"/></g><g class=\"node\" transform=\"translate(0,19)\"><title>A2</title><text dy=\".35em\" text-anchor=\"end\" transform=\"translate(-4, 23.75)\">A2</text><line x1=\"0\" x2=\"0\" y1=\"0\" y2=\"47.5\" style=\"stroke: rgb(0, 0, 0);\"/><rect x=\"-5\" y=\"-5\" width=\"10\" style=\"fill: none; visibility: hidden; pointer-events: all;\" height=\"52.5\"/></g><g class=\"node\" transform=\"translate(210,47.5)\"><title>C</title><text dy=\".35em\" text-anchor=\"start\" transform=\"translate(4, 47.5)\">C</text><line x1=\"0\" x2=\"0\" y1=\"0\" y2=\"95\" style=\"stroke: rgb(0, 0, 0);\"/><rect x=\"-5\" y=\"-5\" width=\"10\" style=\"fill: none; visibility: hidden; pointer-events: all;\" height=\"100\"/></g></g><g class=\"slice-titles\"/></g></svg>"
      }
     },
     "380a2791c25f4838b45a55dd0ac13800": {
      "model_module": "jupyter-js-widgets",
      "model_module_version": "~2.1.4",
      "model_name": "VBoxModel",
      "state": {
       "_model_module_version": "~2.1.4",
       "_view_module_version": "~2.1.4",
       "children": [
        "IPY_MODEL_c561f2b3bc2b4162b998120a77c55c44",
        "IPY_MODEL_6b61a74f08c846d78a4efd0f284d6292"
       ],
       "layout": "IPY_MODEL_1b1a926e1df141288ddd2fb70f9e031e"
      }
     },
     "539d12ac93504bd3b31ad56c85c3d8d6": {
      "model_module": "jupyter-sankey-widget",
      "model_module_version": "^0.2.1",
      "model_name": "SankeyModel",
      "state": {
       "_dom_classes": [],
       "_model_module_version": "^0.2.1",
       "_view_module_version": "^0.2.1",
       "layout": "IPY_MODEL_1bbb06896ecf404189cbb5cc1bdb648e",
       "links": [
        {
         "source": "A",
         "target": "B",
         "value": 1
        },
        {
         "source": "B",
         "target": "C",
         "value": 1
        },
        {
         "source": "C",
         "target": "D",
         "value": 1
        },
        {
         "source": "A",
         "target": "E",
         "value": 0.5
        }
       ],
       "margins": {
        "bottom": 0,
        "left": 30,
        "right": 60,
        "top": 10
       },
       "msg_throttle": 1,
       "nodes": [
        {
         "backwards": true,
         "id": "C"
        },
        {
         "backwards": true,
         "id": "D"
        }
       ],
       "order": [],
       "png": "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",
       "scale": 38,
       "svg": "<?xml version=\"1.0\" standalone=\"no\"?><!DOCTYPE svg PUBLIC \"-//W3C//DTD SVG 1.1//EN\" \"http://www.w3.org/Graphics/SVG/1.1/DTD/svg11.dtd\"><svg xmlns=\"http://www.w3.org/2000/svg\" width=\"300\" height=\"200\" viewBox=\"0 0 300 200\" style=\"font-family: &quot;Helvetica Neue&quot;,Helvetica,Arial,sans-serif;\"><g class=\"sankey\" transform=\"translate(30,10)\"><g class=\"groups\"/><g class=\"links\"><g class=\"link\" style=\"opacity: 0.8;\"><path d=\"M0,57 A245.88026315789475 245.88026315789475 0.16530423219410584 0 1 40.4601932192753,60.35175643084115 L172.66630282922037,82.40724513100885 A226.88026315789475 226.88026315789475 0.16530423219410584 0 0 210,85.5 L210,104.5 A245.88026315789475 245.88026315789475 0.16530423219410584 0 1 169.53980678072472,101.14824356915885 L37.333697170779644,79.09275486899115 A226.88026315789475 226.88026315789475 0.16530423219410584 0 0 0,76 Z\" style=\"fill: rgb(31, 119, 180);\"/><title>A → E\n500m</title></g><g class=\"link\" style=\"opacity: 0.8;\"><path d=\"M0,19 A0 0 0 0 0 0,19 L210,19 A0 0 0 0 0 210,19 L210,57 A0 0 0 0 0 210,57 L0,57 A0 0 0 0 0 0,57 Z\" style=\"fill: rgb(31, 119, 180);\"/><title>A → B\n1.00</title></g><g class=\"link\" style=\"opacity: 0.8;\"><path d=\"M210,19 A43 43 1.5707963267948966 0 1 253,62 L253,128 A43 43 1.5707963267948966 0 1 210,171 L210,133 A5 5 1.5707963267948966 0 0 215,128 L215,62 A5 5 1.5707963267948966 0 0 210,57 Z\" style=\"fill: rgb(31, 119, 180);\"/><title>B → C\n1.00</title></g><g class=\"link\" style=\"opacity: 0.8;\"><path d=\"M0,133 A0 0 0 0 0 0,133 L210,133 A0 0 0 0 0 210,133 L210,171 A0 0 0 0 0 210,171 L0,171 A0 0 0 0 0 0,171 Z\" style=\"fill: rgb(31, 119, 180);\"/><title>C → D\n1.00</title></g></g><g class=\"nodes\"><g class=\"node\" transform=\"translate(210,133)\"><title>C</title><text dy=\".35em\" text-anchor=\"start\" transform=\"translate(-4, -10)\">C</text><line x1=\"0\" x2=\"0\" y1=\"-5\" y2=\"38\" style=\"stroke: rgb(0, 0, 0);\"/><rect x=\"-5\" y=\"-5\" width=\"10\" style=\"fill: none; visibility: hidden; pointer-events: all;\" height=\"43\"/></g><g class=\"node\" transform=\"translate(0,133)\"><title>D</title><text dy=\".35em\" text-anchor=\"start\" transform=\"translate(4, 19)\">D</text><line x1=\"0\" x2=\"0\" y1=\"0\" y2=\"38\" style=\"stroke: rgb(0, 0, 0);\"/><rect x=\"-5\" y=\"-5\" width=\"10\" style=\"fill: none; visibility: hidden; pointer-events: all;\" height=\"43\"/></g><g class=\"node\" transform=\"translate(0,19)\"><title>A</title><text dy=\".35em\" text-anchor=\"end\" transform=\"translate(-4, 28.5)\">A</text><line x1=\"0\" x2=\"0\" y1=\"0\" y2=\"57\" style=\"stroke: rgb(0, 0, 0);\"/><rect x=\"-5\" y=\"-5\" width=\"10\" style=\"fill: none; visibility: hidden; pointer-events: all;\" height=\"62\"/></g><g class=\"node\" transform=\"translate(210,19)\"><title>B</title><text dy=\".35em\" text-anchor=\"start\" transform=\"translate(-4, -10)\">B</text><line x1=\"0\" x2=\"0\" y1=\"-5\" y2=\"38\" style=\"stroke: rgb(0, 0, 0);\"/><rect x=\"-5\" y=\"-5\" width=\"10\" style=\"fill: none; visibility: hidden; pointer-events: all;\" height=\"43\"/></g><g class=\"node\" transform=\"translate(210,85.5)\"><title>E</title><text dy=\".35em\" text-anchor=\"start\" transform=\"translate(4, 9.5)\">E</text><line x1=\"0\" x2=\"0\" y1=\"0\" y2=\"19\" style=\"stroke: rgb(0, 0, 0);\"/><rect x=\"-5\" y=\"-5\" width=\"10\" style=\"fill: none; visibility: hidden; pointer-events: all;\" height=\"24\"/></g></g><g class=\"slice-titles\"/></g></svg>"
      }
     },
     "6b61a74f08c846d78a4efd0f284d6292": {
      "model_module": "jupyter-sankey-widget",
      "model_module_version": "^0.2.1",
      "model_name": "SankeyModel",
      "state": {
       "_dom_classes": [],
       "_model_module_version": "^0.2.1",
       "_view_module_version": "^0.2.1",
       "layout": "IPY_MODEL_1bbb06896ecf404189cbb5cc1bdb648e",
       "links": [
        {
         "source": "A",
         "target": "B",
         "value": 1
        },
        {
         "source": "B",
         "target": "C",
         "value": 1
        },
        {
         "source": "A",
         "target": "D",
         "value": 1
        }
       ],
       "margins": {
        "bottom": 0,
        "left": 30,
        "right": 60,
        "top": 10
       },
       "msg_throttle": 1,
       "order": [
        [
         "A"
        ],
        [
         "D",
         "B"
        ],
        [
         "C"
        ]
       ],
       "png": "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",
       "scale": 47.5,
       "svg": "<?xml version=\"1.0\" standalone=\"no\"?><!DOCTYPE svg PUBLIC \"-//W3C//DTD SVG 1.1//EN\" \"http://www.w3.org/Graphics/SVG/1.1/DTD/svg11.dtd\"><svg xmlns=\"http://www.w3.org/2000/svg\" width=\"300\" height=\"200\" viewBox=\"0 0 300 200\" style=\"font-family: &quot;Helvetica Neue&quot;,Helvetica,Arial,sans-serif;\"><g class=\"sankey\" transform=\"translate(30,10)\"><g class=\"groups\"/><g class=\"links\"><g class=\"link\" style=\"opacity: 0.8;\"><path d=\"M0,95 A84.00969923423352 84.00969923423352 0.33065803274531924 0 1 27.275049749441177,99.55089716302253 L91.28284370943088,121.52222971654 A36.50969923423352 36.50969923423352 0.33065803274531924 0 0 103.13628291975802,123.5 L103.13628291975802,171 A84.00969923423352 84.00969923423352 0.33065803274531924 0 1 75.86123317031685,166.44910283697746 L11.853439210327142,144.47777028346 A36.50969923423352 36.50969923423352 0.33065803274531924 0 0 0,142.5 Z\" style=\"fill: rgb(31, 119, 180);\"/><title>A → B\n1.00</title></g><g class=\"link\" style=\"opacity: 0.8;\"><path d=\"M103.13628291975802,123.5 A16.8717699374335 16.8717699374335 0.5588572848257416 0 0 112.08199363430236,120.93315511072288 L175.86894948313412,81.0434211579677 A64.3717699374335 64.3717699374335 0.5588572848257416 0 1 210,71.25 L210,118.75 A16.8717699374335 16.8717699374335 0.5588572848257416 0 0 201.05428928545567,121.31684488927714 L137.26733343662391,161.20657884203231 A64.3717699374335 64.3717699374335 0.5588572848257416 0 1 103.13628291975802,171 Z\" style=\"fill: rgb(31, 119, 180);\"/><title>B → C\n1.00</title></g><g class=\"link\" style=\"opacity: 0.8;\"><path d=\"M0,47.5 A36.50969923423352 36.50969923423352 0.33065803274531924 0 0 11.853439210327142,45.52222971654 L75.86123317031685,23.55089716302253 A84.00969923423352 84.00969923423352 0.33065803274531924 0 1 103.13628291975802,19 L103.13628291975802,66.5 A36.50969923423352 36.50969923423352 0.33065803274531924 0 0 91.28284370943088,68.47777028346 L27.275049749441177,90.44910283697747 A84.00969923423352 84.00969923423352 0.33065803274531924 0 1 0,95 Z\" style=\"fill: rgb(31, 119, 180);\"/><title>A → D\n1.00</title></g></g><g class=\"nodes\"><g class=\"node\" transform=\"translate(0,47.5)\"><title>A</title><text dy=\".35em\" text-anchor=\"end\" transform=\"translate(-4, 47.5)\">A</text><line x1=\"0\" x2=\"0\" y1=\"0\" y2=\"95\" style=\"stroke: rgb(0, 0, 0);\"/><rect x=\"-5\" y=\"-5\" width=\"10\" style=\"fill: none; visibility: hidden; pointer-events: all;\" height=\"100\"/></g><g class=\"node\" transform=\"translate(103.13628291975802,123.5)\"><title>B</title><text dy=\".35em\" text-anchor=\"start\" transform=\"translate(-4, -10)\">B</text><line x1=\"0\" x2=\"0\" y1=\"-5\" y2=\"47.5\" style=\"stroke: rgb(0, 0, 0);\"/><rect x=\"-5\" y=\"-5\" width=\"10\" style=\"fill: none; visibility: hidden; pointer-events: all;\" height=\"52.5\"/></g><g class=\"node\" transform=\"translate(210,71.25)\"><title>C</title><text dy=\".35em\" text-anchor=\"start\" transform=\"translate(4, 23.75)\">C</text><line x1=\"0\" x2=\"0\" y1=\"0\" y2=\"47.5\" style=\"stroke: rgb(0, 0, 0);\"/><rect x=\"-5\" y=\"-5\" width=\"10\" style=\"fill: none; visibility: hidden; pointer-events: all;\" height=\"52.5\"/></g><g class=\"node\" transform=\"translate(103.13628291975802,19)\"><title>D</title><text dy=\".35em\" text-anchor=\"start\" transform=\"translate(4, 23.75)\">D</text><line x1=\"0\" x2=\"0\" y1=\"0\" y2=\"47.5\" style=\"stroke: rgb(0, 0, 0);\"/><rect x=\"-5\" y=\"-5\" width=\"10\" style=\"fill: none; visibility: hidden; pointer-events: all;\" height=\"52.5\"/></g></g><g class=\"slice-titles\"/></g></svg>"
      }
     },
     "6bb49b7a79534bdea3b976a058f8c209": {
      "model_module": "jupyter-sankey-widget",
      "model_module_version": "^0.2.1",
      "model_name": "SankeyModel",
      "state": {
       "_dom_classes": [],
       "_model_module_version": "^0.2.1",
       "_view_module_version": "^0.2.1",
       "layout": "IPY_MODEL_1bbb06896ecf404189cbb5cc1bdb648e",
       "links": [
        {
         "source": "A",
         "target": "B",
         "value": 1
        },
        {
         "source": "B",
         "target": "C",
         "value": 1
        },
        {
         "source": "C",
         "target": "D",
         "value": 1
        },
        {
         "source": "A",
         "target": "E",
         "value": 0.5
        }
       ],
       "margins": {
        "bottom": 0,
        "left": 30,
        "right": 60,
        "top": 10
       },
       "msg_throttle": 1,
       "nodes": [
        {
         "backwards": false,
         "id": "C"
        },
        {
         "backwards": true,
         "id": "D"
        }
       ],
       "order": [],
       "png": "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",
       "scale": 47.5,
       "svg": "<?xml version=\"1.0\" standalone=\"no\"?><!DOCTYPE svg PUBLIC \"-//W3C//DTD SVG 1.1//EN\" \"http://www.w3.org/Graphics/SVG/1.1/DTD/svg11.dtd\"><svg xmlns=\"http://www.w3.org/2000/svg\" width=\"300\" height=\"200\" viewBox=\"0 0 300 200\" style=\"font-family: &quot;Helvetica Neue&quot;,Helvetica,Arial,sans-serif;\"><g class=\"sankey\" transform=\"translate(30,10)\"><g class=\"groups\"/><g class=\"links\"><g class=\"link\" style=\"opacity: 0.8;\"><path d=\"M0,106.875 A79.25920976017211 79.25920976017211 0.37353610808934956 0 1 28.922476215236784,112.34049253854121 L108.22542810074206,143.42224076946334 A55.50920976017211 55.50920976017211 0.37353610808934956 0 0 128.48129242077616,147.25 L128.48129242077616,171 A79.25920976017211 79.25920976017211 0.37353610808934956 0 1 99.55881620553937,165.5345074614588 L20.255864320034085,134.45275923053666 A55.50920976017211 55.50920976017211 0.37353610808934956 0 0 0,130.625 Z\" style=\"fill: rgb(31, 119, 180);\"/><title>A → E\n500m</title></g><g class=\"link\" style=\"opacity: 0.8;\"><path d=\"M0,59.375 A43.63420976017211 43.63420976017211 0.37353610808934956 0 0 15.922558372432734,56.36610742346562 L95.22551025793801,25.28435919254349 A91.13420976017211 91.13420976017211 0.37353610808934956 0 1 128.48129242077616,19 L128.48129242077616,66.5 A43.63420976017211 43.63420976017211 0.37353610808934956 0 0 112.55873404834342,69.50889257653438 L33.25578216283814,100.59064080745651 A91.13420976017211 91.13420976017211 0.37353610808934956 0 1 0,106.875 Z\" style=\"fill: rgb(31, 119, 180);\"/><title>A → B\n1.00</title></g><g class=\"link\" style=\"opacity: 0.8;\"><path d=\"M128.48129242077616,19 A0 0 0 0 0 128.48129242077616,19 L210,19 A0 0 0 0 0 210,19 L210,66.5 A0 0 0 0 0 210,66.5 L128.48129242077616,66.5 A0 0 0 0 0 128.48129242077616,66.5 Z\" style=\"fill: rgb(31, 119, 180);\"/><title>B → C\n1.00</title></g><g class=\"link\" style=\"opacity: 0.8;\"><path d=\"M210,19 A52.5 52.5 1.5707963267948966 0 1 262.5,71.5 L262.5,118.5 A52.5 52.5 1.5707963267948966 0 1 210,171 L210,123.5 A5 5 1.5707963267948966 0 0 215,118.5 L215,71.5 A5 5 1.5707963267948966 0 0 210,66.5 Z\" style=\"fill: rgb(31, 119, 180);\"/><title>C → D\n1.00</title></g></g><g class=\"nodes\"><g class=\"node\" transform=\"translate(210,19)\"><title>C</title><text dy=\".35em\" text-anchor=\"start\" transform=\"translate(-4, -10)\">C</text><line x1=\"0\" x2=\"0\" y1=\"-5\" y2=\"47.5\" style=\"stroke: rgb(0, 0, 0);\"/><rect x=\"-5\" y=\"-5\" width=\"10\" style=\"fill: none; visibility: hidden; pointer-events: all;\" height=\"52.5\"/></g><g class=\"node\" transform=\"translate(210,123.5)\"><title>D</title><text dy=\".35em\" text-anchor=\"start\" transform=\"translate(4, 23.75)\">D</text><line x1=\"0\" x2=\"0\" y1=\"0\" y2=\"47.5\" style=\"stroke: rgb(0, 0, 0);\"/><rect x=\"-5\" y=\"-5\" width=\"10\" style=\"fill: none; visibility: hidden; pointer-events: all;\" height=\"52.5\"/></g><g class=\"node\" transform=\"translate(0,59.375)\"><title>A</title><text dy=\".35em\" text-anchor=\"end\" transform=\"translate(-4, 35.625)\">A</text><line x1=\"0\" x2=\"0\" y1=\"0\" y2=\"71.25\" style=\"stroke: rgb(0, 0, 0);\"/><rect x=\"-5\" y=\"-5\" width=\"10\" style=\"fill: none; visibility: hidden; pointer-events: all;\" height=\"76.25\"/></g><g class=\"node\" transform=\"translate(128.48129242077616,19)\"><title>B</title><text dy=\".35em\" text-anchor=\"start\" transform=\"translate(-4, -10)\">B</text><line x1=\"0\" x2=\"0\" y1=\"-5\" y2=\"47.5\" style=\"stroke: rgb(0, 0, 0);\"/><rect x=\"-5\" y=\"-5\" width=\"10\" style=\"fill: none; visibility: hidden; pointer-events: all;\" height=\"52.5\"/></g><g class=\"node\" transform=\"translate(128.48129242077616,147.25)\"><title>E</title><text dy=\".35em\" text-anchor=\"start\" transform=\"translate(4, 11.875)\">E</text><line x1=\"0\" x2=\"0\" y1=\"0\" y2=\"23.75\" style=\"stroke: rgb(0, 0, 0);\"/><rect x=\"-5\" y=\"-5\" width=\"10\" style=\"fill: none; visibility: hidden; pointer-events: all;\" height=\"28.75\"/></g></g><g class=\"slice-titles\"/></g></svg>"
      }
     },
     "6e5f35460fc0499cb2438592d16ac40d": {
      "model_module": "jupyter-js-widgets",
      "model_module_version": "~2.1.4",
      "model_name": "ButtonStyleModel",
      "state": {
       "_model_module_version": "~2.1.4",
       "_view_module_version": "~2.1.4"
      }
     },
     "7e24ad5da5f4489d9a4e88265fb05008": {
      "model_module": "jupyter-sankey-widget",
      "model_module_version": "^0.2.1",
      "model_name": "SankeyModel",
      "state": {
       "_dom_classes": [],
       "_model_module_version": "^0.2.1",
       "_view_module_version": "^0.2.1",
       "layout": "IPY_MODEL_1bbb06896ecf404189cbb5cc1bdb648e",
       "links": [
        {
         "source": "A",
         "target": "B",
         "value": 1
        },
        {
         "source": "B",
         "target": "C",
         "value": 1
        },
        {
         "source": "A",
         "target": "D",
         "value": 1
        }
       ],
       "margins": {
        "bottom": 0,
        "left": 30,
        "right": 60,
        "top": 10
       },
       "msg_throttle": 1,
       "order": [
        [
         "A"
        ],
        [
         "D",
         "B"
        ],
        [
         "C"
        ]
       ],
       "png": "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",
       "scale": 47.5,
       "svg": "<?xml version=\"1.0\" standalone=\"no\"?><!DOCTYPE svg PUBLIC \"-//W3C//DTD SVG 1.1//EN\" \"http://www.w3.org/Graphics/SVG/1.1/DTD/svg11.dtd\"><svg xmlns=\"http://www.w3.org/2000/svg\" width=\"300\" height=\"200\" viewBox=\"0 0 300 200\" style=\"font-family: &quot;Helvetica Neue&quot;,Helvetica,Arial,sans-serif;\"><g class=\"sankey\" transform=\"translate(30,10)\"><g class=\"groups\"/><g class=\"links\"><g class=\"link\" style=\"opacity: 0.8;\"><path d=\"M0,95 A84.00969923423352 84.00969923423352 0.33065803274531924 0 1 27.275049749441177,99.55089716302253 L91.28284370943088,121.52222971654 A36.50969923423352 36.50969923423352 0.33065803274531924 0 0 103.13628291975802,123.5 L103.13628291975802,171 A84.00969923423352 84.00969923423352 0.33065803274531924 0 1 75.86123317031685,166.44910283697746 L11.853439210327142,144.47777028346 A36.50969923423352 36.50969923423352 0.33065803274531924 0 0 0,142.5 Z\" style=\"fill: rgb(31, 119, 180);\"/><title>A → B\n1.00</title></g><g class=\"link\" style=\"opacity: 0.8;\"><path d=\"M103.13628291975802,123.5 A16.8717699374335 16.8717699374335 0.5588572848257416 0 0 112.08199363430236,120.93315511072288 L175.86894948313412,81.0434211579677 A64.3717699374335 64.3717699374335 0.5588572848257416 0 1 210,71.25 L210,118.75 A16.8717699374335 16.8717699374335 0.5588572848257416 0 0 201.05428928545567,121.31684488927714 L137.26733343662391,161.20657884203231 A64.3717699374335 64.3717699374335 0.5588572848257416 0 1 103.13628291975802,171 Z\" style=\"fill: rgb(31, 119, 180);\"/><title>B → C\n1.00</title></g><g class=\"link\" style=\"opacity: 0.8;\"><path d=\"M0,47.5 A36.50969923423352 36.50969923423352 0.33065803274531924 0 0 11.853439210327142,45.52222971654 L75.86123317031685,23.55089716302253 A84.00969923423352 84.00969923423352 0.33065803274531924 0 1 103.13628291975802,19 L103.13628291975802,66.5 A36.50969923423352 36.50969923423352 0.33065803274531924 0 0 91.28284370943088,68.47777028346 L27.275049749441177,90.44910283697747 A84.00969923423352 84.00969923423352 0.33065803274531924 0 1 0,95 Z\" style=\"fill: rgb(31, 119, 180);\"/><title>A → D\n1.00</title></g></g><g class=\"nodes\"><g class=\"node\" transform=\"translate(0,47.5)\"><title>A</title><text dy=\".35em\" text-anchor=\"end\" transform=\"translate(-4, 47.5)\">A</text><line x1=\"0\" x2=\"0\" y1=\"0\" y2=\"95\" style=\"stroke: rgb(0, 0, 0);\"/><rect x=\"-5\" y=\"-5\" width=\"10\" style=\"fill: none; visibility: hidden; pointer-events: all;\" height=\"100\"/></g><g class=\"node\" transform=\"translate(103.13628291975802,123.5)\"><title>B</title><text dy=\".35em\" text-anchor=\"start\" transform=\"translate(-4, -10)\">B</text><line x1=\"0\" x2=\"0\" y1=\"-5\" y2=\"47.5\" style=\"stroke: rgb(0, 0, 0);\"/><rect x=\"-5\" y=\"-5\" width=\"10\" style=\"fill: none; visibility: hidden; pointer-events: all;\" height=\"52.5\"/></g><g class=\"node\" transform=\"translate(210,71.25)\"><title>C</title><text dy=\".35em\" text-anchor=\"start\" transform=\"translate(4, 23.75)\">C</text><line x1=\"0\" x2=\"0\" y1=\"0\" y2=\"47.5\" style=\"stroke: rgb(0, 0, 0);\"/><rect x=\"-5\" y=\"-5\" width=\"10\" style=\"fill: none; visibility: hidden; pointer-events: all;\" height=\"52.5\"/></g><g class=\"node\" transform=\"translate(103.13628291975802,19)\"><title>D</title><text dy=\".35em\" text-anchor=\"start\" transform=\"translate(4, 23.75)\">D</text><line x1=\"0\" x2=\"0\" y1=\"0\" y2=\"47.5\" style=\"stroke: rgb(0, 0, 0);\"/><rect x=\"-5\" y=\"-5\" width=\"10\" style=\"fill: none; visibility: hidden; pointer-events: all;\" height=\"52.5\"/></g></g><g class=\"slice-titles\"/></g></svg>"
      }
     },
     "808563afecdf4578bf39de08adf249c8": {
      "model_module": "jupyter-js-widgets",
      "model_module_version": "~2.1.4",
      "model_name": "LayoutModel",
      "state": {
       "_model_module_version": "~2.1.4",
       "_view_module_version": "~2.1.4"
      }
     },
     "94284d1aacf24e8c82ffc36e7ed7dde5": {
      "model_module": "jupyter-sankey-widget",
      "model_module_version": "^0.2.1",
      "model_name": "SankeyModel",
      "state": {
       "_dom_classes": [],
       "_model_module_version": "^0.2.1",
       "_view_module_version": "^0.2.1",
       "layout": "IPY_MODEL_1bbb06896ecf404189cbb5cc1bdb648e",
       "links": [
        {
         "source": "A",
         "target": "B",
         "value": 1
        },
        {
         "source": "B",
         "target": "C",
         "value": 1
        },
        {
         "source": "A",
         "target": "D",
         "value": 1
        }
       ],
       "margins": {
        "bottom": 0,
        "left": 30,
        "right": 60,
        "top": 10
       },
       "msg_throttle": 1,
       "order": [],
       "png": "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",
       "rank_sets": [
        {
         "nodes": [
          "C",
          "D"
         ],
         "type": "same"
        }
       ],
       "scale": 47.5,
       "svg": "<?xml version=\"1.0\" standalone=\"no\"?><!DOCTYPE svg PUBLIC \"-//W3C//DTD SVG 1.1//EN\" \"http://www.w3.org/Graphics/SVG/1.1/DTD/svg11.dtd\"><svg xmlns=\"http://www.w3.org/2000/svg\" width=\"300\" height=\"200\" viewBox=\"0 0 300 200\" style=\"font-family: &quot;Helvetica Neue&quot;,Helvetica,Arial,sans-serif;\"><g class=\"sankey\" transform=\"translate(30,10)\"><g class=\"groups\"/><g class=\"links\"><g class=\"link\" style=\"opacity: 0.8;\"><path d=\"M0,47.5 A41.65014127778379 41.65014127778379 0.3170595794814113 0 0 12.9854333731973,45.42400165127536 L79.97253363867428,23.44357546945384 A89.15014127778379 89.15014127778379 0.3170595794814113 0 1 107.76723455104023,19 L107.76723455104023,66.5 A41.65014127778379 41.65014127778379 0.3170595794814113 0 0 94.78180117784292,68.57599834872462 L27.79470091236595,90.55642453054615 A89.15014127778379 89.15014127778379 0.3170595794814113 0 1 0,95 Z\" style=\"fill: rgb(31, 119, 180);\"/><title>A → B\n1.00</title></g><g class=\"link\" style=\"opacity: 0.8;\"><path d=\"M107.76723455104023,19 A0 0 0 0 0 107.76723455104023,19 L210,19 A0 0 0 0 0 210,19 L210,66.5 A0 0 0 0 0 210,66.5 L107.76723455104023,66.5 A0 0 0 0 0 107.76723455104023,66.5 Z\" style=\"fill: rgb(31, 119, 180);\"/><title>B → C\n1.00</title></g><g class=\"link\" style=\"opacity: 0.8;\"><path d=\"M0,95 A89.15014127778379 89.15014127778379 0.2988356646966688 0 1 26.24648578357839,98.95114085018942 L104.18358318207966,122.96051782194795 A12.172411517013408 12.172411517013408 0.2988356646966688 0 0 107.76723455104023,123.5 L107.76723455104023,171 A59.67241151701341 59.67241151701341 0.2988356646966688 0 1 90.1992186387264,168.3553143113982 L12.262121240225131,144.34593733963965 A41.65014127778379 41.65014127778379 0.2988356646966688 0 0 0,142.5 ZM107.76723455104023,123.5 A0 0 0 0 0 107.76723455104023,123.5 L210,123.5 A0 0 0 0 0 210,123.5 L210,171 A0 0 0 0 0 210,171 L107.76723455104023,171 A0 0 0 0 0 107.76723455104023,171 Z\" style=\"fill: rgb(31, 119, 180);\"/><title>A → D\n1.00</title></g></g><g class=\"nodes\"><g class=\"node\" transform=\"translate(0,47.5)\"><title>A</title><text dy=\".35em\" text-anchor=\"end\" transform=\"translate(-4, 47.5)\">A</text><line x1=\"0\" x2=\"0\" y1=\"0\" y2=\"95\" style=\"stroke: rgb(0, 0, 0);\"/><rect x=\"-5\" y=\"-5\" width=\"10\" style=\"fill: none; visibility: hidden; pointer-events: all;\" height=\"100\"/></g><g class=\"node\" transform=\"translate(107.76723455104023,19)\"><title>B</title><text dy=\".35em\" text-anchor=\"start\" transform=\"translate(-4, -10)\">B</text><line x1=\"0\" x2=\"0\" y1=\"-5\" y2=\"47.5\" style=\"stroke: rgb(0, 0, 0);\"/><rect x=\"-5\" y=\"-5\" width=\"10\" style=\"fill: none; visibility: hidden; pointer-events: all;\" height=\"52.5\"/></g><g class=\"node\" transform=\"translate(210,19)\"><title>C</title><text dy=\".35em\" text-anchor=\"start\" transform=\"translate(4, 23.75)\">C</text><line x1=\"0\" x2=\"0\" y1=\"0\" y2=\"47.5\" style=\"stroke: rgb(0, 0, 0);\"/><rect x=\"-5\" y=\"-5\" width=\"10\" style=\"fill: none; visibility: hidden; pointer-events: all;\" height=\"52.5\"/></g><g class=\"node\" transform=\"translate(210,123.5)\"><title>D</title><text dy=\".35em\" text-anchor=\"start\" transform=\"translate(4, 23.75)\">D</text><line x1=\"0\" x2=\"0\" y1=\"0\" y2=\"47.5\" style=\"stroke: rgb(0, 0, 0);\"/><rect x=\"-5\" y=\"-5\" width=\"10\" style=\"fill: none; visibility: hidden; pointer-events: all;\" height=\"52.5\"/></g></g><g class=\"slice-titles\"/></g></svg>"
      }
     },
     "9daa65e6b27e4e09b698255f836c8937": {
      "model_module": "jupyter-sankey-widget",
      "model_module_version": "^0.2.1",
      "model_name": "SankeyModel",
      "state": {
       "_dom_classes": [],
       "_model_module_version": "^0.2.1",
       "_view_module_version": "^0.2.1",
       "layout": "IPY_MODEL_1bbb06896ecf404189cbb5cc1bdb648e",
       "links": [
        {
         "source": "A",
         "target": "B",
         "type": "x",
         "value": 3
        },
        {
         "source": "B",
         "target": "C",
         "type": "y",
         "value": 2
        },
        {
         "source": "B",
         "target": "D",
         "type": "z",
         "value": 1
        }
       ],
       "margins": {
        "bottom": 0,
        "left": 30,
        "right": 60,
        "top": 10
       },
       "msg_throttle": 1,
       "order": [],
       "png": "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",
       "scale": 31.666666666666668,
       "svg": "<?xml version=\"1.0\" standalone=\"no\"?><!DOCTYPE svg PUBLIC \"-//W3C//DTD SVG 1.1//EN\" \"http://www.w3.org/Graphics/SVG/1.1/DTD/svg11.dtd\"><svg xmlns=\"http://www.w3.org/2000/svg\" width=\"300\" height=\"200\" viewBox=\"0 0 300 200\" style=\"font-family: &quot;Helvetica Neue&quot;,Helvetica,Arial,sans-serif;\"><g class=\"sankey\" transform=\"translate(30,10)\"><g class=\"groups\"/><g class=\"links\"><g class=\"link\" style=\"opacity: 0.8;\"><path d=\"M78.5531192765574,110.83333333333334 A111.04666202766458 111.04666202766458 0.2617589573498933 0 1 107.28977359613057,114.61599466177117 L189.45804542949668,136.62935616534955 A79.37999536099792 79.37999536099792 0.2617589573498933 0 0 210,139.33333333333334 L210,171.00000000000003 A111.04666202766458 111.04666202766458 0.2617589573498933 0 1 181.26334568042682,167.2173386715622 L99.09507384706069,145.20397716798382 A79.37999536099792 79.37999536099792 0.2617589573498933 0 0 78.5531192765574,142.5 Z\" style=\"fill: rgb(255, 127, 14);\"/><title>B → D\n1.00</title></g><g class=\"link\" style=\"opacity: 0.8;\"><path d=\"M78.5531192765574,47.5 A63.54666202766464 63.54666202766464 0.2617589573498931 0 0 94.99772397252575,45.33536491224318 L177.1659958058919,23.322003408664823 A126.87999536099798 126.87999536099798 0.2617589573498931 0 1 210,19.000000000000004 L210,82.33333333333334 A63.54666202766464 63.54666202766464 0.2617589573498931 0 0 193.55539530403166,84.49796842109015 L111.38712347066549,106.51132992466852 A126.87999536099798 126.87999536099798 0.2617589573498931 0 1 78.5531192765574,110.83333333333334 Z\" style=\"fill: rgb(174, 199, 232);\"/><title>B → C\n2.00</title></g><g class=\"link\" style=\"opacity: 0.8;\"><path d=\"M0,47.5 A0 0 0 0 0 0,47.5 L78.5531192765574,47.5 A0 0 0 0 0 78.5531192765574,47.5 L78.5531192765574,142.5 A0 0 0 0 0 78.5531192765574,142.5 L0,142.5 A0 0 0 0 0 0,142.5 Z\" style=\"fill: rgb(31, 119, 180);\"/><title>A → B\n3.00</title></g></g><g class=\"nodes\"><g class=\"node\" transform=\"translate(0,47.5)\"><title>A</title><text dy=\".35em\" text-anchor=\"end\" transform=\"translate(-4, 47.5)\">A</text><line x1=\"0\" x2=\"0\" y1=\"0\" y2=\"95\" style=\"stroke: rgb(0, 0, 0);\"/><rect x=\"-5\" y=\"-5\" width=\"10\" style=\"fill: none; visibility: hidden; pointer-events: all;\" height=\"100\"/></g><g class=\"node\" transform=\"translate(78.5531192765574,47.5)\"><title>B</title><text dy=\".35em\" text-anchor=\"start\" transform=\"translate(-4, -10)\">B</text><line x1=\"0\" x2=\"0\" y1=\"-5\" y2=\"95\" style=\"stroke: rgb(0, 0, 0);\"/><rect x=\"-5\" y=\"-5\" width=\"10\" style=\"fill: none; visibility: hidden; pointer-events: all;\" height=\"100\"/></g><g class=\"node\" transform=\"translate(210,19)\"><title>C</title><text dy=\".35em\" text-anchor=\"start\" transform=\"translate(4, 31.66666603088379)\">C</text><line x1=\"0\" x2=\"0\" y1=\"0\" y2=\"63.333333333333336\" style=\"stroke: rgb(0, 0, 0);\"/><rect x=\"-5\" y=\"-5\" width=\"10\" style=\"fill: none; visibility: hidden; pointer-events: all;\" height=\"68.33333333333334\"/></g><g class=\"node\" transform=\"translate(210,139.33333333333334)\"><title>D</title><text dy=\".35em\" text-anchor=\"start\" transform=\"translate(4, 15.833333015441895)\">D</text><line x1=\"0\" x2=\"0\" y1=\"0\" y2=\"31.666666666666668\" style=\"stroke: rgb(0, 0, 0);\"/><rect x=\"-5\" y=\"-5\" width=\"10\" style=\"fill: none; visibility: hidden; pointer-events: all;\" height=\"36.66666666666667\"/></g></g><g class=\"slice-titles\"/></g></svg>"
      }
     },
     "ae31b780fed94c9f85049c86568b3147": {
      "model_module": "jupyter-sankey-widget",
      "model_module_version": "^0.2.1",
      "model_name": "SankeyModel",
      "state": {
       "_dom_classes": [],
       "_model_module_version": "^0.2.1",
       "_view_module_version": "^0.2.1",
       "layout": "IPY_MODEL_1bbb06896ecf404189cbb5cc1bdb648e",
       "links": [
        {
         "color": "steelblue",
         "source": "A",
         "target": "B",
         "value": 3
        },
        {
         "color": "#aaa",
         "source": "B",
         "target": "C",
         "value": 2
        },
        {
         "color": "goldenrod",
         "source": "B",
         "target": "D",
         "value": 1
        }
       ],
       "margins": {
        "bottom": 0,
        "left": 30,
        "right": 60,
        "top": 10
       },
       "msg_throttle": 1,
       "order": [],
       "png": "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",
       "scale": 31.666666666666668,
       "svg": "<?xml version=\"1.0\" standalone=\"no\"?><!DOCTYPE svg PUBLIC \"-//W3C//DTD SVG 1.1//EN\" \"http://www.w3.org/Graphics/SVG/1.1/DTD/svg11.dtd\"><svg xmlns=\"http://www.w3.org/2000/svg\" width=\"300\" height=\"200\" viewBox=\"0 0 300 200\" style=\"font-family: &quot;Helvetica Neue&quot;,Helvetica,Arial,sans-serif;\"><g class=\"sankey\" transform=\"translate(30,10)\"><g class=\"groups\"/><g class=\"links\"><g class=\"link\" style=\"opacity: 0.8;\"><path d=\"M78.5531192765574,110.83333333333334 A111.04666202766458 111.04666202766458 0.2617589573498933 0 1 107.28977359613057,114.61599466177117 L189.45804542949668,136.62935616534955 A79.37999536099792 79.37999536099792 0.2617589573498933 0 0 210,139.33333333333334 L210,171.00000000000003 A111.04666202766458 111.04666202766458 0.2617589573498933 0 1 181.26334568042682,167.2173386715622 L99.09507384706069,145.20397716798382 A79.37999536099792 79.37999536099792 0.2617589573498933 0 0 78.5531192765574,142.5 Z\" style=\"fill: rgb(218, 165, 32);\"/><title>B → D\n1.00</title></g><g class=\"link\" style=\"opacity: 0.8;\"><path d=\"M78.5531192765574,47.5 A63.54666202766464 63.54666202766464 0.2617589573498931 0 0 94.99772397252575,45.33536491224318 L177.1659958058919,23.322003408664823 A126.87999536099798 126.87999536099798 0.2617589573498931 0 1 210,19.000000000000004 L210,82.33333333333334 A63.54666202766464 63.54666202766464 0.2617589573498931 0 0 193.55539530403166,84.49796842109015 L111.38712347066549,106.51132992466852 A126.87999536099798 126.87999536099798 0.2617589573498931 0 1 78.5531192765574,110.83333333333334 Z\" style=\"fill: rgb(170, 170, 170);\"/><title>B → C\n2.00</title></g><g class=\"link\" style=\"opacity: 0.8;\"><path d=\"M0,47.5 A0 0 0 0 0 0,47.5 L78.5531192765574,47.5 A0 0 0 0 0 78.5531192765574,47.5 L78.5531192765574,142.5 A0 0 0 0 0 78.5531192765574,142.5 L0,142.5 A0 0 0 0 0 0,142.5 Z\" style=\"fill: rgb(70, 130, 180);\"/><title>A → B\n3.00</title></g></g><g class=\"nodes\"><g class=\"node\" transform=\"translate(0,47.5)\"><title>A</title><text dy=\".35em\" text-anchor=\"end\" transform=\"translate(-4, 47.5)\">A</text><line x1=\"0\" x2=\"0\" y1=\"0\" y2=\"95\" style=\"stroke: rgb(0, 0, 0);\"/><rect x=\"-5\" y=\"-5\" width=\"10\" style=\"fill: none; visibility: hidden; pointer-events: all;\" height=\"100\"/></g><g class=\"node\" transform=\"translate(78.5531192765574,47.5)\"><title>B</title><text dy=\".35em\" text-anchor=\"start\" transform=\"translate(-4, -10)\">B</text><line x1=\"0\" x2=\"0\" y1=\"-5\" y2=\"95\" style=\"stroke: rgb(0, 0, 0);\"/><rect x=\"-5\" y=\"-5\" width=\"10\" style=\"fill: none; visibility: hidden; pointer-events: all;\" height=\"100\"/></g><g class=\"node\" transform=\"translate(210,19)\"><title>C</title><text dy=\".35em\" text-anchor=\"start\" transform=\"translate(4, 31.66666603088379)\">C</text><line x1=\"0\" x2=\"0\" y1=\"0\" y2=\"63.333333333333336\" style=\"stroke: rgb(0, 0, 0);\"/><rect x=\"-5\" y=\"-5\" width=\"10\" style=\"fill: none; visibility: hidden; pointer-events: all;\" height=\"68.33333333333334\"/></g><g class=\"node\" transform=\"translate(210,139.33333333333334)\"><title>D</title><text dy=\".35em\" text-anchor=\"start\" transform=\"translate(4, 15.833333015441895)\">D</text><line x1=\"0\" x2=\"0\" y1=\"0\" y2=\"31.666666666666668\" style=\"stroke: rgb(0, 0, 0);\"/><rect x=\"-5\" y=\"-5\" width=\"10\" style=\"fill: none; visibility: hidden; pointer-events: all;\" height=\"36.66666666666667\"/></g></g><g class=\"slice-titles\"/></g></svg>"
      }
     },
     "b3b71b7a0baa4857a423891faec5f4d4": {
      "model_module": "jupyter-sankey-widget",
      "model_module_version": "^0.2.1",
      "model_name": "SankeyModel",
      "state": {
       "_dom_classes": [],
       "_model_module_version": "^0.2.1",
       "_view_module_version": "^0.2.1",
       "layout": "IPY_MODEL_1bbb06896ecf404189cbb5cc1bdb648e",
       "links": [
        {
         "source": "A",
         "target": "B",
         "value": 1
        },
        {
         "source": "B",
         "target": "C",
         "value": 1
        },
        {
         "source": "A",
         "target": "D",
         "value": 1
        }
       ],
       "margins": {
        "bottom": 0,
        "left": 30,
        "right": 60,
        "top": 10
       },
       "msg_throttle": 1,
       "order": [],
       "png": "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",
       "scale": 47.5,
       "svg": "<?xml version=\"1.0\" standalone=\"no\"?><!DOCTYPE svg PUBLIC \"-//W3C//DTD SVG 1.1//EN\" \"http://www.w3.org/Graphics/SVG/1.1/DTD/svg11.dtd\"><svg xmlns=\"http://www.w3.org/2000/svg\" width=\"300\" height=\"200\" viewBox=\"0 0 300 200\" style=\"font-family: &quot;Helvetica Neue&quot;,Helvetica,Arial,sans-serif;\"><g class=\"sankey\" transform=\"translate(30,10)\"><g class=\"groups\"/><g class=\"links\"><g class=\"link\" style=\"opacity: 0.8;\"><path d=\"M0,47.5 A36.50969923423352 36.50969923423352 0.33065803274531924 0 0 11.853439210327142,45.52222971654 L75.86123317031685,23.55089716302253 A84.00969923423352 84.00969923423352 0.33065803274531924 0 1 103.13628291975802,19 L103.13628291975802,66.5 A36.50969923423352 36.50969923423352 0.33065803274531924 0 0 91.28284370943088,68.47777028346 L27.275049749441177,90.44910283697747 A84.00969923423352 84.00969923423352 0.33065803274531924 0 1 0,95 Z\" style=\"fill: rgb(31, 119, 180);\"/><title>A → B\n1.00</title></g><g class=\"link\" style=\"opacity: 0.8;\"><path d=\"M103.13628291975802,19 A64.3717699374335 64.3717699374335 0.5588572848257416 0 1 137.26733343662391,28.7934211579677 L201.05428928545567,68.68315511072286 A16.8717699374335 16.8717699374335 0.5588572848257416 0 0 210,71.25 L210,118.75 A64.3717699374335 64.3717699374335 0.5588572848257416 0 1 175.86894948313412,108.9565788420323 L112.08199363430236,69.06684488927714 A16.8717699374335 16.8717699374335 0.5588572848257416 0 0 103.13628291975802,66.5 Z\" style=\"fill: rgb(31, 119, 180);\"/><title>B → C\n1.00</title></g><g class=\"link\" style=\"opacity: 0.8;\"><path d=\"M0,95 A84.00969923423352 84.00969923423352 0.33065803274531924 0 1 27.275049749441177,99.55089716302253 L91.28284370943088,121.52222971654 A36.50969923423352 36.50969923423352 0.33065803274531924 0 0 103.13628291975802,123.5 L103.13628291975802,171 A84.00969923423352 84.00969923423352 0.33065803274531924 0 1 75.86123317031685,166.44910283697746 L11.853439210327142,144.47777028346 A36.50969923423352 36.50969923423352 0.33065803274531924 0 0 0,142.5 Z\" style=\"fill: rgb(31, 119, 180);\"/><title>A → D\n1.00</title></g></g><g class=\"nodes\"><g class=\"node\" transform=\"translate(0,47.5)\"><title>A</title><text dy=\".35em\" text-anchor=\"end\" transform=\"translate(-4, 47.5)\">A</text><line x1=\"0\" x2=\"0\" y1=\"0\" y2=\"95\" style=\"stroke: rgb(0, 0, 0);\"/><rect x=\"-5\" y=\"-5\" width=\"10\" style=\"fill: none; visibility: hidden; pointer-events: all;\" height=\"100\"/></g><g class=\"node\" transform=\"translate(103.13628291975802,19)\"><title>B</title><text dy=\".35em\" text-anchor=\"start\" transform=\"translate(-4, -10)\">B</text><line x1=\"0\" x2=\"0\" y1=\"-5\" y2=\"47.5\" style=\"stroke: rgb(0, 0, 0);\"/><rect x=\"-5\" y=\"-5\" width=\"10\" style=\"fill: none; visibility: hidden; pointer-events: all;\" height=\"52.5\"/></g><g class=\"node\" transform=\"translate(210,71.25)\"><title>C</title><text dy=\".35em\" text-anchor=\"start\" transform=\"translate(4, 23.75)\">C</text><line x1=\"0\" x2=\"0\" y1=\"0\" y2=\"47.5\" style=\"stroke: rgb(0, 0, 0);\"/><rect x=\"-5\" y=\"-5\" width=\"10\" style=\"fill: none; visibility: hidden; pointer-events: all;\" height=\"52.5\"/></g><g class=\"node\" transform=\"translate(103.13628291975802,123.5)\"><title>D</title><text dy=\".35em\" text-anchor=\"start\" transform=\"translate(4, 23.75)\">D</text><line x1=\"0\" x2=\"0\" y1=\"0\" y2=\"47.5\" style=\"stroke: rgb(0, 0, 0);\"/><rect x=\"-5\" y=\"-5\" width=\"10\" style=\"fill: none; visibility: hidden; pointer-events: all;\" height=\"52.5\"/></g></g><g class=\"slice-titles\"/></g></svg>"
      }
     },
     "bfb2bf38a8e047c3bdfb693aa7fd003c": {
      "model_module": "jupyter-sankey-widget",
      "model_module_version": "^0.2.1",
      "model_name": "SankeyModel",
      "state": {
       "_dom_classes": [],
       "_model_module_version": "^0.2.1",
       "_view_module_version": "^0.2.1",
       "align_link_types": true,
       "layout": "IPY_MODEL_1bbb06896ecf404189cbb5cc1bdb648e",
       "links": [
        {
         "source": "A1",
         "target": "B",
         "type": "x",
         "value": 1.5
        },
        {
         "source": "A1",
         "target": "B",
         "type": "y",
         "value": 0.5
        },
        {
         "source": "A2",
         "target": "B",
         "type": "x",
         "value": 0.5
        },
        {
         "source": "A2",
         "target": "B",
         "type": "y",
         "value": 1.5
        },
        {
         "source": "B",
         "target": "C",
         "type": "x",
         "value": 2
        },
        {
         "source": "B",
         "target": "C",
         "type": "y",
         "value": 2
        }
       ],
       "margins": {
        "bottom": 0,
        "left": 30,
        "right": 60,
        "top": 10
       },
       "msg_throttle": 1,
       "order": [],
       "png": "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",
       "scale": 23.75,
       "svg": "<?xml version=\"1.0\" standalone=\"no\"?><!DOCTYPE svg PUBLIC \"-//W3C//DTD SVG 1.1//EN\" \"http://www.w3.org/Graphics/SVG/1.1/DTD/svg11.dtd\"><svg xmlns=\"http://www.w3.org/2000/svg\" width=\"300\" height=\"200\" viewBox=\"0 0 300 200\" style=\"font-family: &quot;Helvetica Neue&quot;,Helvetica,Arial,sans-serif;\"><g class=\"sankey\" transform=\"translate(30,10)\"><g class=\"groups\"/><g class=\"links\"><g class=\"link\" style=\"opacity: 0.8;\"><path d=\"M0,54.625 A68.02932952786378 68.02932952786378 0.4222262936585297 0 1 27.877891672365436,60.59941165736349 L87.70400733431308,87.47602400068646 A85.67388254643963 85.67388254643963 0.4222262936585297 0 0 122.8125,95 L122.8125,106.875 A97.54888254643963 97.54888254643963 0.4222262936585297 0 1 82.83772442506074,98.30814824513263 L23.011608763113088,71.43153590180965 A56.15432952786377 56.15432952786377 0.4222262936585297 0 0 0,66.5 Z\" style=\"fill: rgb(174, 199, 232);\"/><title>A1 → B\n500m</title></g><g class=\"link\" style=\"opacity: 0.8;\"><path d=\"M0,123.5 A56.15432952786377 56.15432952786377 0.4398219248664481 0 0 23.90929746513654,118.155651966401 L76.22218043621989,93.53914466939108 A109.42388254643963 109.42388254643963 0.4398219248664481 0 1 122.8125,83.125 L122.8125,95 A97.54888254643963 97.54888254643963 0.4398219248664481 0 0 81.2782982776343,104.28397120934653 L28.965415306550952,128.90047850635645 A68.02932952786378 68.02932952786378 0.4398219248664481 0 1 0,135.375 Z\" style=\"fill: rgb(31, 119, 180);\"/><title>A2 → B\n500m</title></g><g class=\"link\" style=\"opacity: 0.8;\"><path d=\"M0,19 A103.65432952786378 103.65432952786378 0.2806490100616008 0 1 28.710106222545637,23.055384600916284 L104.57445354007046,44.92382378556606 A65.84623766447369 65.84623766447369 0.2806490100616008 0 0 122.8125,47.5 L122.8125,83.125 A101.47123766447369 101.47123766447369 0.2806490100616008 0 1 94.70706508811733,79.15502695078159 L18.842717770592497,57.28658776613182 A68.02932952786378 68.02932952786378 0.2806490100616008 0 0 0,54.625 Z\" style=\"fill: rgb(31, 119, 180);\"/><title>A1 → B\n1.50</title></g><g class=\"link\" style=\"opacity: 0.8;\"><path d=\"M0,135.375 A68.02932952786378 68.02932952786378 0.2732821079435599 0 0 18.360653064553617,132.85044964933653 L99.68970215610526,110.05433502691255 A85.67388254643963 85.67388254643963 0.2732821079435599 0 1 122.8125,106.875 L122.8125,142.5 A50.04888254643963 50.04888254643963 0.2732821079435599 0 0 109.30464720942692,144.35730073866415 L27.975598117875272,167.15341536108812 A103.65432952786378 103.65432952786378 0.2732821079435599 0 1 0,171 Z\" style=\"fill: rgb(174, 199, 232);\"/><title>A2 → B\n1.50</title></g><g class=\"link\" style=\"opacity: 0.8;\"><path d=\"M122.8125,47.5 A0 0 0 0 0 122.8125,47.5 L210,47.5 A0 0 0 0 0 210,47.5 L210,95 A0 0 0 0 0 210,95 L122.8125,95 A0 0 0 0 0 122.8125,95 Z\" style=\"fill: rgb(31, 119, 180);\"/><title>B → C\n2.00</title></g><g class=\"link\" style=\"opacity: 0.8;\"><path d=\"M122.8125,95 A0 0 0 0 0 122.8125,95 L210,95 A0 0 0 0 0 210,95 L210,142.5 A0 0 0 0 0 210,142.5 L122.8125,142.5 A0 0 0 0 0 122.8125,142.5 Z\" style=\"fill: rgb(174, 199, 232);\"/><title>B → C\n2.00</title></g></g><g class=\"nodes\"><g class=\"node\" transform=\"translate(0,19)\"><title>A1</title><text dy=\".35em\" text-anchor=\"end\" transform=\"translate(-4, 23.75)\">A1</text><line x1=\"0\" x2=\"0\" y1=\"0\" y2=\"47.5\" style=\"stroke: rgb(0, 0, 0);\"/><rect x=\"-5\" y=\"-5\" width=\"10\" style=\"fill: none; visibility: hidden; pointer-events: all;\" height=\"52.5\"/></g><g class=\"node\" transform=\"translate(122.8125,47.5)\"><title>B</title><text dy=\".35em\" text-anchor=\"start\" transform=\"translate(-4, -10)\">B</text><line x1=\"0\" x2=\"0\" y1=\"-5\" y2=\"95\" style=\"stroke: rgb(0, 0, 0);\"/><rect x=\"-5\" y=\"-5\" width=\"10\" style=\"fill: none; visibility: hidden; pointer-events: all;\" height=\"100\"/></g><g class=\"node\" transform=\"translate(0,123.5)\"><title>A2</title><text dy=\".35em\" text-anchor=\"end\" transform=\"translate(-4, 23.75)\">A2</text><line x1=\"0\" x2=\"0\" y1=\"0\" y2=\"47.5\" style=\"stroke: rgb(0, 0, 0);\"/><rect x=\"-5\" y=\"-5\" width=\"10\" style=\"fill: none; visibility: hidden; pointer-events: all;\" height=\"52.5\"/></g><g class=\"node\" transform=\"translate(210,47.5)\"><title>C</title><text dy=\".35em\" text-anchor=\"start\" transform=\"translate(4, 47.5)\">C</text><line x1=\"0\" x2=\"0\" y1=\"0\" y2=\"95\" style=\"stroke: rgb(0, 0, 0);\"/><rect x=\"-5\" y=\"-5\" width=\"10\" style=\"fill: none; visibility: hidden; pointer-events: all;\" height=\"100\"/></g></g><g class=\"slice-titles\"/></g></svg>"
      }
     },
     "c561f2b3bc2b4162b998120a77c55c44": {
      "model_module": "jupyter-js-widgets",
      "model_module_version": "~2.1.4",
      "model_name": "ButtonModel",
      "state": {
       "_model_module_version": "~2.1.4",
       "_view_module_version": "~2.1.4",
       "description": "Swap",
       "layout": "IPY_MODEL_808563afecdf4578bf39de08adf249c8",
       "style": "IPY_MODEL_6e5f35460fc0499cb2438592d16ac40d"
      }
     },
     "f3a92bcd26a64cab9bd42ff43da1b0a3": {
      "model_module": "jupyter-sankey-widget",
      "model_module_version": "^0.2.1",
      "model_name": "SankeyModel",
      "state": {
       "_dom_classes": [],
       "_model_module_version": "^0.2.1",
       "_view_module_version": "^0.2.1",
       "layout": "IPY_MODEL_1bbb06896ecf404189cbb5cc1bdb648e",
       "links": [
        {
         "source": "A1",
         "target": "B",
         "type": "x",
         "value": 1.5
        },
        {
         "source": "A1",
         "target": "B",
         "type": "y",
         "value": 0.5
        },
        {
         "source": "A2",
         "target": "B",
         "type": "x",
         "value": 0.5
        },
        {
         "source": "A2",
         "target": "B",
         "type": "y",
         "value": 1.5
        },
        {
         "source": "B",
         "target": "C",
         "type": "x",
         "value": 2
        },
        {
         "source": "B",
         "target": "C",
         "type": "y",
         "value": 2
        }
       ],
       "margins": {
        "bottom": 0,
        "left": 30,
        "right": 60,
        "top": 10
       },
       "msg_throttle": 1,
       "order": [],
       "png": "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",
       "scale": 23.75,
       "svg": "<?xml version=\"1.0\" standalone=\"no\"?><!DOCTYPE svg PUBLIC \"-//W3C//DTD SVG 1.1//EN\" \"http://www.w3.org/Graphics/SVG/1.1/DTD/svg11.dtd\"><svg xmlns=\"http://www.w3.org/2000/svg\" width=\"300\" height=\"200\" viewBox=\"0 0 300 200\" style=\"font-family: &quot;Helvetica Neue&quot;,Helvetica,Arial,sans-serif;\"><g class=\"sankey\" transform=\"translate(30,10)\"><g class=\"groups\"/><g class=\"links\"><g class=\"link\" style=\"opacity: 0.8;\"><path d=\"M0,54.625 A89.59623766447369 89.59623766447369 0.2923908868640279 0 1 25.825439800354374,58.42769208704038 L93.56418100713228,78.81830272579194 A101.47123766447369 101.47123766447369 0.2923908868640279 0 0 122.8125,83.125 L122.8125,95 A113.34623766447369 113.34623766447369 0.2923908868640279 0 1 90.14130181461891,90.18929753862423 L22.402560607841018,69.79868689987268 A77.72123766447369 77.72123766447369 0.2923908868640279 0 0 0,66.5 Z\" style=\"fill: rgb(174, 199, 232);\"/><title>A1 → B\n500m</title></g><g class=\"link\" style=\"opacity: 0.8;\"><path d=\"M0,123.5 A77.72123766447369 77.72123766447369 0.2923908868640279 0 0 22.402560607841018,120.20131310012732 L90.14130181461891,99.81070246137577 A113.34623766447369 113.34623766447369 0.2923908868640279 0 1 122.8125,95 L122.8125,106.875 A101.47123766447369 101.47123766447369 0.2923908868640279 0 0 93.56418100713228,111.18169727420806 L25.825439800354374,131.57230791295962 A89.59623766447369 89.59623766447369 0.2923908868640279 0 1 0,135.375 Z\" style=\"fill: rgb(31, 119, 180);\"/><title>A2 → B\n500m</title></g><g class=\"link\" style=\"opacity: 0.8;\"><path d=\"M0,19 A125.22123766447369 125.22123766447369 0.2923908868640279 0 1 36.09407737789443,24.314707648543468 L103.83281858467234,44.705318287295015 A65.84623766447369 65.84623766447369 0.2923908868640279 0 0 122.8125,47.5 L122.8125,83.125 A101.47123766447369 101.47123766447369 0.2923908868640279 0 1 93.56418100713228,78.81830272579192 L25.825439800354374,58.42769208704038 A89.59623766447369 89.59623766447369 0.2923908868640279 0 0 0,54.625 Z\" style=\"fill: rgb(31, 119, 180);\"/><title>A1 → B\n1.50</title></g><g class=\"link\" style=\"opacity: 0.8;\"><path d=\"M0,135.375 A89.59623766447369 89.59623766447369 0.2923908868640279 0 0 25.825439800354374,131.57230791295962 L93.56418100713228,111.18169727420808 A101.47123766447369 101.47123766447369 0.2923908868640279 0 1 122.8125,106.875 L122.8125,142.5 A65.84623766447369 65.84623766447369 0.2923908868640279 0 0 103.83281858467234,145.29468171270497 L36.09407737789443,165.68529235145655 A125.22123766447369 125.22123766447369 0.2923908868640279 0 1 0,171 Z\" style=\"fill: rgb(174, 199, 232);\"/><title>A2 → B\n1.50</title></g><g class=\"link\" style=\"opacity: 0.8;\"><path d=\"M122.8125,47.5 A0 0 0 0 0 122.8125,47.5 L210,47.5 A0 0 0 0 0 210,47.5 L210,95 A0 0 0 0 0 210,95 L122.8125,95 A0 0 0 0 0 122.8125,95 Z\" style=\"fill: rgb(31, 119, 180);\"/><title>B → C\n2.00</title></g><g class=\"link\" style=\"opacity: 0.8;\"><path d=\"M122.8125,95 A0 0 0 0 0 122.8125,95 L210,95 A0 0 0 0 0 210,95 L210,142.5 A0 0 0 0 0 210,142.5 L122.8125,142.5 A0 0 0 0 0 122.8125,142.5 Z\" style=\"fill: rgb(174, 199, 232);\"/><title>B → C\n2.00</title></g></g><g class=\"nodes\"><g class=\"node\" transform=\"translate(0,19)\"><title>A1</title><text dy=\".35em\" text-anchor=\"end\" transform=\"translate(-4, 23.75)\">A1</text><line x1=\"0\" x2=\"0\" y1=\"0\" y2=\"47.5\" style=\"stroke: rgb(0, 0, 0);\"/><rect x=\"-5\" y=\"-5\" width=\"10\" style=\"fill: none; visibility: hidden; pointer-events: all;\" height=\"52.5\"/></g><g class=\"node\" transform=\"translate(122.8125,47.5)\"><title>B</title><text dy=\".35em\" text-anchor=\"start\" transform=\"translate(-4, -10)\">B</text><line x1=\"0\" x2=\"0\" y1=\"-5\" y2=\"95\" style=\"stroke: rgb(0, 0, 0);\"/><rect x=\"-5\" y=\"-5\" width=\"10\" style=\"fill: none; visibility: hidden; pointer-events: all;\" height=\"100\"/></g><g class=\"node\" transform=\"translate(0,123.5)\"><title>A2</title><text dy=\".35em\" text-anchor=\"end\" transform=\"translate(-4, 23.75)\">A2</text><line x1=\"0\" x2=\"0\" y1=\"0\" y2=\"47.5\" style=\"stroke: rgb(0, 0, 0);\"/><rect x=\"-5\" y=\"-5\" width=\"10\" style=\"fill: none; visibility: hidden; pointer-events: all;\" height=\"52.5\"/></g><g class=\"node\" transform=\"translate(210,47.5)\"><title>C</title><text dy=\".35em\" text-anchor=\"start\" transform=\"translate(4, 47.5)\">C</text><line x1=\"0\" x2=\"0\" y1=\"0\" y2=\"95\" style=\"stroke: rgb(0, 0, 0);\"/><rect x=\"-5\" y=\"-5\" width=\"10\" style=\"fill: none; visibility: hidden; pointer-events: all;\" height=\"100\"/></g></g><g class=\"slice-titles\"/></g></svg>"
      }
     },
     "f81671b0aae74116a3bb87f041dd4528": {
      "model_module": "jupyter-sankey-widget",
      "model_module_version": "^0.2.1",
      "model_name": "SankeyModel",
      "state": {
       "_dom_classes": [],
       "_model_module_version": "^0.2.1",
       "_view_module_version": "^0.2.1",
       "layout": "IPY_MODEL_1bbb06896ecf404189cbb5cc1bdb648e",
       "links": [
        {
         "color": "steelblue",
         "source": "A",
         "target": "B",
         "value": 3
        },
        {
         "color": "#aaa",
         "source": "B",
         "target": "C",
         "value": 2
        },
        {
         "color": "goldenrod",
         "source": "B",
         "target": "D",
         "value": 1
        }
       ],
       "margins": {
        "bottom": 0,
        "left": 30,
        "right": 60,
        "top": 10
       },
       "msg_throttle": 1,
       "nodes": [
        {
         "id": "B",
         "style": "process",
         "title": "Middle node"
        }
       ],
       "order": [],
       "png": "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",
       "scale": 31.666666666666668,
       "svg": "<?xml version=\"1.0\" standalone=\"no\"?><!DOCTYPE svg PUBLIC \"-//W3C//DTD SVG 1.1//EN\" \"http://www.w3.org/Graphics/SVG/1.1/DTD/svg11.dtd\"><svg xmlns=\"http://www.w3.org/2000/svg\" width=\"300\" height=\"200\" viewBox=\"0 0 300 200\" style=\"font-family: &quot;Helvetica Neue&quot;,Helvetica,Arial,sans-serif;\"><g class=\"sankey\" transform=\"translate(30,10)\"><g class=\"groups\"/><g class=\"links\"><g class=\"link\" style=\"opacity: 0.8;\"><path d=\"M78.5531192765574,110.83333333333334 A111.04666202766458 111.04666202766458 0.2617589573498933 0 1 107.28977359613057,114.61599466177117 L189.45804542949668,136.62935616534955 A79.37999536099792 79.37999536099792 0.2617589573498933 0 0 210,139.33333333333334 L210,171.00000000000003 A111.04666202766458 111.04666202766458 0.2617589573498933 0 1 181.26334568042682,167.2173386715622 L99.09507384706069,145.20397716798382 A79.37999536099792 79.37999536099792 0.2617589573498933 0 0 78.5531192765574,142.5 Z\" style=\"fill: rgb(218, 165, 32);\"/><title>Middle node → D\n1.00</title></g><g class=\"link\" style=\"opacity: 0.8;\"><path d=\"M78.5531192765574,47.5 A63.54666202766464 63.54666202766464 0.2617589573498931 0 0 94.99772397252575,45.33536491224318 L177.1659958058919,23.322003408664823 A126.87999536099798 126.87999536099798 0.2617589573498931 0 1 210,19.000000000000004 L210,82.33333333333334 A63.54666202766464 63.54666202766464 0.2617589573498931 0 0 193.55539530403166,84.49796842109015 L111.38712347066549,106.51132992466852 A126.87999536099798 126.87999536099798 0.2617589573498931 0 1 78.5531192765574,110.83333333333334 Z\" style=\"fill: rgb(170, 170, 170);\"/><title>Middle node → C\n2.00</title></g><g class=\"link\" style=\"opacity: 0.8;\"><path d=\"M0,47.5 A0 0 0 0 0 0,47.5 L78.5531192765574,47.5 A0 0 0 0 0 78.5531192765574,47.5 L78.5531192765574,142.5 A0 0 0 0 0 78.5531192765574,142.5 L0,142.5 A0 0 0 0 0 0,142.5 Z\" style=\"fill: rgb(70, 130, 180);\"/><title>A → Middle node\n3.00</title></g></g><g class=\"nodes\"><g class=\"node\" transform=\"translate(78.5531192765574,47.5)\"><title>Middle node</title><text dy=\".35em\" text-anchor=\"start\" transform=\"translate(-4, -10)\">Middle node</text><line x1=\"0\" x2=\"0\" y1=\"-5\" y2=\"95\" style=\"stroke: rgb(136, 136, 136); stroke-width: 4px;\"/><rect x=\"-5\" y=\"-5\" width=\"10\" style=\"fill: none; visibility: hidden; pointer-events: all;\" height=\"100\"/></g><g class=\"node\" transform=\"translate(0,47.5)\"><title>A</title><text dy=\".35em\" text-anchor=\"end\" transform=\"translate(-4, 47.5)\">A</text><line x1=\"0\" x2=\"0\" y1=\"0\" y2=\"95\" style=\"stroke: rgb(0, 0, 0);\"/><rect x=\"-5\" y=\"-5\" width=\"10\" style=\"fill: none; visibility: hidden; pointer-events: all;\" height=\"100\"/></g><g class=\"node\" transform=\"translate(210,19)\"><title>C</title><text dy=\".35em\" text-anchor=\"start\" transform=\"translate(4, 31.66666603088379)\">C</text><line x1=\"0\" x2=\"0\" y1=\"0\" y2=\"63.333333333333336\" style=\"stroke: rgb(0, 0, 0);\"/><rect x=\"-5\" y=\"-5\" width=\"10\" style=\"fill: none; visibility: hidden; pointer-events: all;\" height=\"68.33333333333334\"/></g><g class=\"node\" transform=\"translate(210,139.33333333333334)\"><title>D</title><text dy=\".35em\" text-anchor=\"start\" transform=\"translate(4, 15.833333015441895)\">D</text><line x1=\"0\" x2=\"0\" y1=\"0\" y2=\"31.666666666666668\" style=\"stroke: rgb(0, 0, 0);\"/><rect x=\"-5\" y=\"-5\" width=\"10\" style=\"fill: none; visibility: hidden; pointer-events: all;\" height=\"36.66666666666667\"/></g></g><g class=\"slice-titles\"/></g></svg>"
      }
     }
    },
    "version_major": 1,
    "version_minor": 0
   }
  }
 },
 "nbformat": 4,
 "nbformat_minor": 1
}
