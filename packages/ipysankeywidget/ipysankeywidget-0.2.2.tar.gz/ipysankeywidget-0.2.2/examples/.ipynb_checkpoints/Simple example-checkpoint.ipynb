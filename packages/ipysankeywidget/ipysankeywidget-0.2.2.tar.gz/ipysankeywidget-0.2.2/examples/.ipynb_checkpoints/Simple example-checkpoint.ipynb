{
 "cells": [
  {
   "cell_type": "markdown",
   "metadata": {},
   "source": [
    "# Simple example\n",
    "\n",
    "> <i class=\"fa fa-2x fa-paper-plane text-info fa-fw\"> </i> Simple example\n",
    ">\n",
    "> [<i class=\"fa fa-2x fa-space-shuttle text-info fa-fw\"> </i> Advanced examples](./More examples.ipynb)\n",
    ">\n",
    "> [<i class=\"fa fa-2x fa-link text-info fa-fw\"> </i> Linking and Layout](./Linking and Layout.ipynb)\n",
    ">\n",
    "> [<i class=\"fa fa-2x fa-image text-info fa-fw\"> </i> Exporting Images](./Exporting Images.ipynb)"
   ]
  },
  {
   "cell_type": "markdown",
   "metadata": {},
   "source": [
    "> <i class=\"fa fa-info-circle fa-2x text-primary\"></i> Execute each of these cells in order, such as with <label class=\"label label-default\">Shift+Enter</label>"
   ]
  },
  {
   "cell_type": "markdown",
   "metadata": {},
   "source": [
    "First, load `SankeyWidget`:"
   ]
  },
  {
   "cell_type": "code",
   "execution_count": 1,
   "metadata": {
    "collapsed": true
   },
   "outputs": [],
   "source": [
    "from ipysankeywidget import SankeyWidget"
   ]
  },
  {
   "cell_type": "markdown",
   "metadata": {},
   "source": [
    "Then, create an instance of `SankeyWidget`:"
   ]
  },
  {
   "cell_type": "code",
   "execution_count": 2,
   "metadata": {
    "collapsed": true
   },
   "outputs": [],
   "source": [
    "links = [\n",
    "    {'source': 'start', 'target': 'A', 'value': 2},\n",
    "    {'source': 'A', 'target': 'B', 'value': 2},\n",
    "    {'source': 'C', 'target': 'A', 'value': 2},\n",
    "    {'source': 'A', 'target': 'C', 'value': 2},\n",
    "]"
   ]
  },
  {
   "cell_type": "code",
   "execution_count": 3,
   "metadata": {
    "collapsed": true
   },
   "outputs": [],
   "source": [
    "w = SankeyWidget(links=links, margins=dict(top=0, bottom=0, left=50, right=100))"
   ]
  },
  {
   "cell_type": "markdown",
   "metadata": {},
   "source": [
    "Display the widget:"
   ]
  },
  {
   "cell_type": "code",
   "execution_count": 4,
   "metadata": {},
   "outputs": [
    {
     "data": {
      "application/vnd.jupyter.widget-view+json": {
       "model_id": "e6ba4bfe403041a4887dae06a001a7a1"
      }
     },
     "metadata": {},
     "output_type": "display_data"
    }
   ],
   "source": [
    "w"
   ]
  },
  {
   "cell_type": "markdown",
   "metadata": {},
   "source": [
    "> <i class=\"fa fa-image fa-2x\"></i> You should see a simple Sankey diagram with 4 nodes and 4 flows"
   ]
  },
  {
   "cell_type": "markdown",
   "metadata": {},
   "source": [
    "Now, you can update the value of a link:"
   ]
  },
  {
   "cell_type": "code",
   "execution_count": 5,
   "metadata": {
    "collapsed": true
   },
   "outputs": [],
   "source": [
    "w.links[0]['value'] = 1\n",
    "w.send_state()"
   ]
  },
  {
   "cell_type": "markdown",
   "metadata": {},
   "source": [
    "><i class=\"fa fa-image fa-2x\"></i> You should see the diagram change.\n",
    "\n",
    "See the other notebooks linked above for more examples."
   ]
  }
 ],
 "metadata": {
  "hide_input": true,
  "kernelspec": {
   "display_name": "Python 3",
   "language": "python",
   "name": "python3"
  },
  "language_info": {
   "codemirror_mode": {
    "name": "ipython",
    "version": 3
   },
   "file_extension": ".py",
   "mimetype": "text/x-python",
   "name": "python",
   "nbconvert_exporter": "python",
   "pygments_lexer": "ipython3",
   "version": "3.5.2"
  },
  "widgets": {
   "application/vnd.jupyter.widget-state+json": {
    "state": {
     "401c2bbd28914dde833cf18e9f0669ac": {
      "model_module": "jupyter-js-widgets",
      "model_module_version": "~2.1.4",
      "model_name": "LayoutModel",
      "state": {
       "_model_module_version": "~2.1.4",
       "_view_module_version": "~2.1.4"
      }
     },
     "e6ba4bfe403041a4887dae06a001a7a1": {
      "model_module": "jupyter-sankey-widget",
      "model_module_version": "^0.2.1",
      "model_name": "SankeyModel",
      "state": {
       "_dom_classes": [],
       "_model_module_version": "^0.2.1",
       "_view_module_version": "^0.2.1",
       "layout": "IPY_MODEL_401c2bbd28914dde833cf18e9f0669ac",
       "links": [
        {
         "source": "start",
         "target": "A",
         "value": 1
        },
        {
         "source": "A",
         "target": "B",
         "value": 2
        },
        {
         "source": "C",
         "target": "A",
         "value": 2
        },
        {
         "source": "A",
         "target": "C",
         "value": 2
        }
       ],
       "margins": {
        "bottom": 0,
        "left": 50,
        "right": 100,
        "top": 0
       },
       "msg_throttle": 1,
       "order": [],
       "png": "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",
       "scale": 33.333333333333336,
       "svg": "<?xml version=\"1.0\" standalone=\"no\"?><!DOCTYPE svg PUBLIC \"-//W3C//DTD SVG 1.1//EN\" \"http://www.w3.org/Graphics/SVG/1.1/DTD/svg11.dtd\"><svg xmlns=\"http://www.w3.org/2000/svg\" width=\"600\" height=\"400\" viewBox=\"0 0 600 400\" style=\"font-family: &quot;Helvetica Neue&quot;,Helvetica,Arial,sans-serif;\"><g class=\"sankey\" transform=\"translate(50,0)\"><g class=\"groups\"/><g class=\"links\"><g class=\"link\" style=\"opacity: 0.8;\"><path d=\"M0,183.33333333333334 A58.824143254107796 58.824143254107796 0.7114430563300992 0 0 38.40789790359848,169.06379936049464 L158.57962118181942,65.47085234502644 A105.00000000000001 105.00000000000001 0.7114430563300992 0 1 227.1370035215311,40 L227.1370035215311,73.33333333333334 A71.66666666666667 71.66666666666667 0.7114430563300992 0 0 180.34386954363268,90.71820080692281 L60.172146265411726,194.311147822391 A92.15747658744114 92.15747658744114 0.7114430563300992 0 1 0,216.66666666666666 Z\" style=\"fill: rgb(31, 119, 180);\"/><title>start → A\n1.00</title></g><g class=\"link\" style=\"opacity: 0.8;\"><path d=\"M227.1370035215311,40.00000000000001 A0 0 0 0 0 227.1370035215311,40.00000000000001 L450,40.00000000000001 A0 0 0 0 0 450,40.00000000000001 L450,106.66666666666669 A0 0 0 0 0 450,106.66666666666669 L227.1370035215311,106.66666666666669 A0 0 0 0 0 227.1370035215311,106.66666666666669 Z\" style=\"fill: rgb(31, 119, 180);\"/><title>A → B\n2.00</title></g><g class=\"link\" style=\"opacity: 0.8;\"><path d=\"M450,166.66666666666669 A71.66666666666667 71.66666666666667 1.5707963267948966 0 1 521.6666666666666,238.33333333333337 L521.6666666666666,288.33333333333337 A71.66666666666667 71.66666666666667 1.5707963267948966 0 1 450,360 L450,293.33333333333337 A5 5 1.5707963267948966 0 0 455,288.33333333333337 L455,238.33333333333337 A5 5 1.5707963267948966 0 0 450,233.33333333333337 ZM227.1370035215311,293.33333333333337 A0 0 0 0 0 227.1370035215311,293.33333333333337 L450,293.33333333333337 A0 0 0 0 0 450,293.33333333333337 L450,360 A0 0 0 0 0 450,360 L227.1370035215311,360 A0 0 0 0 0 227.1370035215311,360 ZM227.1370035215311,293.33333333333337 A5 5 1.5707963267948966 0 1 222.1370035215311,288.33333333333337 L222.1370035215311,145 A5 5 1.5707963267948966 0 1 227.1370035215311,140.00000000000003 L227.1370035215311,73.33333333333334 A71.66666666666667 71.66666666666667 1.5707963267948966 0 0 155.47033685486443,145 L155.47033685486443,288.33333333333337 A71.66666666666667 71.66666666666667 1.5707963267948966 0 0 227.1370035215311,360 Z\" style=\"fill: rgb(31, 119, 180);\"/><title>C → A\n2.00</title></g><g class=\"link\" style=\"opacity: 0.8;\"><path d=\"M227.1370035215311,106.66666666666666 A166.50312133173836 166.50312133173836 0.32252550303704286 0 1 279.912307695885,115.25190844540442 L418.355552613692,161.51889469232682 A99.83645466507167 99.83645466507167 0.32252550303704286 0 0 450,166.66666666666669 L450,233.33333333333337 A166.50312133173836 166.50312133173836 0.32252550303704286 0 1 397.2246958256461,224.74809155459562 L258.7814509078391,178.4811053076732 A99.83645466507167 99.83645466507167 0.32252550303704286 0 0 227.1370035215311,173.33333333333334 Z\" style=\"fill: rgb(31, 119, 180);\"/><title>A → C\n2.00</title></g></g><g class=\"nodes\"><g class=\"node\" transform=\"translate(0, 183.3333282470703)\"><title>start</title><text dy=\".35em\" text-anchor=\"end\" transform=\"translate(-4, 16.66666603088379)\">start</text><line x1=\"0\" x2=\"0\" y1=\"0\" y2=\"33.333333333333336\" style=\"stroke: rgb(0, 0, 0);\"/><rect x=\"-5\" y=\"-5\" width=\"10\" style=\"fill: none; visibility: hidden; pointer-events: all;\" height=\"38.333333333333336\"/></g><g class=\"node\" transform=\"translate(227.1370086669922, 40)\"><title>A</title><text dy=\".35em\" text-anchor=\"start\" transform=\"translate(-4, -10)\">A</text><line x1=\"0\" x2=\"0\" y1=\"-5\" y2=\"133.33333333333334\" style=\"stroke: rgb(0, 0, 0);\"/><rect x=\"-5\" y=\"-5\" width=\"10\" style=\"fill: none; visibility: hidden; pointer-events: all;\" height=\"138.33333333333334\"/></g><g class=\"node\" transform=\"translate(450,40)\"><title>B</title><text dy=\".35em\" text-anchor=\"start\" transform=\"translate(4, 33.33333206176758)\">B</text><line x1=\"0\" x2=\"0\" y1=\"0\" y2=\"66.66666666666667\" style=\"stroke: rgb(0, 0, 0);\"/><rect x=\"-5\" y=\"-5\" width=\"10\" style=\"fill: none; visibility: hidden; pointer-events: all;\" height=\"71.66666666666667\"/></g><g class=\"node\" transform=\"translate(450,166.66666666666669)\"><title>C</title><text dy=\".35em\" text-anchor=\"start\" transform=\"translate(-4, -10)\">C</text><line x1=\"0\" x2=\"0\" y1=\"-5\" y2=\"66.66666666666667\" style=\"stroke: rgb(0, 0, 0);\"/><rect x=\"-5\" y=\"-5\" width=\"10\" style=\"fill: none; visibility: hidden; pointer-events: all;\" height=\"71.66666666666667\"/></g></g><g class=\"slice-titles\"/></g></svg>"
      }
     }
    },
    "version_major": 1,
    "version_minor": 0
   }
  }
 },
 "nbformat": 4,
 "nbformat_minor": 1
}
