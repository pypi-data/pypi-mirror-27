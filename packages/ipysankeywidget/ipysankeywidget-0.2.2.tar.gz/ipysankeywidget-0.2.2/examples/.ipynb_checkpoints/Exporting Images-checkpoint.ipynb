{
 "cells": [
  {
   "cell_type": "markdown",
   "metadata": {},
   "source": [
    "# Exporting Images\n",
    "\n",
    "> [<i class=\"fa fa-2x fa-paper-plane text-info fa-fw\"> </i> Simple example](./Simple example.ipynb)\n",
    ">\n",
    "> [<i class=\"fa fa-2x fa-space-shuttle text-info fa-fw\"> </i> Advanced examples](./More examples.ipynb)\n",
    ">\n",
    "> [<i class=\"fa fa-2x fa-link text-info fa-fw\"> </i> Linking and Layout](./Linking and Layout.ipynb)\n",
    ">\n",
    "> <i class=\"fa fa-2x fa-image text-info fa-fw\"> </i> Exporting Images\n",
    "\n",
    "Any `SankeyWidget` can be exported as either an raster (PNG) or vector (SVG) image."
   ]
  },
  {
   "cell_type": "code",
   "execution_count": 1,
   "metadata": {
    "collapsed": true
   },
   "outputs": [],
   "source": [
    "from ipysankeywidget import SankeyWidget\n",
    "from ipywidgets import Layout"
   ]
  },
  {
   "cell_type": "code",
   "execution_count": 2,
   "metadata": {
    "collapsed": true
   },
   "outputs": [],
   "source": [
    "links = [\n",
    "    {'source': 'start', 'target': 'A', 'value': 2},\n",
    "    {'source': 'A', 'target': 'B', 'value': 2},\n",
    "    {'source': 'B', 'target': 'start', 'value': 0.2},\n",
    "    {'source': 'C', 'target': 'A', 'value': 2},\n",
    "    {'source': 'A', 'target': 'C', 'value': 2},\n",
    "]"
   ]
  },
  {
   "cell_type": "code",
   "execution_count": 3,
   "metadata": {},
   "outputs": [
    {
     "data": {
      "application/vnd.jupyter.widget-view+json": {
       "model_id": "79f8e3f8e6804fb09ca66137a2988249"
      }
     },
     "metadata": {},
     "output_type": "display_data"
    }
   ],
   "source": [
    "layout = Layout(width=\"500\", height=\"200\")\n",
    "sankey = SankeyWidget(links=links, layout=layout)\n",
    "sankey"
   ]
  },
  {
   "cell_type": "markdown",
   "metadata": {},
   "source": [
    "You can use `IPython.display` classes to ensure embedded versions of your diagram will persist in your notebook, even without JavaScript!"
   ]
  },
  {
   "cell_type": "code",
   "execution_count": 4,
   "metadata": {
    "collapsed": true
   },
   "outputs": [],
   "source": [
    "from IPython.display import (\n",
    "    Image,\n",
    "    SVG\n",
    ")"
   ]
  },
  {
   "cell_type": "code",
   "execution_count": 5,
   "metadata": {},
   "outputs": [
    {
     "data": {
      "image/png": "[encoded data removed]",
      "text/plain": [
       "<IPython.core.display.Image object>"
      ]
     },
     "execution_count": 5,
     "metadata": {},
     "output_type": "execute_result"
    }
   ],
   "source": [
    "Image(sankey.png)"
   ]
  },
  {
   "cell_type": "code",
   "execution_count": 6,
   "metadata": {},
   "outputs": [
    {
     "data": {
      "image/svg+xml": [
       "<svg height=\"200\" style=\"font-family: &quot;Helvetica Neue&quot;,Helvetica,Arial,sans-serif;\" viewBox=\"0 0 500 200\" width=\"500\" xmlns=\"http://www.w3.org/2000/svg\"><g class=\"sankey\" transform=\"translate(100,10)\"><g class=\"groups\"/><g class=\"links\"><g class=\"link\" style=\"opacity: 0.8;\"><path d=\"M300,18 A7.903225806451612 7.903225806451612 1.5707963267948966 0 1 307.9032258064516,25.903225806451612 L307.9032258064516,107.06451612903226 A7.903225806451612 7.903225806451612 1.5707963267948966 0 1 300,114.96774193548387 L300,112.06451612903226 A5 5 1.5707963267948966 0 0 305,107.06451612903226 L305,25.903225806451612 A5 5 1.5707963267948966 0 0 300,20.903225806451616 ZM138.61061888945824,103.06451612903226 A55.2480732734064 55.2480732734064 0.05678078176026635 0 1 141.74596229235146,103.15355367691481 L297.0294154627114,111.98015740687956 A52.34484746695478 52.34484746695478 0.05678078176026635 0 0 300,112.06451612903226 L300,114.96774193548387 A55.2480732734064 55.2480732734064 0.05678078176026635 0 1 296.8646565971068,114.87870438760132 L141.58120342674687,106.05210065763657 A52.34484746695478 52.34484746695478 0.05678078176026635 0 0 138.61061888945824,105.96774193548387 ZM0,159.09677419354838 A44.7519267265936 44.7519267265936 0.4441665565456554 0 0 19.23014707793411,154.75445510057855 L118.1329398426862,107.68853779377238 A47.65515253304522 47.65515253304522 0.4441665565456554 0 1 138.61061888945824,103.06451612903226 L138.61061888945824,105.96774193548387 A44.7519267265936 44.7519267265936 0.4441665565456554 0 0 119.38047181152413,110.3100610284537 L20.477679046772042,157.37597833525987 A47.65515253304522 47.65515253304522 0.4441665565456554 0 1 0,161.99999999999997 ZM0,159.09677419354838 A5 5 1.5707963267948966 0 1 -5,154.09677419354838 L-5,25.903225806451612 A5 5 1.5707963267948966 0 1 0,20.903225806451616 L0,18 A7.903225806451612 7.903225806451612 1.5707963267948966 0 0 -7.903225806451612,25.903225806451612 L-7.903225806451612,154.09677419354838 A7.903225806451612 7.903225806451612 1.5707963267948966 0 0 0,161.99999999999997 Z\" style=\"fill: rgb(31, 119, 180);\"/><title>B → start\n",
       "200m</title></g><g class=\"link\" style=\"opacity: 0.8;\"><path d=\"M0,18 A0 0 0 0 0 0,18 L138.61061888945824,18 A0 0 0 0 0 138.61061888945824,18 L138.61061888945824,47.03225806451613 A0 0 0 0 0 138.61061888945824,47.03225806451613 L0,47.03225806451613 A0 0 0 0 0 0,47.03225806451613 Z\" style=\"fill: rgb(31, 119, 180);\"/><title>start → A\n",
       "2.00</title></g><g class=\"link\" style=\"opacity: 0.8;\"><path d=\"M138.61061888945824,18 A0 0 0 0 0 138.61061888945824,18 L300,18 A0 0 0 0 0 300,18 L300,47.03225806451613 A0 0 0 0 0 300,47.03225806451613 L138.61061888945824,47.03225806451613 A0 0 0 0 0 138.61061888945824,47.03225806451613 Z\" style=\"fill: rgb(31, 119, 180);\"/><title>A → B\n",
       "2.00</title></g><g class=\"link\" style=\"opacity: 0.8;\"><path d=\"M300,65.03225806451613 A34.03225806451613 34.03225806451613 1.5707963267948966 0 1 334.0322580645161,99.06451612903226 L334.0322580645161,127.96774193548389 A34.03225806451613 34.03225806451613 1.5707963267948966 0 1 300,162 L300,132.9677419354839 A5 5 1.5707963267948966 0 0 305,127.96774193548389 L305,99.06451612903226 A5 5 1.5707963267948966 0 0 300,94.06451612903226 ZM138.61061888945824,132.9677419354839 A0 0 0 0 0 138.61061888945824,132.9677419354839 L300,132.9677419354839 A0 0 0 0 0 300,132.9677419354839 L300,162 A0 0 0 0 0 300,162 L138.61061888945824,162 A0 0 0 0 0 138.61061888945824,162 ZM138.61061888945824,132.9677419354839 A5 5 1.5707963267948966 0 1 133.61061888945824,127.96774193548389 L133.61061888945824,81.06451612903226 A5 5 1.5707963267948966 0 1 138.61061888945824,76.06451612903226 L138.61061888945824,47.03225806451613 A34.03225806451613 34.03225806451613 1.5707963267948966 0 0 104.57836082494211,81.06451612903226 L104.57836082494211,127.96774193548389 A34.03225806451613 34.03225806451613 1.5707963267948966 0 0 138.61061888945824,162 Z\" style=\"fill: rgb(31, 119, 180);\"/><title>C → A\n",
       "2.00</title></g><g class=\"link\" style=\"opacity: 0.8;\"><path d=\"M138.61061888945824,47.03225806451613 A234.27056515928882 234.27056515928882 0.13610466913903574 0 1 170.39758462939582,49.19878080079882 L272.1522717473768,63.13422423182077 A205.23830709477272 205.23830709477272 0.13610466913903574 0 0 300,65.03225806451613 L300,94.06451612903226 A234.27056515928882 234.27056515928882 0.13610466913903574 0 1 268.21303426006244,91.89799339274957 L166.4583471420814,77.96254996172763 A205.23830709477272 205.23830709477272 0.13610466913903574 0 0 138.61061888945824,76.06451612903226 Z\" style=\"fill: rgb(31, 119, 180);\"/><title>A → C\n",
       "2.00</title></g></g><g class=\"nodes\"><g class=\"node\" transform=\"translate(0,18)\"><title>start</title><text dy=\".35em\" text-anchor=\"start\" transform=\"translate(-4, -10)\">start</text><line style=\"stroke: rgb(0, 0, 0);\" x1=\"0\" x2=\"0\" y1=\"-5\" y2=\"29.032258064516128\"/><rect height=\"34.03225806451613\" style=\"fill: none; visibility: hidden; pointer-events: all;\" width=\"10\" x=\"-5\" y=\"-5\"/></g><g class=\"node\" transform=\"translate(138.61061888945824,18)\"><title>A</title><text dy=\".35em\" text-anchor=\"start\" transform=\"translate(-4, -10)\">A</text><line style=\"stroke: rgb(0, 0, 0);\" x1=\"0\" x2=\"0\" y1=\"-5\" y2=\"58.064516129032256\"/><rect height=\"63.064516129032256\" style=\"fill: none; visibility: hidden; pointer-events: all;\" width=\"10\" x=\"-5\" y=\"-5\"/></g><g class=\"node\" transform=\"translate(300,18)\"><title>B</title><text dy=\".35em\" text-anchor=\"start\" transform=\"translate(-4, -10)\">B</text><line style=\"stroke: rgb(0, 0, 0);\" x1=\"0\" x2=\"0\" y1=\"-5\" y2=\"29.032258064516128\"/><rect height=\"34.03225806451613\" style=\"fill: none; visibility: hidden; pointer-events: all;\" width=\"10\" x=\"-5\" y=\"-5\"/></g><g class=\"node\" transform=\"translate(300,65.03225806451613)\"><title>C</title><text dy=\".35em\" text-anchor=\"start\" transform=\"translate(4, 14.516129493713379)\">C</text><line style=\"stroke: rgb(0, 0, 0);\" x1=\"0\" x2=\"0\" y1=\"0\" y2=\"29.032258064516128\"/><rect height=\"34.03225806451613\" style=\"fill: none; visibility: hidden; pointer-events: all;\" width=\"10\" x=\"-5\" y=\"-5\"/></g></g><g class=\"slice-titles\"/></g></svg>"
      ],
      "text/plain": [
       "<IPython.core.display.SVG object>"
      ]
     },
     "execution_count": 6,
     "metadata": {},
     "output_type": "execute_result"
    }
   ],
   "source": [
    "SVG(sankey.svg)"
   ]
  },
  {
   "cell_type": "markdown",
   "metadata": {},
   "source": [
    "## Saving images to files\n",
    "\n",
    "One way of saving images of the diagrams is to display them as above, then right-click and download.\n",
    "\n",
    "You can also save the image data to disk using `save_png` and `save_svg`:"
   ]
  },
  {
   "cell_type": "code",
   "execution_count": 7,
   "metadata": {},
   "outputs": [
    {
     "name": "stdout",
     "output_type": "stream",
     "text": [
      "rm: cannot remove 'test.svg': No such file or directory\r\n",
      "rm: cannot remove 'test.png': No such file or directory\r\n"
     ]
    }
   ],
   "source": [
    "!rm test.svg test.png"
   ]
  },
  {
   "cell_type": "code",
   "execution_count": 8,
   "metadata": {},
   "outputs": [],
   "source": [
    "sankey.save_svg('test.svg')"
   ]
  },
  {
   "cell_type": "code",
   "execution_count": 9,
   "metadata": {},
   "outputs": [
    {
     "data": {
      "text/html": [
       "<img src=\"test.svg\" />"
      ],
      "text/plain": [
       "<IPython.core.display.HTML object>"
      ]
     },
     "metadata": {},
     "output_type": "display_data"
    }
   ],
   "source": [
    "%%html\n",
    "<img src=\"test.svg\" />"
   ]
  },
  {
   "cell_type": "markdown",
   "metadata": {},
   "source": [
    "Because the diagram is actually drawn in the browser, it is not immediately available to save to disk. It can be convenient to display the diagram in the notebook and simultaneously save it, so `auto_save_png` and `auto_save_svg` methods are available which save the images as soon as they are available:"
   ]
  },
  {
   "cell_type": "code",
   "execution_count": 10,
   "metadata": {},
   "outputs": [
    {
     "name": "stderr",
     "output_type": "stream",
     "text": [
      "/home/rick/ownCloud/devel/ipysankeywidget/ipysankeywidget/sankey_widget.py:94: UserWarning: No png image available! Try auto_save_png() instead?\n",
      "  warnings.warn('No png image available! Try auto_save_png() instead?')\n"
     ]
    },
    {
     "data": {
      "application/vnd.jupyter.widget-view+json": {
       "model_id": "7865c30a0cfa40c8b734046487a51028"
      }
     },
     "metadata": {},
     "output_type": "display_data"
    }
   ],
   "source": [
    "# This won't work\n",
    "s = SankeyWidget(links=links, layout=layout)\n",
    "s.save_png('test.png')\n",
    "s"
   ]
  },
  {
   "cell_type": "code",
   "execution_count": 11,
   "metadata": {},
   "outputs": [
    {
     "data": {
      "text/html": [
       "<img src=\"test.png\" />"
      ],
      "text/plain": [
       "<IPython.core.display.HTML object>"
      ]
     },
     "metadata": {},
     "output_type": "display_data"
    }
   ],
   "source": [
    "%%html\n",
    "<img src=\"test.png\" />"
   ]
  },
  {
   "cell_type": "code",
   "execution_count": 12,
   "metadata": {},
   "outputs": [
    {
     "data": {
      "application/vnd.jupyter.widget-view+json": {
       "model_id": "62828dd5a13248c88961afa04ce1d650"
      }
     },
     "metadata": {},
     "output_type": "display_data"
    }
   ],
   "source": [
    "# This does work\n",
    "SankeyWidget(links=links, layout=layout).auto_save_png('test.png')"
   ]
  },
  {
   "cell_type": "code",
   "execution_count": 14,
   "metadata": {},
   "outputs": [
    {
     "data": {
      "text/html": [
       "<img src=\"test.png\" />"
      ],
      "text/plain": [
       "<IPython.core.display.HTML object>"
      ]
     },
     "metadata": {},
     "output_type": "display_data"
    }
   ],
   "source": [
    "%%html\n",
    "<img src=\"test.png\" />"
   ]
  }
 ],
 "metadata": {
  "anaconda-cloud": {},
  "kernelspec": {
   "display_name": "Python 3",
   "language": "python",
   "name": "python3"
  },
  "language_info": {
   "codemirror_mode": {
    "name": "ipython",
    "version": 3
   },
   "file_extension": ".py",
   "mimetype": "text/x-python",
   "name": "python",
   "nbconvert_exporter": "python",
   "pygments_lexer": "ipython3",
   "version": "3.5.2"
  },
  "widgets": {
   "application/vnd.jupyter.widget-state+json": {
    "state": {
     "1013aed4a67442638b71889878ff4bc7": {
      "model_module": "jupyter-sankey-widget",
      "model_module_version": "^0.2.1",
      "model_name": "SankeyModel",
      "state": {
       "_dom_classes": [],
       "_model_module_version": "^0.2.1",
       "_view_module_version": "^0.2.1",
       "layout": "IPY_MODEL_78dfbf0936fd469b871c2a2c6412dae6",
       "links": [
        {
         "source": "start",
         "target": "A",
         "value": 2
        },
        {
         "source": "A",
         "target": "B",
         "value": 2
        },
        {
         "source": "B",
         "target": "start",
         "value": 0.2
        },
        {
         "source": "C",
         "target": "A",
         "value": 2
        },
        {
         "source": "A",
         "target": "C",
         "value": 2
        }
       ],
       "msg_throttle": 1,
       "order": [],
       "png": "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",
       "scale": 14.516129032258064,
       "svg": "<?xml version=\"1.0\" standalone=\"no\"?><!DOCTYPE svg PUBLIC \"-//W3C//DTD SVG 1.1//EN\" \"http://www.w3.org/Graphics/SVG/1.1/DTD/svg11.dtd\"><svg xmlns=\"http://www.w3.org/2000/svg\" width=\"500\" height=\"200\" viewBox=\"0 0 500 200\" style=\"font-family: &quot;Helvetica Neue&quot;,Helvetica,Arial,sans-serif;\"><g class=\"sankey\" transform=\"translate(100,10)\"><g class=\"groups\"/><g class=\"links\"><g class=\"link\" style=\"opacity: 0.8;\"><path d=\"M300,18 A7.903225806451612 7.903225806451612 1.5707963267948966 0 1 307.9032258064516,25.903225806451612 L307.9032258064516,107.06451612903226 A7.903225806451612 7.903225806451612 1.5707963267948966 0 1 300,114.96774193548387 L300,112.06451612903226 A5 5 1.5707963267948966 0 0 305,107.06451612903226 L305,25.903225806451612 A5 5 1.5707963267948966 0 0 300,20.903225806451616 ZM138.61061888945824,103.06451612903226 A55.2480732734064 55.2480732734064 0.05678078176026635 0 1 141.74596229235146,103.15355367691481 L297.0294154627114,111.98015740687956 A52.34484746695478 52.34484746695478 0.05678078176026635 0 0 300,112.06451612903226 L300,114.96774193548387 A55.2480732734064 55.2480732734064 0.05678078176026635 0 1 296.8646565971068,114.87870438760132 L141.58120342674687,106.05210065763657 A52.34484746695478 52.34484746695478 0.05678078176026635 0 0 138.61061888945824,105.96774193548387 ZM0,159.09677419354838 A44.7519267265936 44.7519267265936 0.4441665565456554 0 0 19.23014707793411,154.75445510057855 L118.1329398426862,107.68853779377238 A47.65515253304522 47.65515253304522 0.4441665565456554 0 1 138.61061888945824,103.06451612903226 L138.61061888945824,105.96774193548387 A44.7519267265936 44.7519267265936 0.4441665565456554 0 0 119.38047181152413,110.3100610284537 L20.477679046772042,157.37597833525987 A47.65515253304522 47.65515253304522 0.4441665565456554 0 1 0,161.99999999999997 ZM0,159.09677419354838 A5 5 1.5707963267948966 0 1 -5,154.09677419354838 L-5,25.903225806451612 A5 5 1.5707963267948966 0 1 0,20.903225806451616 L0,18 A7.903225806451612 7.903225806451612 1.5707963267948966 0 0 -7.903225806451612,25.903225806451612 L-7.903225806451612,154.09677419354838 A7.903225806451612 7.903225806451612 1.5707963267948966 0 0 0,161.99999999999997 Z\" style=\"fill: rgb(31, 119, 180);\"/><title>B → start\n200m</title></g><g class=\"link\" style=\"opacity: 0.8;\"><path d=\"M0,18 A0 0 0 0 0 0,18 L138.61061888945824,18 A0 0 0 0 0 138.61061888945824,18 L138.61061888945824,47.03225806451613 A0 0 0 0 0 138.61061888945824,47.03225806451613 L0,47.03225806451613 A0 0 0 0 0 0,47.03225806451613 Z\" style=\"fill: rgb(31, 119, 180);\"/><title>start → A\n2.00</title></g><g class=\"link\" style=\"opacity: 0.8;\"><path d=\"M138.61061888945824,18 A0 0 0 0 0 138.61061888945824,18 L300,18 A0 0 0 0 0 300,18 L300,47.03225806451613 A0 0 0 0 0 300,47.03225806451613 L138.61061888945824,47.03225806451613 A0 0 0 0 0 138.61061888945824,47.03225806451613 Z\" style=\"fill: rgb(31, 119, 180);\"/><title>A → B\n2.00</title></g><g class=\"link\" style=\"opacity: 0.8;\"><path d=\"M300,65.03225806451613 A34.03225806451613 34.03225806451613 1.5707963267948966 0 1 334.0322580645161,99.06451612903226 L334.0322580645161,127.96774193548389 A34.03225806451613 34.03225806451613 1.5707963267948966 0 1 300,162 L300,132.9677419354839 A5 5 1.5707963267948966 0 0 305,127.96774193548389 L305,99.06451612903226 A5 5 1.5707963267948966 0 0 300,94.06451612903226 ZM138.61061888945824,132.9677419354839 A0 0 0 0 0 138.61061888945824,132.9677419354839 L300,132.9677419354839 A0 0 0 0 0 300,132.9677419354839 L300,162 A0 0 0 0 0 300,162 L138.61061888945824,162 A0 0 0 0 0 138.61061888945824,162 ZM138.61061888945824,132.9677419354839 A5 5 1.5707963267948966 0 1 133.61061888945824,127.96774193548389 L133.61061888945824,81.06451612903226 A5 5 1.5707963267948966 0 1 138.61061888945824,76.06451612903226 L138.61061888945824,47.03225806451613 A34.03225806451613 34.03225806451613 1.5707963267948966 0 0 104.57836082494211,81.06451612903226 L104.57836082494211,127.96774193548389 A34.03225806451613 34.03225806451613 1.5707963267948966 0 0 138.61061888945824,162 Z\" style=\"fill: rgb(31, 119, 180);\"/><title>C → A\n2.00</title></g><g class=\"link\" style=\"opacity: 0.8;\"><path d=\"M138.61061888945824,47.03225806451613 A234.27056515928882 234.27056515928882 0.13610466913903574 0 1 170.39758462939582,49.19878080079882 L272.1522717473768,63.13422423182077 A205.23830709477272 205.23830709477272 0.13610466913903574 0 0 300,65.03225806451613 L300,94.06451612903226 A234.27056515928882 234.27056515928882 0.13610466913903574 0 1 268.21303426006244,91.89799339274957 L166.4583471420814,77.96254996172763 A205.23830709477272 205.23830709477272 0.13610466913903574 0 0 138.61061888945824,76.06451612903226 Z\" style=\"fill: rgb(31, 119, 180);\"/><title>A → C\n2.00</title></g></g><g class=\"nodes\"><g class=\"node\" transform=\"translate(0,18)\"><title>start</title><text dy=\".35em\" text-anchor=\"start\" transform=\"translate(-4, -10)\">start</text><line x1=\"0\" x2=\"0\" y1=\"-5\" y2=\"29.032258064516128\" style=\"stroke: rgb(0, 0, 0);\"/><rect x=\"-5\" y=\"-5\" width=\"10\" style=\"fill: none; visibility: hidden; pointer-events: all;\" height=\"34.03225806451613\"/></g><g class=\"node\" transform=\"translate(138.61061888945824,18)\"><title>A</title><text dy=\".35em\" text-anchor=\"start\" transform=\"translate(-4, -10)\">A</text><line x1=\"0\" x2=\"0\" y1=\"-5\" y2=\"58.064516129032256\" style=\"stroke: rgb(0, 0, 0);\"/><rect x=\"-5\" y=\"-5\" width=\"10\" style=\"fill: none; visibility: hidden; pointer-events: all;\" height=\"63.064516129032256\"/></g><g class=\"node\" transform=\"translate(300,18)\"><title>B</title><text dy=\".35em\" text-anchor=\"start\" transform=\"translate(-4, -10)\">B</text><line x1=\"0\" x2=\"0\" y1=\"-5\" y2=\"29.032258064516128\" style=\"stroke: rgb(0, 0, 0);\"/><rect x=\"-5\" y=\"-5\" width=\"10\" style=\"fill: none; visibility: hidden; pointer-events: all;\" height=\"34.03225806451613\"/></g><g class=\"node\" transform=\"translate(300,65.03225806451613)\"><title>C</title><text dy=\".35em\" text-anchor=\"start\" transform=\"translate(4, 14.516129493713379)\">C</text><line x1=\"0\" x2=\"0\" y1=\"0\" y2=\"29.032258064516128\" style=\"stroke: rgb(0, 0, 0);\"/><rect x=\"-5\" y=\"-5\" width=\"10\" style=\"fill: none; visibility: hidden; pointer-events: all;\" height=\"34.03225806451613\"/></g></g><g class=\"slice-titles\"/></g></svg>"
      }
     },
     "62828dd5a13248c88961afa04ce1d650": {
      "model_module": "jupyter-sankey-widget",
      "model_module_version": "^0.2.1",
      "model_name": "SankeyModel",
      "state": {
       "_dom_classes": [],
       "_model_module_version": "^0.2.1",
       "_view_module_version": "^0.2.1",
       "layout": "IPY_MODEL_da94206447b94d9b9870c0a155b18b3e",
       "links": [
        {
         "source": "start",
         "target": "A",
         "value": 2
        },
        {
         "source": "A",
         "target": "B",
         "value": 2
        },
        {
         "source": "B",
         "target": "start",
         "value": 0.2
        },
        {
         "source": "C",
         "target": "A",
         "value": 2
        },
        {
         "source": "A",
         "target": "C",
         "value": 2
        }
       ],
       "msg_throttle": 1,
       "order": [],
       "png": "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",
       "scale": 14.516129032258064,
       "svg": "<?xml version=\"1.0\" standalone=\"no\"?><!DOCTYPE svg PUBLIC \"-//W3C//DTD SVG 1.1//EN\" \"http://www.w3.org/Graphics/SVG/1.1/DTD/svg11.dtd\"><svg xmlns=\"http://www.w3.org/2000/svg\" width=\"500\" height=\"200\" viewBox=\"0 0 500 200\" style=\"font-family: &quot;Helvetica Neue&quot;,Helvetica,Arial,sans-serif;\"><g class=\"sankey\" transform=\"translate(100,10)\"><g class=\"groups\"/><g class=\"links\"><g class=\"link\" style=\"opacity: 0.8;\"><path d=\"M300,18 A7.903225806451612 7.903225806451612 1.5707963267948966 0 1 307.9032258064516,25.903225806451612 L307.9032258064516,107.06451612903226 A7.903225806451612 7.903225806451612 1.5707963267948966 0 1 300,114.96774193548387 L300,112.06451612903226 A5 5 1.5707963267948966 0 0 305,107.06451612903226 L305,25.903225806451612 A5 5 1.5707963267948966 0 0 300,20.903225806451616 ZM138.61061888945824,103.06451612903226 A55.2480732734064 55.2480732734064 0.05678078176026635 0 1 141.74596229235146,103.15355367691481 L297.0294154627114,111.98015740687956 A52.34484746695478 52.34484746695478 0.05678078176026635 0 0 300,112.06451612903226 L300,114.96774193548387 A55.2480732734064 55.2480732734064 0.05678078176026635 0 1 296.8646565971068,114.87870438760132 L141.58120342674687,106.05210065763657 A52.34484746695478 52.34484746695478 0.05678078176026635 0 0 138.61061888945824,105.96774193548387 ZM0,159.09677419354838 A44.7519267265936 44.7519267265936 0.4441665565456554 0 0 19.23014707793411,154.75445510057855 L118.1329398426862,107.68853779377238 A47.65515253304522 47.65515253304522 0.4441665565456554 0 1 138.61061888945824,103.06451612903226 L138.61061888945824,105.96774193548387 A44.7519267265936 44.7519267265936 0.4441665565456554 0 0 119.38047181152413,110.3100610284537 L20.477679046772042,157.37597833525987 A47.65515253304522 47.65515253304522 0.4441665565456554 0 1 0,161.99999999999997 ZM0,159.09677419354838 A5 5 1.5707963267948966 0 1 -5,154.09677419354838 L-5,25.903225806451612 A5 5 1.5707963267948966 0 1 0,20.903225806451616 L0,18 A7.903225806451612 7.903225806451612 1.5707963267948966 0 0 -7.903225806451612,25.903225806451612 L-7.903225806451612,154.09677419354838 A7.903225806451612 7.903225806451612 1.5707963267948966 0 0 0,161.99999999999997 Z\" style=\"fill: rgb(31, 119, 180);\"/><title>B → start\n200m</title></g><g class=\"link\" style=\"opacity: 0.8;\"><path d=\"M0,18 A0 0 0 0 0 0,18 L138.61061888945824,18 A0 0 0 0 0 138.61061888945824,18 L138.61061888945824,47.03225806451613 A0 0 0 0 0 138.61061888945824,47.03225806451613 L0,47.03225806451613 A0 0 0 0 0 0,47.03225806451613 Z\" style=\"fill: rgb(31, 119, 180);\"/><title>start → A\n2.00</title></g><g class=\"link\" style=\"opacity: 0.8;\"><path d=\"M138.61061888945824,18 A0 0 0 0 0 138.61061888945824,18 L300,18 A0 0 0 0 0 300,18 L300,47.03225806451613 A0 0 0 0 0 300,47.03225806451613 L138.61061888945824,47.03225806451613 A0 0 0 0 0 138.61061888945824,47.03225806451613 Z\" style=\"fill: rgb(31, 119, 180);\"/><title>A → B\n2.00</title></g><g class=\"link\" style=\"opacity: 0.8;\"><path d=\"M300,65.03225806451613 A34.03225806451613 34.03225806451613 1.5707963267948966 0 1 334.0322580645161,99.06451612903226 L334.0322580645161,127.96774193548389 A34.03225806451613 34.03225806451613 1.5707963267948966 0 1 300,162 L300,132.9677419354839 A5 5 1.5707963267948966 0 0 305,127.96774193548389 L305,99.06451612903226 A5 5 1.5707963267948966 0 0 300,94.06451612903226 ZM138.61061888945824,132.9677419354839 A0 0 0 0 0 138.61061888945824,132.9677419354839 L300,132.9677419354839 A0 0 0 0 0 300,132.9677419354839 L300,162 A0 0 0 0 0 300,162 L138.61061888945824,162 A0 0 0 0 0 138.61061888945824,162 ZM138.61061888945824,132.9677419354839 A5 5 1.5707963267948966 0 1 133.61061888945824,127.96774193548389 L133.61061888945824,81.06451612903226 A5 5 1.5707963267948966 0 1 138.61061888945824,76.06451612903226 L138.61061888945824,47.03225806451613 A34.03225806451613 34.03225806451613 1.5707963267948966 0 0 104.57836082494211,81.06451612903226 L104.57836082494211,127.96774193548389 A34.03225806451613 34.03225806451613 1.5707963267948966 0 0 138.61061888945824,162 Z\" style=\"fill: rgb(31, 119, 180);\"/><title>C → A\n2.00</title></g><g class=\"link\" style=\"opacity: 0.8;\"><path d=\"M138.61061888945824,47.03225806451613 A234.27056515928882 234.27056515928882 0.13610466913903574 0 1 170.39758462939582,49.19878080079882 L272.1522717473768,63.13422423182077 A205.23830709477272 205.23830709477272 0.13610466913903574 0 0 300,65.03225806451613 L300,94.06451612903226 A234.27056515928882 234.27056515928882 0.13610466913903574 0 1 268.21303426006244,91.89799339274957 L166.4583471420814,77.96254996172763 A205.23830709477272 205.23830709477272 0.13610466913903574 0 0 138.61061888945824,76.06451612903226 Z\" style=\"fill: rgb(31, 119, 180);\"/><title>A → C\n2.00</title></g></g><g class=\"nodes\"><g class=\"node\" transform=\"translate(0,18)\"><title>start</title><text dy=\".35em\" text-anchor=\"start\" transform=\"translate(-4, -10)\">start</text><line x1=\"0\" x2=\"0\" y1=\"-5\" y2=\"29.032258064516128\" style=\"stroke: rgb(0, 0, 0);\"/><rect x=\"-5\" y=\"-5\" width=\"10\" style=\"fill: none; visibility: hidden; pointer-events: all;\" height=\"34.03225806451613\"/></g><g class=\"node\" transform=\"translate(138.61061888945824,18)\"><title>A</title><text dy=\".35em\" text-anchor=\"start\" transform=\"translate(-4, -10)\">A</text><line x1=\"0\" x2=\"0\" y1=\"-5\" y2=\"58.064516129032256\" style=\"stroke: rgb(0, 0, 0);\"/><rect x=\"-5\" y=\"-5\" width=\"10\" style=\"fill: none; visibility: hidden; pointer-events: all;\" height=\"63.064516129032256\"/></g><g class=\"node\" transform=\"translate(300,18)\"><title>B</title><text dy=\".35em\" text-anchor=\"start\" transform=\"translate(-4, -10)\">B</text><line x1=\"0\" x2=\"0\" y1=\"-5\" y2=\"29.032258064516128\" style=\"stroke: rgb(0, 0, 0);\"/><rect x=\"-5\" y=\"-5\" width=\"10\" style=\"fill: none; visibility: hidden; pointer-events: all;\" height=\"34.03225806451613\"/></g><g class=\"node\" transform=\"translate(300,65.03225806451613)\"><title>C</title><text dy=\".35em\" text-anchor=\"start\" transform=\"translate(4, 14.516129493713379)\">C</text><line x1=\"0\" x2=\"0\" y1=\"0\" y2=\"29.032258064516128\" style=\"stroke: rgb(0, 0, 0);\"/><rect x=\"-5\" y=\"-5\" width=\"10\" style=\"fill: none; visibility: hidden; pointer-events: all;\" height=\"34.03225806451613\"/></g></g><g class=\"slice-titles\"/></g></svg>"
      }
     },
     "7865c30a0cfa40c8b734046487a51028": {
      "model_module": "jupyter-sankey-widget",
      "model_module_version": "^0.2.1",
      "model_name": "SankeyModel",
      "state": {
       "_dom_classes": [],
       "_model_module_version": "^0.2.1",
       "_view_module_version": "^0.2.1",
       "layout": "IPY_MODEL_da94206447b94d9b9870c0a155b18b3e",
       "links": [
        {
         "source": "start",
         "target": "A",
         "value": 2
        },
        {
         "source": "A",
         "target": "B",
         "value": 2
        },
        {
         "source": "B",
         "target": "start",
         "value": 0.2
        },
        {
         "source": "C",
         "target": "A",
         "value": 2
        },
        {
         "source": "A",
         "target": "C",
         "value": 2
        }
       ],
       "msg_throttle": 1,
       "order": [],
       "png": "iVBORw0KGgoAAAANSUhEUgAAAfQAAADICAYAAAAeGRPoAAAWGUlEQVR4nO3dfYwc913H8Y+dOH3IOUnpXZv13syG0hxUtBWyU/oANG5LEEVXJUpoayPoA2ALLFTg7nb27vjDBxIUoUMUtYBPIP7CVjGq3NvfrHVAiv1HES2YQGgpiVDalNhVWwglifuQNunxx+zac3v7dHu7+53Z3/slff6wz9mby33399mZnZmVAAAAAAAAAAAAAAAAAAAAAAAAAAAAAAAAAAAAAAAAAAAAAADIp/slHcnQ4yAb/k7SpqQPWm8IvPKgkrlL52v1vz9ouF1ALvyFpI9n6HFgryDpu5KekfQFSXtsNwceeVDSI5LeV8/PS1qW9EVJT0q63WrDgDyg0NHs1yR9R9IvKdlD+mHbzYFHHpR0scXf36VkFt8z0q0BMuaHJP21pP9T8gr3nKSw/rVPaeuhrdsk3SLpDyX9p6RvKdlD+y1Je1OPeVnS0frfPynpX1o8DvLr05LWJb1Y0tcl/b7t5sAj7Qo9ULK2/NRItwbIkJslfVXSP0g6JunXJX1F0t/Wvx4oWbgflPRKSTdI+islJb0i6Wck/bGSJ9LPph73sqRPSPoPSb8r6dUtHgf59Aolv+931v/8USW/771t/wtgcB6U9PeSJut5maTXSnKS/lXJi0zAS43DVD+S+rt3SfojXX9ftPlQ+cckvbfpcf5N0u+l/ny5nu9J/R2H3MfDb0h6StKL6n++X8kM/ajZFsEnrU6K25T0nKSfNNwuwNxLlSzODynZ255q8W/aFfFeSXdK+kVJ35a0mvraZUl/0uPjIF8+K+m0pIl6ppQcdv+w5UbBGw9KeljSj6cyK+mUkhM132W3aYC910r6S0lPK3ml+49KniANzUX8RkmfVHKG82NKFvcr2l7oi03fh0LPv1er9d7RpqQvi7dSMHzt3kOXpAtKjhYC3rtR0puUnBT3nJK9b2lrEb9E0rOS/lTSTOq//bS2F/pC0+NT6Pn3O5K+KemwkkPsjVSUlPpbzbYMvuhU6B+S9L+j2xQgW96tZM8qSP1d46Snt9f/nC7in6h/7c7Uv39x/TEo9PG2R9LnlZxD0Wy/khd6ayPdIvioXaHvUbJj8amRbg2QIa9QcunZJ5Wc6PYrSs54/x8l769L0p9LelTS2yR9n5Lrjz8m6S2SHpD0T0ouefuErr8waFXo6cfZN5SfBsP0BiUv5o62+bpTcvUDv1sMU/ONZd6n5H4I60rm891G2wVkwtuVlPKzkr4h6bySa9Mb3qzkvfJnJN2q5HKlRyVdVVL+9yi5peuTkn6z/t+0KvTmx0G+fEjJjNwi6QlJ001ff7+SBZUzjTFMrc5yf07Svyspd+5aCEg6qeTacqCbVoUOjBLrFdABTxD0ikKHNdYroAOeIOgVhQ5rrFdABzxB0CsKHdZYr4C0yeWNQrDg5kpld3r/Xfdd2X/XfV8KK/ElQjpl7wtv+fqB43/2sPV2EH/TWK9KZXc6WHBzk8sbBev1FDATLLi5Vk8Q6ycqyX4odGKdVutVsODmrNdVYOSCslvt5QlCSKtQ6MQ67daroOxWu6+AwJgIovX5LU+CyK3UD1edpNBJL6HQiXX233XfFUkrk8sbhTByK+mvBdH6vPU6Cwzd5PJGIT34xaVa+kNYKHTSUyh0Yp1GoTcWr+JSbTb9dd5Tx9gLo/j4taGP3ErTlyl00lModGKd5kJP1rfUnnoUHx/VugqYCKN4rTHwxbnaTNOXKXTSUyh0Yp1WhV6cq81c+zdRzAcFYbyFFVdtDHyLL1PopKdQ6MQ6rQo9WeOSr5fK7vTQF1TAUvoJ0eLLFDrpKRQ6sU63Qg8rLdc4YHx0GXYKnfQUCp1Yh0KH97oMO4VOegqFTqxDocN7XYadQic9hUIn1qHQ4b0uw06hk55CoRPrUOjwXpdhp9BJT6HQiXUodHivy7BT6KSnUOjEOhQ6vNdl2Cl00lModGIdCh3e6zLsFDrpKRQ6sQ6FDu91GXYKnfQUCp1Yh0KH97oMO4VOegqFTqxDocN7XYadQic9hUIn1qHQ4b0uw06hk55CoRPrUOjwXpdhp9BJT6HQiXUodHivy7BT6KSnUOjEOhQ6vNdl2Cl00lModGIdCh3e6zLsFDrpKRQ6sQ6FDu91GXYKnfQUCp1Yh0KH97oMO4VOegqFTqxDocN7XYadQic9hUIn1qHQ4b0uw06hk55CoRPrUOjwXpdhv0HSjaPeJmRTca42E1TiI2Hl/LGwUjsVVmqnSmV3Oqy0L/Tk68m/TScou9Xkca5nuly9+0B54+CB8sZB658VudRyvaLQ4Q2GHe1MnTg7EVTiI0HZrZbK7kKnvaPh7qHXXwhE7mRYOX+sWK7OHihvHCzO1Was/x8h+1jj4A2GHc2K5epssgfde+laHnJPXmxc3+tvFP7UibMT1v8vYY81Dt5g2NFQLFdnw4qr9lOqWX4P/fph//PHgkp8hL17v7DGwRsMO6YXzh3ut8jzUOid46phpXYqWHBzYeX8Md7DHz+scfAGw+6vyeWNQrLnuvtizG+ht0/jUH7ze/ccys8X1jh4g2H30/TCucPdTnTzvdC7p3HW/vVD+ZPLGwXr3y22Yo2DNxh2/yR7nIMtNz8LvX0a79unD+Xzvr0N1jh4g2H3x9SJsxON68YpdNOy33Iov3H9PYfyh4M1Dt5g2P0wzDKn0Aed7ZfgcSi/f6xx8AbDPv6GXeYU+uiSvgSPQ/m9YY2DNxj28TaKMqfQs5LkErzmQ/nWM2iNNQ7eYNjH207v+Eahj3P8vJte+v+B9bYAQ8Wwj6+gXDs6qrKg0POdcb6bXvrntN4WYKgY9vFUnKvNjLIQKPRxzta76eXtUH76Z7HeFmCoGPbxtNtbue40FLqfycPd9NLba70twFAx7OMnjOLjo17YKXTSOsnd9Jr37kdZ+OntGdX3BEww7ONlcnmjMMhbuvYaCp30n8YtdK9fjpfe20+nnxcC6e81jOcckBkM+3gJI7disShT6MQ6+1//wOX9r7v/SvLn+guEyJ0Mo/jxoBI/GkS1h62fn8BQpZ8Q1tuC3Uk+Pc1mMaXQiXX233Xflf133felFl+7ej2uGkbu5HS5erf18xUYuPTgW28Ldsdq7zysUOjEPr0V+vW/L5XdhWDBzXFbXYyN9IBbbwv6V78j3MjfO2+EQifW2Wmhb0nkThYW40PWz2NgV9JDbb0t6F9xqTZruZhS6MQ6uyr0eoKyW2WPHbmVHmbrbUH/gihetVxMKXRinUEUelhpXFt//pj1cxrYsfQgW28L+jN14uyE9WJKoRPrDKrQGymV3Wn21pEr6QG23hb0Z3rh3GHrxZRCJ9YZdKGHlWRvfXrh3GHr5zjQk/TwWm8L+hNE6/PWiymFTqzTrdAn71365k0HXvXU3hfd8u09+1743I2T4ddve8svPB4sfLzrYxeXarPWz3Ogq/TQWm8L+hNG8Zr1YkqhE+t0KvSJg+/4tqTNm6Zf9dT+N7zz8v43vuuJm4IffErS5s2vuecrvX0P3ldHxqUH1npb0B/rhTSsUOjEPu0K/WVHP/gNSZu3veX9zwaR2/rfvP6nL0vafPl7/uCzPX2fKD5u/XwH2koPq/W2YOesT4gLovX5+vW7t0ja09iuwmJ8qF2Ccu1oGMXHr8ethFG8lsQ562Ig+Uy7Qr+pMPP8vpe/4vkgctveQy/+6kcf2vey7736knt++fO9fh8OvyOz0oNqvS3YucJifMhi8SxF7mJxrjYzzJ9tcnmjUFiMDxWXarNhFB8PovX5MIrXSlH1jHV5kOylVaEHCx+/pBtu3Lz17vc9G/ZxUly7cKIcMik9pNbbgp2zKvQs7KVMnTg7sbXw49Wk8N1F63Iho0+rQr/9/R/+jKTNyXsXvxkOsNBLZXeBS9qQOekhtd4W7JxJoUfOWf/cvSgsxoemF84d3npYn0P645qWhf7eD31W0ubkvUsDLfSwklynbj3jwBbpAbXeFuxcGMXHR754RvGa9c+9W8W52kxhMT6Uei+fQ/k5T+tD7uf+WXtv3Lz1ze9te8j91jcdfeLWH/u5/+rr+3KSHLIkPZzW24KdMyr0sV7Etr93nxzKty4s0jntTorbN3XH8/um7ng+iKrbT4r7wEcf0t4bvtv7pWtbw6F3ZEp6OK23BTtHoY9W43375kP5vG9vn3aF/tK3f+BbkjZvedPRLZetBZG7dPNr7vmKpM2pB04+2u/3Dcpu1XouAUkUet5R6NmSPpTPWfmjTbtCDyJ39ebXvO07kjb33X7nM/tfd/+V/a9/4PJNhe9/WtLmi3/gzf+92+/NR68iE9JDab0t2DkKPT8ah/JT1+GvcSh/cOl0p7ggclcn37HwrX23v/KZPS+4+Tt7bnrRc/umSldve+uxLwRRdQDfv3bKer4ACj3nKPTx0HwJHofyB1voYZ8fzrKT8F46zKUH0npbsHMUuh8ad9lLH8rnErxsFXoYuRXrOYHnKPR8o9DReN8+fSjfx/ftrQu9VHYXrGcBnqPQ841CRyc+3U3PutDDCreEhTEKPd8odOzGON1NLwuFzmF3mKLQ841Cx7Dk7W56mSj0iqta/97gMQo93yh0WMji3fSyUeic7Q5DFHq+UejIosZZ+Y0T9a4V/hAP52el0LPwSYTwFIWebxQ68qqxl990hv61w/vbkpNC5/kBMxR6vlHowDUveOGRD95RP8kv/QJg1IWe+08jRE5R6PlGoQOthZFbodDhFQo93yh0oL36nvpoC521FFYYwnyj0IH2phfOHabQ4Q2GMN8odKAzCh3eYAjzjUIHOqPQ4Q2GMN8odKAzCh3eYAjzjUIHOqPQ4Q2GMN8odKAzCh3eYAjzbWSFHsWfKVXcI6Uofjwox38TVmqnrsdVt/779Ndqp4KyWw0r54+lc6C8cTAd7n+NYaHQ4Q2GMN+GUeilinuoVHGPhBV3JYziJ5sWxKtB5L447AWxVHYXtr0wWHBz6RcFQSU+0vzCwPr3geyh0OENhjDfBlXopcg9HFbix0qV+KvNBW5R6IOLq3Y7WjBdrt6dflFQnKvNWP9eMTgUOrzBEObbbgu9VHGPlCruy91KvFSJvxpG8RNhJX4sKFd/u7AYH+pWfI0P3mj3ARxBtD6/0w/gsMvWowVh5E52O1owdeLsxKjmAO1R6PAGQ5hv/RR6qeIeCivxY6Uo/lr7AndfTv6Ne3jbY4zwpLj0J3IVFuND9Q/eOL71hUHjozmTlKLqGfsXAK2y9WhBkq1HC4rl6ixHCwbr2lwnbx9R6BhfDGG+7aTQSxX3UCmKHy9F7uk2RX4lee+8y2Pl8Cz35qMFxaXabLejBaXIXbR/EdDi91h2pzsdLeCkw+uKc7WZMH2UiULHOGMI862XQk/2st2VViVe30t/rL7X3tuClcNCH4SpE2cnml8YNB8tCCO3koejBb2cdNh8tCCPJx3WP3GtMe+PUegYawxhvnUq9I5FnuytfK6vBcvTQh+U4lxtptvbCNvOLYics34R0Do7P+lwVEcLiku12fp21l+8tnj7iELHOGEI861NoX+uXZGHlfhK30VOoWdGq6MFnHSYKM7VZpL//trjXy1F8eOj/HlGPQ+AJAo975oK/XMdLju7MrA9FAp9bPRz0mF2jxa0zZVRf0/r3ys8xRDmW73QR1PkFDrayOpJh0G0Pm/xIsL69wFPMYT5VSxXZ4OkrJvfH3+6FMWP7+hENwodxpqPFvR90mEUrwXR+nzjvXoKHd5gCPOnWK7ONu6fXr9r22iKnEJHDlHo8AZDmA9TJ85OBJX4SPMHoQSR+2Jfl55R6PAEhQ5vMITZNnXi7ERYOX8suW64uVidmy67j4x8waLQkSMUOrzBEGbT5PJGoVORF5dqsxKfhw50Q6HDGwxhtkwubxSarqFNF+laYTE+lP73FDrQGYUObzCE2bDTIm+g0IHOKHR4gyG0ldzhy622Lk630u3Ttih0oDMKHd5gCG0UFuNDyW0uWxd5r/e7ptCBzih0eIMhHK3pcvXuVkVeitzFnRR5A4UOdEahwxsM4Wikbwazvcjj4+0+aKIbCh3ojEKHNxjC4RpWkTdQ6EBnFDq8wRAOXuNmMK2KvHEN+W6LvIFCBzqj0OENhnBwut3VrXEzmEGi0IHOKHR4gyHcvU53dStF1TPDKPIGi0IPonh1WD8PMGgUOrzBEPav35vBDFJy+duoFyxXHfbPBQzC9MK5wxQ6vMEQ7lwWirzBptDjS9ML5w6P6mcE+tX2Xg8UOsYRQ9i73d7VbVjbZLFglcrugsXPC/QqOTF19M+NMIrXrH92eIpC725Qd3UbhuREPINFq17qYeX8MYodWdLu5k0UOsYehd7eoO/qNixmCxchZHu4CgRW0oNovS1ZMeybwQxaGMVr5osYIeRSWIkvDfOqFqCj9CBab4u1vBV5QxCtz1svYoSQJFk5cgcPpQfRelssjPKubsNidWkOIaQpkXPW6wE8lh5G620ZJYu7ug2L5YlxhJBUIrdivR7AY+lhtN6WUZhc3igEC27O4q5uwxRE8ar5YkaI5+H+DDCVHkbrbRmmLN0MZhiKS7VZ68WMEJ9TitxF63UAnksPpPW2DMO4F3nD1ImzE6XIXbRe1AjxNhxuh7X0QFpvyyBl+WYwwxJGbsV8USPE03CDJZhLD6T1tgyCj0XekHzqm/3CRoh34e5wyIL0UFpvy24k15C3vqtbEK3Pj3ORp7GXTsjoMy5v3SHn0kNpvS39yOvNYIaFvXRCRhz2zpEV6cG03padoMjbC6P4uPkiR4gn8eXoH3IgPZjW29LNON0MZpimTpydCCPnrBc6QsY+fBALsiQ9nNbb0g5FvnNWn5NOiC8pRdUz1s9zYIv0gFpvS7NOd3ULo3iNIu+MQ++EDCelyF3kUDsyJz2k1tvS4MvNYEaBj1YlZPDhFq/IpPSQWm8LRT54yR3kqmesF0BCxiUcGURmpQfVaht8vhnMKFDqhAwo3N4VWZYe1lF/b4p8dCh1QnYZyhxZlx7YUX1P7upmg1InpL9wmB25kL5eedjfi5vB2Ktfo87tYQnpIaXIXeQEOORG+izoYXxaUKdLzyhyO8Wl2iwft0pI+5Si6hmOFiJXtlyrPKD3iKZOnJ2YLlfvDsputeWThZvBZEJyVQGXtRGyLdwBDnnU/GEe/RZtca42E1TiI21PckueJNwMJoOmF84d5laxhMSXwiheY68cuRZE6/Nbh9qdbDfUB8obBw+UNw6GlfPHkmvGOxR4pXFY3a0M43A+Bqu4VJul2ImX4T4XGCdBFK8O6smRnK0erxaXarO8P54/xaXa7CDngZAsprGzwR45xtK2PfUdPTmqZ4JofZ5XueNjcnmjEJRrR3mfnYxNIufCyK1w5jq8MLm8UQii9fnm65VLUfVMGMVrYRSvBVG8Gkbx8emFc4c5lO6PwmJ8KCjXjgbR+nxjFswXaEJaJXIuvVYVl2qz7IkDAAAAAAAAAAAAAAAAAAAAAAAAAAAAAAAAAAAAAAAAAAAAAAAAAAAAAAAAAAAAAAAAAAAAAAAAAAAAAAAAAAAAAAAAAAAAAAAAAAAAAAAAAAAgy/4fs0un8ntuOMoAAAAASUVORK5CYII=",
       "scale": 14.516129032258064,
       "svg": "<?xml version=\"1.0\" standalone=\"no\"?><!DOCTYPE svg PUBLIC \"-//W3C//DTD SVG 1.1//EN\" \"http://www.w3.org/Graphics/SVG/1.1/DTD/svg11.dtd\"><svg xmlns=\"http://www.w3.org/2000/svg\" width=\"500\" height=\"200\" viewBox=\"0 0 500 200\" style=\"font-family: &quot;Helvetica Neue&quot;,Helvetica,Arial,sans-serif;\"><g class=\"sankey\" transform=\"translate(100,10)\"><g class=\"groups\"/><g class=\"links\"><g class=\"link\" style=\"opacity: 0.8;\"><path d=\"M300,18 A7.903225806451612 7.903225806451612 1.5707963267948966 0 1 307.9032258064516,25.903225806451612 L307.9032258064516,107.06451612903226 A7.903225806451612 7.903225806451612 1.5707963267948966 0 1 300,114.96774193548387 L300,112.06451612903226 A5 5 1.5707963267948966 0 0 305,107.06451612903226 L305,25.903225806451612 A5 5 1.5707963267948966 0 0 300,20.903225806451616 ZM138.61061888945824,103.06451612903226 A55.2480732734064 55.2480732734064 0.05678078176026635 0 1 141.74596229235146,103.15355367691481 L297.0294154627114,111.98015740687956 A52.34484746695478 52.34484746695478 0.05678078176026635 0 0 300,112.06451612903226 L300,114.96774193548387 A55.2480732734064 55.2480732734064 0.05678078176026635 0 1 296.8646565971068,114.87870438760132 L141.58120342674687,106.05210065763657 A52.34484746695478 52.34484746695478 0.05678078176026635 0 0 138.61061888945824,105.96774193548387 ZM0,159.09677419354838 A44.7519267265936 44.7519267265936 0.4441665565456554 0 0 19.23014707793411,154.75445510057855 L118.1329398426862,107.68853779377238 A47.65515253304522 47.65515253304522 0.4441665565456554 0 1 138.61061888945824,103.06451612903226 L138.61061888945824,105.96774193548387 A44.7519267265936 44.7519267265936 0.4441665565456554 0 0 119.38047181152413,110.3100610284537 L20.477679046772042,157.37597833525987 A47.65515253304522 47.65515253304522 0.4441665565456554 0 1 0,161.99999999999997 ZM0,159.09677419354838 A5 5 1.5707963267948966 0 1 -5,154.09677419354838 L-5,25.903225806451612 A5 5 1.5707963267948966 0 1 0,20.903225806451616 L0,18 A7.903225806451612 7.903225806451612 1.5707963267948966 0 0 -7.903225806451612,25.903225806451612 L-7.903225806451612,154.09677419354838 A7.903225806451612 7.903225806451612 1.5707963267948966 0 0 0,161.99999999999997 Z\" style=\"fill: rgb(31, 119, 180);\"/><title>B → start\n200m</title></g><g class=\"link\" style=\"opacity: 0.8;\"><path d=\"M0,18 A0 0 0 0 0 0,18 L138.61061888945824,18 A0 0 0 0 0 138.61061888945824,18 L138.61061888945824,47.03225806451613 A0 0 0 0 0 138.61061888945824,47.03225806451613 L0,47.03225806451613 A0 0 0 0 0 0,47.03225806451613 Z\" style=\"fill: rgb(31, 119, 180);\"/><title>start → A\n2.00</title></g><g class=\"link\" style=\"opacity: 0.8;\"><path d=\"M138.61061888945824,18 A0 0 0 0 0 138.61061888945824,18 L300,18 A0 0 0 0 0 300,18 L300,47.03225806451613 A0 0 0 0 0 300,47.03225806451613 L138.61061888945824,47.03225806451613 A0 0 0 0 0 138.61061888945824,47.03225806451613 Z\" style=\"fill: rgb(31, 119, 180);\"/><title>A → B\n2.00</title></g><g class=\"link\" style=\"opacity: 0.8;\"><path d=\"M300,65.03225806451613 A34.03225806451613 34.03225806451613 1.5707963267948966 0 1 334.0322580645161,99.06451612903226 L334.0322580645161,127.96774193548389 A34.03225806451613 34.03225806451613 1.5707963267948966 0 1 300,162 L300,132.9677419354839 A5 5 1.5707963267948966 0 0 305,127.96774193548389 L305,99.06451612903226 A5 5 1.5707963267948966 0 0 300,94.06451612903226 ZM138.61061888945824,132.9677419354839 A0 0 0 0 0 138.61061888945824,132.9677419354839 L300,132.9677419354839 A0 0 0 0 0 300,132.9677419354839 L300,162 A0 0 0 0 0 300,162 L138.61061888945824,162 A0 0 0 0 0 138.61061888945824,162 ZM138.61061888945824,132.9677419354839 A5 5 1.5707963267948966 0 1 133.61061888945824,127.96774193548389 L133.61061888945824,81.06451612903226 A5 5 1.5707963267948966 0 1 138.61061888945824,76.06451612903226 L138.61061888945824,47.03225806451613 A34.03225806451613 34.03225806451613 1.5707963267948966 0 0 104.57836082494211,81.06451612903226 L104.57836082494211,127.96774193548389 A34.03225806451613 34.03225806451613 1.5707963267948966 0 0 138.61061888945824,162 Z\" style=\"fill: rgb(31, 119, 180);\"/><title>C → A\n2.00</title></g><g class=\"link\" style=\"opacity: 0.8;\"><path d=\"M138.61061888945824,47.03225806451613 A234.27056515928882 234.27056515928882 0.13610466913903574 0 1 170.39758462939582,49.19878080079882 L272.1522717473768,63.13422423182077 A205.23830709477272 205.23830709477272 0.13610466913903574 0 0 300,65.03225806451613 L300,94.06451612903226 A234.27056515928882 234.27056515928882 0.13610466913903574 0 1 268.21303426006244,91.89799339274957 L166.4583471420814,77.96254996172763 A205.23830709477272 205.23830709477272 0.13610466913903574 0 0 138.61061888945824,76.06451612903226 Z\" style=\"fill: rgb(31, 119, 180);\"/><title>A → C\n2.00</title></g></g><g class=\"nodes\"><g class=\"node\" transform=\"translate(0,18)\"><title>start</title><text dy=\".35em\" text-anchor=\"start\" transform=\"translate(-4, -10)\">start</text><line x1=\"0\" x2=\"0\" y1=\"-5\" y2=\"29.032258064516128\" style=\"stroke: rgb(0, 0, 0);\"/><rect x=\"-5\" y=\"-5\" width=\"10\" style=\"fill: none; visibility: hidden; pointer-events: all;\" height=\"34.03225806451613\"/></g><g class=\"node\" transform=\"translate(138.61061888945824,18)\"><title>A</title><text dy=\".35em\" text-anchor=\"start\" transform=\"translate(-4, -10)\">A</text><line x1=\"0\" x2=\"0\" y1=\"-5\" y2=\"58.064516129032256\" style=\"stroke: rgb(0, 0, 0);\"/><rect x=\"-5\" y=\"-5\" width=\"10\" style=\"fill: none; visibility: hidden; pointer-events: all;\" height=\"63.064516129032256\"/></g><g class=\"node\" transform=\"translate(300,18)\"><title>B</title><text dy=\".35em\" text-anchor=\"start\" transform=\"translate(-4, -10)\">B</text><line x1=\"0\" x2=\"0\" y1=\"-5\" y2=\"29.032258064516128\" style=\"stroke: rgb(0, 0, 0);\"/><rect x=\"-5\" y=\"-5\" width=\"10\" style=\"fill: none; visibility: hidden; pointer-events: all;\" height=\"34.03225806451613\"/></g><g class=\"node\" transform=\"translate(300,65.03225806451613)\"><title>C</title><text dy=\".35em\" text-anchor=\"start\" transform=\"translate(4, 14.516129493713379)\">C</text><line x1=\"0\" x2=\"0\" y1=\"0\" y2=\"29.032258064516128\" style=\"stroke: rgb(0, 0, 0);\"/><rect x=\"-5\" y=\"-5\" width=\"10\" style=\"fill: none; visibility: hidden; pointer-events: all;\" height=\"34.03225806451613\"/></g></g><g class=\"slice-titles\"/></g></svg>"
      }
     },
     "78dfbf0936fd469b871c2a2c6412dae6": {
      "model_module": "jupyter-js-widgets",
      "model_module_version": "~2.1.4",
      "model_name": "LayoutModel",
      "state": {
       "_model_module_version": "~2.1.4",
       "_view_module_version": "~2.1.4",
       "height": "200",
       "width": "500"
      }
     },
     "79f8e3f8e6804fb09ca66137a2988249": {
      "model_module": "jupyter-sankey-widget",
      "model_module_version": "^0.2.1",
      "model_name": "SankeyModel",
      "state": {
       "_dom_classes": [],
       "_model_module_version": "^0.2.1",
       "_view_module_version": "^0.2.1",
       "layout": "IPY_MODEL_da94206447b94d9b9870c0a155b18b3e",
       "links": [
        {
         "source": "start",
         "target": "A",
         "value": 2
        },
        {
         "source": "A",
         "target": "B",
         "value": 2
        },
        {
         "source": "B",
         "target": "start",
         "value": 0.2
        },
        {
         "source": "C",
         "target": "A",
         "value": 2
        },
        {
         "source": "A",
         "target": "C",
         "value": 2
        }
       ],
       "msg_throttle": 1,
       "order": [],
       "png": "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",
       "scale": 14.516129032258064,
       "svg": "<?xml version=\"1.0\" standalone=\"no\"?><!DOCTYPE svg PUBLIC \"-//W3C//DTD SVG 1.1//EN\" \"http://www.w3.org/Graphics/SVG/1.1/DTD/svg11.dtd\"><svg xmlns=\"http://www.w3.org/2000/svg\" width=\"500\" height=\"200\" viewBox=\"0 0 500 200\" style=\"font-family: &quot;Helvetica Neue&quot;,Helvetica,Arial,sans-serif;\"><g class=\"sankey\" transform=\"translate(100,10)\"><g class=\"groups\"/><g class=\"links\"><g class=\"link\" style=\"opacity: 0.8;\"><path d=\"M300,18 A7.903225806451612 7.903225806451612 1.5707963267948966 0 1 307.9032258064516,25.903225806451612 L307.9032258064516,107.06451612903226 A7.903225806451612 7.903225806451612 1.5707963267948966 0 1 300,114.96774193548387 L300,112.06451612903226 A5 5 1.5707963267948966 0 0 305,107.06451612903226 L305,25.903225806451612 A5 5 1.5707963267948966 0 0 300,20.903225806451616 ZM138.61061888945824,103.06451612903226 A55.2480732734064 55.2480732734064 0.05678078176026635 0 1 141.74596229235146,103.15355367691481 L297.0294154627114,111.98015740687956 A52.34484746695478 52.34484746695478 0.05678078176026635 0 0 300,112.06451612903226 L300,114.96774193548387 A55.2480732734064 55.2480732734064 0.05678078176026635 0 1 296.8646565971068,114.87870438760132 L141.58120342674687,106.05210065763657 A52.34484746695478 52.34484746695478 0.05678078176026635 0 0 138.61061888945824,105.96774193548387 ZM0,159.09677419354838 A44.7519267265936 44.7519267265936 0.4441665565456554 0 0 19.23014707793411,154.75445510057855 L118.1329398426862,107.68853779377238 A47.65515253304522 47.65515253304522 0.4441665565456554 0 1 138.61061888945824,103.06451612903226 L138.61061888945824,105.96774193548387 A44.7519267265936 44.7519267265936 0.4441665565456554 0 0 119.38047181152413,110.3100610284537 L20.477679046772042,157.37597833525987 A47.65515253304522 47.65515253304522 0.4441665565456554 0 1 0,161.99999999999997 ZM0,159.09677419354838 A5 5 1.5707963267948966 0 1 -5,154.09677419354838 L-5,25.903225806451612 A5 5 1.5707963267948966 0 1 0,20.903225806451616 L0,18 A7.903225806451612 7.903225806451612 1.5707963267948966 0 0 -7.903225806451612,25.903225806451612 L-7.903225806451612,154.09677419354838 A7.903225806451612 7.903225806451612 1.5707963267948966 0 0 0,161.99999999999997 Z\" style=\"fill: rgb(31, 119, 180);\"/><title>B → start\n200m</title></g><g class=\"link\" style=\"opacity: 0.8;\"><path d=\"M0,18 A0 0 0 0 0 0,18 L138.61061888945824,18 A0 0 0 0 0 138.61061888945824,18 L138.61061888945824,47.03225806451613 A0 0 0 0 0 138.61061888945824,47.03225806451613 L0,47.03225806451613 A0 0 0 0 0 0,47.03225806451613 Z\" style=\"fill: rgb(31, 119, 180);\"/><title>start → A\n2.00</title></g><g class=\"link\" style=\"opacity: 0.8;\"><path d=\"M138.61061888945824,18 A0 0 0 0 0 138.61061888945824,18 L300,18 A0 0 0 0 0 300,18 L300,47.03225806451613 A0 0 0 0 0 300,47.03225806451613 L138.61061888945824,47.03225806451613 A0 0 0 0 0 138.61061888945824,47.03225806451613 Z\" style=\"fill: rgb(31, 119, 180);\"/><title>A → B\n2.00</title></g><g class=\"link\" style=\"opacity: 0.8;\"><path d=\"M300,65.03225806451613 A34.03225806451613 34.03225806451613 1.5707963267948966 0 1 334.0322580645161,99.06451612903226 L334.0322580645161,127.96774193548389 A34.03225806451613 34.03225806451613 1.5707963267948966 0 1 300,162 L300,132.9677419354839 A5 5 1.5707963267948966 0 0 305,127.96774193548389 L305,99.06451612903226 A5 5 1.5707963267948966 0 0 300,94.06451612903226 ZM138.61061888945824,132.9677419354839 A0 0 0 0 0 138.61061888945824,132.9677419354839 L300,132.9677419354839 A0 0 0 0 0 300,132.9677419354839 L300,162 A0 0 0 0 0 300,162 L138.61061888945824,162 A0 0 0 0 0 138.61061888945824,162 ZM138.61061888945824,132.9677419354839 A5 5 1.5707963267948966 0 1 133.61061888945824,127.96774193548389 L133.61061888945824,81.06451612903226 A5 5 1.5707963267948966 0 1 138.61061888945824,76.06451612903226 L138.61061888945824,47.03225806451613 A34.03225806451613 34.03225806451613 1.5707963267948966 0 0 104.57836082494211,81.06451612903226 L104.57836082494211,127.96774193548389 A34.03225806451613 34.03225806451613 1.5707963267948966 0 0 138.61061888945824,162 Z\" style=\"fill: rgb(31, 119, 180);\"/><title>C → A\n2.00</title></g><g class=\"link\" style=\"opacity: 0.8;\"><path d=\"M138.61061888945824,47.03225806451613 A234.27056515928882 234.27056515928882 0.13610466913903574 0 1 170.39758462939582,49.19878080079882 L272.1522717473768,63.13422423182077 A205.23830709477272 205.23830709477272 0.13610466913903574 0 0 300,65.03225806451613 L300,94.06451612903226 A234.27056515928882 234.27056515928882 0.13610466913903574 0 1 268.21303426006244,91.89799339274957 L166.4583471420814,77.96254996172763 A205.23830709477272 205.23830709477272 0.13610466913903574 0 0 138.61061888945824,76.06451612903226 Z\" style=\"fill: rgb(31, 119, 180);\"/><title>A → C\n2.00</title></g></g><g class=\"nodes\"><g class=\"node\" transform=\"translate(0,18)\"><title>start</title><text dy=\".35em\" text-anchor=\"start\" transform=\"translate(-4, -10)\">start</text><line x1=\"0\" x2=\"0\" y1=\"-5\" y2=\"29.032258064516128\" style=\"stroke: rgb(0, 0, 0);\"/><rect x=\"-5\" y=\"-5\" width=\"10\" style=\"fill: none; visibility: hidden; pointer-events: all;\" height=\"34.03225806451613\"/></g><g class=\"node\" transform=\"translate(138.61061888945824,18)\"><title>A</title><text dy=\".35em\" text-anchor=\"start\" transform=\"translate(-4, -10)\">A</text><line x1=\"0\" x2=\"0\" y1=\"-5\" y2=\"58.064516129032256\" style=\"stroke: rgb(0, 0, 0);\"/><rect x=\"-5\" y=\"-5\" width=\"10\" style=\"fill: none; visibility: hidden; pointer-events: all;\" height=\"63.064516129032256\"/></g><g class=\"node\" transform=\"translate(300,18)\"><title>B</title><text dy=\".35em\" text-anchor=\"start\" transform=\"translate(-4, -10)\">B</text><line x1=\"0\" x2=\"0\" y1=\"-5\" y2=\"29.032258064516128\" style=\"stroke: rgb(0, 0, 0);\"/><rect x=\"-5\" y=\"-5\" width=\"10\" style=\"fill: none; visibility: hidden; pointer-events: all;\" height=\"34.03225806451613\"/></g><g class=\"node\" transform=\"translate(300,65.03225806451613)\"><title>C</title><text dy=\".35em\" text-anchor=\"start\" transform=\"translate(4, 14.516129493713379)\">C</text><line x1=\"0\" x2=\"0\" y1=\"0\" y2=\"29.032258064516128\" style=\"stroke: rgb(0, 0, 0);\"/><rect x=\"-5\" y=\"-5\" width=\"10\" style=\"fill: none; visibility: hidden; pointer-events: all;\" height=\"34.03225806451613\"/></g></g><g class=\"slice-titles\"/></g></svg>"
      }
     },
     "da94206447b94d9b9870c0a155b18b3e": {
      "model_module": "jupyter-js-widgets",
      "model_module_version": "~2.1.4",
      "model_name": "LayoutModel",
      "state": {
       "_model_module_version": "~2.1.4",
       "_view_module_version": "~2.1.4",
       "height": "200",
       "width": "500"
      }
     }
    },
    "version_major": 1,
    "version_minor": 0
   }
  }
 },
 "nbformat": 4,
 "nbformat_minor": 1
}
