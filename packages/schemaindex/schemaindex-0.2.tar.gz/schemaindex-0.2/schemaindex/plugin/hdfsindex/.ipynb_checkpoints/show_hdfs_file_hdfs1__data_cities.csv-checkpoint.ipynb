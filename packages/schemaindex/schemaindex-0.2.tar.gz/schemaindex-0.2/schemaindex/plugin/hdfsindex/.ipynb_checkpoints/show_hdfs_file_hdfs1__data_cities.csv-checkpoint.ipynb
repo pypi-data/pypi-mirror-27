{
 "cells": [
  {
   "cell_type": "code",
   "execution_count": 1,
   "metadata": {
    "collapsed": false
   },
   "outputs": [],
   "source": [
    "import pandas as pd\n",
    "from hdfs import Client\n",
    "tclient = Client( 'http://localhost:50070')\n",
    "with tclient.read('/data/cities.csv', encoding='utf-8') as reader:\n",
    "  df=pd.read_csv(reader)\n",
    "\n",
    "\n"
   ]
  },
  {
   "cell_type": "code",
   "execution_count": 2,
   "metadata": {
    "collapsed": false
   },
   "outputs": [
    {
     "data": {
      "text/html": [
       "<div>\n",
       "<table border=\"1\" class=\"dataframe\">\n",
       "  <thead>\n",
       "    <tr style=\"text-align: right;\">\n",
       "      <th></th>\n",
       "      <th>code</th>\n",
       "      <th>city</th>\n",
       "      <th>country</th>\n",
       "      <th>lat</th>\n",
       "      <th>lon</th>\n",
       "    </tr>\n",
       "  </thead>\n",
       "  <tbody>\n",
       "    <tr>\n",
       "      <th>0</th>\n",
       "      <td>ZNZ</td>\n",
       "      <td>ZANZIBAR</td>\n",
       "      <td>TANZANIA</td>\n",
       "      <td>-6.13</td>\n",
       "      <td>39.31</td>\n",
       "    </tr>\n",
       "    <tr>\n",
       "      <th>1</th>\n",
       "      <td>TYO</td>\n",
       "      <td>TOKYO</td>\n",
       "      <td>JAPAN</td>\n",
       "      <td>35.68</td>\n",
       "      <td>139.76</td>\n",
       "    </tr>\n",
       "    <tr>\n",
       "      <th>2</th>\n",
       "      <td>AKL</td>\n",
       "      <td>AUCKLAND</td>\n",
       "      <td>NEW ZEALAND</td>\n",
       "      <td>-36.85</td>\n",
       "      <td>174.78</td>\n",
       "    </tr>\n",
       "    <tr>\n",
       "      <th>3</th>\n",
       "      <td>BKK</td>\n",
       "      <td>BANGKOK</td>\n",
       "      <td>THAILAND</td>\n",
       "      <td>13.75</td>\n",
       "      <td>100.48</td>\n",
       "    </tr>\n",
       "    <tr>\n",
       "      <th>4</th>\n",
       "      <td>DEL</td>\n",
       "      <td>DELHI</td>\n",
       "      <td>INDIA</td>\n",
       "      <td>29.01</td>\n",
       "      <td>77.38</td>\n",
       "    </tr>\n",
       "  </tbody>\n",
       "</table>\n",
       "</div>"
      ],
      "text/plain": [
       "  code      city      country    lat     lon\n",
       "0  ZNZ  ZANZIBAR     TANZANIA  -6.13   39.31\n",
       "1  TYO     TOKYO        JAPAN  35.68  139.76\n",
       "2  AKL  AUCKLAND  NEW ZEALAND -36.85  174.78\n",
       "3  BKK   BANGKOK     THAILAND  13.75  100.48\n",
       "4  DEL     DELHI        INDIA  29.01   77.38"
      ]
     },
     "execution_count": 2,
     "metadata": {},
     "output_type": "execute_result"
    }
   ],
   "source": [
    "df.head()\n"
   ]
  }
 ],
 "metadata": {
  "kernelspec": {
   "display_name": "Python 2",
   "language": "python",
   "name": "python2"
  },
  "language_info": {
   "codemirror_mode": {
    "name": "ipython",
    "version": 2
   },
   "file_extension": ".py",
   "mimetype": "text/x-python",
   "name": "python",
   "nbconvert_exporter": "python",
   "pygments_lexer": "ipython2",
   "version": "2.7.13"
  }
 },
 "nbformat": 4,
 "nbformat_minor": 2
}
