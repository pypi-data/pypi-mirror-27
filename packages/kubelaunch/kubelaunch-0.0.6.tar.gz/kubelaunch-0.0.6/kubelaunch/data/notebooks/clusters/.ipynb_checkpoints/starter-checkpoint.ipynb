{
 "cells": [
  {
   "cell_type": "markdown",
   "metadata": {},
   "source": [
    "## Use Kubelaunch to Launch a Kubernetes Cluster\n",
    "\n",
    "This notebook can be used to launch a Kubernetes Cluster on the Google Cloud Platform.  It is designed to be run via the included Docker container, but it can be run locally if the appropriate tools (Azure, Google & Azure CLI, Helm etc) are installed.  \n"
   ]
  },
  {
   "cell_type": "markdown",
   "metadata": {},
   "source": [
    "## Create a Launchfile\n",
    "The `kubel` command is designed to make the command line interactions with Kubernetes easier. \n",
    "\n",
    "Cr\n"
   ]
  }
 ],
 "metadata": {
  "anaconda-cloud": {},
  "kernelspec": {
   "display_name": "Python [Root]",
   "language": "python",
   "name": "Python [Root]"
  },
  "language_info": {
   "codemirror_mode": {
    "name": "ipython",
    "version": 3
   },
   "file_extension": ".py",
   "mimetype": "text/x-python",
   "name": "python",
   "nbconvert_exporter": "python",
   "pygments_lexer": "ipython3",
   "version": "3.5.2"
  }
 },
 "nbformat": 4,
 "nbformat_minor": 2
}
