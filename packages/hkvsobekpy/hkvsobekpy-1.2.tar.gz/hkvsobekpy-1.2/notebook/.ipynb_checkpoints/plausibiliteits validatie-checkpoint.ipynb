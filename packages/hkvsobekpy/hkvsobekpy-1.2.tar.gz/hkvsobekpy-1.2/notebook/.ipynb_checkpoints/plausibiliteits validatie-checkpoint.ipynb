{
 "cells": [
  {
   "cell_type": "markdown",
   "metadata": {},
   "source": [
    "## plausibiliteit op basis vanuit neerslag gevens in bui-bestanden en waterstanden en afvoeren in opgeslagen in his-bestanden"
   ]
  },
  {
   "cell_type": "markdown",
   "metadata": {},
   "source": [
    "Deze notebook bevat informatie hoe het mogelijk is om .his- en .bui-bestanden uit te lezen binnen Python en op welke manier hieruit de plausibiliteitsuit af te leiden. Een aantal functies worden hierbij toegelicht. Waarbij elke functie in detail is beschreven in de toebehorende `docstring`."
   ]
  },
  {
   "cell_type": "code",
   "execution_count": 1,
   "metadata": {},
   "outputs": [],
   "source": [
    "import hkvsobekpy as hkv\n",
    "import geopandas as gpd\n",
    "import os"
   ]
  },
  {
   "cell_type": "markdown",
   "metadata": {},
   "source": [
    "Ook bepalen we de input bestanden."
   ]
  },
  {
   "cell_type": "code",
   "execution_count": 2,
   "metadata": {},
   "outputs": [],
   "source": [
    "bui_file = r'input_data\\plausibiliteits-validatie\\P798.bui'\n",
    "his_folder = r'input_data\\plausibiliteits-validatie'\n",
    "shp_file = r'input_data\\plausibiliteits-validatie\\plaus_locaties.shp'"
   ]
  },
  {
   "cell_type": "markdown",
   "metadata": {},
   "source": [
    "Naast het .his-bestand is er een .shp-bestand gedefinieerd met een bijbehorende .dbf-bestand. De kolom met naam van his-file, locatie en parameter die hierin staan gedefinieerd worden gebruikt voor het inlezen van de periode in een his-bestand. \n",
    "Het is daarom van belang dat deze namen correct zijn. \n",
    "\n",
    "De shp-file kunnen we als volgt inlezen naar een `GeoDataFrame` en vervolgens plotten in figuur (de `shp`) en tabel (de `dbf`)"
   ]
  },
  {
   "cell_type": "code",
   "execution_count": 3,
   "metadata": {},
   "outputs": [
    {
     "data": {
      "text/plain": [
       "<matplotlib.axes._subplots.AxesSubplot at 0x1b404668>"
      ]
     },
     "execution_count": 3,
     "metadata": {},
     "output_type": "execute_result"
    },
    {
     "data": {
      "image/png": "[encoded data removed]",
      "text/plain": [
       "<matplotlib.figure.Figure at 0x1b3f25f8>"
      ]
     },
     "metadata": {},
     "output_type": "display_data"
    }
   ],
   "source": [
    "gdf = gpd.read_file(shp_file)\n",
    "gdf.plot()"
   ]
  },
  {
   "cell_type": "code",
   "execution_count": 4,
   "metadata": {},
   "outputs": [
    {
     "data": {
      "text/html": [
       "<div>\n",
       "<style scoped>\n",
       "    .dataframe tbody tr th:only-of-type {\n",
       "        vertical-align: middle;\n",
       "    }\n",
       "\n",
       "    .dataframe tbody tr th {\n",
       "        vertical-align: top;\n",
       "    }\n",
       "\n",
       "    .dataframe thead th {\n",
       "        text-align: right;\n",
       "    }\n",
       "</style>\n",
       "<table border=\"1\" class=\"dataframe\">\n",
       "  <thead>\n",
       "    <tr style=\"text-align: right;\">\n",
       "      <th></th>\n",
       "      <th>GPGIDENT</th>\n",
       "      <th>GPGSTATUSV</th>\n",
       "      <th>GPG_ID</th>\n",
       "      <th>OBJECTID_1</th>\n",
       "      <th>SOORT_L</th>\n",
       "      <th>his_file</th>\n",
       "      <th>locaties</th>\n",
       "      <th>parameters</th>\n",
       "      <th>geometry</th>\n",
       "    </tr>\n",
       "  </thead>\n",
       "  <tbody>\n",
       "    <tr>\n",
       "      <th>0</th>\n",
       "      <td>GPG2010WBK III</td>\n",
       "      <td>vigerend definitief</td>\n",
       "      <td>5265</td>\n",
       "      <td>1</td>\n",
       "      <td>aan- en afvoerpeilgebied</td>\n",
       "      <td>struc</td>\n",
       "      <td>DU_30600713</td>\n",
       "      <td>W.level down max (m</td>\n",
       "      <td>POLYGON ((70808.0879999996 446403.7630000025, ...</td>\n",
       "    </tr>\n",
       "    <tr>\n",
       "      <th>1</th>\n",
       "      <td>GPG2010WBK I</td>\n",
       "      <td>vigerend definitief</td>\n",
       "      <td>5266</td>\n",
       "      <td>2</td>\n",
       "      <td>aan- en afvoerpeilgebied</td>\n",
       "      <td>struc</td>\n",
       "      <td>DU_30600892</td>\n",
       "      <td>W.level up max (m AD</td>\n",
       "      <td>POLYGON ((70401.89530000088 446904.1009999979,...</td>\n",
       "    </tr>\n",
       "    <tr>\n",
       "      <th>2</th>\n",
       "      <td>GPG2010WBK II</td>\n",
       "      <td>vigerend definitief</td>\n",
       "      <td>5267</td>\n",
       "      <td>3</td>\n",
       "      <td>aan- en afvoerpeilgebied</td>\n",
       "      <td>calcpnt</td>\n",
       "      <td>PRF_0791a</td>\n",
       "      <td>Time water on st.(s)</td>\n",
       "      <td>POLYGON ((69978.51000000164 447823.5369999995,...</td>\n",
       "    </tr>\n",
       "    <tr>\n",
       "      <th>3</th>\n",
       "      <td>GPG2008SDN III</td>\n",
       "      <td>vigerend definitief</td>\n",
       "      <td>32787</td>\n",
       "      <td>4</td>\n",
       "      <td>aan- en afvoerpeilgebied</td>\n",
       "      <td>reachseg</td>\n",
       "      <td>cp_3035</td>\n",
       "      <td>Discharge max.(m³/s)</td>\n",
       "      <td>POLYGON ((73277.05000000076 443333.6780000009,...</td>\n",
       "    </tr>\n",
       "    <tr>\n",
       "      <th>4</th>\n",
       "      <td>GPG2008SDN V</td>\n",
       "      <td>vigerend definitief</td>\n",
       "      <td>2226</td>\n",
       "      <td>5</td>\n",
       "      <td>aan- en afvoerpeilgebied</td>\n",
       "      <td>calcpnt</td>\n",
       "      <td>PRF_2026</td>\n",
       "      <td>Time water on st.(s)</td>\n",
       "      <td>POLYGON ((70558.57000000034 443891.4620000034,...</td>\n",
       "    </tr>\n",
       "  </tbody>\n",
       "</table>\n",
       "</div>"
      ],
      "text/plain": [
       "         GPGIDENT           GPGSTATUSV  GPG_ID  OBJECTID_1  \\\n",
       "0  GPG2010WBK III  vigerend definitief    5265           1   \n",
       "1    GPG2010WBK I  vigerend definitief    5266           2   \n",
       "2   GPG2010WBK II  vigerend definitief    5267           3   \n",
       "3  GPG2008SDN III  vigerend definitief   32787           4   \n",
       "4    GPG2008SDN V  vigerend definitief    2226           5   \n",
       "\n",
       "                    SOORT_L  his_file     locaties            parameters  \\\n",
       "0  aan- en afvoerpeilgebied     struc  DU_30600713   W.level down max (m   \n",
       "1  aan- en afvoerpeilgebied     struc  DU_30600892  W.level up max (m AD   \n",
       "2  aan- en afvoerpeilgebied   calcpnt    PRF_0791a  Time water on st.(s)   \n",
       "3  aan- en afvoerpeilgebied  reachseg      cp_3035  Discharge max.(m³/s)   \n",
       "4  aan- en afvoerpeilgebied   calcpnt     PRF_2026  Time water on st.(s)   \n",
       "\n",
       "                                            geometry  \n",
       "0  POLYGON ((70808.0879999996 446403.7630000025, ...  \n",
       "1  POLYGON ((70401.89530000088 446904.1009999979,...  \n",
       "2  POLYGON ((69978.51000000164 447823.5369999995,...  \n",
       "3  POLYGON ((73277.05000000076 443333.6780000009,...  \n",
       "4  POLYGON ((70558.57000000034 443891.4620000034,...  "
      ]
     },
     "execution_count": 4,
     "metadata": {},
     "output_type": "execute_result"
    }
   ],
   "source": [
    "gdf.head()"
   ]
  },
  {
   "cell_type": "markdown",
   "metadata": {},
   "source": [
    "Te zien is dat de dbf behorende bij de shapefile heeft de kolom `his_file` met daarin de namen van de daarbij behorende his-file. In de `locaties` kolom staan de locaties of interest en in de kolom `parameters` staan de parameter welke van belang is. \n",
    "\n",
    "Deze drie koloms worden als shp_key gedefineerd:"
   ]
  },
  {
   "cell_type": "code",
   "execution_count": 5,
   "metadata": {},
   "outputs": [],
   "source": [
    "shp_hiskey = 'his_file'\n",
    "shp_locationkey = 'locaties'\n",
    "shp_parameterkey = 'parameters'"
   ]
  },
  {
   "cell_type": "markdown",
   "metadata": {},
   "source": [
    "Voor demo doeleinden werken we verder met de eigenschappen van deze keys voor regel 2"
   ]
  },
  {
   "cell_type": "code",
   "execution_count": 6,
   "metadata": {},
   "outputs": [
    {
     "name": "stdout",
     "output_type": "stream",
     "text": [
      " his_file : calcpnt\n",
      " location : PRF_0791a\n",
      " parameter : Time water on st.(s)\n"
     ]
    }
   ],
   "source": [
    "row = 2\n",
    "his_file = gdf[shp_hiskey].iloc[row]\n",
    "location = gdf[shp_locationkey].iloc[row]\n",
    "parameter = gdf[shp_parameterkey].iloc[row]\n",
    "\n",
    "# selection of location and parameter through `read_his`\n",
    "# hkv.read_his.LeesMetadata(os.path.join(his_folder,'{0}.his'.format(his_file)))\n",
    "# parameter = hkv.read_his.KrijgParameters()[0]\n",
    "# locatie = hkv.read_his.KrijgLokaties()[40]\n",
    "\n",
    "print(' his_file : {0}\\n location : {1}\\n parameter : {2}'.format(his_file, location, parameter))"
   ]
  },
  {
   "cell_type": "markdown",
   "metadata": {},
   "source": [
    "Met de volgende commando kunnen we vervolgens een series uitlezen uit dit gedefineerde his-bestand"
   ]
  },
  {
   "cell_type": "code",
   "execution_count": 7,
   "metadata": {},
   "outputs": [
    {
     "data": {
      "text/html": [
       "<div>\n",
       "<style scoped>\n",
       "    .dataframe tbody tr th:only-of-type {\n",
       "        vertical-align: middle;\n",
       "    }\n",
       "\n",
       "    .dataframe tbody tr th {\n",
       "        vertical-align: top;\n",
       "    }\n",
       "\n",
       "    .dataframe thead tr th {\n",
       "        text-align: left;\n",
       "    }\n",
       "</style>\n",
       "<table border=\"1\" class=\"dataframe\">\n",
       "  <thead>\n",
       "    <tr>\n",
       "      <th>location</th>\n",
       "      <th>PRF_0791a</th>\n",
       "    </tr>\n",
       "    <tr>\n",
       "      <th>parameter</th>\n",
       "      <th>Time water on st.(s)</th>\n",
       "    </tr>\n",
       "  </thead>\n",
       "  <tbody>\n",
       "    <tr>\n",
       "      <th>1906-05-22 00:00:00</th>\n",
       "      <td>0.0</td>\n",
       "    </tr>\n",
       "    <tr>\n",
       "      <th>1906-05-22 00:30:00</th>\n",
       "      <td>0.0</td>\n",
       "    </tr>\n",
       "    <tr>\n",
       "      <th>1906-05-22 01:00:00</th>\n",
       "      <td>0.0</td>\n",
       "    </tr>\n",
       "    <tr>\n",
       "      <th>1906-05-22 01:30:00</th>\n",
       "      <td>0.0</td>\n",
       "    </tr>\n",
       "    <tr>\n",
       "      <th>1906-05-22 02:00:00</th>\n",
       "      <td>0.0</td>\n",
       "    </tr>\n",
       "  </tbody>\n",
       "</table>\n",
       "</div>"
      ],
      "text/plain": [
       "location                       PRF_0791a\n",
       "parameter           Time water on st.(s)\n",
       "1906-05-22 00:00:00                  0.0\n",
       "1906-05-22 00:30:00                  0.0\n",
       "1906-05-22 01:00:00                  0.0\n",
       "1906-05-22 01:30:00                  0.0\n",
       "1906-05-22 02:00:00                  0.0"
      ]
     },
     "execution_count": 7,
     "metadata": {},
     "output_type": "execute_result"
    }
   ],
   "source": [
    "df_his = hkv.plausibility.read_his_series(his_file=his_file,\n",
    "                                          location=location,\n",
    "                                          parameter=parameter,\n",
    "                                          his_folder=his_folder)\n",
    "df_his.head()"
   ]
  },
  {
   "cell_type": "markdown",
   "metadata": {},
   "source": [
    "Informatie in het bui-bestand kunnen we op de volgende manier inlezen."
   ]
  },
  {
   "cell_type": "code",
   "execution_count": 8,
   "metadata": {},
   "outputs": [
    {
     "data": {
      "text/plain": [
       "<matplotlib.axes._subplots.AxesSubplot at 0x1f2ce4e0>"
      ]
     },
     "execution_count": 8,
     "metadata": {},
     "output_type": "execute_result"
    },
    {
     "data": {
      "image/png": "[encoded data removed]",
      "text/plain": [
       "<matplotlib.figure.Figure at 0x1b7c0710>"
      ]
     },
     "metadata": {},
     "output_type": "display_data"
    }
   ],
   "source": [
    "# parse bui-file to pandas dataframe\n",
    "df_bui = hkv.read_bui(bui_file)\n",
    "\n",
    "# location to query\n",
    "bui_location = 'Boezem'\n",
    "# since it's hour data, only plot 6 months\n",
    "df_bui.loc['1906-01-01':'1906-06-01',bui_location].plot()"
   ]
  },
  {
   "cell_type": "markdown",
   "metadata": {},
   "source": [
    "Het resultaat is een DataFrame met in de kolommen de neerslag in mm voor de stations en in de rijen de waarnemingstijdstappen"
   ]
  },
  {
   "cell_type": "markdown",
   "metadata": {},
   "source": [
    "Om een combinatie plot te maken van bui-bestand en een his-bestand is het allereerst van belang om een aantal eigenschappen in te lezen."
   ]
  },
  {
   "cell_type": "code",
   "execution_count": 9,
   "metadata": {},
   "outputs": [],
   "source": [
    "bui_locations = ['Boezem']\n",
    "df_bui_sel, start_his, end_his, df_bui_std, df_his_std = hkv.plausibility.prepare_bui_his(df_his, df_bui, bui_locations)"
   ]
  },
  {
   "cell_type": "code",
   "execution_count": 10,
   "metadata": {},
   "outputs": [],
   "source": [
    "out_folder =r'output_data\\plausibiliteits-validatie'"
   ]
  },
  {
   "cell_type": "code",
   "execution_count": 11,
   "metadata": {},
   "outputs": [
    {
     "data": {
      "image/png": "[encoded data removed]",
      "text/plain": [
       "<matplotlib.figure.Figure at 0x1c22e048>"
      ]
     },
     "metadata": {},
     "output_type": "display_data"
    }
   ],
   "source": [
    "hkv.plausibility.plot_bui_his(df_his, df_bui_sel, start_his, end_his, \n",
    "                              df_bui_std, df_his_std, his_file, \n",
    "                              parameter, location, out_folder, \n",
    "                              savefigure=False)"
   ]
  },
  {
   "cell_type": "markdown",
   "metadata": {},
   "source": [
    "En in tabel formaat"
   ]
  },
  {
   "cell_type": "code",
   "execution_count": 12,
   "metadata": {},
   "outputs": [
    {
     "data": {
      "text/html": [
       "<div>\n",
       "<style scoped>\n",
       "    .dataframe tbody tr th:only-of-type {\n",
       "        vertical-align: middle;\n",
       "    }\n",
       "\n",
       "    .dataframe tbody tr th {\n",
       "        vertical-align: top;\n",
       "    }\n",
       "\n",
       "    .dataframe thead tr th {\n",
       "        text-align: left;\n",
       "    }\n",
       "</style>\n",
       "<table border=\"1\" class=\"dataframe\">\n",
       "  <thead>\n",
       "    <tr>\n",
       "      <th>location</th>\n",
       "      <th>PRF_0791a</th>\n",
       "      <th>Boezem</th>\n",
       "    </tr>\n",
       "    <tr>\n",
       "      <th>parameter</th>\n",
       "      <th>Time water on st.(s)</th>\n",
       "      <th>Precipitation (mm)</th>\n",
       "    </tr>\n",
       "  </thead>\n",
       "  <tbody>\n",
       "    <tr>\n",
       "      <th>1906-05-21 00:00:00</th>\n",
       "      <td>NaN</td>\n",
       "      <td>0.0</td>\n",
       "    </tr>\n",
       "    <tr>\n",
       "      <th>1906-05-21 01:00:00</th>\n",
       "      <td>NaN</td>\n",
       "      <td>0.0</td>\n",
       "    </tr>\n",
       "    <tr>\n",
       "      <th>1906-05-21 02:00:00</th>\n",
       "      <td>NaN</td>\n",
       "      <td>0.0</td>\n",
       "    </tr>\n",
       "    <tr>\n",
       "      <th>1906-05-21 03:00:00</th>\n",
       "      <td>NaN</td>\n",
       "      <td>0.0</td>\n",
       "    </tr>\n",
       "    <tr>\n",
       "      <th>1906-05-21 04:00:00</th>\n",
       "      <td>NaN</td>\n",
       "      <td>0.0</td>\n",
       "    </tr>\n",
       "  </tbody>\n",
       "</table>\n",
       "</div>"
      ],
      "text/plain": [
       "location                       PRF_0791a             Boezem\n",
       "parameter           Time water on st.(s) Precipitation (mm)\n",
       "1906-05-21 00:00:00                  NaN                0.0\n",
       "1906-05-21 01:00:00                  NaN                0.0\n",
       "1906-05-21 02:00:00                  NaN                0.0\n",
       "1906-05-21 03:00:00                  NaN                0.0\n",
       "1906-05-21 04:00:00                  NaN                0.0"
      ]
     },
     "execution_count": 12,
     "metadata": {},
     "output_type": "execute_result"
    }
   ],
   "source": [
    "df_bui_his = hkv.plausibility.table_bui_his(df_his, df_bui_sel)\n",
    "df_bui_his.head()"
   ]
  },
  {
   "cell_type": "markdown",
   "metadata": {},
   "source": [
    "Al het bovenstaande kan ook automatsich weggeschreven worden naar de output folder. Binnen de output folder worden de afgeleide figuren weggeschreven."
   ]
  },
  {
   "cell_type": "code",
   "execution_count": 13,
   "metadata": {},
   "outputs": [
    {
     "name": "stdout",
     "output_type": "stream",
     "text": [
      "start ensemble runner\n",
      "read shp-file\n",
      "read bui-file\n",
      "\n",
      "done\n"
     ]
    }
   ],
   "source": [
    "hkv.plausibility.EnsembleRunner(shp_file, bui_file, his_folder, out_folder, shp_hiskey, shp_locationkey, shp_parameterkey)"
   ]
  },
  {
   "cell_type": "code",
   "execution_count": null,
   "metadata": {},
   "outputs": [],
   "source": []
  }
 ],
 "metadata": {
  "kernelspec": {
   "display_name": "Python 3",
   "language": "python",
   "name": "python3"
  },
  "language_info": {
   "codemirror_mode": {
    "name": "ipython",
    "version": 3
   },
   "file_extension": ".py",
   "mimetype": "text/x-python",
   "name": "python",
   "nbconvert_exporter": "python",
   "pygments_lexer": "ipython3",
   "version": "3.5.2"
  },
  "widgets": {
   "state": {
    "2c9d6973ed1d40d0a1fa26551d08d2e1": {
     "views": [
      {
       "cell_index": 24
      }
     ]
    }
   },
   "version": "1.2.0"
  }
 },
 "nbformat": 4,
 "nbformat_minor": 2
}
